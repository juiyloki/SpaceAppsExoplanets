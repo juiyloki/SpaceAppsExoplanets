{
 "cells": [
  {
   "cell_type": "code",
   "execution_count": 99,
   "id": "af52168b",
   "metadata": {},
   "outputs": [],
   "source": [
    "import pandas as pd \n",
    "\n",
    "X_train = pd.read_csv(\"/Users/janma/Desktop/SpaceAppsExoplanets/src/backend/datasets/kepler/X_train_imputed_scaled.csv\", index_col=0)\n",
    "X_test = pd.read_csv(\"/Users/janma/Desktop/SpaceAppsExoplanets/src/backend/datasets/kepler/X_test_imputed_scaled.csv\",  index_col=0)\n",
    "y_train = pd.read_csv(\"/Users/janma/Desktop/SpaceAppsExoplanets/src/backend/datasets/kepler/y_train.csv\", index_col=0)[\"label\"]\n",
    "y_test = pd.read_csv(\"/Users/janma/Desktop/SpaceAppsExoplanets/src/backend/datasets/kepler/y_test.csv\",  index_col=0)[\"label\"]\n",
    "groups = pd.read_csv(\"/Users/janma/Desktop/SpaceAppsExoplanets/src/backend/datasets/kepler/groups.csv\", index_col=0)[\"kepid\"]"
   ]
  },
  {
   "cell_type": "code",
   "execution_count": 100,
   "id": "37c3adb2",
   "metadata": {},
   "outputs": [
    {
     "data": {
      "text/plain": [
       "label\n",
       "0    4839\n",
       "1    2746\n",
       "Name: count, dtype: int64"
      ]
     },
     "execution_count": 100,
     "metadata": {},
     "output_type": "execute_result"
    }
   ],
   "source": [
    "y = pd.concat([y_train, y_test], axis=0)\n",
    "y.value_counts()"
   ]
  },
  {
   "cell_type": "code",
   "execution_count": 112,
   "id": "47911c39",
   "metadata": {},
   "outputs": [
    {
     "name": "stdout",
     "output_type": "stream",
     "text": [
      "Accuracy: 0.7784974093264249\n",
      "Precision: 0.697171381031614\n",
      "Recall: 0.7236614853195165\n",
      "F1: 0.7101694915254237\n",
      "Score: {'fit_time': array([0.00587606, 0.02391195, 0.00587606, 0.01220298, 0.00756693]), 'score_time': array([0.00141788, 0.00460601, 0.00141287, 0.00345588, 0.00154209]), 'test_score': array([0.81966891, 0.83039239, 0.8595988 , 0.83949967, 0.84944641])}\n"
     ]
    }
   ],
   "source": [
    "from sklearn.model_selection import StratifiedGroupKFold, cross_validate\n",
    "from sklearn.linear_model import LogisticRegression\n",
    "from sklearn.metrics import accuracy_score, precision_score, recall_score, f1_score\n",
    "\n",
    "kf = StratifiedGroupKFold(n_splits=5, shuffle=True, random_state=42)\n",
    "log = LogisticRegression()\n",
    "score = cross_validate(log, X_train, y_train, cv=kf, scoring=\"f1_weighted\", n_jobs=-1, groups=groups)\n",
    "log.fit(X_train, y_train)\n",
    "y_pred = log.predict(X_test)\n",
    "print(f\"Accuracy: {accuracy_score(y_test, y_pred)}\")\n",
    "print(f\"Precision: {precision_score(y_test, y_pred)}\")\n",
    "print(f\"Recall: {recall_score(y_test, y_pred)}\")\n",
    "print(f\"F1: {f1_score(y_test, y_pred)}\")\n",
    "print(f\"Score: {score}\")"
   ]
  },
  {
   "cell_type": "code",
   "execution_count": 102,
   "id": "01f55332",
   "metadata": {},
   "outputs": [
    {
     "name": "stdout",
     "output_type": "stream",
     "text": [
      "Best f1: 0.8072357762821755\n",
      "Best params: {'C': 100, 'class_weight': None, 'max_iter': 5000, 'penalty': 'l1', 'solver': 'liblinear', 'tol': 0.001}\n"
     ]
    }
   ],
   "source": [
    "from sklearn.model_selection import GridSearchCV\n",
    "import numpy as np \n",
    "\n",
    "C_l2 = np.logspace(-3, 3, 7)                 \n",
    "C_l1 = [1e-3, 1e-2, 1e-1, 1, 10, 100]        \n",
    "\n",
    "param_grid = [\n",
    "    {\n",
    "        \"penalty\": [\"l2\"],\n",
    "        \"solver\": [\"lbfgs\"],\n",
    "        \"C\": C_l2,\n",
    "        \"class_weight\": [None, \"balanced\"],\n",
    "        \"max_iter\": [3000],\n",
    "        \"tol\": [1e-4, 1e-3],\n",
    "    },\n",
    "    {\n",
    "        \"penalty\": [\"l1\"],\n",
    "        \"solver\": [\"liblinear\"],\n",
    "        \"C\": C_l1,\n",
    "        \"class_weight\": [None, \"balanced\"],\n",
    "        \"max_iter\": [5000],\n",
    "        \"tol\": [1e-3],   \n",
    "    },\n",
    "    {\n",
    "        \"penalty\": [\"elasticnet\"],\n",
    "        \"solver\": [\"saga\"],\n",
    "        \"l1_ratio\": [0.1, 0.5, 0.9],\n",
    "        \"C\": [0.1, 1, 10],\n",
    "        \"class_weight\": [None, \"balanced\"],\n",
    "        \"max_iter\": [5000],\n",
    "        \"tol\": [1e-3],\n",
    "    },\n",
    "]\n",
    "\n",
    "log_cv = GridSearchCV(LogisticRegression(), param_grid=param_grid, scoring=\"f1\", cv=kf, refit=True)\n",
    "log_cv.fit(X_train, y_train, groups=groups)\n",
    "\n",
    "log_reg_best_model = log_cv.best_estimator_ \n",
    "print(\"Best f1:\", log_cv.best_score_)\n",
    "print(\"Best params:\", log_cv.best_params_)"
   ]
  },
  {
   "cell_type": "code",
   "execution_count": 103,
   "id": "a32ba7a8",
   "metadata": {},
   "outputs": [
    {
     "name": "stdout",
     "output_type": "stream",
     "text": [
      "Accuracy: 0.6593264248704663\n",
      "Precision: 0.5240690281562216\n",
      "Recall: 0.9965457685664939\n",
      "F1: 0.6869047619047619\n",
      "              precision    recall  f1-score   support\n",
      "\n",
      "           0       1.00      0.46      0.63       965\n",
      "           1       0.52      1.00      0.69       579\n",
      "\n",
      "    accuracy                           0.66      1544\n",
      "   macro avg       0.76      0.73      0.66      1544\n",
      "weighted avg       0.82      0.66      0.65      1544\n",
      "\n",
      "[[441 524]\n",
      " [  2 577]]\n"
     ]
    }
   ],
   "source": [
    "from sklearn.metrics import classification_report, confusion_matrix\n",
    "\n",
    "y_pred_2 = log_reg_best_model.predict(X_test)\n",
    "print(f\"Accuracy: {accuracy_score(y_test, y_pred_2)}\")\n",
    "print(f\"Precision: {precision_score(y_test, y_pred_2)}\")\n",
    "print(f\"Recall: {recall_score(y_test, y_pred_2)}\")\n",
    "print(f\"F1: {f1_score(y_test, y_pred_2)}\")\n",
    "\n",
    "print(classification_report(y_test, y_pred_2))\n",
    "print(confusion_matrix(y_test, y_pred_2))"
   ]
  },
  {
   "cell_type": "code",
   "execution_count": 105,
   "id": "bb2b4689",
   "metadata": {},
   "outputs": [
    {
     "name": "stdout",
     "output_type": "stream",
     "text": [
      "Accuracy: 0.8290155440414507\n",
      "Precision: 0.9112271540469974\n",
      "Recall: 0.6027633851468048\n",
      "F1: 0.7255717255717256\n"
     ]
    }
   ],
   "source": [
    "from sklearn.ensemble import RandomForestClassifier\n",
    "\n",
    "kf = StratifiedGroupKFold(n_splits=5, shuffle=True, random_state=42)\n",
    "rf = RandomForestClassifier()\n",
    "score = cross_validate(rf, X_train, y_train, cv=kf, scoring=\"f1\", n_jobs=-1, groups=groups)\n",
    "rf.fit(X_train, y_train)\n",
    "y_pred_3 = rf.predict(X_test)\n",
    "print(f\"Accuracy: {accuracy_score(y_test, y_pred_3)}\")\n",
    "print(f\"Precision: {precision_score(y_test, y_pred_3)}\")\n",
    "print(f\"Recall: {recall_score(y_test, y_pred_3)}\")\n",
    "print(f\"F1: {f1_score(y_test, y_pred_3)}\")"
   ]
  },
  {
   "cell_type": "code",
   "execution_count": 106,
   "id": "ab513154",
   "metadata": {},
   "outputs": [
    {
     "name": "stdout",
     "output_type": "stream",
     "text": [
      "Best f1: 0.8868726229402348\n",
      "Best params: {'class_weight': None, 'max_depth': None, 'max_features': 0.5, 'min_samples_leaf': 1}\n"
     ]
    }
   ],
   "source": [
    "param_grid_rf = {\n",
    "    \"max_depth\": [None, 10],              \n",
    "    \"min_samples_leaf\": [1, 2, 4],         \n",
    "    \"max_features\": [\"sqrt\", 0.5],       \n",
    "    \"class_weight\": [None, \"balanced_subsample\"]\n",
    "}\n",
    "\n",
    "rf_cv = GridSearchCV(RandomForestClassifier(), param_grid=param_grid_rf, scoring=\"f1\", cv=kf, refit=True)\n",
    "rf_cv.fit(X_train, y_train, groups=groups)\n",
    "\n",
    "rf_cv_best_model = rf_cv.best_estimator_ \n",
    "print(\"Best f1:\", rf_cv.best_score_)\n",
    "print(\"Best params:\", rf_cv.best_params_)"
   ]
  },
  {
   "cell_type": "code",
   "execution_count": 107,
   "id": "a20200a4",
   "metadata": {},
   "outputs": [
    {
     "name": "stdout",
     "output_type": "stream",
     "text": [
      "Accuracy: 0.8335492227979274\n",
      "Precision: 0.900497512437811\n",
      "Recall: 0.6252158894645942\n",
      "F1: 0.7380224260958206\n",
      "              precision    recall  f1-score   support\n",
      "\n",
      "           0       0.81      0.96      0.88       965\n",
      "           1       0.90      0.63      0.74       579\n",
      "\n",
      "    accuracy                           0.83      1544\n",
      "   macro avg       0.86      0.79      0.81      1544\n",
      "weighted avg       0.84      0.83      0.83      1544\n",
      "\n",
      "[[925  40]\n",
      " [217 362]]\n"
     ]
    }
   ],
   "source": [
    "y_pred_4 = rf_cv_best_model.predict(X_test)\n",
    "print(f\"Accuracy: {accuracy_score(y_test, y_pred_4)}\")\n",
    "print(f\"Precision: {precision_score(y_test, y_pred_4)}\")\n",
    "print(f\"Recall: {recall_score(y_test, y_pred_4)}\")\n",
    "print(f\"F1: {f1_score(y_test, y_pred_4)}\")\n",
    "\n",
    "print(classification_report(y_test, y_pred_4))\n",
    "print(confusion_matrix(y_test, y_pred_4))"
   ]
  }
 ],
 "metadata": {
  "kernelspec": {
   "display_name": "base",
   "language": "python",
   "name": "python3"
  },
  "language_info": {
   "codemirror_mode": {
    "name": "ipython",
    "version": 3
   },
   "file_extension": ".py",
   "mimetype": "text/x-python",
   "name": "python",
   "nbconvert_exporter": "python",
   "pygments_lexer": "ipython3",
   "version": "3.12.7"
  }
 },
 "nbformat": 4,
 "nbformat_minor": 5
}
