{
 "cells": [
  {
   "metadata": {},
   "cell_type": "markdown",
   "source": "# Binary classification Model",
   "id": "5fd679d7da1ef549"
  },
  {
   "metadata": {},
   "cell_type": "markdown",
   "source": "### train / test split",
   "id": "ad064330462fdd19"
  },
  {
   "metadata": {
    "ExecuteTime": {
     "end_time": "2025-10-04T20:39:15.981807Z",
     "start_time": "2025-10-04T20:39:15.924611Z"
    }
   },
   "cell_type": "code",
   "source": [
    "import numpy as np\n",
    "import torch\n",
    "from sympy import false\n",
    "\n",
    "X_train = np.loadtxt(\"../../datasets/merged/X_train_imputed_scaled.csv\", delimiter=\",\", skiprows=1)\n",
    "X_test = np.loadtxt(\"../../datasets/merged/X_test_imputed_scaled.csv\", delimiter=\",\", skiprows=1)\n",
    "y_train = np.loadtxt(\"../../datasets/merged/y_train.csv\", delimiter=\",\", skiprows=1)\n",
    "y_test = np.loadtxt(\"../../datasets/merged/y_test.csv\", delimiter=\",\", skiprows=1)\n",
    "\n",
    "X_train = np.delete(X_train, 0, axis=1)\n",
    "X_test = np.delete(X_test, 0, axis=1)\n",
    "y_train = np.delete(y_train, 0, axis=1)\n",
    "y_test = np.delete(y_test, 0, axis=1)\n",
    "\n",
    "X_train = torch.from_numpy(X_train).type(torch.float32).squeeze()\n",
    "X_test = torch.from_numpy(X_test).type(torch.float32).squeeze()\n",
    "y_train = torch.from_numpy(y_train).type(torch.float32).squeeze()\n",
    "y_test = torch.from_numpy(y_test).type(torch.float32).squeeze()\n"
   ],
   "id": "a7fa1dbb575dbcac",
   "outputs": [],
   "execution_count": 300
  },
  {
   "metadata": {
    "ExecuteTime": {
     "end_time": "2025-10-04T20:39:16.044430Z",
     "start_time": "2025-10-04T20:39:16.036759Z"
    }
   },
   "cell_type": "code",
   "source": "X_train.shape, X_test.shape, y_train.shape, y_test.shape",
   "id": "5a96fe5ea5b88f29",
   "outputs": [
    {
     "data": {
      "text/plain": [
       "(torch.Size([10018, 7]),\n",
       " torch.Size([2648, 7]),\n",
       " torch.Size([10018]),\n",
       " torch.Size([2648]))"
      ]
     },
     "execution_count": 301,
     "metadata": {},
     "output_type": "execute_result"
    }
   ],
   "execution_count": 301
  },
  {
   "metadata": {
    "ExecuteTime": {
     "end_time": "2025-10-04T20:39:16.156746Z",
     "start_time": "2025-10-04T20:39:16.150339Z"
    }
   },
   "cell_type": "code",
   "source": "type(X_train), X_train.dtype",
   "id": "55c2175fba241539",
   "outputs": [
    {
     "data": {
      "text/plain": [
       "(torch.Tensor, torch.float32)"
      ]
     },
     "execution_count": 302,
     "metadata": {},
     "output_type": "execute_result"
    }
   ],
   "execution_count": 302
  },
  {
   "metadata": {
    "ExecuteTime": {
     "end_time": "2025-10-04T20:39:16.231032Z",
     "start_time": "2025-10-04T20:39:16.222916Z"
    }
   },
   "cell_type": "code",
   "source": "type(y_train), y_train.dtype",
   "id": "e440bc5a4e177179",
   "outputs": [
    {
     "data": {
      "text/plain": [
       "(torch.Tensor, torch.float32)"
      ]
     },
     "execution_count": 303,
     "metadata": {},
     "output_type": "execute_result"
    }
   ],
   "execution_count": 303
  },
  {
   "metadata": {
    "ExecuteTime": {
     "end_time": "2025-10-04T20:39:16.308165Z",
     "start_time": "2025-10-04T20:39:16.299944Z"
    }
   },
   "cell_type": "code",
   "source": [
    "import torch\n",
    "from torch import nn\n",
    "\n",
    "device = \"cuda\" if torch.cuda.is_available() else \"cpu\"\n",
    "device"
   ],
   "id": "d94285b2828f4f53",
   "outputs": [
    {
     "data": {
      "text/plain": [
       "'cuda'"
      ]
     },
     "execution_count": 304,
     "metadata": {},
     "output_type": "execute_result"
    }
   ],
   "execution_count": 304
  },
  {
   "metadata": {
    "ExecuteTime": {
     "end_time": "2025-10-04T20:39:16.417602Z",
     "start_time": "2025-10-04T20:39:16.409177Z"
    }
   },
   "cell_type": "code",
   "source": "torch.cuda.is_available()",
   "id": "9db88c616e295cb1",
   "outputs": [
    {
     "data": {
      "text/plain": [
       "True"
      ]
     },
     "execution_count": 305,
     "metadata": {},
     "output_type": "execute_result"
    }
   ],
   "execution_count": 305
  },
  {
   "metadata": {},
   "cell_type": "markdown",
   "source": "### Construct Model Class",
   "id": "4639bfcb978721fb"
  },
  {
   "metadata": {
    "ExecuteTime": {
     "end_time": "2025-10-04T20:39:16.528867Z",
     "start_time": "2025-10-04T20:39:16.505486Z"
    }
   },
   "cell_type": "code",
   "source": [
    "class ExoplanetsV0(nn.Module):\n",
    "    def __init__(self, input_features, output_features, hidden_units=8):\n",
    "        super().__init__()\n",
    "        self.layers = nn.Sequential(\n",
    "            nn.Linear(in_features=input_features, out_features=hidden_units),\n",
    "            nn.ReLU(),\n",
    "            nn.Linear(in_features=hidden_units, out_features=int(hidden_units/2)),\n",
    "            nn.ReLU(),\n",
    "            nn.Linear(in_features=int(hidden_units/2), out_features=int(hidden_units / 4)),\n",
    "            nn.ReLU(),\n",
    "            nn.Linear(in_features=int(hidden_units/4), out_features=output_features),\n",
    "            #nn.Sigmoid()\n",
    "        )\n",
    "\n",
    "    def forward(self, x):\n",
    "        return self.layers(x)\n",
    "\n",
    "\n",
    "# Create an instance of model\n",
    "model_0 = ExoplanetsV0(input_features=X_test.shape[1], output_features=1, hidden_units=32).to(device)\n",
    "model_0"
   ],
   "id": "6f95f05a877efe2",
   "outputs": [
    {
     "data": {
      "text/plain": [
       "ExoplanetsV0(\n",
       "  (layers): Sequential(\n",
       "    (0): Linear(in_features=7, out_features=32, bias=True)\n",
       "    (1): ReLU()\n",
       "    (2): Linear(in_features=32, out_features=16, bias=True)\n",
       "    (3): ReLU()\n",
       "    (4): Linear(in_features=16, out_features=8, bias=True)\n",
       "    (5): ReLU()\n",
       "    (6): Linear(in_features=8, out_features=1, bias=True)\n",
       "  )\n",
       ")"
      ]
     },
     "execution_count": 306,
     "metadata": {},
     "output_type": "execute_result"
    }
   ],
   "execution_count": 306
  },
  {
   "metadata": {
    "ExecuteTime": {
     "end_time": "2025-10-04T20:39:16.604806Z",
     "start_time": "2025-10-04T20:39:16.596263Z"
    }
   },
   "cell_type": "code",
   "source": "X_train.shape, y_train.shape",
   "id": "9e72a38a352cc8c5",
   "outputs": [
    {
     "data": {
      "text/plain": [
       "(torch.Size([10018, 7]), torch.Size([10018]))"
      ]
     },
     "execution_count": 307,
     "metadata": {},
     "output_type": "execute_result"
    }
   ],
   "execution_count": 307
  },
  {
   "metadata": {},
   "cell_type": "markdown",
   "source": "### Loss Function and Optimizer",
   "id": "9a24023ef19ea86"
  },
  {
   "metadata": {
    "ExecuteTime": {
     "end_time": "2025-10-04T20:39:16.693477Z",
     "start_time": "2025-10-04T20:39:16.682961Z"
    }
   },
   "cell_type": "code",
   "source": [
    "# Create a loss function for binary classification\n",
    "eps = 0.00001\n",
    "### Tried to fix with wages-----------------------------------\n",
    "weight_for_0 = len(y_test) + len(y_train) / (2 * ((y_test < eps).sum() + (y_train < eps).sum()))\n",
    "weight_for_1 = len(y_test) + len(y_train) / (2 * ((y_test - 1 < eps).sum() + (y_train - 1 < eps).sum()))\n",
    "\n",
    "pos_weight = torch.tensor([weight_for_1 / weight_for_0]).to(device)  # dla klasy 1\n",
    "loss_fn = nn.BCEWithLogitsLoss(pos_weight=pos_weight)\n",
    "#loss_fn = nn.BCEWithLogitsLoss()\n",
    "###----------------------------------------------------------\n",
    "\n",
    "# Create an optimizer for binary classification\n",
    "optimizer = torch.optim.SGD(params=model_0.parameters(), lr=0.01)"
   ],
   "id": "4b32cf36edf40698",
   "outputs": [],
   "execution_count": 308
  },
  {
   "metadata": {
    "ExecuteTime": {
     "end_time": "2025-10-04T20:39:16.720154Z",
     "start_time": "2025-10-04T20:39:16.714598Z"
    }
   },
   "cell_type": "code",
   "source": [
    "# Calculate accuracy\n",
    "def accuracy_fn(y_true, y_pred):\n",
    "    correct = torch.eq(y_true, y_pred).sum().item()\n",
    "    acc = (correct / len(y_pred)) * 100\n",
    "    return acc"
   ],
   "id": "d4b5c6066116bd28",
   "outputs": [],
   "execution_count": 309
  },
  {
   "metadata": {},
   "cell_type": "markdown",
   "source": [
    "# Train Model\n",
    "\n",
    "Model outputs are raw **Logits**\n",
    "\n",
    "We are converting logits into prediction probabilities by passing them to some kind of activation function (int this case `nn.Sigmoid()`) Then we can convert our model's prediction probabilities to **prediction labels** by taking the `argmaX_scaled()`"
   ],
   "id": "ae6642c70ca1d0d4"
  },
  {
   "metadata": {},
   "cell_type": "markdown",
   "source": "# Tracking Accuracy",
   "id": "b3104d7f8f8688e5"
  },
  {
   "metadata": {
    "ExecuteTime": {
     "end_time": "2025-10-04T20:39:16.778961Z",
     "start_time": "2025-10-04T20:39:16.769250Z"
    }
   },
   "cell_type": "code",
   "source": [
    "import matplotlib.pyplot as plt\n",
    "\n",
    "def makePlots(track_accuracy, track_loss, track_f1, track_precision, track_recall, track_auc,\n",
    "              track_test_accuracy, track_test_loss, track_test_f1, track_test_precision,\n",
    "              track_test_recall, track_test_auc):\n",
    "    epoch_range = range(1, epochs + 1)\n",
    "\n",
    "    plt.figure(figsize=(18, 12))\n",
    "\n",
    "    # Accuracy\n",
    "    plt.subplot(3, 2, 1)\n",
    "    plt.plot(epoch_range, track_accuracy, label='Train Accuracy')\n",
    "    plt.plot(epoch_range, track_test_accuracy, label='Test Accuracy')\n",
    "    plt.title('Model Accuracy')\n",
    "    plt.xlabel('Epoch')\n",
    "    plt.ylabel('Accuracy (%)')\n",
    "    plt.legend()\n",
    "    plt.grid(True)\n",
    "\n",
    "    # Loss\n",
    "    plt.subplot(3, 2, 2)\n",
    "    plt.plot(epoch_range, track_loss, label='Train Loss')\n",
    "    plt.plot(epoch_range, track_test_loss, label='Test Loss')\n",
    "    plt.title('Model Loss')\n",
    "    plt.xlabel('Epoch')\n",
    "    plt.ylabel('Loss')\n",
    "    plt.legend()\n",
    "    plt.grid(True)\n",
    "\n",
    "    # F1 Score\n",
    "    plt.subplot(3, 2, 3)\n",
    "    plt.plot(epoch_range, track_f1, label='Train F1')\n",
    "    plt.plot(epoch_range, track_test_f1, label='Test F1')\n",
    "    plt.title('F1 Score')\n",
    "    plt.xlabel('Epoch')\n",
    "    plt.ylabel('F1 Score')\n",
    "    plt.legend()\n",
    "    plt.grid(True)\n",
    "\n",
    "    # Precision\n",
    "    plt.subplot(3, 2, 4)\n",
    "    plt.plot(epoch_range, track_precision, label='Train Precision')\n",
    "    plt.plot(epoch_range, track_test_precision, label='Test Precision')\n",
    "    plt.title('Precision')\n",
    "    plt.xlabel('Epoch')\n",
    "    plt.ylabel('Precision')\n",
    "    plt.legend()\n",
    "    plt.grid(True)\n",
    "\n",
    "    # Recall\n",
    "    plt.subplot(3, 2, 5)\n",
    "    plt.plot(epoch_range, track_recall, label='Train Recall')\n",
    "    plt.plot(epoch_range, track_test_recall, label='Test Recall')\n",
    "    plt.title('Recall')\n",
    "    plt.xlabel('Epoch')\n",
    "    plt.ylabel('Recall')\n",
    "    plt.legend()\n",
    "    plt.grid(True)\n",
    "\n",
    "    # AUC\n",
    "    plt.subplot(3, 2, 6)\n",
    "    plt.plot(epoch_range, track_auc, label='Train AUC')\n",
    "    plt.plot(epoch_range, track_test_auc, label='Test AUC')\n",
    "    plt.title('AUC')\n",
    "    plt.xlabel('Epoch')\n",
    "    plt.ylabel('AUC')\n",
    "    plt.legend()\n",
    "    plt.grid(True)\n",
    "\n",
    "    plt.tight_layout()\n",
    "    plt.savefig('training_metrics.png', dpi=300)  # Zapisuje wykres w wysokiej jakości\n",
    "    plt.show()\n"
   ],
   "id": "3d28da580e618539",
   "outputs": [],
   "execution_count": 310
  },
  {
   "metadata": {},
   "cell_type": "markdown",
   "source": "### Building a training loop and testing loop",
   "id": "e2bf33b5ee0a3476"
  },
  {
   "metadata": {
    "ExecuteTime": {
     "end_time": "2025-10-04T20:39:16.846532Z",
     "start_time": "2025-10-04T20:39:16.825990Z"
    }
   },
   "cell_type": "code",
   "source": [
    "from sklearn.metrics import precision_score, recall_score, f1_score, roc_auc_score\n",
    "epochs = 2500\n",
    "\n",
    "def trainModel(model, X_train, y_train, X_test, y_test, isCrossValidation=False):\n",
    "\n",
    "    torch.manual_seed(42)\n",
    "    torch.cuda.manual_seed(42)\n",
    "\n",
    "    # Set the number of epochs\n",
    "\n",
    "    # Tracking loss and accuracy\n",
    "    track_accuracy = []\n",
    "    track_loss = []\n",
    "    track_f1 = []\n",
    "    track_precision = []\n",
    "    track_recall = []\n",
    "    track_auc = []\n",
    "\n",
    "    track_test_f1 = []\n",
    "    track_test_precision = []\n",
    "    track_test_recall = []\n",
    "    track_test_auc = []\n",
    "    track_test_accuracy = []\n",
    "    track_test_loss = []\n",
    "\n",
    "\n",
    "    # Put data to target device\n",
    "    X_train, y_train = X_train.to(device), y_train.to(device)\n",
    "    X_test, y_test = X_test.to(device), y_test.to(device)\n",
    "\n",
    "    loss_fn = nn.BCEWithLogitsLoss(pos_weight=pos_weight)\n",
    "    optimizer = torch.optim.SGD(params=model.parameters(), lr=0.01)\n",
    "\n",
    "    for epoch in range(epochs):\n",
    "        ### Training\n",
    "        model.train()\n",
    "\n",
    "        # 1. Forward pass\n",
    "        y_logits = model(X_train).squeeze()\n",
    "        y_probs = torch.sigmoid(y_logits)\n",
    "        y_pred = torch.round(y_probs)  # turn logits into pred probs and into pred labels\n",
    "\n",
    "        # 2. Calculate the loss / cost\n",
    "        loss = loss_fn(y_logits, y_train)\n",
    "        track_loss.append(loss.item())\n",
    "\n",
    "        acc = accuracy_fn(y_true=y_train.detach(), y_pred=y_pred.detach())\n",
    "        precision = precision_score(y_true=y_train.detach().cpu(), y_pred=y_pred.detach().cpu(), zero_division=0) * 100\n",
    "        recall = recall_score(y_true=y_train.detach().cpu(), y_pred=y_pred.detach().cpu(), zero_division=0) * 100\n",
    "        f1 = f1_score(y_true=y_train.detach().cpu(), y_pred=y_pred.detach().cpu(), zero_division=0) * 100\n",
    "        auc = roc_auc_score(y_true=y_train.detach().cpu(), y_score=y_probs.detach().cpu())\n",
    "\n",
    "        track_accuracy.append(acc)\n",
    "        track_precision.append(precision)\n",
    "        track_recall.append(recall)\n",
    "        track_f1.append(f1)\n",
    "        track_auc.append(auc)\n",
    "\n",
    "        # 3. Optimizer zero grad\n",
    "        optimizer.zero_grad()\n",
    "\n",
    "        # 4. Backpropagation algorithm\n",
    "        loss.backward()\n",
    "\n",
    "        # 5. Gradient descent algorithm\n",
    "        optimizer.step()\n",
    "\n",
    "        ### Testing\n",
    "        model.eval()\n",
    "        with torch.inference_mode():\n",
    "            # 1. Forward pass\n",
    "            test_logits = model(X_test).squeeze()       # logits\n",
    "            test_probs = torch.sigmoid(test_logits)     # Probability\n",
    "            test_pred = torch.round(test_probs)         # 1 or 0\n",
    "\n",
    "            # 2. Calculate test loss/acc\n",
    "\n",
    "            test_loss = loss_fn(test_logits, y_test)\n",
    "            track_test_loss.append(test_loss.item())\n",
    "\n",
    "            test_acc = accuracy_fn(y_true=y_test.cpu(), y_pred=test_pred.cpu())\n",
    "            test_precision = precision_score(y_true=y_test.cpu(), y_pred=test_pred.cpu(), zero_division=0) * 100\n",
    "            test_recall = recall_score(y_true=y_test.cpu(), y_pred=test_pred.cpu(), zero_division=0) * 100\n",
    "            test_f1 = f1_score(y_true=y_test.cpu(), y_pred=test_pred.cpu(), zero_division=0) * 100\n",
    "            test_auc = roc_auc_score(y_true=y_test.cpu(), y_score=test_probs.cpu())\n",
    "            track_test_auc.append(test_auc)\n",
    "\n",
    "            track_test_accuracy.append(test_acc)\n",
    "            track_test_precision.append(test_precision)\n",
    "            track_test_recall.append(test_recall)\n",
    "            track_test_f1.append(test_f1)\n",
    "\n",
    "        # Print out what's happenin'\n",
    "        if not isCrossValidation and (epoch % 500 == 0 or epoch == 4999):\n",
    "            print(\n",
    "                f\"Epoch {epoch} \\n\"\n",
    "                f\" loss: {loss:.5f} | accuracy: {acc:.2f}% | Precision: {precision:.2f}% | Recall: {recall:.2f}% | f1: {f1:.2f}% | auc: {auc:.2f} \\n\"\n",
    "                f\"Test loss: {test_loss:.5f} | Test accuracy: {test_acc:.2f}% | Test precision: {test_precision:.2f}% | Test recall: {test_recall:.2f}% | Test f1: {test_f1:.2f}% | Test auc: {test_auc:.2f} \\n\")\n",
    "\n",
    "    if not isCrossValidation:\n",
    "        makePlots(track_accuracy, track_loss, track_f1, track_precision, track_recall, track_auc,\n",
    "                  track_test_accuracy, track_test_loss, track_test_f1, track_test_precision,\n",
    "                  track_test_recall, track_test_auc)\n",
    "    return test_acc\n"
   ],
   "id": "6d1cddb51b170d82",
   "outputs": [],
   "execution_count": 311
  },
  {
   "metadata": {},
   "cell_type": "markdown",
   "source": "# Cross-validation",
   "id": "9d8418f5cc1649da"
  },
  {
   "metadata": {
    "ExecuteTime": {
     "end_time": "2025-10-04T20:40:51.270779Z",
     "start_time": "2025-10-04T20:39:16.896335Z"
    }
   },
   "cell_type": "code",
   "source": [
    "from sklearn.model_selection import StratifiedKFold, train_test_split\n",
    "\n",
    "kfold = StratifiedKFold(n_splits=5, shuffle=True)\n",
    "cv_scores = []\n",
    "for train, test in kfold.split(X_train, y_train):\n",
    "    # create model, train, and get accuracy\n",
    "    model_1 = ExoplanetsV0(input_features=X_test.shape[1], output_features=1, hidden_units=32).to(device)\n",
    "    acc = trainModel(model_1, X_train[train], y_train[train], X_train[test], y_train[test], True)\n",
    "    print(\"Accuracy: %.2f\" % acc)\n",
    "    cv_scores.append(acc)\n",
    "\n",
    "# evaluate the model\n",
    "wide_acc = np.mean(cv_scores)\n",
    "wide_std = np.std(cv_scores)\n",
    "print(\"Stats (cross validation): %.2f%% (+/- %.2f%%)\" % (wide_acc, wide_std))\n",
    "\n",
    "model_1 = ExoplanetsV0(input_features=X_test.shape[1], output_features=1, hidden_units=32).to(device)\n",
    "trainModel(model_1, X_train, y_train, X_test, y_test, false)"
   ],
   "id": "4f46bbb4e8ca0f58",
   "outputs": [
    {
     "name": "stdout",
     "output_type": "stream",
     "text": [
      "Epoch 0 \n",
      " loss: 0.70554 | accuracy: 51.48% | Precision: 0.00% | Recall: 0.00% | f1: 0.00% | auc: 0.42 \n",
      "Test loss: 0.70543 | Test accuracy: 51.40% | Test precision: 0.00% | Test recall: 0.00% | Test f1: 0.00% | Test auc: 0.42 \n",
      "\n",
      "Epoch 500 \n",
      " loss: 0.67505 | accuracy: 51.77% | Precision: 100.00% | Recall: 0.28% | f1: 0.57% | auc: 0.75 \n",
      "Test loss: 0.67311 | Test accuracy: 51.95% | Test precision: 100.00% | Test recall: 0.62% | Test f1: 1.23% | Test auc: 0.76 \n",
      "\n",
      "Epoch 1000 \n",
      " loss: 0.63645 | accuracy: 68.70% | Precision: 66.81% | Recall: 70.15% | f1: 68.44% | auc: 0.75 \n",
      "Test loss: 0.63100 | Test accuracy: 69.46% | Test precision: 67.62% | Test recall: 70.69% | Test f1: 69.12% | Test auc: 0.76 \n",
      "\n",
      "Epoch 1500 \n",
      " loss: 0.59440 | accuracy: 69.64% | Precision: 65.88% | Recall: 77.22% | f1: 71.10% | auc: 0.75 \n",
      "Test loss: 0.58494 | Test accuracy: 70.26% | Test precision: 66.43% | Test recall: 77.81% | Test f1: 71.67% | Test auc: 0.77 \n",
      "\n",
      "Accuracy: 70.86\n",
      "Epoch 0 \n",
      " loss: 0.69728 | accuracy: 51.61% | Precision: 33.33% | Recall: 0.05% | f1: 0.10% | auc: 0.47 \n",
      "Test loss: 0.69760 | Test accuracy: 51.60% | Test precision: 0.00% | Test recall: 0.00% | Test f1: 0.00% | Test auc: 0.44 \n",
      "\n",
      "Epoch 500 \n",
      " loss: 0.68712 | accuracy: 51.55% | Precision: 29.41% | Recall: 0.13% | f1: 0.26% | auc: 0.68 \n",
      "Test loss: 0.68767 | Test accuracy: 51.70% | Test precision: 66.67% | Test recall: 0.21% | Test f1: 0.41% | Test auc: 0.66 \n",
      "\n",
      "Epoch 1000 \n",
      " loss: 0.67654 | accuracy: 58.55% | Precision: 65.12% | Recall: 30.78% | f1: 41.80% | auc: 0.70 \n",
      "Test loss: 0.67734 | Test accuracy: 58.08% | Test precision: 64.30% | Test recall: 29.93% | Test f1: 40.85% | Test auc: 0.69 \n",
      "\n",
      "Epoch 1500 \n",
      " loss: 0.65398 | accuracy: 62.91% | Precision: 63.47% | Recall: 54.95% | f1: 58.90% | auc: 0.72 \n",
      "Test loss: 0.65563 | Test accuracy: 62.38% | Test precision: 62.75% | Test recall: 54.59% | Test f1: 58.39% | Test auc: 0.71 \n",
      "\n"
     ]
    },
    {
     "ename": "KeyboardInterrupt",
     "evalue": "",
     "output_type": "error",
     "traceback": [
      "\u001B[31m---------------------------------------------------------------------------\u001B[39m",
      "\u001B[31mKeyboardInterrupt\u001B[39m                         Traceback (most recent call last)",
      "\u001B[36mCell\u001B[39m\u001B[36m \u001B[39m\u001B[32mIn[312]\u001B[39m\u001B[32m, line 8\u001B[39m\n\u001B[32m      5\u001B[39m \u001B[38;5;28;01mfor\u001B[39;00m train, test \u001B[38;5;129;01min\u001B[39;00m kfold.split(X_train, y_train):\n\u001B[32m      6\u001B[39m     \u001B[38;5;66;03m# create model, train, and get accuracy\u001B[39;00m\n\u001B[32m      7\u001B[39m     model_1 = ExoplanetsV0(input_features=X_test.shape[\u001B[32m1\u001B[39m], output_features=\u001B[32m1\u001B[39m, hidden_units=\u001B[32m32\u001B[39m).to(device)\n\u001B[32m----> \u001B[39m\u001B[32m8\u001B[39m     acc = \u001B[43mtrainModel\u001B[49m\u001B[43m(\u001B[49m\u001B[43mmodel_1\u001B[49m\u001B[43m,\u001B[49m\u001B[43m \u001B[49m\u001B[43mX_train\u001B[49m\u001B[43m[\u001B[49m\u001B[43mtrain\u001B[49m\u001B[43m]\u001B[49m\u001B[43m,\u001B[49m\u001B[43m \u001B[49m\u001B[43my_train\u001B[49m\u001B[43m[\u001B[49m\u001B[43mtrain\u001B[49m\u001B[43m]\u001B[49m\u001B[43m,\u001B[49m\u001B[43m \u001B[49m\u001B[43mX_train\u001B[49m\u001B[43m[\u001B[49m\u001B[43mtest\u001B[49m\u001B[43m]\u001B[49m\u001B[43m,\u001B[49m\u001B[43m \u001B[49m\u001B[43my_train\u001B[49m\u001B[43m[\u001B[49m\u001B[43mtest\u001B[49m\u001B[43m]\u001B[49m\u001B[43m,\u001B[49m\u001B[43m \u001B[49m\u001B[38;5;28;43;01mTrue\u001B[39;49;00m\u001B[43m)\u001B[49m\n\u001B[32m      9\u001B[39m     \u001B[38;5;28mprint\u001B[39m(\u001B[33m\"\u001B[39m\u001B[33mAccuracy: \u001B[39m\u001B[38;5;132;01m%.2f\u001B[39;00m\u001B[33m\"\u001B[39m % acc)\n\u001B[32m     10\u001B[39m     cv_scores.append(acc)\n",
      "\u001B[36mCell\u001B[39m\u001B[36m \u001B[39m\u001B[32mIn[311]\u001B[39m\u001B[32m, line 85\u001B[39m, in \u001B[36mtrainModel\u001B[39m\u001B[34m(model, X_train, y_train, X_test, y_test, isCrossValidation)\u001B[39m\n\u001B[32m     83\u001B[39m test_recall = recall_score(y_true=y_test.cpu(), y_pred=test_pred.cpu(), zero_division=\u001B[32m0\u001B[39m) * \u001B[32m100\u001B[39m\n\u001B[32m     84\u001B[39m test_f1 = f1_score(y_true=y_test.cpu(), y_pred=test_pred.cpu(), zero_division=\u001B[32m0\u001B[39m) * \u001B[32m100\u001B[39m\n\u001B[32m---> \u001B[39m\u001B[32m85\u001B[39m test_auc = \u001B[43mroc_auc_score\u001B[49m\u001B[43m(\u001B[49m\u001B[43my_true\u001B[49m\u001B[43m=\u001B[49m\u001B[43my_test\u001B[49m\u001B[43m.\u001B[49m\u001B[43mcpu\u001B[49m\u001B[43m(\u001B[49m\u001B[43m)\u001B[49m\u001B[43m,\u001B[49m\u001B[43m \u001B[49m\u001B[43my_score\u001B[49m\u001B[43m=\u001B[49m\u001B[43mtest_probs\u001B[49m\u001B[43m.\u001B[49m\u001B[43mcpu\u001B[49m\u001B[43m(\u001B[49m\u001B[43m)\u001B[49m\u001B[43m)\u001B[49m\n\u001B[32m     86\u001B[39m track_test_auc.append(test_auc)\n\u001B[32m     88\u001B[39m track_test_accuracy.append(test_acc)\n",
      "\u001B[36mFile \u001B[39m\u001B[32m~/PycharmProjects/SpaceAppsExoplanets/.venv/lib/python3.12/site-packages/sklearn/utils/_param_validation.py:218\u001B[39m, in \u001B[36mvalidate_params.<locals>.decorator.<locals>.wrapper\u001B[39m\u001B[34m(*args, **kwargs)\u001B[39m\n\u001B[32m    212\u001B[39m \u001B[38;5;28;01mtry\u001B[39;00m:\n\u001B[32m    213\u001B[39m     \u001B[38;5;28;01mwith\u001B[39;00m config_context(\n\u001B[32m    214\u001B[39m         skip_parameter_validation=(\n\u001B[32m    215\u001B[39m             prefer_skip_nested_validation \u001B[38;5;129;01mor\u001B[39;00m global_skip_validation\n\u001B[32m    216\u001B[39m         )\n\u001B[32m    217\u001B[39m     ):\n\u001B[32m--> \u001B[39m\u001B[32m218\u001B[39m         \u001B[38;5;28;01mreturn\u001B[39;00m \u001B[43mfunc\u001B[49m\u001B[43m(\u001B[49m\u001B[43m*\u001B[49m\u001B[43margs\u001B[49m\u001B[43m,\u001B[49m\u001B[43m \u001B[49m\u001B[43m*\u001B[49m\u001B[43m*\u001B[49m\u001B[43mkwargs\u001B[49m\u001B[43m)\u001B[49m\n\u001B[32m    219\u001B[39m \u001B[38;5;28;01mexcept\u001B[39;00m InvalidParameterError \u001B[38;5;28;01mas\u001B[39;00m e:\n\u001B[32m    220\u001B[39m     \u001B[38;5;66;03m# When the function is just a wrapper around an estimator, we allow\u001B[39;00m\n\u001B[32m    221\u001B[39m     \u001B[38;5;66;03m# the function to delegate validation to the estimator, but we replace\u001B[39;00m\n\u001B[32m    222\u001B[39m     \u001B[38;5;66;03m# the name of the estimator by the name of the function in the error\u001B[39;00m\n\u001B[32m    223\u001B[39m     \u001B[38;5;66;03m# message to avoid confusion.\u001B[39;00m\n\u001B[32m    224\u001B[39m     msg = re.sub(\n\u001B[32m    225\u001B[39m         \u001B[33mr\u001B[39m\u001B[33m\"\u001B[39m\u001B[33mparameter of \u001B[39m\u001B[33m\\\u001B[39m\u001B[33mw+ must be\u001B[39m\u001B[33m\"\u001B[39m,\n\u001B[32m    226\u001B[39m         \u001B[33mf\u001B[39m\u001B[33m\"\u001B[39m\u001B[33mparameter of \u001B[39m\u001B[38;5;132;01m{\u001B[39;00mfunc.\u001B[34m__qualname__\u001B[39m\u001B[38;5;132;01m}\u001B[39;00m\u001B[33m must be\u001B[39m\u001B[33m\"\u001B[39m,\n\u001B[32m    227\u001B[39m         \u001B[38;5;28mstr\u001B[39m(e),\n\u001B[32m    228\u001B[39m     )\n",
      "\u001B[36mFile \u001B[39m\u001B[32m~/PycharmProjects/SpaceAppsExoplanets/.venv/lib/python3.12/site-packages/sklearn/metrics/_ranking.py:686\u001B[39m, in \u001B[36mroc_auc_score\u001B[39m\u001B[34m(y_true, y_score, average, sample_weight, max_fpr, multi_class, labels)\u001B[39m\n\u001B[32m    684\u001B[39m     labels = np.unique(y_true)\n\u001B[32m    685\u001B[39m     y_true = label_binarize(y_true, classes=labels)[:, \u001B[32m0\u001B[39m]\n\u001B[32m--> \u001B[39m\u001B[32m686\u001B[39m     \u001B[38;5;28;01mreturn\u001B[39;00m \u001B[43m_average_binary_score\u001B[49m\u001B[43m(\u001B[49m\n\u001B[32m    687\u001B[39m \u001B[43m        \u001B[49m\u001B[43mpartial\u001B[49m\u001B[43m(\u001B[49m\u001B[43m_binary_roc_auc_score\u001B[49m\u001B[43m,\u001B[49m\u001B[43m \u001B[49m\u001B[43mmax_fpr\u001B[49m\u001B[43m=\u001B[49m\u001B[43mmax_fpr\u001B[49m\u001B[43m)\u001B[49m\u001B[43m,\u001B[49m\n\u001B[32m    688\u001B[39m \u001B[43m        \u001B[49m\u001B[43my_true\u001B[49m\u001B[43m,\u001B[49m\n\u001B[32m    689\u001B[39m \u001B[43m        \u001B[49m\u001B[43my_score\u001B[49m\u001B[43m,\u001B[49m\n\u001B[32m    690\u001B[39m \u001B[43m        \u001B[49m\u001B[43maverage\u001B[49m\u001B[43m,\u001B[49m\n\u001B[32m    691\u001B[39m \u001B[43m        \u001B[49m\u001B[43msample_weight\u001B[49m\u001B[43m=\u001B[49m\u001B[43msample_weight\u001B[49m\u001B[43m,\u001B[49m\n\u001B[32m    692\u001B[39m \u001B[43m    \u001B[49m\u001B[43m)\u001B[49m\n\u001B[32m    693\u001B[39m \u001B[38;5;28;01melse\u001B[39;00m:  \u001B[38;5;66;03m# multilabel-indicator\u001B[39;00m\n\u001B[32m    694\u001B[39m     \u001B[38;5;28;01mreturn\u001B[39;00m _average_binary_score(\n\u001B[32m    695\u001B[39m         partial(_binary_roc_auc_score, max_fpr=max_fpr),\n\u001B[32m    696\u001B[39m         y_true,\n\u001B[32m   (...)\u001B[39m\u001B[32m    699\u001B[39m         sample_weight=sample_weight,\n\u001B[32m    700\u001B[39m     )\n",
      "\u001B[36mFile \u001B[39m\u001B[32m~/PycharmProjects/SpaceAppsExoplanets/.venv/lib/python3.12/site-packages/sklearn/metrics/_base.py:69\u001B[39m, in \u001B[36m_average_binary_score\u001B[39m\u001B[34m(binary_metric, y_true, y_score, average, sample_weight)\u001B[39m\n\u001B[32m     66\u001B[39m     \u001B[38;5;28;01mraise\u001B[39;00m \u001B[38;5;167;01mValueError\u001B[39;00m(\u001B[33m\"\u001B[39m\u001B[38;5;132;01m{0}\u001B[39;00m\u001B[33m format is not supported\u001B[39m\u001B[33m\"\u001B[39m.format(y_type))\n\u001B[32m     68\u001B[39m \u001B[38;5;28;01mif\u001B[39;00m y_type == \u001B[33m\"\u001B[39m\u001B[33mbinary\u001B[39m\u001B[33m\"\u001B[39m:\n\u001B[32m---> \u001B[39m\u001B[32m69\u001B[39m     \u001B[38;5;28;01mreturn\u001B[39;00m \u001B[43mbinary_metric\u001B[49m\u001B[43m(\u001B[49m\u001B[43my_true\u001B[49m\u001B[43m,\u001B[49m\u001B[43m \u001B[49m\u001B[43my_score\u001B[49m\u001B[43m,\u001B[49m\u001B[43m \u001B[49m\u001B[43msample_weight\u001B[49m\u001B[43m=\u001B[49m\u001B[43msample_weight\u001B[49m\u001B[43m)\u001B[49m\n\u001B[32m     71\u001B[39m check_consistent_length(y_true, y_score, sample_weight)\n\u001B[32m     72\u001B[39m y_true = check_array(y_true)\n",
      "\u001B[36mFile \u001B[39m\u001B[32m~/PycharmProjects/SpaceAppsExoplanets/.venv/lib/python3.12/site-packages/sklearn/metrics/_ranking.py:433\u001B[39m, in \u001B[36m_binary_roc_auc_score\u001B[39m\u001B[34m(y_true, y_score, sample_weight, max_fpr)\u001B[39m\n\u001B[32m    424\u001B[39m     warnings.warn(\n\u001B[32m    425\u001B[39m         (\n\u001B[32m    426\u001B[39m             \u001B[33m\"\u001B[39m\u001B[33mOnly one class is present in y_true. ROC AUC score \u001B[39m\u001B[33m\"\u001B[39m\n\u001B[32m   (...)\u001B[39m\u001B[32m    429\u001B[39m         UndefinedMetricWarning,\n\u001B[32m    430\u001B[39m     )\n\u001B[32m    431\u001B[39m     \u001B[38;5;28;01mreturn\u001B[39;00m np.nan\n\u001B[32m--> \u001B[39m\u001B[32m433\u001B[39m fpr, tpr, _ = \u001B[43mroc_curve\u001B[49m\u001B[43m(\u001B[49m\u001B[43my_true\u001B[49m\u001B[43m,\u001B[49m\u001B[43m \u001B[49m\u001B[43my_score\u001B[49m\u001B[43m,\u001B[49m\u001B[43m \u001B[49m\u001B[43msample_weight\u001B[49m\u001B[43m=\u001B[49m\u001B[43msample_weight\u001B[49m\u001B[43m)\u001B[49m\n\u001B[32m    434\u001B[39m \u001B[38;5;28;01mif\u001B[39;00m max_fpr \u001B[38;5;129;01mis\u001B[39;00m \u001B[38;5;28;01mNone\u001B[39;00m \u001B[38;5;129;01mor\u001B[39;00m max_fpr == \u001B[32m1\u001B[39m:\n\u001B[32m    435\u001B[39m     \u001B[38;5;28;01mreturn\u001B[39;00m auc(fpr, tpr)\n",
      "\u001B[36mFile \u001B[39m\u001B[32m~/PycharmProjects/SpaceAppsExoplanets/.venv/lib/python3.12/site-packages/sklearn/utils/_param_validation.py:191\u001B[39m, in \u001B[36mvalidate_params.<locals>.decorator.<locals>.wrapper\u001B[39m\u001B[34m(*args, **kwargs)\u001B[39m\n\u001B[32m    189\u001B[39m global_skip_validation = get_config()[\u001B[33m\"\u001B[39m\u001B[33mskip_parameter_validation\u001B[39m\u001B[33m\"\u001B[39m]\n\u001B[32m    190\u001B[39m \u001B[38;5;28;01mif\u001B[39;00m global_skip_validation:\n\u001B[32m--> \u001B[39m\u001B[32m191\u001B[39m     \u001B[38;5;28;01mreturn\u001B[39;00m \u001B[43mfunc\u001B[49m\u001B[43m(\u001B[49m\u001B[43m*\u001B[49m\u001B[43margs\u001B[49m\u001B[43m,\u001B[49m\u001B[43m \u001B[49m\u001B[43m*\u001B[49m\u001B[43m*\u001B[49m\u001B[43mkwargs\u001B[49m\u001B[43m)\u001B[49m\n\u001B[32m    193\u001B[39m func_sig = signature(func)\n\u001B[32m    195\u001B[39m \u001B[38;5;66;03m# Map *args/**kwargs to the function signature\u001B[39;00m\n",
      "\u001B[36mFile \u001B[39m\u001B[32m~/PycharmProjects/SpaceAppsExoplanets/.venv/lib/python3.12/site-packages/sklearn/metrics/_ranking.py:1163\u001B[39m, in \u001B[36mroc_curve\u001B[39m\u001B[34m(y_true, y_score, pos_label, sample_weight, drop_intermediate)\u001B[39m\n\u001B[32m   1059\u001B[39m \u001B[38;5;129m@validate_params\u001B[39m(\n\u001B[32m   1060\u001B[39m     {\n\u001B[32m   1061\u001B[39m         \u001B[33m\"\u001B[39m\u001B[33my_true\u001B[39m\u001B[33m\"\u001B[39m: [\u001B[33m\"\u001B[39m\u001B[33marray-like\u001B[39m\u001B[33m\"\u001B[39m],\n\u001B[32m   (...)\u001B[39m\u001B[32m   1070\u001B[39m     y_true, y_score, *, pos_label=\u001B[38;5;28;01mNone\u001B[39;00m, sample_weight=\u001B[38;5;28;01mNone\u001B[39;00m, drop_intermediate=\u001B[38;5;28;01mTrue\u001B[39;00m\n\u001B[32m   1071\u001B[39m ):\n\u001B[32m   1072\u001B[39m \u001B[38;5;250m    \u001B[39m\u001B[33;03m\"\"\"Compute Receiver operating characteristic (ROC).\u001B[39;00m\n\u001B[32m   1073\u001B[39m \n\u001B[32m   1074\u001B[39m \u001B[33;03m    Note: this implementation is restricted to the binary classification task.\u001B[39;00m\n\u001B[32m   (...)\u001B[39m\u001B[32m   1161\u001B[39m \u001B[33;03m    array([ inf, 0.8 , 0.4 , 0.35, 0.1 ])\u001B[39;00m\n\u001B[32m   1162\u001B[39m \u001B[33;03m    \"\"\"\u001B[39;00m\n\u001B[32m-> \u001B[39m\u001B[32m1163\u001B[39m     fps, tps, thresholds = \u001B[43m_binary_clf_curve\u001B[49m\u001B[43m(\u001B[49m\n\u001B[32m   1164\u001B[39m \u001B[43m        \u001B[49m\u001B[43my_true\u001B[49m\u001B[43m,\u001B[49m\u001B[43m \u001B[49m\u001B[43my_score\u001B[49m\u001B[43m,\u001B[49m\u001B[43m \u001B[49m\u001B[43mpos_label\u001B[49m\u001B[43m=\u001B[49m\u001B[43mpos_label\u001B[49m\u001B[43m,\u001B[49m\u001B[43m \u001B[49m\u001B[43msample_weight\u001B[49m\u001B[43m=\u001B[49m\u001B[43msample_weight\u001B[49m\n\u001B[32m   1165\u001B[39m \u001B[43m    \u001B[49m\u001B[43m)\u001B[49m\n\u001B[32m   1167\u001B[39m     \u001B[38;5;66;03m# Attempt to drop thresholds corresponding to points in between and\u001B[39;00m\n\u001B[32m   1168\u001B[39m     \u001B[38;5;66;03m# collinear with other points. These are always suboptimal and do not\u001B[39;00m\n\u001B[32m   1169\u001B[39m     \u001B[38;5;66;03m# appear on a plotted ROC curve (and thus do not affect the AUC).\u001B[39;00m\n\u001B[32m   (...)\u001B[39m\u001B[32m   1174\u001B[39m     \u001B[38;5;66;03m# but does not drop more complicated cases like fps = [1, 3, 7],\u001B[39;00m\n\u001B[32m   1175\u001B[39m     \u001B[38;5;66;03m# tps = [1, 2, 4]; there is no harm in keeping too many thresholds.\u001B[39;00m\n\u001B[32m   1176\u001B[39m     \u001B[38;5;28;01mif\u001B[39;00m drop_intermediate \u001B[38;5;129;01mand\u001B[39;00m \u001B[38;5;28mlen\u001B[39m(fps) > \u001B[32m2\u001B[39m:\n",
      "\u001B[36mFile \u001B[39m\u001B[32m~/PycharmProjects/SpaceAppsExoplanets/.venv/lib/python3.12/site-packages/sklearn/metrics/_ranking.py:861\u001B[39m, in \u001B[36m_binary_clf_curve\u001B[39m\u001B[34m(y_true, y_score, pos_label, sample_weight)\u001B[39m\n\u001B[32m    827\u001B[39m \u001B[38;5;250m\u001B[39m\u001B[33;03m\"\"\"Calculate true and false positives per binary classification threshold.\u001B[39;00m\n\u001B[32m    828\u001B[39m \n\u001B[32m    829\u001B[39m \u001B[33;03mParameters\u001B[39;00m\n\u001B[32m   (...)\u001B[39m\u001B[32m    858\u001B[39m \u001B[33;03m    Decreasing score values.\u001B[39;00m\n\u001B[32m    859\u001B[39m \u001B[33;03m\"\"\"\u001B[39;00m\n\u001B[32m    860\u001B[39m \u001B[38;5;66;03m# Check to make sure y_true is valid\u001B[39;00m\n\u001B[32m--> \u001B[39m\u001B[32m861\u001B[39m y_type = \u001B[43mtype_of_target\u001B[49m\u001B[43m(\u001B[49m\u001B[43my_true\u001B[49m\u001B[43m,\u001B[49m\u001B[43m \u001B[49m\u001B[43minput_name\u001B[49m\u001B[43m=\u001B[49m\u001B[33;43m\"\u001B[39;49m\u001B[33;43my_true\u001B[39;49m\u001B[33;43m\"\u001B[39;49m\u001B[43m)\u001B[49m\n\u001B[32m    862\u001B[39m \u001B[38;5;28;01mif\u001B[39;00m \u001B[38;5;129;01mnot\u001B[39;00m (y_type == \u001B[33m\"\u001B[39m\u001B[33mbinary\u001B[39m\u001B[33m\"\u001B[39m \u001B[38;5;129;01mor\u001B[39;00m (y_type == \u001B[33m\"\u001B[39m\u001B[33mmulticlass\u001B[39m\u001B[33m\"\u001B[39m \u001B[38;5;129;01mand\u001B[39;00m pos_label \u001B[38;5;129;01mis\u001B[39;00m \u001B[38;5;129;01mnot\u001B[39;00m \u001B[38;5;28;01mNone\u001B[39;00m)):\n\u001B[32m    863\u001B[39m     \u001B[38;5;28;01mraise\u001B[39;00m \u001B[38;5;167;01mValueError\u001B[39;00m(\u001B[33m\"\u001B[39m\u001B[38;5;132;01m{0}\u001B[39;00m\u001B[33m format is not supported\u001B[39m\u001B[33m\"\u001B[39m.format(y_type))\n",
      "\u001B[36mFile \u001B[39m\u001B[32m~/PycharmProjects/SpaceAppsExoplanets/.venv/lib/python3.12/site-packages/sklearn/utils/multiclass.py:349\u001B[39m, in \u001B[36mtype_of_target\u001B[39m\u001B[34m(y, input_name, raise_unknown)\u001B[39m\n\u001B[32m    347\u001B[39m \u001B[38;5;28;01mwith\u001B[39;00m warnings.catch_warnings():\n\u001B[32m    348\u001B[39m     warnings.simplefilter(\u001B[33m\"\u001B[39m\u001B[33merror\u001B[39m\u001B[33m\"\u001B[39m, VisibleDeprecationWarning)\n\u001B[32m--> \u001B[39m\u001B[32m349\u001B[39m     \u001B[38;5;28;01mif\u001B[39;00m \u001B[38;5;129;01mnot\u001B[39;00m \u001B[43missparse\u001B[49m\u001B[43m(\u001B[49m\u001B[43my\u001B[49m\u001B[43m)\u001B[49m:\n\u001B[32m    350\u001B[39m         \u001B[38;5;28;01mtry\u001B[39;00m:\n\u001B[32m    351\u001B[39m             y = check_array(y, dtype=\u001B[38;5;28;01mNone\u001B[39;00m, **check_y_kwargs)\n",
      "\u001B[36mFile \u001B[39m\u001B[32m~/PycharmProjects/SpaceAppsExoplanets/.venv/lib/python3.12/site-packages/scipy/_lib/_sparse.py:41\u001B[39m, in \u001B[36missparse\u001B[39m\u001B[34m(x)\u001B[39m\n\u001B[32m     10\u001B[39m \u001B[38;5;28;01mdef\u001B[39;00m\u001B[38;5;250m \u001B[39m\u001B[34missparse\u001B[39m(x):\n\u001B[32m     11\u001B[39m \u001B[38;5;250m    \u001B[39m\u001B[33;03m\"\"\"Is `x` of a sparse array or sparse matrix type?\u001B[39;00m\n\u001B[32m     12\u001B[39m \n\u001B[32m     13\u001B[39m \u001B[33;03m    Parameters\u001B[39;00m\n\u001B[32m   (...)\u001B[39m\u001B[32m     39\u001B[39m \u001B[33;03m    False\u001B[39;00m\n\u001B[32m     40\u001B[39m \u001B[33;03m    \"\"\"\u001B[39;00m\n\u001B[32m---> \u001B[39m\u001B[32m41\u001B[39m     \u001B[38;5;28;01mreturn\u001B[39;00m \u001B[38;5;28;43misinstance\u001B[39;49m\u001B[43m(\u001B[49m\u001B[43mx\u001B[49m\u001B[43m,\u001B[49m\u001B[43m \u001B[49m\u001B[43mSparseABC\u001B[49m\u001B[43m)\u001B[49m\n",
      "\u001B[36mFile \u001B[39m\u001B[32m<frozen abc>:119\u001B[39m, in \u001B[36m__instancecheck__\u001B[39m\u001B[34m(cls, instance)\u001B[39m\n",
      "\u001B[31mKeyboardInterrupt\u001B[39m: "
     ]
    }
   ],
   "execution_count": 312
  },
  {
   "metadata": {},
   "cell_type": "markdown",
   "source": [
    "# Saving and loading already trained Model\n",
    "\n",
    "Creating template / method for effective saving already trained model, so user don't have to wait for it to finish training before usage."
   ],
   "id": "5c53133e5ee29cbb"
  },
  {
   "metadata": {},
   "cell_type": "code",
   "outputs": [],
   "execution_count": null,
   "source": [
    "# Saving our PyTorch model\n",
    "from pathlib import Path\n",
    "\n",
    "# 1. Create models directory if it doesn't exist yet\n",
    "MODEL_PATH = Path(\"saved_models\")\n",
    "MODEL_PATH.mkdir(parents = True, exist_ok = True)\n",
    "\n",
    "# 2. Create model save path\n",
    "MODEL_NAME = \"nn_exoplanets0.pth\"\n",
    "MODEL_SAVE_PATH = MODEL_PATH / MODEL_NAME\n",
    "\n",
    "# 3. Save the model state dict\n",
    "print(f\"Saving model to: {MODEL_SAVE_PATH}\")\n",
    "torch.save(obj = model_0.state_dict(),\n",
    "           f = MODEL_SAVE_PATH)"
   ],
   "id": "a9f508ec6a546e4e"
  },
  {
   "metadata": {},
   "cell_type": "code",
   "outputs": [],
   "execution_count": null,
   "source": "!ls -l saved_models",
   "id": "5508513b18570728"
  },
  {
   "metadata": {},
   "cell_type": "markdown",
   "source": [
    "### Loading Trained model\n",
    "\n"
   ],
   "id": "c74cfad5e123e94a"
  },
  {
   "metadata": {},
   "cell_type": "code",
   "outputs": [],
   "execution_count": null,
   "source": [
    "# To load in a saved state_dict we have to instantiate a new instace of our model class\n",
    "loaded_model_0 = ExoplanetsV0(input_features = 7, output_features = 1, hidden_units = 64)\n",
    "\n",
    "#Load the saved state_dict of model_0 (update the new instance with old parameters\n",
    "loaded_model_0.load_state_dict(torch.load(f = MODEL_SAVE_PATH))"
   ],
   "id": "d4f6858356130b09"
  },
  {
   "metadata": {},
   "cell_type": "code",
   "outputs": [],
   "execution_count": null,
   "source": [
    "loaded_model_0.eval()\n",
    "with torch.inference_mode():\n",
    "    loaded_logits = loaded_model_0(X_test.to(device))\n",
    "    loaded_pred_probs = torch.sigmoid(loaded_logits)\n",
    "    loaded_preds = torch.round(loaded_pred_probs)\n",
    "\n",
    "loaded_preds"
   ],
   "id": "3a0f20f06c5d57b4"
  },
  {
   "metadata": {},
   "cell_type": "code",
   "outputs": [],
   "execution_count": null,
   "source": "loaded_preds == y_preds",
   "id": "cb0840a69fb108ff"
  },
  {
   "metadata": {},
   "cell_type": "code",
   "outputs": [],
   "execution_count": null,
   "source": "loaded_preds, y_preds",
   "id": "6035cd546ecbf34a"
  },
  {
   "metadata": {},
   "cell_type": "markdown",
   "source": "# Using already trained model to evaluate new input data",
   "id": "ce84505fb5a23103"
  },
  {
   "metadata": {},
   "cell_type": "code",
   "outputs": [],
   "execution_count": null,
   "source": "loaded_model_0.eval()",
   "id": "fc056a3c0e403e51"
  },
  {
   "metadata": {},
   "cell_type": "code",
   "outputs": [],
   "execution_count": null,
   "source": [
    "### Tu znajduje sie jakieś wczytywanie inputu użytkownika\n",
    "input = np.loadtxt(\"datasets/merged/X_test_imputed_scaled.csv\", delimiter=\",\", skiprows=1) # X_test from merged dataset\n",
    "input = np.delete(input, 0, axis=1)\n",
    "\n",
    "input= torch.from_numpy(input).type(torch.float32).squeeze()"
   ],
   "id": "1c26696519de54c5"
  },
  {
   "metadata": {},
   "cell_type": "code",
   "outputs": [],
   "execution_count": null,
   "source": [
    "import pandas as pd\n",
    "with torch.no_grad():\n",
    "    logits = loaded_model_0(input)\n",
    "    probabilities = torch.sigmoid(logits).squeeze()   # wartości 0–1\n",
    "    predictions = (probabilities > 0.5).int()         # 1 = planeta, 0 = nie\n",
    "\n",
    "# ======================\n",
    "# Zapis wyników do CSV\n",
    "# ======================\n",
    "results = pd.DataFrame({\n",
    "    \"probability\": probabilities.cpu().numpy(),\n",
    "    \"prediction\": predictions.cpu().numpy()\n",
    "})\n",
    "\n",
    "output_path = \"predictions.csv\"\n",
    "results.to_csv(output_path, index=False)\n",
    "\n",
    "print(f\"✅ Zapisano wyniki do pliku: {output_path}\")\n",
    "print(results.head())\n"
   ],
   "id": "a11c247e0649ce1f"
  },
  {
   "metadata": {},
   "cell_type": "markdown",
   "source": "# Looking for mistakes",
   "id": "69c797dcaa8b7c63"
  },
  {
   "metadata": {},
   "cell_type": "markdown",
   "source": "### Balance between classes",
   "id": "7d2caf9b1cbf792a"
  },
  {
   "metadata": {},
   "cell_type": "markdown",
   "source": [
    "#### Fix 1. Using wage in loss_fn\n",
    "\n",
    "Using wage in BCEWithLogitsLoss()"
   ],
   "id": "57545eca74e3474e"
  },
  {
   "metadata": {},
   "cell_type": "markdown",
   "source": "#### Fix 2. Using fake data to check if model is learning anything",
   "id": "c2a4814411c3af1d"
  },
  {
   "metadata": {},
   "cell_type": "code",
   "outputs": [],
   "execution_count": null,
   "source": [
    "import numpy as np\n",
    "import torch\n",
    "from sklearn.datasets import make_classification\n",
    "\n",
    "# Stwórz sztuczne dane które NA PEWNO są przewidywalne\n",
    "X_easy, y_easy = make_classification(\n",
    "    n_samples=2000,\n",
    "    n_features=10,\n",
    "    n_informative=8,  # 8 użytecznych features\n",
    "    n_redundant=2,  # 2 zbędne features\n",
    "    n_clusters_per_class=1,\n",
    "    random_state=42\n",
    ")\n",
    "\n",
    "# Konwersja do tensorów\n",
    "X_easy_tensor = torch.from_numpy(X_easy).float()\n",
    "y_easy_tensor = torch.from_numpy(y_easy).float()\n",
    "\n",
    "print(f\"Easy data - X: {X_easy_tensor.shape}, y: {y_easy_tensor.shape}\")\n",
    "print(f\"Class balance: {y_easy.mean():.3f} positive\")"
   ],
   "id": "ed6078dd9b444c60"
  },
  {
   "metadata": {},
   "cell_type": "code",
   "outputs": [],
   "execution_count": null,
   "source": [
    "# Test on easy data\n",
    "def test_your_model():\n",
    "    # Generate easy data (18 features like in  original data)\n",
    "    X_easy, y_easy = make_classification(\n",
    "        n_samples=2000,\n",
    "        n_features=18,  # SAME AS IN DATA\n",
    "        n_informative=16,  # Most features are useful\n",
    "        n_redundant=2,\n",
    "        n_clusters_per_class=1,\n",
    "        random_state=42,\n",
    "        flip_y=0.01  # Only 1% noise\n",
    "    )\n",
    "\n",
    "    # Convert to tensors -\n",
    "    X_easy_tensor = torch.from_numpy(X_easy).float()\n",
    "    y_easy_tensor = torch.from_numpy(y_easy).float()\n",
    "\n",
    "    # Train/test split\n",
    "    split_idx = int(0.8 * len(X_easy_tensor))\n",
    "    X_train = X_easy_tensor[:split_idx]\n",
    "    X_test = X_easy_tensor[split_idx:]\n",
    "    y_train = y_easy_tensor[:split_idx]\n",
    "    y_test = y_easy_tensor[split_idx:]\n",
    "\n",
    "    # USE EXACT MODEL\n",
    "    model = ExoplanetsV0(input_features=18, output_features=1, hidden_units=128)\n",
    "\n",
    "    # USED HYPERPARAMETERS (you can also test different ones)\n",
    "    optimizer = torch.optim.SGD(params=model.parameters(), lr=0.01)  # optimizer\n",
    "    loss_fn = nn.BCEWithLogitsLoss()  # loss function\n",
    "\n",
    "    print(\"=== TESTING YOUR MODEL ON EASY DATA ===\")\n",
    "    print(f\"Model: {model}\")\n",
    "    print(f\"Optimizer: SGD lr=0.01\")\n",
    "    print(f\"Data: {X_train.shape} -> {y_train.shape}\")\n",
    "\n",
    "    # Training\n",
    "    for epoch in range(100):\n",
    "        model.train()\n",
    "        optimizer.zero_grad()\n",
    "\n",
    "        # Forward pass\n",
    "        y_logits = model(X_train).squeeze()\n",
    "\n",
    "        # prediction logic\n",
    "        y_pred = torch.round(torch.sigmoid(y_logits))\n",
    "\n",
    "        # Loss\n",
    "        loss = loss_fn(y_logits, y_train)  # BCEWithLogitsLoss with logits\n",
    "        acc = (y_pred == y_train).float().mean()\n",
    "\n",
    "        # Backward\n",
    "        loss.backward()\n",
    "        optimizer.step()\n",
    "\n",
    "        # Test every 20 epochs\n",
    "        if epoch % 20 == 0:\n",
    "            model.eval()\n",
    "            with torch.no_grad():\n",
    "                test_logits = model(X_test).squeeze()\n",
    "                test_pred = torch.round(torch.sigmoid(test_logits))\n",
    "                test_loss = loss_fn(test_logits, y_test)\n",
    "                test_acc = (test_pred == y_test).float().mean()\n",
    "\n",
    "            print(\n",
    "                f\"Epoch {epoch:3d} | Train Loss: {loss:.4f}, Acc: {acc:.4f} | Test Loss: {test_loss:.4f}, Acc: {test_acc:.4f}\")\n",
    "\n",
    "    final_test_acc = (test_pred == y_test).float().mean()\n",
    "    print(f\"\\n FINAL TEST ACCURACY: {final_test_acc:.4f}\")\n",
    "\n",
    "    if final_test_acc > 0.85:\n",
    "        print(\"MODEL WORKS CORRECTLY - problem is in KEPLER DATA\")\n",
    "        return True\n",
    "    elif final_test_acc > 0.6:\n",
    "        print(\"MODEL WORKS POORLY - possible architecture problem\")\n",
    "        return False\n",
    "    else:\n",
    "        print(\"MODEL DOESN'T WORK - problem in IMPLEMENTATION\")\n",
    "        return False\n",
    "\n",
    "\n",
    "# Run test\n",
    "print(\"Testing YOUR exact model on easy data...\")\n",
    "model_works = test_your_model()"
   ],
   "id": "c4f45b78d9bc8afe"
  },
  {
   "metadata": {},
   "cell_type": "markdown",
   "source": [
    "### Conclusion\n",
    "\n",
    "Problem in `Sigmoid()` in `nn.Sequential`. Sigmoid should be used to round when we want to convert logits > probs > labels, it was affecting final answer when used in wrong place.\n",
    "\n",
    "Model can achieve ~60% accuracy on Dataset, let's try wages now, with working implementation. -> Model achieves over 90% accuracy."
   ],
   "id": "708ab0fece293a6b"
  },
  {
   "metadata": {},
   "cell_type": "markdown",
   "source": [
    "### Observations\n",
    "\n",
    "* When applied change and increased number of hidden layers\n",
    "    * `Linear>ReLU>Linear>ReLU>Linear>` -> `Linear>ReLU>Linear>ReLU>Linear>ReLU>Linear` accuracy dropped to 60,5% and model wasn't learning"
   ],
   "id": "701f645477cb58c6"
  }
 ],
 "metadata": {
  "kernelspec": {
   "display_name": "Python 3",
   "language": "python",
   "name": "python3"
  },
  "language_info": {
   "codemirror_mode": {
    "name": "ipython",
    "version": 2
   },
   "file_extension": ".py",
   "mimetype": "text/x-python",
   "name": "python",
   "nbconvert_exporter": "python",
   "pygments_lexer": "ipython2",
   "version": "2.7.6"
  }
 },
 "nbformat": 4,
 "nbformat_minor": 5
}
