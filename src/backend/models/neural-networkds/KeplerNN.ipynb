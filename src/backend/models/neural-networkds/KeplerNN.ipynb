{
 "cells": [
  {
   "metadata": {},
   "cell_type": "markdown",
   "source": "# Binary classification Model",
   "id": "a172b521a7422fcd"
  },
  {
   "metadata": {},
   "cell_type": "markdown",
   "source": "### train / test split",
   "id": "fff7c304f0f7ae4f"
  },
  {
   "metadata": {
    "ExecuteTime": {
     "end_time": "2025-10-04T20:22:06.293597Z",
     "start_time": "2025-10-04T20:22:06.239947Z"
    }
   },
   "cell_type": "code",
   "source": [
    "import numpy as np\n",
    "import torch\n",
    "from sympy import false\n",
    "\n",
    "X_train = np.loadtxt(\"../../datasets/merged/X_train_imputed_scaled.csv\", delimiter=\",\", skiprows=1)\n",
    "X_test = np.loadtxt(\"../../datasets/merged/X_test_imputed_scaled.csv\", delimiter=\",\", skiprows=1)\n",
    "y_train = np.loadtxt(\"../../datasets/merged/y_train.csv\", delimiter=\",\", skiprows=1)\n",
    "y_test = np.loadtxt(\"../../datasets/merged/y_test.csv\", delimiter=\",\", skiprows=1)\n",
    "\n",
    "X_train = np.delete(X_train, 0, axis=1)\n",
    "X_test = np.delete(X_test, 0, axis=1)\n",
    "y_train = np.delete(y_train, 0, axis=1)\n",
    "y_test = np.delete(y_test, 0, axis=1)\n",
    "\n",
    "X_train = torch.from_numpy(X_train).type(torch.float32).squeeze()\n",
    "X_test = torch.from_numpy(X_test).type(torch.float32).squeeze()\n",
    "y_train = torch.from_numpy(y_train).type(torch.float32).squeeze()\n",
    "y_test = torch.from_numpy(y_test).type(torch.float32).squeeze()\n"
   ],
   "id": "89bf22be8d21d90e",
   "outputs": [],
   "execution_count": 264
  },
  {
   "metadata": {
    "ExecuteTime": {
     "end_time": "2025-10-04T20:22:06.318914Z",
     "start_time": "2025-10-04T20:22:06.309704Z"
    }
   },
   "cell_type": "code",
   "source": "X_train.shape, X_test.shape, y_train.shape, y_test.shape",
   "id": "677f84d7cd518c32",
   "outputs": [
    {
     "data": {
      "text/plain": [
       "(torch.Size([10018, 7]),\n",
       " torch.Size([2648, 7]),\n",
       " torch.Size([10018]),\n",
       " torch.Size([2648]))"
      ]
     },
     "execution_count": 265,
     "metadata": {},
     "output_type": "execute_result"
    }
   ],
   "execution_count": 265
  },
  {
   "metadata": {
    "ExecuteTime": {
     "end_time": "2025-10-04T20:22:06.422084Z",
     "start_time": "2025-10-04T20:22:06.411048Z"
    }
   },
   "cell_type": "code",
   "source": "type(X_train), X_train.dtype",
   "id": "1cd2f947732f570e",
   "outputs": [
    {
     "data": {
      "text/plain": [
       "(torch.Tensor, torch.float32)"
      ]
     },
     "execution_count": 266,
     "metadata": {},
     "output_type": "execute_result"
    }
   ],
   "execution_count": 266
  },
  {
   "metadata": {
    "ExecuteTime": {
     "end_time": "2025-10-04T20:22:06.570007Z",
     "start_time": "2025-10-04T20:22:06.562140Z"
    }
   },
   "cell_type": "code",
   "source": "type(y_train), y_train.dtype",
   "id": "df8e308590f5c192",
   "outputs": [
    {
     "data": {
      "text/plain": [
       "(torch.Tensor, torch.float32)"
      ]
     },
     "execution_count": 267,
     "metadata": {},
     "output_type": "execute_result"
    }
   ],
   "execution_count": 267
  },
  {
   "metadata": {
    "ExecuteTime": {
     "end_time": "2025-10-04T20:22:06.665473Z",
     "start_time": "2025-10-04T20:22:06.657756Z"
    }
   },
   "cell_type": "code",
   "source": [
    "import torch\n",
    "from torch import nn\n",
    "\n",
    "device = \"cuda\" if torch.cuda.is_available() else \"cpu\"\n",
    "device"
   ],
   "id": "9a342744ab6f6f44",
   "outputs": [
    {
     "data": {
      "text/plain": [
       "'cuda'"
      ]
     },
     "execution_count": 268,
     "metadata": {},
     "output_type": "execute_result"
    }
   ],
   "execution_count": 268
  },
  {
   "metadata": {
    "ExecuteTime": {
     "end_time": "2025-10-04T20:22:06.763853Z",
     "start_time": "2025-10-04T20:22:06.757399Z"
    }
   },
   "cell_type": "code",
   "source": "torch.cuda.is_available()",
   "id": "854dc170735aa4d3",
   "outputs": [
    {
     "data": {
      "text/plain": [
       "True"
      ]
     },
     "execution_count": 269,
     "metadata": {},
     "output_type": "execute_result"
    }
   ],
   "execution_count": 269
  },
  {
   "metadata": {},
   "cell_type": "markdown",
   "source": "### Construct Model Class",
   "id": "14f593228de0660b"
  },
  {
   "metadata": {
    "ExecuteTime": {
     "end_time": "2025-10-04T20:22:06.882874Z",
     "start_time": "2025-10-04T20:22:06.860287Z"
    }
   },
   "cell_type": "code",
   "source": [
    "class ExoplanetsV0(nn.Module):\n",
    "    def __init__(self, input_features, output_features, hidden_units=8):\n",
    "        super().__init__()\n",
    "        self.layers = nn.Sequential(\n",
    "            nn.Linear(in_features=input_features, out_features=hidden_units),\n",
    "            nn.ReLU(),\n",
    "            nn.Linear(in_features=hidden_units, out_features=int(hidden_units/2)),\n",
    "            nn.ReLU(),\n",
    "            nn.Linear(in_features=int(hidden_units/2), out_features=int(hidden_units / 4)),\n",
    "            nn.ReLU(),\n",
    "            nn.Linear(in_features=int(hidden_units/4), out_features=output_features),\n",
    "            #nn.Sigmoid()\n",
    "        )\n",
    "\n",
    "    def forward(self, x):\n",
    "        return self.layers(x)\n",
    "\n",
    "\n",
    "# Create an instance of model\n",
    "model_0 = ExoplanetsV0(input_features=X_test.shape[1], output_features=1, hidden_units=32).to(device)\n",
    "model_0"
   ],
   "id": "5ed98bc3cccbf72",
   "outputs": [
    {
     "data": {
      "text/plain": [
       "ExoplanetsV0(\n",
       "  (layers): Sequential(\n",
       "    (0): Linear(in_features=7, out_features=32, bias=True)\n",
       "    (1): ReLU()\n",
       "    (2): Linear(in_features=32, out_features=16, bias=True)\n",
       "    (3): ReLU()\n",
       "    (4): Linear(in_features=16, out_features=8, bias=True)\n",
       "    (5): ReLU()\n",
       "    (6): Linear(in_features=8, out_features=1, bias=True)\n",
       "  )\n",
       ")"
      ]
     },
     "execution_count": 270,
     "metadata": {},
     "output_type": "execute_result"
    }
   ],
   "execution_count": 270
  },
  {
   "metadata": {
    "ExecuteTime": {
     "end_time": "2025-10-04T20:22:06.965160Z",
     "start_time": "2025-10-04T20:22:06.957366Z"
    }
   },
   "cell_type": "code",
   "source": "X_train.shape, y_train.shape",
   "id": "35fe32a256cd2c59",
   "outputs": [
    {
     "data": {
      "text/plain": [
       "(torch.Size([10018, 7]), torch.Size([10018]))"
      ]
     },
     "execution_count": 271,
     "metadata": {},
     "output_type": "execute_result"
    }
   ],
   "execution_count": 271
  },
  {
   "metadata": {},
   "cell_type": "markdown",
   "source": "### Loss Function and Optimizer",
   "id": "1657c6dc4bad3ff1"
  },
  {
   "metadata": {
    "ExecuteTime": {
     "end_time": "2025-10-04T20:22:07.122247Z",
     "start_time": "2025-10-04T20:22:07.114328Z"
    }
   },
   "cell_type": "code",
   "source": [
    "# Create a loss function for binary classification\n",
    "eps = 0.00001\n",
    "### Tried to fix with wages-----------------------------------\n",
    "#weight_for_0 = len(y_test) + len(y_train) / (2 * ((y_test < eps).sum() + (y_train < eps).sum()))\n",
    "#weight_for_1 = len(y_test) + len(y_train) / (2 * ((y_test - 1 < eps).sum() + (y_train - 1 < eps).sum()))\n",
    "\n",
    "#pos_weight = torch.tensor([weight_for_1 / weight_for_0]).to(device)  # dla klasy 1\n",
    "loss_fn = nn.BCEWithLogitsLoss()\n",
    "###----------------------------------------------------------\n",
    "\n",
    "# Create an optimizer for binary classification\n",
    "optimizer = torch.optim.SGD(params=model_0.parameters(), lr=0.01)"
   ],
   "id": "99e98839f7ab94fc",
   "outputs": [],
   "execution_count": 272
  },
  {
   "metadata": {
    "ExecuteTime": {
     "end_time": "2025-10-04T20:22:07.176633Z",
     "start_time": "2025-10-04T20:22:07.172228Z"
    }
   },
   "cell_type": "code",
   "source": [
    "# Calculate accuracy\n",
    "def accuracy_fn(y_true, y_pred):\n",
    "    correct = torch.eq(y_true, y_pred).sum().item()\n",
    "    acc = (correct / len(y_pred)) * 100\n",
    "    return acc"
   ],
   "id": "a2d85fd564ace5f0",
   "outputs": [],
   "execution_count": 273
  },
  {
   "metadata": {},
   "cell_type": "markdown",
   "source": [
    "# Train Model\n",
    "\n",
    "Model outputs are raw **Logits**\n",
    "\n",
    "We are converting logits into prediction probabilities by passing them to some kind of activation function (int this case `nn.Sigmoid()`) Then we can convert our model's prediction probabilities to **prediction labels** by taking the `argmaX_scaled()`"
   ],
   "id": "e301c477ca0f0a61"
  },
  {
   "metadata": {
    "ExecuteTime": {
     "end_time": "2025-10-04T20:22:07.236626Z",
     "start_time": "2025-10-04T20:22:07.227744Z"
    }
   },
   "cell_type": "code",
   "source": [
    "model_0.eval()\n",
    "with torch.inference_mode():\n",
    "    y_logits = model_0(X_test.to(device))\n",
    "y_logits[:5]"
   ],
   "id": "c380728250276c3c",
   "outputs": [
    {
     "data": {
      "text/plain": [
       "tensor([[-0.2521],\n",
       "        [-0.2347],\n",
       "        [-0.2383],\n",
       "        [-0.2401],\n",
       "        [-0.2489]], device='cuda:0')"
      ]
     },
     "execution_count": 274,
     "metadata": {},
     "output_type": "execute_result"
    }
   ],
   "execution_count": 274
  },
  {
   "metadata": {
    "ExecuteTime": {
     "end_time": "2025-10-04T20:22:07.295161Z",
     "start_time": "2025-10-04T20:22:07.287185Z"
    }
   },
   "cell_type": "code",
   "source": [
    "y_pred_probs = torch.sigmoid(y_logits)\n",
    "y_pred_probs"
   ],
   "id": "450f597e1dda2700",
   "outputs": [
    {
     "data": {
      "text/plain": [
       "tensor([[0.4373],\n",
       "        [0.4416],\n",
       "        [0.4407],\n",
       "        ...,\n",
       "        [0.4426],\n",
       "        [0.4375],\n",
       "        [0.4413]], device='cuda:0')"
      ]
     },
     "execution_count": 275,
     "metadata": {},
     "output_type": "execute_result"
    }
   ],
   "execution_count": 275
  },
  {
   "metadata": {
    "ExecuteTime": {
     "end_time": "2025-10-04T20:22:07.404262Z",
     "start_time": "2025-10-04T20:22:07.394407Z"
    }
   },
   "cell_type": "code",
   "source": "torch.round(y_pred_probs)",
   "id": "3f71f8cf3a280115",
   "outputs": [
    {
     "data": {
      "text/plain": [
       "tensor([[0.],\n",
       "        [0.],\n",
       "        [0.],\n",
       "        ...,\n",
       "        [0.],\n",
       "        [0.],\n",
       "        [0.]], device='cuda:0')"
      ]
     },
     "execution_count": 276,
     "metadata": {},
     "output_type": "execute_result"
    }
   ],
   "execution_count": 276
  },
  {
   "metadata": {
    "ExecuteTime": {
     "end_time": "2025-10-04T20:22:07.520410Z",
     "start_time": "2025-10-04T20:22:07.507737Z"
    }
   },
   "cell_type": "code",
   "source": [
    "# find predicted labels\n",
    "y_preds = torch.round(y_pred_probs)\n",
    "\n",
    "# in full\n",
    "y_pred_labels = torch.round(torch.sigmoid(model_0(X_test.to(device))))\n",
    "\n",
    "# check for equality\n",
    "print(torch.eq(y_preds.squeeze(), y_pred_labels.squeeze()))\n",
    "\n",
    "# get rid of extra dimension\n",
    "y_preds.squeeze()"
   ],
   "id": "e2c45848b8c7d28a",
   "outputs": [
    {
     "name": "stdout",
     "output_type": "stream",
     "text": [
      "tensor([True, True, True,  ..., True, True, True], device='cuda:0')\n"
     ]
    },
    {
     "data": {
      "text/plain": [
       "tensor([0., 0., 0.,  ..., 0., 0., 0.], device='cuda:0')"
      ]
     },
     "execution_count": 277,
     "metadata": {},
     "output_type": "execute_result"
    }
   ],
   "execution_count": 277
  },
  {
   "metadata": {
    "ExecuteTime": {
     "end_time": "2025-10-04T20:22:07.612220Z",
     "start_time": "2025-10-04T20:22:07.602742Z"
    }
   },
   "cell_type": "code",
   "source": "y_test[:5]",
   "id": "3169810aa63ef0",
   "outputs": [
    {
     "data": {
      "text/plain": [
       "tensor([1., 1., 0., 1., 1.])"
      ]
     },
     "execution_count": 278,
     "metadata": {},
     "output_type": "execute_result"
    }
   ],
   "execution_count": 278
  },
  {
   "metadata": {},
   "cell_type": "markdown",
   "source": "# Tracking Accuracy",
   "id": "71b519a3afbd2260"
  },
  {
   "metadata": {
    "ExecuteTime": {
     "end_time": "2025-10-04T20:22:07.734149Z",
     "start_time": "2025-10-04T20:22:07.715303Z"
    }
   },
   "cell_type": "code",
   "source": [
    "import matplotlib.pyplot as plt\n",
    "\n",
    "def makePlots(track_accuracy, track_loss, track_f1, track_precision, track_recall, track_auc,\n",
    "              track_test_accuracy, track_test_loss, track_test_f1, track_test_precision,\n",
    "              track_test_recall, track_test_auc):\n",
    "    epoch_range = range(1, epochs + 1)\n",
    "\n",
    "    plt.figure(figsize=(18, 12))\n",
    "\n",
    "    # Accuracy\n",
    "    plt.subplot(3, 2, 1)\n",
    "    plt.plot(epoch_range, track_accuracy, label='Train Accuracy')\n",
    "    plt.plot(epoch_range, track_test_accuracy, label='Test Accuracy')\n",
    "    plt.title('Model Accuracy')\n",
    "    plt.xlabel('Epoch')\n",
    "    plt.ylabel('Accuracy (%)')\n",
    "    plt.legend()\n",
    "    plt.grid(True)\n",
    "\n",
    "    # Loss\n",
    "    plt.subplot(3, 2, 2)\n",
    "    plt.plot(epoch_range, track_loss, label='Train Loss')\n",
    "    plt.plot(epoch_range, track_test_loss, label='Test Loss')\n",
    "    plt.title('Model Loss')\n",
    "    plt.xlabel('Epoch')\n",
    "    plt.ylabel('Loss')\n",
    "    plt.legend()\n",
    "    plt.grid(True)\n",
    "\n",
    "    # F1 Score\n",
    "    plt.subplot(3, 2, 3)\n",
    "    plt.plot(epoch_range, track_f1, label='Train F1')\n",
    "    plt.plot(epoch_range, track_test_f1, label='Test F1')\n",
    "    plt.title('F1 Score')\n",
    "    plt.xlabel('Epoch')\n",
    "    plt.ylabel('F1 Score')\n",
    "    plt.legend()\n",
    "    plt.grid(True)\n",
    "\n",
    "    # Precision\n",
    "    plt.subplot(3, 2, 4)\n",
    "    plt.plot(epoch_range, track_precision, label='Train Precision')\n",
    "    plt.plot(epoch_range, track_test_precision, label='Test Precision')\n",
    "    plt.title('Precision')\n",
    "    plt.xlabel('Epoch')\n",
    "    plt.ylabel('Precision')\n",
    "    plt.legend()\n",
    "    plt.grid(True)\n",
    "\n",
    "    # Recall\n",
    "    plt.subplot(3, 2, 5)\n",
    "    plt.plot(epoch_range, track_recall, label='Train Recall')\n",
    "    plt.plot(epoch_range, track_test_recall, label='Test Recall')\n",
    "    plt.title('Recall')\n",
    "    plt.xlabel('Epoch')\n",
    "    plt.ylabel('Recall')\n",
    "    plt.legend()\n",
    "    plt.grid(True)\n",
    "\n",
    "    # AUC\n",
    "    plt.subplot(3, 2, 6)\n",
    "    plt.plot(epoch_range, track_auc, label='Train AUC')\n",
    "    plt.plot(epoch_range, track_test_auc, label='Test AUC')\n",
    "    plt.title('AUC')\n",
    "    plt.xlabel('Epoch')\n",
    "    plt.ylabel('AUC')\n",
    "    plt.legend()\n",
    "    plt.grid(True)\n",
    "\n",
    "    plt.tight_layout()\n",
    "    plt.savefig('training_metrics.png', dpi=300)  # Zapisuje wykres w wysokiej jakości\n",
    "    plt.show()\n"
   ],
   "id": "b72b9d8974a6f429",
   "outputs": [],
   "execution_count": 279
  },
  {
   "metadata": {},
   "cell_type": "markdown",
   "source": "### Building a training loop and testing loop",
   "id": "fd7c07fe99a81dbf"
  },
  {
   "metadata": {
    "ExecuteTime": {
     "end_time": "2025-10-04T20:22:07.762303Z",
     "start_time": "2025-10-04T20:22:07.748052Z"
    }
   },
   "cell_type": "code",
   "source": [
    "from sklearn.metrics import precision_score, recall_score, f1_score, roc_auc_score\n",
    "epochs = 2000\n",
    "\n",
    "def trainModel(model, X_train, y_train, X_test, y_test, isCrossValidation=False):\n",
    "\n",
    "    torch.manual_seed(42)\n",
    "    torch.cuda.manual_seed(42)\n",
    "\n",
    "    # Set the number of epochs\n",
    "\n",
    "    # Tracking loss and accuracy\n",
    "    track_accuracy = []\n",
    "    track_loss = []\n",
    "    track_f1 = []\n",
    "    track_precision = []\n",
    "    track_recall = []\n",
    "    track_auc = []\n",
    "\n",
    "    track_test_f1 = []\n",
    "    track_test_precision = []\n",
    "    track_test_recall = []\n",
    "    track_test_auc = []\n",
    "    track_test_accuracy = []\n",
    "    track_test_loss = []\n",
    "\n",
    "\n",
    "    # Put data to target device\n",
    "    X_train, y_train = X_train.to(device), y_train.to(device)\n",
    "    X_test, y_test = X_test.to(device), y_test.to(device)\n",
    "\n",
    "    for epoch in range(epochs):\n",
    "        ### Training\n",
    "        model.train()\n",
    "\n",
    "        # 1. Forward pass\n",
    "        y_logits = model(X_train).squeeze()\n",
    "        y_probs = torch.sigmoid(y_logits)\n",
    "        y_pred = torch.round(y_probs)  # turn logits into pred probs and into pred labels\n",
    "\n",
    "        # 2. Calculate the loss / cost\n",
    "        loss = loss_fn(y_logits, y_train)\n",
    "        track_loss.append(loss.item())\n",
    "\n",
    "        acc = accuracy_fn(y_true=y_train.detach(), y_pred=y_pred.detach())\n",
    "        precision = precision_score(y_true=y_train.detach().cpu(), y_pred=y_pred.detach().cpu(), zero_division=0) * 100\n",
    "        recall = recall_score(y_true=y_train.detach().cpu(), y_pred=y_pred.detach().cpu(), zero_division=0) * 100\n",
    "        f1 = f1_score(y_true=y_train.detach().cpu(), y_pred=y_pred.detach().cpu(), zero_division=0) * 100\n",
    "        auc = roc_auc_score(y_true=y_train.detach().cpu(), y_score=y_probs.detach().cpu())\n",
    "\n",
    "        track_accuracy.append(acc)\n",
    "        track_precision.append(precision)\n",
    "        track_recall.append(recall)\n",
    "        track_f1.append(f1)\n",
    "        track_auc.append(auc)\n",
    "\n",
    "        # 3. Optimizer zero grad\n",
    "        optimizer.zero_grad()\n",
    "\n",
    "        # 4. Backpropagation algorithm\n",
    "        loss.backward()\n",
    "\n",
    "        # 5. Gradient descent algorithm\n",
    "        optimizer.step()\n",
    "\n",
    "        ### Testing\n",
    "        model.eval()\n",
    "        with torch.inference_mode():\n",
    "            # 1. Forward pass\n",
    "            test_logits = model(X_test).squeeze()       # logits\n",
    "            test_probs = torch.sigmoid(test_logits)     # Probability\n",
    "            test_pred = torch.round(test_probs)         # 1 or 0\n",
    "\n",
    "            # 2. Calculate test loss/acc\n",
    "\n",
    "            test_loss = loss_fn(test_logits, y_test)\n",
    "            track_test_loss.append(test_loss.item())\n",
    "\n",
    "            test_acc = accuracy_fn(y_true=y_test.cpu(), y_pred=test_pred.cpu())\n",
    "            test_precision = precision_score(y_true=y_test.cpu(), y_pred=test_pred.cpu(), zero_division=0) * 100\n",
    "            test_recall = recall_score(y_true=y_test.cpu(), y_pred=test_pred.cpu(), zero_division=0) * 100\n",
    "            test_f1 = f1_score(y_true=y_test.cpu(), y_pred=test_pred.cpu(), zero_division=0) * 100\n",
    "            test_auc = roc_auc_score(y_true=y_test.cpu(), y_score=test_probs.cpu())\n",
    "            track_test_auc.append(test_auc)\n",
    "\n",
    "            track_test_accuracy.append(test_acc)\n",
    "            track_test_precision.append(test_precision)\n",
    "            track_test_recall.append(test_recall)\n",
    "            track_test_f1.append(test_f1)\n",
    "\n",
    "        # Print out what's happenin'\n",
    "        if isCrossValidation and (epoch % 500 == 0 or epoch == 4999):\n",
    "            print(\n",
    "                f\"Epoch {epoch} \\n\"\n",
    "                f\" loss: {loss:.5f} | accuracy: {acc:.2f}% | Precision: {precision:.2f}% | Recall: {recall:.2f}% | f1: {f1:.2f}% | auc: {auc:.2f} \\n\"\n",
    "                f\"Test loss: {test_loss:.5f} | Test accuracy: {test_acc:.2f}% | Test precision: {test_precision:.2f}% | Test recall: {test_recall:.2f}% | Test f1: {test_f1:.2f}% | Test auc: {test_auc:.2f} \\n\")\n",
    "\n",
    "    if not isCrossValidation:\n",
    "        makePlots(track_accuracy, track_loss, track_f1, track_precision, track_recall, track_auc,\n",
    "                  track_test_accuracy, track_test_loss, track_test_f1, track_test_precision,\n",
    "                  track_test_recall, track_test_auc)\n",
    "    return test_acc\n"
   ],
   "id": "819d7c9e7b4b916b",
   "outputs": [],
   "execution_count": 280
  },
  {
   "metadata": {},
   "cell_type": "markdown",
   "source": "# Cross-validation",
   "id": "b59d8ceee69a7089"
  },
  {
   "metadata": {
    "ExecuteTime": {
     "end_time": "2025-10-04T20:22:14.788627Z",
     "start_time": "2025-10-04T20:22:07.812033Z"
    }
   },
   "cell_type": "code",
   "source": [
    "from sklearn.model_selection import StratifiedKFold, train_test_split\n",
    "\n",
    "kfold = StratifiedKFold(n_splits=5, shuffle=True)\n",
    "cv_scores = []\n",
    "for train, test in kfold.split(X_train, y_train):\n",
    "    # create model, train, and get accuracy\n",
    "    model_1 = ExoplanetsV0(input_features=X_test.shape[1], output_features=1, hidden_units=32).to(device)\n",
    "    acc = trainModel(model_1, X_train[train], y_train[train], X_train[test], y_train[test], True)\n",
    "    print(\"Accuracy: %.2f\" % acc)\n",
    "    cv_scores.append(acc)\n",
    "\n",
    "# evaluate the model\n",
    "wide_acc = np.mean(cv_scores)\n",
    "wide_std = np.std(cv_scores)\n",
    "print(\"Stats (cross validation): %.2f%% (+/- %.2f%%)\" % (wide_acc, wide_std))\n",
    "\n",
    "model_1 = ExoplanetsV0(input_features=X_test.shape[1], output_features=1, hidden_units=32).to(device)\n",
    "trainModel(model_1, X_train, y_train, X_test, y_test, false)"
   ],
   "id": "e491948f51dda802",
   "outputs": [
    {
     "name": "stdout",
     "output_type": "stream",
     "text": [
      "Epoch 0 \n",
      " loss: 0.70572 | accuracy: 51.46% | Precision: 0.00% | Recall: 0.00% | f1: 0.00% | auc: 0.42 \n",
      "Test loss: 0.70513 | Test accuracy: 51.50% | Test precision: 0.00% | Test recall: 0.00% | Test f1: 0.00% | Test auc: 0.41 \n",
      "\n"
     ]
    },
    {
     "ename": "KeyboardInterrupt",
     "evalue": "",
     "output_type": "error",
     "traceback": [
      "\u001B[31m---------------------------------------------------------------------------\u001B[39m",
      "\u001B[31mKeyboardInterrupt\u001B[39m                         Traceback (most recent call last)",
      "\u001B[36mCell\u001B[39m\u001B[36m \u001B[39m\u001B[32mIn[281]\u001B[39m\u001B[32m, line 8\u001B[39m\n\u001B[32m      5\u001B[39m \u001B[38;5;28;01mfor\u001B[39;00m train, test \u001B[38;5;129;01min\u001B[39;00m kfold.split(X_train, y_train):\n\u001B[32m      6\u001B[39m     \u001B[38;5;66;03m# create model, train, and get accuracy\u001B[39;00m\n\u001B[32m      7\u001B[39m     model_1 = ExoplanetsV0(input_features=X_test.shape[\u001B[32m1\u001B[39m], output_features=\u001B[32m1\u001B[39m, hidden_units=\u001B[32m32\u001B[39m).to(device)\n\u001B[32m----> \u001B[39m\u001B[32m8\u001B[39m     acc = \u001B[43mtrainModel\u001B[49m\u001B[43m(\u001B[49m\u001B[43mmodel_1\u001B[49m\u001B[43m,\u001B[49m\u001B[43m \u001B[49m\u001B[43mX_train\u001B[49m\u001B[43m[\u001B[49m\u001B[43mtrain\u001B[49m\u001B[43m]\u001B[49m\u001B[43m,\u001B[49m\u001B[43m \u001B[49m\u001B[43my_train\u001B[49m\u001B[43m[\u001B[49m\u001B[43mtrain\u001B[49m\u001B[43m]\u001B[49m\u001B[43m,\u001B[49m\u001B[43m \u001B[49m\u001B[43mX_train\u001B[49m\u001B[43m[\u001B[49m\u001B[43mtest\u001B[49m\u001B[43m]\u001B[49m\u001B[43m,\u001B[49m\u001B[43m \u001B[49m\u001B[43my_train\u001B[49m\u001B[43m[\u001B[49m\u001B[43mtest\u001B[49m\u001B[43m]\u001B[49m\u001B[43m,\u001B[49m\u001B[43m \u001B[49m\u001B[38;5;28;43;01mTrue\u001B[39;49;00m\u001B[43m)\u001B[49m\n\u001B[32m      9\u001B[39m     \u001B[38;5;28mprint\u001B[39m(\u001B[33m\"\u001B[39m\u001B[33mAccuracy: \u001B[39m\u001B[38;5;132;01m%.2f\u001B[39;00m\u001B[33m\"\u001B[39m % acc)\n\u001B[32m     10\u001B[39m     cv_scores.append(acc)\n",
      "\u001B[36mCell\u001B[39m\u001B[36m \u001B[39m\u001B[32mIn[280]\u001B[39m\u001B[32m, line 79\u001B[39m, in \u001B[36mtrainModel\u001B[39m\u001B[34m(model, X_train, y_train, X_test, y_test, isCrossValidation)\u001B[39m\n\u001B[32m     76\u001B[39m track_test_loss.append(test_loss.item())\n\u001B[32m     78\u001B[39m test_acc = accuracy_fn(y_true=y_test.cpu(), y_pred=test_pred.cpu())\n\u001B[32m---> \u001B[39m\u001B[32m79\u001B[39m test_precision = \u001B[43mprecision_score\u001B[49m\u001B[43m(\u001B[49m\u001B[43my_true\u001B[49m\u001B[43m=\u001B[49m\u001B[43my_test\u001B[49m\u001B[43m.\u001B[49m\u001B[43mcpu\u001B[49m\u001B[43m(\u001B[49m\u001B[43m)\u001B[49m\u001B[43m,\u001B[49m\u001B[43m \u001B[49m\u001B[43my_pred\u001B[49m\u001B[43m=\u001B[49m\u001B[43mtest_pred\u001B[49m\u001B[43m.\u001B[49m\u001B[43mcpu\u001B[49m\u001B[43m(\u001B[49m\u001B[43m)\u001B[49m\u001B[43m,\u001B[49m\u001B[43m \u001B[49m\u001B[43mzero_division\u001B[49m\u001B[43m=\u001B[49m\u001B[32;43m0\u001B[39;49m\u001B[43m)\u001B[49m * \u001B[32m100\u001B[39m\n\u001B[32m     80\u001B[39m test_recall = recall_score(y_true=y_test.cpu(), y_pred=test_pred.cpu(), zero_division=\u001B[32m0\u001B[39m) * \u001B[32m100\u001B[39m\n\u001B[32m     81\u001B[39m test_f1 = f1_score(y_true=y_test.cpu(), y_pred=test_pred.cpu(), zero_division=\u001B[32m0\u001B[39m) * \u001B[32m100\u001B[39m\n",
      "\u001B[36mFile \u001B[39m\u001B[32m~/PycharmProjects/SpaceAppsExoplanets/.venv/lib/python3.12/site-packages/sklearn/utils/_param_validation.py:218\u001B[39m, in \u001B[36mvalidate_params.<locals>.decorator.<locals>.wrapper\u001B[39m\u001B[34m(*args, **kwargs)\u001B[39m\n\u001B[32m    212\u001B[39m \u001B[38;5;28;01mtry\u001B[39;00m:\n\u001B[32m    213\u001B[39m     \u001B[38;5;28;01mwith\u001B[39;00m config_context(\n\u001B[32m    214\u001B[39m         skip_parameter_validation=(\n\u001B[32m    215\u001B[39m             prefer_skip_nested_validation \u001B[38;5;129;01mor\u001B[39;00m global_skip_validation\n\u001B[32m    216\u001B[39m         )\n\u001B[32m    217\u001B[39m     ):\n\u001B[32m--> \u001B[39m\u001B[32m218\u001B[39m         \u001B[38;5;28;01mreturn\u001B[39;00m \u001B[43mfunc\u001B[49m\u001B[43m(\u001B[49m\u001B[43m*\u001B[49m\u001B[43margs\u001B[49m\u001B[43m,\u001B[49m\u001B[43m \u001B[49m\u001B[43m*\u001B[49m\u001B[43m*\u001B[49m\u001B[43mkwargs\u001B[49m\u001B[43m)\u001B[49m\n\u001B[32m    219\u001B[39m \u001B[38;5;28;01mexcept\u001B[39;00m InvalidParameterError \u001B[38;5;28;01mas\u001B[39;00m e:\n\u001B[32m    220\u001B[39m     \u001B[38;5;66;03m# When the function is just a wrapper around an estimator, we allow\u001B[39;00m\n\u001B[32m    221\u001B[39m     \u001B[38;5;66;03m# the function to delegate validation to the estimator, but we replace\u001B[39;00m\n\u001B[32m    222\u001B[39m     \u001B[38;5;66;03m# the name of the estimator by the name of the function in the error\u001B[39;00m\n\u001B[32m    223\u001B[39m     \u001B[38;5;66;03m# message to avoid confusion.\u001B[39;00m\n\u001B[32m    224\u001B[39m     msg = re.sub(\n\u001B[32m    225\u001B[39m         \u001B[33mr\u001B[39m\u001B[33m\"\u001B[39m\u001B[33mparameter of \u001B[39m\u001B[33m\\\u001B[39m\u001B[33mw+ must be\u001B[39m\u001B[33m\"\u001B[39m,\n\u001B[32m    226\u001B[39m         \u001B[33mf\u001B[39m\u001B[33m\"\u001B[39m\u001B[33mparameter of \u001B[39m\u001B[38;5;132;01m{\u001B[39;00mfunc.\u001B[34m__qualname__\u001B[39m\u001B[38;5;132;01m}\u001B[39;00m\u001B[33m must be\u001B[39m\u001B[33m\"\u001B[39m,\n\u001B[32m    227\u001B[39m         \u001B[38;5;28mstr\u001B[39m(e),\n\u001B[32m    228\u001B[39m     )\n",
      "\u001B[36mFile \u001B[39m\u001B[32m~/PycharmProjects/SpaceAppsExoplanets/.venv/lib/python3.12/site-packages/sklearn/metrics/_classification.py:2524\u001B[39m, in \u001B[36mprecision_score\u001B[39m\u001B[34m(y_true, y_pred, labels, pos_label, average, sample_weight, zero_division)\u001B[39m\n\u001B[32m   2356\u001B[39m \u001B[38;5;129m@validate_params\u001B[39m(\n\u001B[32m   2357\u001B[39m     {\n\u001B[32m   2358\u001B[39m         \u001B[33m\"\u001B[39m\u001B[33my_true\u001B[39m\u001B[33m\"\u001B[39m: [\u001B[33m\"\u001B[39m\u001B[33marray-like\u001B[39m\u001B[33m\"\u001B[39m, \u001B[33m\"\u001B[39m\u001B[33msparse matrix\u001B[39m\u001B[33m\"\u001B[39m],\n\u001B[32m   (...)\u001B[39m\u001B[32m   2383\u001B[39m     zero_division=\u001B[33m\"\u001B[39m\u001B[33mwarn\u001B[39m\u001B[33m\"\u001B[39m,\n\u001B[32m   2384\u001B[39m ):\n\u001B[32m   2385\u001B[39m \u001B[38;5;250m    \u001B[39m\u001B[33;03m\"\"\"Compute the precision.\u001B[39;00m\n\u001B[32m   2386\u001B[39m \n\u001B[32m   2387\u001B[39m \u001B[33;03m    The precision is the ratio ``tp / (tp + fp)`` where ``tp`` is the number of\u001B[39;00m\n\u001B[32m   (...)\u001B[39m\u001B[32m   2522\u001B[39m \u001B[33;03m    array([0.5, 1. , 1. ])\u001B[39;00m\n\u001B[32m   2523\u001B[39m \u001B[33;03m    \"\"\"\u001B[39;00m\n\u001B[32m-> \u001B[39m\u001B[32m2524\u001B[39m     p, _, _, _ = \u001B[43mprecision_recall_fscore_support\u001B[49m\u001B[43m(\u001B[49m\n\u001B[32m   2525\u001B[39m \u001B[43m        \u001B[49m\u001B[43my_true\u001B[49m\u001B[43m,\u001B[49m\n\u001B[32m   2526\u001B[39m \u001B[43m        \u001B[49m\u001B[43my_pred\u001B[49m\u001B[43m,\u001B[49m\n\u001B[32m   2527\u001B[39m \u001B[43m        \u001B[49m\u001B[43mlabels\u001B[49m\u001B[43m=\u001B[49m\u001B[43mlabels\u001B[49m\u001B[43m,\u001B[49m\n\u001B[32m   2528\u001B[39m \u001B[43m        \u001B[49m\u001B[43mpos_label\u001B[49m\u001B[43m=\u001B[49m\u001B[43mpos_label\u001B[49m\u001B[43m,\u001B[49m\n\u001B[32m   2529\u001B[39m \u001B[43m        \u001B[49m\u001B[43maverage\u001B[49m\u001B[43m=\u001B[49m\u001B[43maverage\u001B[49m\u001B[43m,\u001B[49m\n\u001B[32m   2530\u001B[39m \u001B[43m        \u001B[49m\u001B[43mwarn_for\u001B[49m\u001B[43m=\u001B[49m\u001B[43m(\u001B[49m\u001B[33;43m\"\u001B[39;49m\u001B[33;43mprecision\u001B[39;49m\u001B[33;43m\"\u001B[39;49m\u001B[43m,\u001B[49m\u001B[43m)\u001B[49m\u001B[43m,\u001B[49m\n\u001B[32m   2531\u001B[39m \u001B[43m        \u001B[49m\u001B[43msample_weight\u001B[49m\u001B[43m=\u001B[49m\u001B[43msample_weight\u001B[49m\u001B[43m,\u001B[49m\n\u001B[32m   2532\u001B[39m \u001B[43m        \u001B[49m\u001B[43mzero_division\u001B[49m\u001B[43m=\u001B[49m\u001B[43mzero_division\u001B[49m\u001B[43m,\u001B[49m\n\u001B[32m   2533\u001B[39m \u001B[43m    \u001B[49m\u001B[43m)\u001B[49m\n\u001B[32m   2534\u001B[39m     \u001B[38;5;28;01mreturn\u001B[39;00m p\n",
      "\u001B[36mFile \u001B[39m\u001B[32m~/PycharmProjects/SpaceAppsExoplanets/.venv/lib/python3.12/site-packages/sklearn/utils/_param_validation.py:191\u001B[39m, in \u001B[36mvalidate_params.<locals>.decorator.<locals>.wrapper\u001B[39m\u001B[34m(*args, **kwargs)\u001B[39m\n\u001B[32m    189\u001B[39m global_skip_validation = get_config()[\u001B[33m\"\u001B[39m\u001B[33mskip_parameter_validation\u001B[39m\u001B[33m\"\u001B[39m]\n\u001B[32m    190\u001B[39m \u001B[38;5;28;01mif\u001B[39;00m global_skip_validation:\n\u001B[32m--> \u001B[39m\u001B[32m191\u001B[39m     \u001B[38;5;28;01mreturn\u001B[39;00m \u001B[43mfunc\u001B[49m\u001B[43m(\u001B[49m\u001B[43m*\u001B[49m\u001B[43margs\u001B[49m\u001B[43m,\u001B[49m\u001B[43m \u001B[49m\u001B[43m*\u001B[49m\u001B[43m*\u001B[49m\u001B[43mkwargs\u001B[49m\u001B[43m)\u001B[49m\n\u001B[32m    193\u001B[39m func_sig = signature(func)\n\u001B[32m    195\u001B[39m \u001B[38;5;66;03m# Map *args/**kwargs to the function signature\u001B[39;00m\n",
      "\u001B[36mFile \u001B[39m\u001B[32m~/PycharmProjects/SpaceAppsExoplanets/.venv/lib/python3.12/site-packages/sklearn/metrics/_classification.py:2000\u001B[39m, in \u001B[36mprecision_recall_fscore_support\u001B[39m\u001B[34m(y_true, y_pred, beta, labels, pos_label, average, warn_for, sample_weight, zero_division)\u001B[39m\n\u001B[32m   1998\u001B[39m \u001B[38;5;66;03m# Calculate tp_sum, pred_sum, true_sum ###\u001B[39;00m\n\u001B[32m   1999\u001B[39m samplewise = average == \u001B[33m\"\u001B[39m\u001B[33msamples\u001B[39m\u001B[33m\"\u001B[39m\n\u001B[32m-> \u001B[39m\u001B[32m2000\u001B[39m MCM = \u001B[43mmultilabel_confusion_matrix\u001B[49m\u001B[43m(\u001B[49m\n\u001B[32m   2001\u001B[39m \u001B[43m    \u001B[49m\u001B[43my_true\u001B[49m\u001B[43m,\u001B[49m\n\u001B[32m   2002\u001B[39m \u001B[43m    \u001B[49m\u001B[43my_pred\u001B[49m\u001B[43m,\u001B[49m\n\u001B[32m   2003\u001B[39m \u001B[43m    \u001B[49m\u001B[43msample_weight\u001B[49m\u001B[43m=\u001B[49m\u001B[43msample_weight\u001B[49m\u001B[43m,\u001B[49m\n\u001B[32m   2004\u001B[39m \u001B[43m    \u001B[49m\u001B[43mlabels\u001B[49m\u001B[43m=\u001B[49m\u001B[43mlabels\u001B[49m\u001B[43m,\u001B[49m\n\u001B[32m   2005\u001B[39m \u001B[43m    \u001B[49m\u001B[43msamplewise\u001B[49m\u001B[43m=\u001B[49m\u001B[43msamplewise\u001B[49m\u001B[43m,\u001B[49m\n\u001B[32m   2006\u001B[39m \u001B[43m\u001B[49m\u001B[43m)\u001B[49m\n\u001B[32m   2007\u001B[39m tp_sum = MCM[:, \u001B[32m1\u001B[39m, \u001B[32m1\u001B[39m]\n\u001B[32m   2008\u001B[39m pred_sum = tp_sum + MCM[:, \u001B[32m0\u001B[39m, \u001B[32m1\u001B[39m]\n",
      "\u001B[36mFile \u001B[39m\u001B[32m~/PycharmProjects/SpaceAppsExoplanets/.venv/lib/python3.12/site-packages/sklearn/utils/_param_validation.py:191\u001B[39m, in \u001B[36mvalidate_params.<locals>.decorator.<locals>.wrapper\u001B[39m\u001B[34m(*args, **kwargs)\u001B[39m\n\u001B[32m    189\u001B[39m global_skip_validation = get_config()[\u001B[33m\"\u001B[39m\u001B[33mskip_parameter_validation\u001B[39m\u001B[33m\"\u001B[39m]\n\u001B[32m    190\u001B[39m \u001B[38;5;28;01mif\u001B[39;00m global_skip_validation:\n\u001B[32m--> \u001B[39m\u001B[32m191\u001B[39m     \u001B[38;5;28;01mreturn\u001B[39;00m \u001B[43mfunc\u001B[49m\u001B[43m(\u001B[49m\u001B[43m*\u001B[49m\u001B[43margs\u001B[49m\u001B[43m,\u001B[49m\u001B[43m \u001B[49m\u001B[43m*\u001B[49m\u001B[43m*\u001B[49m\u001B[43mkwargs\u001B[49m\u001B[43m)\u001B[49m\n\u001B[32m    193\u001B[39m func_sig = signature(func)\n\u001B[32m    195\u001B[39m \u001B[38;5;66;03m# Map *args/**kwargs to the function signature\u001B[39;00m\n",
      "\u001B[36mFile \u001B[39m\u001B[32m~/PycharmProjects/SpaceAppsExoplanets/.venv/lib/python3.12/site-packages/sklearn/metrics/_classification.py:657\u001B[39m, in \u001B[36mmultilabel_confusion_matrix\u001B[39m\u001B[34m(y_true, y_pred, sample_weight, labels, samplewise)\u001B[39m\n\u001B[32m    559\u001B[39m \u001B[38;5;250m\u001B[39m\u001B[33;03m\"\"\"Compute a confusion matrix for each class or sample.\u001B[39;00m\n\u001B[32m    560\u001B[39m \n\u001B[32m    561\u001B[39m \u001B[33;03m.. versionadded:: 0.21\u001B[39;00m\n\u001B[32m   (...)\u001B[39m\u001B[32m    654\u001B[39m \u001B[33;03m        [1, 2]]])\u001B[39;00m\n\u001B[32m    655\u001B[39m \u001B[33;03m\"\"\"\u001B[39;00m\n\u001B[32m    656\u001B[39m y_true, y_pred = attach_unique(y_true, y_pred)\n\u001B[32m--> \u001B[39m\u001B[32m657\u001B[39m xp, _, device_ = \u001B[43mget_namespace_and_device\u001B[49m\u001B[43m(\u001B[49m\u001B[43my_true\u001B[49m\u001B[43m,\u001B[49m\u001B[43m \u001B[49m\u001B[43my_pred\u001B[49m\u001B[43m)\u001B[49m\n\u001B[32m    658\u001B[39m y_type, y_true, y_pred = _check_targets(y_true, y_pred)\n\u001B[32m    659\u001B[39m \u001B[38;5;28;01mif\u001B[39;00m sample_weight \u001B[38;5;129;01mis\u001B[39;00m \u001B[38;5;129;01mnot\u001B[39;00m \u001B[38;5;28;01mNone\u001B[39;00m:\n",
      "\u001B[36mFile \u001B[39m\u001B[32m~/PycharmProjects/SpaceAppsExoplanets/.venv/lib/python3.12/site-packages/sklearn/utils/_array_api.py:509\u001B[39m, in \u001B[36mget_namespace_and_device\u001B[39m\u001B[34m(remove_none, remove_types, xp, *array_list)\u001B[39m\n\u001B[32m    502\u001B[39m skip_remove_kwargs = \u001B[38;5;28mdict\u001B[39m(remove_none=\u001B[38;5;28;01mFalse\u001B[39;00m, remove_types=[])\n\u001B[32m    504\u001B[39m array_list = _remove_non_arrays(\n\u001B[32m    505\u001B[39m     *array_list,\n\u001B[32m    506\u001B[39m     remove_none=remove_none,\n\u001B[32m    507\u001B[39m     remove_types=remove_types,\n\u001B[32m    508\u001B[39m )\n\u001B[32m--> \u001B[39m\u001B[32m509\u001B[39m arrays_device = \u001B[43mdevice\u001B[49m\u001B[43m(\u001B[49m\u001B[43m*\u001B[49m\u001B[43marray_list\u001B[49m\u001B[43m,\u001B[49m\u001B[43m \u001B[49m\u001B[43m*\u001B[49m\u001B[43m*\u001B[49m\u001B[43mskip_remove_kwargs\u001B[49m\u001B[43m)\u001B[49m\n\u001B[32m    511\u001B[39m \u001B[38;5;28;01mif\u001B[39;00m xp \u001B[38;5;129;01mis\u001B[39;00m \u001B[38;5;28;01mNone\u001B[39;00m:\n\u001B[32m    512\u001B[39m     xp, is_array_api = get_namespace(*array_list, **skip_remove_kwargs)\n",
      "\u001B[36mFile \u001B[39m\u001B[32m~/PycharmProjects/SpaceAppsExoplanets/.venv/lib/python3.12/site-packages/sklearn/utils/_array_api.py:171\u001B[39m, in \u001B[36mdevice\u001B[39m\u001B[34m(remove_none, remove_types, *array_list)\u001B[39m\n\u001B[32m    167\u001B[39m     \u001B[38;5;28;01melse\u001B[39;00m:\n\u001B[32m    168\u001B[39m         \u001B[38;5;28;01mreturn\u001B[39;00m array.device\n\u001B[32m--> \u001B[39m\u001B[32m171\u001B[39m \u001B[38;5;28;01mdef\u001B[39;00m\u001B[38;5;250m \u001B[39m\u001B[34mdevice\u001B[39m(*array_list, remove_none=\u001B[38;5;28;01mTrue\u001B[39;00m, remove_types=(\u001B[38;5;28mstr\u001B[39m,)):\n\u001B[32m    172\u001B[39m \u001B[38;5;250m    \u001B[39m\u001B[33;03m\"\"\"Hardware device where the array data resides on.\u001B[39;00m\n\u001B[32m    173\u001B[39m \n\u001B[32m    174\u001B[39m \u001B[33;03m    If the hardware device is not the same for all arrays, an error is raised.\u001B[39;00m\n\u001B[32m   (...)\u001B[39m\u001B[32m    190\u001B[39m \u001B[33;03m        `device` object (see the \"Device Support\" section of the array API spec).\u001B[39;00m\n\u001B[32m    191\u001B[39m \u001B[33;03m    \"\"\"\u001B[39;00m\n\u001B[32m    192\u001B[39m     array_list = _remove_non_arrays(\n\u001B[32m    193\u001B[39m         *array_list, remove_none=remove_none, remove_types=remove_types\n\u001B[32m    194\u001B[39m     )\n",
      "\u001B[31mKeyboardInterrupt\u001B[39m: "
     ]
    }
   ],
   "execution_count": 281
  },
  {
   "metadata": {},
   "cell_type": "markdown",
   "source": [
    "# Saving and loading already trained Model\n",
    "\n",
    "Creating template / method for effective saving already trained model, so user don't have to wait for it to finish training before usage."
   ],
   "id": "917dd83044f1afc8"
  },
  {
   "metadata": {
    "ExecuteTime": {
     "end_time": "2025-10-04T20:22:14.803456048Z",
     "start_time": "2025-10-04T20:04:31.413495Z"
    }
   },
   "cell_type": "code",
   "source": [
    "# Saving our PyTorch model\n",
    "from pathlib import Path\n",
    "\n",
    "# 1. Create models directory if it doesn't exist yet\n",
    "MODEL_PATH = Path(\"saved_models\")\n",
    "MODEL_PATH.mkdir(parents = True, exist_ok = True)\n",
    "\n",
    "# 2. Create model save path\n",
    "MODEL_NAME = \"nn_exoplanets0.pth\"\n",
    "MODEL_SAVE_PATH = MODEL_PATH / MODEL_NAME\n",
    "\n",
    "# 3. Save the model state dict\n",
    "print(f\"Saving model to: {MODEL_SAVE_PATH}\")\n",
    "torch.save(obj = model_0.state_dict(),\n",
    "           f = MODEL_SAVE_PATH)"
   ],
   "id": "498102d7838d022d",
   "outputs": [
    {
     "name": "stdout",
     "output_type": "stream",
     "text": [
      "Saving model to: saved_models/nn_exoplanets0.pth\n"
     ]
    }
   ],
   "execution_count": 171
  },
  {
   "metadata": {
    "ExecuteTime": {
     "end_time": "2025-10-04T20:22:14.804620743Z",
     "start_time": "2025-10-04T20:04:31.558574Z"
    }
   },
   "cell_type": "code",
   "source": "!ls -l models",
   "id": "b3f90c2e86acac0d",
   "outputs": [
    {
     "name": "stdout",
     "output_type": "stream",
     "text": [
      "ls: cannot access 'models': No such file or directory\r\n"
     ]
    }
   ],
   "execution_count": 172
  },
  {
   "metadata": {},
   "cell_type": "markdown",
   "source": [
    "### Loading Trained model\n",
    "\n"
   ],
   "id": "b98d43dc0732249f"
  },
  {
   "metadata": {
    "ExecuteTime": {
     "end_time": "2025-10-04T20:22:14.805412539Z",
     "start_time": "2025-10-04T20:04:31.776181Z"
    }
   },
   "cell_type": "code",
   "source": [
    "# To load in a saved state_dict we have to instantiate a new instace of our model class\n",
    "loaded_model_0 = ExoplanetsV0(input_features = 7, output_features = 1, hidden_units = 64)\n",
    "\n",
    "#Load the saved state_dict of model_0 (update the new instance with old parameters\n",
    "loaded_model_0.load_state_dict(torch.load(f = MODEL_SAVE_PATH))"
   ],
   "id": "e9219a8c509cc0ab",
   "outputs": [
    {
     "ename": "RuntimeError",
     "evalue": "Error(s) in loading state_dict for ExoplanetsV0:\n\tsize mismatch for layers.0.weight: copying a param with shape torch.Size([32, 7]) from checkpoint, the shape in current model is torch.Size([64, 7]).\n\tsize mismatch for layers.0.bias: copying a param with shape torch.Size([32]) from checkpoint, the shape in current model is torch.Size([64]).\n\tsize mismatch for layers.2.weight: copying a param with shape torch.Size([16, 32]) from checkpoint, the shape in current model is torch.Size([32, 64]).\n\tsize mismatch for layers.2.bias: copying a param with shape torch.Size([16]) from checkpoint, the shape in current model is torch.Size([32]).\n\tsize mismatch for layers.4.weight: copying a param with shape torch.Size([8, 16]) from checkpoint, the shape in current model is torch.Size([16, 32]).\n\tsize mismatch for layers.4.bias: copying a param with shape torch.Size([8]) from checkpoint, the shape in current model is torch.Size([16]).\n\tsize mismatch for layers.6.weight: copying a param with shape torch.Size([1, 8]) from checkpoint, the shape in current model is torch.Size([1, 16]).",
     "output_type": "error",
     "traceback": [
      "\u001B[31m---------------------------------------------------------------------------\u001B[39m",
      "\u001B[31mRuntimeError\u001B[39m                              Traceback (most recent call last)",
      "\u001B[36mCell\u001B[39m\u001B[36m \u001B[39m\u001B[32mIn[173]\u001B[39m\u001B[32m, line 5\u001B[39m\n\u001B[32m      2\u001B[39m loaded_model_0 = ExoplanetsV0(input_features = \u001B[32m7\u001B[39m, output_features = \u001B[32m1\u001B[39m, hidden_units = \u001B[32m64\u001B[39m)\n\u001B[32m      4\u001B[39m \u001B[38;5;66;03m#Load the saved state_dict of model_0 (update the new instance with old parameters\u001B[39;00m\n\u001B[32m----> \u001B[39m\u001B[32m5\u001B[39m \u001B[43mloaded_model_0\u001B[49m\u001B[43m.\u001B[49m\u001B[43mload_state_dict\u001B[49m\u001B[43m(\u001B[49m\u001B[43mtorch\u001B[49m\u001B[43m.\u001B[49m\u001B[43mload\u001B[49m\u001B[43m(\u001B[49m\u001B[43mf\u001B[49m\u001B[43m \u001B[49m\u001B[43m=\u001B[49m\u001B[43m \u001B[49m\u001B[43mMODEL_SAVE_PATH\u001B[49m\u001B[43m)\u001B[49m\u001B[43m)\u001B[49m\n",
      "\u001B[36mFile \u001B[39m\u001B[32m~/PycharmProjects/SpaceAppsExoplanets/.venv/lib/python3.12/site-packages/torch/nn/modules/module.py:2624\u001B[39m, in \u001B[36mModule.load_state_dict\u001B[39m\u001B[34m(self, state_dict, strict, assign)\u001B[39m\n\u001B[32m   2616\u001B[39m         error_msgs.insert(\n\u001B[32m   2617\u001B[39m             \u001B[32m0\u001B[39m,\n\u001B[32m   2618\u001B[39m             \u001B[33m\"\u001B[39m\u001B[33mMissing key(s) in state_dict: \u001B[39m\u001B[38;5;132;01m{}\u001B[39;00m\u001B[33m. \u001B[39m\u001B[33m\"\u001B[39m.format(\n\u001B[32m   2619\u001B[39m                 \u001B[33m\"\u001B[39m\u001B[33m, \u001B[39m\u001B[33m\"\u001B[39m.join(\u001B[33mf\u001B[39m\u001B[33m'\u001B[39m\u001B[33m\"\u001B[39m\u001B[38;5;132;01m{\u001B[39;00mk\u001B[38;5;132;01m}\u001B[39;00m\u001B[33m\"\u001B[39m\u001B[33m'\u001B[39m \u001B[38;5;28;01mfor\u001B[39;00m k \u001B[38;5;129;01min\u001B[39;00m missing_keys)\n\u001B[32m   2620\u001B[39m             ),\n\u001B[32m   2621\u001B[39m         )\n\u001B[32m   2623\u001B[39m \u001B[38;5;28;01mif\u001B[39;00m \u001B[38;5;28mlen\u001B[39m(error_msgs) > \u001B[32m0\u001B[39m:\n\u001B[32m-> \u001B[39m\u001B[32m2624\u001B[39m     \u001B[38;5;28;01mraise\u001B[39;00m \u001B[38;5;167;01mRuntimeError\u001B[39;00m(\n\u001B[32m   2625\u001B[39m         \u001B[33m\"\u001B[39m\u001B[33mError(s) in loading state_dict for \u001B[39m\u001B[38;5;132;01m{}\u001B[39;00m\u001B[33m:\u001B[39m\u001B[38;5;130;01m\\n\u001B[39;00m\u001B[38;5;130;01m\\t\u001B[39;00m\u001B[38;5;132;01m{}\u001B[39;00m\u001B[33m\"\u001B[39m.format(\n\u001B[32m   2626\u001B[39m             \u001B[38;5;28mself\u001B[39m.\u001B[34m__class__\u001B[39m.\u001B[34m__name__\u001B[39m, \u001B[33m\"\u001B[39m\u001B[38;5;130;01m\\n\u001B[39;00m\u001B[38;5;130;01m\\t\u001B[39;00m\u001B[33m\"\u001B[39m.join(error_msgs)\n\u001B[32m   2627\u001B[39m         )\n\u001B[32m   2628\u001B[39m     )\n\u001B[32m   2629\u001B[39m \u001B[38;5;28;01mreturn\u001B[39;00m _IncompatibleKeys(missing_keys, unexpected_keys)\n",
      "\u001B[31mRuntimeError\u001B[39m: Error(s) in loading state_dict for ExoplanetsV0:\n\tsize mismatch for layers.0.weight: copying a param with shape torch.Size([32, 7]) from checkpoint, the shape in current model is torch.Size([64, 7]).\n\tsize mismatch for layers.0.bias: copying a param with shape torch.Size([32]) from checkpoint, the shape in current model is torch.Size([64]).\n\tsize mismatch for layers.2.weight: copying a param with shape torch.Size([16, 32]) from checkpoint, the shape in current model is torch.Size([32, 64]).\n\tsize mismatch for layers.2.bias: copying a param with shape torch.Size([16]) from checkpoint, the shape in current model is torch.Size([32]).\n\tsize mismatch for layers.4.weight: copying a param with shape torch.Size([8, 16]) from checkpoint, the shape in current model is torch.Size([16, 32]).\n\tsize mismatch for layers.4.bias: copying a param with shape torch.Size([8]) from checkpoint, the shape in current model is torch.Size([16]).\n\tsize mismatch for layers.6.weight: copying a param with shape torch.Size([1, 8]) from checkpoint, the shape in current model is torch.Size([1, 16])."
     ]
    }
   ],
   "execution_count": 173
  },
  {
   "metadata": {
    "ExecuteTime": {
     "end_time": "2025-10-04T20:22:14.806379614Z",
     "start_time": "2025-10-04T19:17:49.558083Z"
    }
   },
   "cell_type": "code",
   "source": [
    "loaded_model_0.eval()\n",
    "with torch.inference_mode():\n",
    "    loaded_logits = loaded_model_0(X_test.to(device))\n",
    "    loaded_pred_probs = torch.sigmoid(loaded_logits)\n",
    "    loaded_preds = torch.round(loaded_pred_probs)\n",
    "\n",
    "loaded_preds"
   ],
   "id": "2b46fb4ebadabccf",
   "outputs": [
    {
     "ename": "RuntimeError",
     "evalue": "Expected all tensors to be on the same device, but got mat1 is on cuda:0, different from other tensors on cpu (when checking argument in method wrapper_CUDA_addmm)",
     "output_type": "error",
     "traceback": [
      "\u001B[31m---------------------------------------------------------------------------\u001B[39m",
      "\u001B[31mRuntimeError\u001B[39m                              Traceback (most recent call last)",
      "\u001B[36mCell\u001B[39m\u001B[36m \u001B[39m\u001B[32mIn[23]\u001B[39m\u001B[32m, line 3\u001B[39m\n\u001B[32m      1\u001B[39m loaded_model_0.eval()\n\u001B[32m      2\u001B[39m \u001B[38;5;28;01mwith\u001B[39;00m torch.inference_mode():\n\u001B[32m----> \u001B[39m\u001B[32m3\u001B[39m     loaded_logits = \u001B[43mloaded_model_0\u001B[49m\u001B[43m(\u001B[49m\u001B[43mX_test\u001B[49m\u001B[43m.\u001B[49m\u001B[43mto\u001B[49m\u001B[43m(\u001B[49m\u001B[43mdevice\u001B[49m\u001B[43m)\u001B[49m\u001B[43m)\u001B[49m\n\u001B[32m      4\u001B[39m     loaded_pred_probs = torch.sigmoid(loaded_logits)\n\u001B[32m      5\u001B[39m     loaded_preds = torch.round(loaded_pred_probs)\n",
      "\u001B[36mFile \u001B[39m\u001B[32m~/PycharmProjects/SpaceAppsExoplanets/.venv/lib/python3.12/site-packages/torch/nn/modules/module.py:1773\u001B[39m, in \u001B[36mModule._wrapped_call_impl\u001B[39m\u001B[34m(self, *args, **kwargs)\u001B[39m\n\u001B[32m   1771\u001B[39m     \u001B[38;5;28;01mreturn\u001B[39;00m \u001B[38;5;28mself\u001B[39m._compiled_call_impl(*args, **kwargs)  \u001B[38;5;66;03m# type: ignore[misc]\u001B[39;00m\n\u001B[32m   1772\u001B[39m \u001B[38;5;28;01melse\u001B[39;00m:\n\u001B[32m-> \u001B[39m\u001B[32m1773\u001B[39m     \u001B[38;5;28;01mreturn\u001B[39;00m \u001B[38;5;28;43mself\u001B[39;49m\u001B[43m.\u001B[49m\u001B[43m_call_impl\u001B[49m\u001B[43m(\u001B[49m\u001B[43m*\u001B[49m\u001B[43margs\u001B[49m\u001B[43m,\u001B[49m\u001B[43m \u001B[49m\u001B[43m*\u001B[49m\u001B[43m*\u001B[49m\u001B[43mkwargs\u001B[49m\u001B[43m)\u001B[49m\n",
      "\u001B[36mFile \u001B[39m\u001B[32m~/PycharmProjects/SpaceAppsExoplanets/.venv/lib/python3.12/site-packages/torch/nn/modules/module.py:1784\u001B[39m, in \u001B[36mModule._call_impl\u001B[39m\u001B[34m(self, *args, **kwargs)\u001B[39m\n\u001B[32m   1779\u001B[39m \u001B[38;5;66;03m# If we don't have any hooks, we want to skip the rest of the logic in\u001B[39;00m\n\u001B[32m   1780\u001B[39m \u001B[38;5;66;03m# this function, and just call forward.\u001B[39;00m\n\u001B[32m   1781\u001B[39m \u001B[38;5;28;01mif\u001B[39;00m \u001B[38;5;129;01mnot\u001B[39;00m (\u001B[38;5;28mself\u001B[39m._backward_hooks \u001B[38;5;129;01mor\u001B[39;00m \u001B[38;5;28mself\u001B[39m._backward_pre_hooks \u001B[38;5;129;01mor\u001B[39;00m \u001B[38;5;28mself\u001B[39m._forward_hooks \u001B[38;5;129;01mor\u001B[39;00m \u001B[38;5;28mself\u001B[39m._forward_pre_hooks\n\u001B[32m   1782\u001B[39m         \u001B[38;5;129;01mor\u001B[39;00m _global_backward_pre_hooks \u001B[38;5;129;01mor\u001B[39;00m _global_backward_hooks\n\u001B[32m   1783\u001B[39m         \u001B[38;5;129;01mor\u001B[39;00m _global_forward_hooks \u001B[38;5;129;01mor\u001B[39;00m _global_forward_pre_hooks):\n\u001B[32m-> \u001B[39m\u001B[32m1784\u001B[39m     \u001B[38;5;28;01mreturn\u001B[39;00m \u001B[43mforward_call\u001B[49m\u001B[43m(\u001B[49m\u001B[43m*\u001B[49m\u001B[43margs\u001B[49m\u001B[43m,\u001B[49m\u001B[43m \u001B[49m\u001B[43m*\u001B[49m\u001B[43m*\u001B[49m\u001B[43mkwargs\u001B[49m\u001B[43m)\u001B[49m\n\u001B[32m   1786\u001B[39m result = \u001B[38;5;28;01mNone\u001B[39;00m\n\u001B[32m   1787\u001B[39m called_always_called_hooks = \u001B[38;5;28mset\u001B[39m()\n",
      "\u001B[36mCell\u001B[39m\u001B[36m \u001B[39m\u001B[32mIn[9]\u001B[39m\u001B[32m, line 16\u001B[39m, in \u001B[36mExoplanetsV0.forward\u001B[39m\u001B[34m(self, x)\u001B[39m\n\u001B[32m     15\u001B[39m \u001B[38;5;28;01mdef\u001B[39;00m\u001B[38;5;250m \u001B[39m\u001B[34mforward\u001B[39m(\u001B[38;5;28mself\u001B[39m, x):\n\u001B[32m---> \u001B[39m\u001B[32m16\u001B[39m     \u001B[38;5;28;01mreturn\u001B[39;00m \u001B[38;5;28;43mself\u001B[39;49m\u001B[43m.\u001B[49m\u001B[43mlayers\u001B[49m\u001B[43m(\u001B[49m\u001B[43mx\u001B[49m\u001B[43m)\u001B[49m\n",
      "\u001B[36mFile \u001B[39m\u001B[32m~/PycharmProjects/SpaceAppsExoplanets/.venv/lib/python3.12/site-packages/torch/nn/modules/module.py:1773\u001B[39m, in \u001B[36mModule._wrapped_call_impl\u001B[39m\u001B[34m(self, *args, **kwargs)\u001B[39m\n\u001B[32m   1771\u001B[39m     \u001B[38;5;28;01mreturn\u001B[39;00m \u001B[38;5;28mself\u001B[39m._compiled_call_impl(*args, **kwargs)  \u001B[38;5;66;03m# type: ignore[misc]\u001B[39;00m\n\u001B[32m   1772\u001B[39m \u001B[38;5;28;01melse\u001B[39;00m:\n\u001B[32m-> \u001B[39m\u001B[32m1773\u001B[39m     \u001B[38;5;28;01mreturn\u001B[39;00m \u001B[38;5;28;43mself\u001B[39;49m\u001B[43m.\u001B[49m\u001B[43m_call_impl\u001B[49m\u001B[43m(\u001B[49m\u001B[43m*\u001B[49m\u001B[43margs\u001B[49m\u001B[43m,\u001B[49m\u001B[43m \u001B[49m\u001B[43m*\u001B[49m\u001B[43m*\u001B[49m\u001B[43mkwargs\u001B[49m\u001B[43m)\u001B[49m\n",
      "\u001B[36mFile \u001B[39m\u001B[32m~/PycharmProjects/SpaceAppsExoplanets/.venv/lib/python3.12/site-packages/torch/nn/modules/module.py:1784\u001B[39m, in \u001B[36mModule._call_impl\u001B[39m\u001B[34m(self, *args, **kwargs)\u001B[39m\n\u001B[32m   1779\u001B[39m \u001B[38;5;66;03m# If we don't have any hooks, we want to skip the rest of the logic in\u001B[39;00m\n\u001B[32m   1780\u001B[39m \u001B[38;5;66;03m# this function, and just call forward.\u001B[39;00m\n\u001B[32m   1781\u001B[39m \u001B[38;5;28;01mif\u001B[39;00m \u001B[38;5;129;01mnot\u001B[39;00m (\u001B[38;5;28mself\u001B[39m._backward_hooks \u001B[38;5;129;01mor\u001B[39;00m \u001B[38;5;28mself\u001B[39m._backward_pre_hooks \u001B[38;5;129;01mor\u001B[39;00m \u001B[38;5;28mself\u001B[39m._forward_hooks \u001B[38;5;129;01mor\u001B[39;00m \u001B[38;5;28mself\u001B[39m._forward_pre_hooks\n\u001B[32m   1782\u001B[39m         \u001B[38;5;129;01mor\u001B[39;00m _global_backward_pre_hooks \u001B[38;5;129;01mor\u001B[39;00m _global_backward_hooks\n\u001B[32m   1783\u001B[39m         \u001B[38;5;129;01mor\u001B[39;00m _global_forward_hooks \u001B[38;5;129;01mor\u001B[39;00m _global_forward_pre_hooks):\n\u001B[32m-> \u001B[39m\u001B[32m1784\u001B[39m     \u001B[38;5;28;01mreturn\u001B[39;00m \u001B[43mforward_call\u001B[49m\u001B[43m(\u001B[49m\u001B[43m*\u001B[49m\u001B[43margs\u001B[49m\u001B[43m,\u001B[49m\u001B[43m \u001B[49m\u001B[43m*\u001B[49m\u001B[43m*\u001B[49m\u001B[43mkwargs\u001B[49m\u001B[43m)\u001B[49m\n\u001B[32m   1786\u001B[39m result = \u001B[38;5;28;01mNone\u001B[39;00m\n\u001B[32m   1787\u001B[39m called_always_called_hooks = \u001B[38;5;28mset\u001B[39m()\n",
      "\u001B[36mFile \u001B[39m\u001B[32m~/PycharmProjects/SpaceAppsExoplanets/.venv/lib/python3.12/site-packages/torch/nn/modules/container.py:244\u001B[39m, in \u001B[36mSequential.forward\u001B[39m\u001B[34m(self, input)\u001B[39m\n\u001B[32m    242\u001B[39m \u001B[38;5;28;01mdef\u001B[39;00m\u001B[38;5;250m \u001B[39m\u001B[34mforward\u001B[39m(\u001B[38;5;28mself\u001B[39m, \u001B[38;5;28minput\u001B[39m):\n\u001B[32m    243\u001B[39m     \u001B[38;5;28;01mfor\u001B[39;00m module \u001B[38;5;129;01min\u001B[39;00m \u001B[38;5;28mself\u001B[39m:\n\u001B[32m--> \u001B[39m\u001B[32m244\u001B[39m         \u001B[38;5;28minput\u001B[39m = \u001B[43mmodule\u001B[49m\u001B[43m(\u001B[49m\u001B[38;5;28;43minput\u001B[39;49m\u001B[43m)\u001B[49m\n\u001B[32m    245\u001B[39m     \u001B[38;5;28;01mreturn\u001B[39;00m \u001B[38;5;28minput\u001B[39m\n",
      "\u001B[36mFile \u001B[39m\u001B[32m~/PycharmProjects/SpaceAppsExoplanets/.venv/lib/python3.12/site-packages/torch/nn/modules/module.py:1773\u001B[39m, in \u001B[36mModule._wrapped_call_impl\u001B[39m\u001B[34m(self, *args, **kwargs)\u001B[39m\n\u001B[32m   1771\u001B[39m     \u001B[38;5;28;01mreturn\u001B[39;00m \u001B[38;5;28mself\u001B[39m._compiled_call_impl(*args, **kwargs)  \u001B[38;5;66;03m# type: ignore[misc]\u001B[39;00m\n\u001B[32m   1772\u001B[39m \u001B[38;5;28;01melse\u001B[39;00m:\n\u001B[32m-> \u001B[39m\u001B[32m1773\u001B[39m     \u001B[38;5;28;01mreturn\u001B[39;00m \u001B[38;5;28;43mself\u001B[39;49m\u001B[43m.\u001B[49m\u001B[43m_call_impl\u001B[49m\u001B[43m(\u001B[49m\u001B[43m*\u001B[49m\u001B[43margs\u001B[49m\u001B[43m,\u001B[49m\u001B[43m \u001B[49m\u001B[43m*\u001B[49m\u001B[43m*\u001B[49m\u001B[43mkwargs\u001B[49m\u001B[43m)\u001B[49m\n",
      "\u001B[36mFile \u001B[39m\u001B[32m~/PycharmProjects/SpaceAppsExoplanets/.venv/lib/python3.12/site-packages/torch/nn/modules/module.py:1784\u001B[39m, in \u001B[36mModule._call_impl\u001B[39m\u001B[34m(self, *args, **kwargs)\u001B[39m\n\u001B[32m   1779\u001B[39m \u001B[38;5;66;03m# If we don't have any hooks, we want to skip the rest of the logic in\u001B[39;00m\n\u001B[32m   1780\u001B[39m \u001B[38;5;66;03m# this function, and just call forward.\u001B[39;00m\n\u001B[32m   1781\u001B[39m \u001B[38;5;28;01mif\u001B[39;00m \u001B[38;5;129;01mnot\u001B[39;00m (\u001B[38;5;28mself\u001B[39m._backward_hooks \u001B[38;5;129;01mor\u001B[39;00m \u001B[38;5;28mself\u001B[39m._backward_pre_hooks \u001B[38;5;129;01mor\u001B[39;00m \u001B[38;5;28mself\u001B[39m._forward_hooks \u001B[38;5;129;01mor\u001B[39;00m \u001B[38;5;28mself\u001B[39m._forward_pre_hooks\n\u001B[32m   1782\u001B[39m         \u001B[38;5;129;01mor\u001B[39;00m _global_backward_pre_hooks \u001B[38;5;129;01mor\u001B[39;00m _global_backward_hooks\n\u001B[32m   1783\u001B[39m         \u001B[38;5;129;01mor\u001B[39;00m _global_forward_hooks \u001B[38;5;129;01mor\u001B[39;00m _global_forward_pre_hooks):\n\u001B[32m-> \u001B[39m\u001B[32m1784\u001B[39m     \u001B[38;5;28;01mreturn\u001B[39;00m \u001B[43mforward_call\u001B[49m\u001B[43m(\u001B[49m\u001B[43m*\u001B[49m\u001B[43margs\u001B[49m\u001B[43m,\u001B[49m\u001B[43m \u001B[49m\u001B[43m*\u001B[49m\u001B[43m*\u001B[49m\u001B[43mkwargs\u001B[49m\u001B[43m)\u001B[49m\n\u001B[32m   1786\u001B[39m result = \u001B[38;5;28;01mNone\u001B[39;00m\n\u001B[32m   1787\u001B[39m called_always_called_hooks = \u001B[38;5;28mset\u001B[39m()\n",
      "\u001B[36mFile \u001B[39m\u001B[32m~/PycharmProjects/SpaceAppsExoplanets/.venv/lib/python3.12/site-packages/torch/nn/modules/linear.py:125\u001B[39m, in \u001B[36mLinear.forward\u001B[39m\u001B[34m(self, input)\u001B[39m\n\u001B[32m    124\u001B[39m \u001B[38;5;28;01mdef\u001B[39;00m\u001B[38;5;250m \u001B[39m\u001B[34mforward\u001B[39m(\u001B[38;5;28mself\u001B[39m, \u001B[38;5;28minput\u001B[39m: Tensor) -> Tensor:\n\u001B[32m--> \u001B[39m\u001B[32m125\u001B[39m     \u001B[38;5;28;01mreturn\u001B[39;00m \u001B[43mF\u001B[49m\u001B[43m.\u001B[49m\u001B[43mlinear\u001B[49m\u001B[43m(\u001B[49m\u001B[38;5;28;43minput\u001B[39;49m\u001B[43m,\u001B[49m\u001B[43m \u001B[49m\u001B[38;5;28;43mself\u001B[39;49m\u001B[43m.\u001B[49m\u001B[43mweight\u001B[49m\u001B[43m,\u001B[49m\u001B[43m \u001B[49m\u001B[38;5;28;43mself\u001B[39;49m\u001B[43m.\u001B[49m\u001B[43mbias\u001B[49m\u001B[43m)\u001B[49m\n",
      "\u001B[31mRuntimeError\u001B[39m: Expected all tensors to be on the same device, but got mat1 is on cuda:0, different from other tensors on cpu (when checking argument in method wrapper_CUDA_addmm)"
     ]
    }
   ],
   "execution_count": 23
  },
  {
   "metadata": {},
   "cell_type": "code",
   "outputs": [],
   "execution_count": null,
   "source": "loaded_preds == y_preds",
   "id": "4bbdd2d5c33ecefd"
  },
  {
   "metadata": {},
   "cell_type": "code",
   "outputs": [],
   "execution_count": null,
   "source": "loaded_preds, y_preds",
   "id": "d0a65706f67c1441"
  },
  {
   "metadata": {},
   "cell_type": "markdown",
   "source": "# Looking for mistakes",
   "id": "7556218b81e62d58"
  },
  {
   "metadata": {},
   "cell_type": "markdown",
   "source": "### Balance between classes",
   "id": "c7f5c1792415d8bd"
  },
  {
   "metadata": {},
   "cell_type": "markdown",
   "source": [
    "#### Fix 1. Using wage in loss_fn\n",
    "\n",
    "Using wage in BCEWithLogitsLoss()"
   ],
   "id": "a55c03fff67fc24f"
  },
  {
   "metadata": {},
   "cell_type": "markdown",
   "source": "#### Fix 2. Using fake data to check if model is learning anything",
   "id": "b34d5768f571680f"
  },
  {
   "metadata": {},
   "cell_type": "code",
   "outputs": [],
   "execution_count": null,
   "source": [
    "import numpy as np\n",
    "import torch\n",
    "from sklearn.datasets import make_classification\n",
    "\n",
    "# Stwórz sztuczne dane które NA PEWNO są przewidywalne\n",
    "X_easy, y_easy = make_classification(\n",
    "    n_samples=2000,\n",
    "    n_features=10,\n",
    "    n_informative=8,  # 8 użytecznych features\n",
    "    n_redundant=2,  # 2 zbędne features\n",
    "    n_clusters_per_class=1,\n",
    "    random_state=42\n",
    ")\n",
    "\n",
    "# Konwersja do tensorów\n",
    "X_easy_tensor = torch.from_numpy(X_easy).float()\n",
    "y_easy_tensor = torch.from_numpy(y_easy).float()\n",
    "\n",
    "print(f\"Easy data - X: {X_easy_tensor.shape}, y: {y_easy_tensor.shape}\")\n",
    "print(f\"Class balance: {y_easy.mean():.3f} positive\")"
   ],
   "id": "e8277d13111caaf0"
  },
  {
   "metadata": {},
   "cell_type": "code",
   "outputs": [],
   "execution_count": null,
   "source": [
    "# Test on easy data\n",
    "def test_your_model():\n",
    "    # Generate easy data (18 features like in  original data)\n",
    "    X_easy, y_easy = make_classification(\n",
    "        n_samples=2000,\n",
    "        n_features=18,  # SAME AS IN DATA\n",
    "        n_informative=16,  # Most features are useful\n",
    "        n_redundant=2,\n",
    "        n_clusters_per_class=1,\n",
    "        random_state=42,\n",
    "        flip_y=0.01  # Only 1% noise\n",
    "    )\n",
    "\n",
    "    # Convert to tensors -\n",
    "    X_easy_tensor = torch.from_numpy(X_easy).float()\n",
    "    y_easy_tensor = torch.from_numpy(y_easy).float()\n",
    "\n",
    "    # Train/test split\n",
    "    split_idx = int(0.8 * len(X_easy_tensor))\n",
    "    X_train = X_easy_tensor[:split_idx]\n",
    "    X_test = X_easy_tensor[split_idx:]\n",
    "    y_train = y_easy_tensor[:split_idx]\n",
    "    y_test = y_easy_tensor[split_idx:]\n",
    "\n",
    "    # USE EXACT MODEL\n",
    "    model = ExoplanetsV0(input_features=18, output_features=1, hidden_units=128)\n",
    "\n",
    "    # USED HYPERPARAMETERS (you can also test different ones)\n",
    "    optimizer = torch.optim.SGD(params=model.parameters(), lr=0.01)  # optimizer\n",
    "    loss_fn = nn.BCEWithLogitsLoss()  # loss function\n",
    "\n",
    "    print(\"=== TESTING YOUR MODEL ON EASY DATA ===\")\n",
    "    print(f\"Model: {model}\")\n",
    "    print(f\"Optimizer: SGD lr=0.01\")\n",
    "    print(f\"Data: {X_train.shape} -> {y_train.shape}\")\n",
    "\n",
    "    # Training\n",
    "    for epoch in range(100):\n",
    "        model.train()\n",
    "        optimizer.zero_grad()\n",
    "\n",
    "        # Forward pass\n",
    "        y_logits = model(X_train).squeeze()\n",
    "\n",
    "        # prediction logic\n",
    "        y_pred = torch.round(torch.sigmoid(y_logits))\n",
    "\n",
    "        # Loss\n",
    "        loss = loss_fn(y_logits, y_train)  # BCEWithLogitsLoss with logits\n",
    "        acc = (y_pred == y_train).float().mean()\n",
    "\n",
    "        # Backward\n",
    "        loss.backward()\n",
    "        optimizer.step()\n",
    "\n",
    "        # Test every 20 epochs\n",
    "        if epoch % 20 == 0:\n",
    "            model.eval()\n",
    "            with torch.no_grad():\n",
    "                test_logits = model(X_test).squeeze()\n",
    "                test_pred = torch.round(torch.sigmoid(test_logits))\n",
    "                test_loss = loss_fn(test_logits, y_test)\n",
    "                test_acc = (test_pred == y_test).float().mean()\n",
    "\n",
    "            print(\n",
    "                f\"Epoch {epoch:3d} | Train Loss: {loss:.4f}, Acc: {acc:.4f} | Test Loss: {test_loss:.4f}, Acc: {test_acc:.4f}\")\n",
    "\n",
    "    final_test_acc = (test_pred == y_test).float().mean()\n",
    "    print(f\"\\n FINAL TEST ACCURACY: {final_test_acc:.4f}\")\n",
    "\n",
    "    if final_test_acc > 0.85:\n",
    "        print(\"MODEL WORKS CORRECTLY - problem is in KEPLER DATA\")\n",
    "        return True\n",
    "    elif final_test_acc > 0.6:\n",
    "        print(\"MODEL WORKS POORLY - possible architecture problem\")\n",
    "        return False\n",
    "    else:\n",
    "        print(\"MODEL DOESN'T WORK - problem in IMPLEMENTATION\")\n",
    "        return False\n",
    "\n",
    "\n",
    "# Run test\n",
    "print(\"Testing YOUR exact model on easy data...\")\n",
    "model_works = test_your_model()"
   ],
   "id": "caf3b615979ad0bb"
  },
  {
   "metadata": {},
   "cell_type": "markdown",
   "source": [
    "### Conclusion\n",
    "\n",
    "Problem in `Sigmoid()` in `nn.Sequential`. Sigmoid should be used to round when we want to convert logits > probs > labels, it was affecting final answer when used in wrong place.\n",
    "\n",
    "Model can achieve ~60% accuracy on Dataset, let's try wages now, with working implementation. -> Model achieves over 90% accuracy."
   ],
   "id": "7c8c7e9d11652dcf"
  },
  {
   "metadata": {},
   "cell_type": "markdown",
   "source": [
    "### Observations\n",
    "\n",
    "* When applied change and increased number of hidden layers\n",
    "    * `Linear>ReLU>Linear>ReLU>Linear>` -> `Linear>ReLU>Linear>ReLU>Linear>ReLU>Linear` accuracy dropped to 60,5% and model wasn't learning"
   ],
   "id": "495d169e88b583b4"
  },
  {
   "metadata": {},
   "cell_type": "markdown",
   "source": "# Exporting / Evaluating new data",
   "id": "4a530fc99a43b504"
  }
 ],
 "metadata": {
  "kernelspec": {
   "display_name": "Python 3",
   "language": "python",
   "name": "python3"
  },
  "language_info": {
   "codemirror_mode": {
    "name": "ipython",
    "version": 2
   },
   "file_extension": ".py",
   "mimetype": "text/x-python",
   "name": "python",
   "nbconvert_exporter": "python",
   "pygments_lexer": "ipython2",
   "version": "2.7.6"
  }
 },
 "nbformat": 4,
 "nbformat_minor": 5
}
