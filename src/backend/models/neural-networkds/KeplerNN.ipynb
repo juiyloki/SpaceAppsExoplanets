{
 "cells": [
  {
   "metadata": {},
   "cell_type": "markdown",
   "source": "# Binary classification Model",
   "id": "738377a1cdbdc05b"
  },
  {
   "metadata": {},
   "cell_type": "markdown",
   "source": "### train / test split",
   "id": "94f97e67bbeb9b95"
  },
  {
   "metadata": {
    "ExecuteTime": {
     "end_time": "2025-10-04T22:21:52.289197Z",
     "start_time": "2025-10-04T22:21:50.749720Z"
    }
   },
   "cell_type": "code",
   "source": [
    "import numpy as np\n",
    "import torch\n",
    "from torch import nn\n",
    "from sympy import false\n",
    "\n",
    "X_train = np.loadtxt(\"../../datasets/merged/X_train_imputed_scaled.csv\", delimiter=\",\", skiprows=1)\n",
    "X_test = np.loadtxt(\"../../datasets/merged/X_test_imputed_scaled.csv\", delimiter=\",\", skiprows=1)\n",
    "y_train = np.loadtxt(\"../../datasets/merged/y_train.csv\", delimiter=\",\", skiprows=1)\n",
    "y_test = np.loadtxt(\"../../datasets/merged/y_test.csv\", delimiter=\",\", skiprows=1)\n",
    "\n",
    "X_train = np.delete(X_train, 0, axis=1)\n",
    "X_test = np.delete(X_test, 0, axis=1)\n",
    "y_train = np.delete(y_train, 0, axis=1)\n",
    "y_test = np.delete(y_test, 0, axis=1)\n",
    "\n",
    "X_train = torch.from_numpy(X_train).type(torch.float32).squeeze()\n",
    "X_test = torch.from_numpy(X_test).type(torch.float32).squeeze()\n",
    "y_train = torch.from_numpy(y_train).type(torch.float32).squeeze()\n",
    "y_test = torch.from_numpy(y_test).type(torch.float32).squeeze()\n"
   ],
   "id": "42b73bab41764e5f",
   "outputs": [],
   "execution_count": 7
  },
  {
   "metadata": {
    "ExecuteTime": {
     "end_time": "2025-10-04T22:21:52.304889Z",
     "start_time": "2025-10-04T22:21:52.299723Z"
    }
   },
   "cell_type": "code",
   "source": "X_train.shape, X_test.shape, y_train.shape, y_test.shape",
   "id": "c3678499a6c0ce7c",
   "outputs": [
    {
     "data": {
      "text/plain": [
       "(torch.Size([10018, 7]),\n",
       " torch.Size([2648, 7]),\n",
       " torch.Size([10018]),\n",
       " torch.Size([2648]))"
      ]
     },
     "execution_count": 8,
     "metadata": {},
     "output_type": "execute_result"
    }
   ],
   "execution_count": 8
  },
  {
   "metadata": {
    "ExecuteTime": {
     "end_time": "2025-10-04T22:21:52.358175Z",
     "start_time": "2025-10-04T22:21:52.354556Z"
    }
   },
   "cell_type": "code",
   "source": "type(X_train), X_train.dtype",
   "id": "fbdb4e58460be904",
   "outputs": [
    {
     "data": {
      "text/plain": [
       "(torch.Tensor, torch.float32)"
      ]
     },
     "execution_count": 9,
     "metadata": {},
     "output_type": "execute_result"
    }
   ],
   "execution_count": 9
  },
  {
   "metadata": {
    "ExecuteTime": {
     "end_time": "2025-10-04T22:21:52.407947Z",
     "start_time": "2025-10-04T22:21:52.405258Z"
    }
   },
   "cell_type": "code",
   "source": "type(y_train), y_train.dtype",
   "id": "f2caf3056687b1a",
   "outputs": [
    {
     "data": {
      "text/plain": [
       "(torch.Tensor, torch.float32)"
      ]
     },
     "execution_count": 10,
     "metadata": {},
     "output_type": "execute_result"
    }
   ],
   "execution_count": 10
  },
  {
   "metadata": {
    "ExecuteTime": {
     "end_time": "2025-10-04T22:21:52.465063Z",
     "start_time": "2025-10-04T22:21:52.460304Z"
    }
   },
   "cell_type": "code",
   "source": [
    "device = \"cuda\" if torch.cuda.is_available() else \"cpu\"\n",
    "device"
   ],
   "id": "310e119f79475dfe",
   "outputs": [
    {
     "data": {
      "text/plain": [
       "'cpu'"
      ]
     },
     "execution_count": 11,
     "metadata": {},
     "output_type": "execute_result"
    }
   ],
   "execution_count": 11
  },
  {
   "metadata": {
    "ExecuteTime": {
     "end_time": "2025-10-04T22:21:52.527154Z",
     "start_time": "2025-10-04T22:21:52.524378Z"
    }
   },
   "cell_type": "code",
   "source": "torch.cuda.is_available()",
   "id": "d0e7b6a29fe18010",
   "outputs": [
    {
     "data": {
      "text/plain": [
       "False"
      ]
     },
     "execution_count": 12,
     "metadata": {},
     "output_type": "execute_result"
    }
   ],
   "execution_count": 12
  },
  {
   "metadata": {},
   "cell_type": "markdown",
   "source": "### Construct Model Class",
   "id": "ce7b646c804c41db"
  },
  {
   "metadata": {
    "ExecuteTime": {
     "end_time": "2025-10-04T22:21:52.598098Z",
     "start_time": "2025-10-04T22:21:52.594125Z"
    }
   },
   "cell_type": "code",
   "source": [
    "class ExoplanetsV0(nn.Module):\n",
    "\n",
    "    def __init__(self, input_features, output_features, hidden_units=8):\n",
    "        super().__init__()\n",
    "        self.input_features = input_features\n",
    "        self.output_features = output_features\n",
    "        self.hidden_units = hidden_units\n",
    "        self.layers = nn.Sequential(\n",
    "            nn.Linear(in_features=input_features, out_features=hidden_units),\n",
    "            nn.ReLU(),\n",
    "            nn.Linear(in_features=hidden_units, out_features=int(hidden_units/2)),\n",
    "            nn.ReLU(),\n",
    "            nn.Linear(in_features=int(hidden_units/2), out_features=int(hidden_units / 4)),\n",
    "            nn.ReLU(),\n",
    "            nn.Linear(in_features=int(hidden_units/4), out_features=output_features),\n",
    "            #nn.Sigmoid()\n",
    "        )\n",
    "\n",
    "    def forward(self, x):\n",
    "        return self.layers(x)\n",
    "\n",
    "\n",
    "# Create a test model\n",
    "test = ExoplanetsV0(input_features=X_test.shape[1], output_features=1, hidden_units=32).to(device)\n",
    "print(test)\n",
    "del test"
   ],
   "id": "cc11104e76a6dbf",
   "outputs": [
    {
     "name": "stdout",
     "output_type": "stream",
     "text": [
      "ExoplanetsV0(\n",
      "  (layers): Sequential(\n",
      "    (0): Linear(in_features=7, out_features=32, bias=True)\n",
      "    (1): ReLU()\n",
      "    (2): Linear(in_features=32, out_features=16, bias=True)\n",
      "    (3): ReLU()\n",
      "    (4): Linear(in_features=16, out_features=8, bias=True)\n",
      "    (5): ReLU()\n",
      "    (6): Linear(in_features=8, out_features=1, bias=True)\n",
      "  )\n",
      ")\n"
     ]
    }
   ],
   "execution_count": 13
  },
  {
   "metadata": {
    "ExecuteTime": {
     "end_time": "2025-10-04T22:21:52.655379Z",
     "start_time": "2025-10-04T22:21:52.652893Z"
    }
   },
   "cell_type": "code",
   "source": "X_train.shape, y_train.shape",
   "id": "98e296dda92cd2b0",
   "outputs": [
    {
     "data": {
      "text/plain": [
       "(torch.Size([10018, 7]), torch.Size([10018]))"
      ]
     },
     "execution_count": 14,
     "metadata": {},
     "output_type": "execute_result"
    }
   ],
   "execution_count": 14
  },
  {
   "metadata": {},
   "cell_type": "markdown",
   "source": "### Loss Function and Optimizer",
   "id": "61f3b71eef3f78cb"
  },
  {
   "metadata": {
    "ExecuteTime": {
     "end_time": "2025-10-04T22:21:52.709546Z",
     "start_time": "2025-10-04T22:21:52.707609Z"
    }
   },
   "cell_type": "code",
   "source": [
    "# Calculate accuracy\n",
    "def accuracy_fn(y_true, y_pred):\n",
    "    correct = torch.eq(y_true, y_pred).sum().item()\n",
    "    acc = (correct / len(y_pred)) * 100\n",
    "    return acc"
   ],
   "id": "9ea7384fbe521add",
   "outputs": [],
   "execution_count": 15
  },
  {
   "metadata": {},
   "cell_type": "markdown",
   "source": [
    "# Train Model\n",
    "\n",
    "Model outputs are raw **Logits**\n",
    "\n",
    "We are converting logits into prediction probabilities by passing them to some kind of activation function (int this case `nn.Sigmoid()`) Then we can convert our model's prediction probabilities to **prediction labels** by taking the `argmaX_scaled()`"
   ],
   "id": "b33febce58d0db83"
  },
  {
   "metadata": {},
   "cell_type": "markdown",
   "source": "# Tracking Accuracy",
   "id": "f76915a4fbc80c35"
  },
  {
   "metadata": {
    "ExecuteTime": {
     "end_time": "2025-10-04T22:21:53.118574Z",
     "start_time": "2025-10-04T22:21:52.756049Z"
    }
   },
   "cell_type": "code",
   "source": [
    "import matplotlib.pyplot as plt\n",
    "\n",
    "def makePlots(track_accuracy, track_loss, track_f1, track_precision, track_recall, track_auc,\n",
    "              track_test_accuracy, track_test_loss, track_test_f1, track_test_precision,\n",
    "              track_test_recall, track_test_auc):\n",
    "    epoch_range = range(1, epochs + 1)\n",
    "\n",
    "    plt.figure(figsize=(18, 12))\n",
    "\n",
    "    # Accuracy\n",
    "    plt.subplot(3, 2, 1)\n",
    "    plt.plot(epoch_range, track_accuracy, label='Train Accuracy')\n",
    "    plt.plot(epoch_range, track_test_accuracy, label='Test Accuracy')\n",
    "    plt.title('Model Accuracy')\n",
    "    plt.xlabel('Epoch')\n",
    "    plt.ylabel('Accuracy (%)')\n",
    "    plt.legend()\n",
    "    plt.grid(True)\n",
    "\n",
    "    # Loss\n",
    "    plt.subplot(3, 2, 2)\n",
    "    plt.plot(epoch_range, track_loss, label='Train Loss')\n",
    "    plt.plot(epoch_range, track_test_loss, label='Test Loss')\n",
    "    plt.title('Model Loss')\n",
    "    plt.xlabel('Epoch')\n",
    "    plt.ylabel('Loss')\n",
    "    plt.legend()\n",
    "    plt.grid(True)\n",
    "\n",
    "    # F1 Score\n",
    "    plt.subplot(3, 2, 3)\n",
    "    plt.plot(epoch_range, track_f1, label='Train F1')\n",
    "    plt.plot(epoch_range, track_test_f1, label='Test F1')\n",
    "    plt.title('F1 Score')\n",
    "    plt.xlabel('Epoch')\n",
    "    plt.ylabel('F1 Score')\n",
    "    plt.legend()\n",
    "    plt.grid(True)\n",
    "\n",
    "    # Precision\n",
    "    plt.subplot(3, 2, 4)\n",
    "    plt.plot(epoch_range, track_precision, label='Train Precision')\n",
    "    plt.plot(epoch_range, track_test_precision, label='Test Precision')\n",
    "    plt.title('Precision')\n",
    "    plt.xlabel('Epoch')\n",
    "    plt.ylabel('Precision')\n",
    "    plt.legend()\n",
    "    plt.grid(True)\n",
    "\n",
    "    # Recall\n",
    "    plt.subplot(3, 2, 5)\n",
    "    plt.plot(epoch_range, track_recall, label='Train Recall')\n",
    "    plt.plot(epoch_range, track_test_recall, label='Test Recall')\n",
    "    plt.title('Recall')\n",
    "    plt.xlabel('Epoch')\n",
    "    plt.ylabel('Recall')\n",
    "    plt.legend()\n",
    "    plt.grid(True)\n",
    "\n",
    "    # AUC\n",
    "    plt.subplot(3, 2, 6)\n",
    "    plt.plot(epoch_range, track_auc, label='Train AUC')\n",
    "    plt.plot(epoch_range, track_test_auc, label='Test AUC')\n",
    "    plt.title('AUC')\n",
    "    plt.xlabel('Epoch')\n",
    "    plt.ylabel('AUC')\n",
    "    plt.legend()\n",
    "    plt.grid(True)\n",
    "\n",
    "    plt.tight_layout()\n",
    "    plt.savefig('training_metrics.png', dpi=300)  # Zapisuje wykres w wysokiej jakości\n",
    "    plt.show()\n"
   ],
   "id": "32b7cdbadea1aefb",
   "outputs": [],
   "execution_count": 16
  },
  {
   "metadata": {},
   "cell_type": "markdown",
   "source": "### Building a training loop and testing loop",
   "id": "8bf8e53fab8fb1e2"
  },
  {
   "metadata": {
    "ExecuteTime": {
     "end_time": "2025-10-04T22:21:53.625797Z",
     "start_time": "2025-10-04T22:21:53.127530Z"
    }
   },
   "cell_type": "code",
   "source": [
    "from sklearn.metrics import precision_score, recall_score, f1_score, roc_auc_score\n",
    "epochs = 2500\n",
    "\n",
    "def trainModel(model, X_train, y_train, X_test, y_test, isCrossValidation=False):\n",
    "\n",
    "    torch.manual_seed(42)\n",
    "    torch.cuda.manual_seed(42)\n",
    "    eps = 0.00001\n",
    "\n",
    "    # Set the number of epochs\n",
    "\n",
    "    # Tracking loss and accuracy\n",
    "    track_accuracy = []\n",
    "    track_loss = []\n",
    "    track_f1 = []\n",
    "    track_precision = []\n",
    "    track_recall = []\n",
    "    track_auc = []\n",
    "\n",
    "    track_test_f1 = []\n",
    "    track_test_precision = []\n",
    "    track_test_recall = []\n",
    "    track_test_auc = []\n",
    "    track_test_accuracy = []\n",
    "    track_test_loss = []\n",
    "\n",
    "\n",
    "    # Put data to target device\n",
    "    X_train, y_train = X_train.to(device), y_train.to(device)\n",
    "    X_test, y_test = X_test.to(device), y_test.to(device)\n",
    "\n",
    "    weight_for_0 = len(y_test) + len(y_train) / (2 * ((y_test < eps).sum() + (y_train < eps).sum()))\n",
    "    weight_for_1 = len(y_test) + len(y_train) / (2 * ((y_test - 1 < eps).sum() + (y_train - 1 < eps).sum()))\n",
    "\n",
    "    pos_weight = torch.tensor([weight_for_1 / weight_for_0]).to(device)\n",
    "    loss_fn = nn.BCEWithLogitsLoss(pos_weight=pos_weight)\n",
    "    optimizer = torch.optim.SGD(params=model.parameters(), lr=0.01)\n",
    "\n",
    "\n",
    "    for epoch in range(epochs):\n",
    "        ### Training\n",
    "        model.train()\n",
    "\n",
    "        # 1. Forward pass\n",
    "        y_logits = model(X_train).squeeze()\n",
    "        y_probs = torch.sigmoid(y_logits)\n",
    "        y_pred = torch.round(y_probs)  # turn logits into pred probs and into pred labels\n",
    "\n",
    "        # 2. Calculate the loss / cost\n",
    "        loss = loss_fn(y_logits, y_train)\n",
    "        track_loss.append(loss.item())\n",
    "\n",
    "        acc = accuracy_fn(y_true=y_train.detach(), y_pred=y_pred.detach())\n",
    "        precision = precision_score(y_true=y_train.detach().cpu(), y_pred=y_pred.detach().cpu(), zero_division=0) * 100\n",
    "        recall = recall_score(y_true=y_train.detach().cpu(), y_pred=y_pred.detach().cpu(), zero_division=0) * 100\n",
    "        f1 = f1_score(y_true=y_train.detach().cpu(), y_pred=y_pred.detach().cpu(), zero_division=0) * 100\n",
    "        auc = roc_auc_score(y_true=y_train.detach().cpu(), y_score=y_probs.detach().cpu())\n",
    "\n",
    "        track_accuracy.append(acc)\n",
    "        track_precision.append(precision)\n",
    "        track_recall.append(recall)\n",
    "        track_f1.append(f1)\n",
    "        track_auc.append(auc)\n",
    "\n",
    "        # 3. Optimizer zero grad\n",
    "        optimizer.zero_grad()\n",
    "\n",
    "        # 4. Backpropagation algorithm\n",
    "        loss.backward()\n",
    "\n",
    "        # 5. Gradient descent algorithm\n",
    "        optimizer.step()\n",
    "\n",
    "        ### Testing\n",
    "        model.eval()\n",
    "        with torch.inference_mode():\n",
    "            # 1. Forward pass\n",
    "            test_logits = model(X_test).squeeze()       # logits\n",
    "            test_probs = torch.sigmoid(test_logits)     # Probability\n",
    "            test_pred = torch.round(test_probs)         # 1 or 0\n",
    "\n",
    "            # 2. Calculate test loss/acc\n",
    "\n",
    "            test_loss = loss_fn(test_logits, y_test)\n",
    "            track_test_loss.append(test_loss.item())\n",
    "\n",
    "            test_acc = accuracy_fn(y_true=y_test.cpu(), y_pred=test_pred.cpu())\n",
    "            test_precision = precision_score(y_true=y_test.cpu(), y_pred=test_pred.cpu(), zero_division=0) * 100\n",
    "            test_recall = recall_score(y_true=y_test.cpu(), y_pred=test_pred.cpu(), zero_division=0) * 100\n",
    "            test_f1 = f1_score(y_true=y_test.cpu(), y_pred=test_pred.cpu(), zero_division=0) * 100\n",
    "            test_auc = roc_auc_score(y_true=y_test.cpu(), y_score=test_probs.cpu())\n",
    "            track_test_auc.append(test_auc)\n",
    "\n",
    "            track_test_accuracy.append(test_acc)\n",
    "            track_test_precision.append(test_precision)\n",
    "            track_test_recall.append(test_recall)\n",
    "            track_test_f1.append(test_f1)\n",
    "\n",
    "        # Print out what's happenin'\n",
    "        if not isCrossValidation and (epoch % 500 == 0 or epoch == epochs - 1):\n",
    "            print(\n",
    "                f\"Epoch {epoch} \\n\"\n",
    "                f\" loss: {loss:.5f} | accuracy: {acc:.2f}% | Precision: {precision:.2f}% | Recall: {recall:.2f}% | f1: {f1:.2f}% | auc: {auc:.2f} \\n\"\n",
    "                f\"Test loss: {test_loss:.5f} | Test accuracy: {test_acc:.2f}% | Test precision: {test_precision:.2f}% | Test recall: {test_recall:.2f}% | Test f1: {test_f1:.2f}% | Test auc: {test_auc:.2f} \\n\")\n",
    "\n",
    "    if isCrossValidation:\n",
    "        makePlots(track_accuracy, track_loss, track_f1, track_precision, track_recall, track_auc,\n",
    "                  track_test_accuracy, track_test_loss, track_test_f1, track_test_precision,\n",
    "                  track_test_recall, track_test_auc)\n",
    "    return test_acc\n"
   ],
   "id": "95a270bd210ed4e6",
   "outputs": [],
   "execution_count": 17
  },
  {
   "metadata": {},
   "cell_type": "markdown",
   "source": "# Cross-validation",
   "id": "51858762fdac3973"
  },
  {
   "metadata": {
    "ExecuteTime": {
     "end_time": "2025-10-04T22:22:09.293505Z",
     "start_time": "2025-10-04T22:21:53.633528Z"
    }
   },
   "cell_type": "code",
   "source": [
    "from sklearn.model_selection import StratifiedKFold, train_test_split\n",
    "\n",
    "kfold = StratifiedKFold(n_splits=5, shuffle=True)\n",
    "cv_scores = []\n",
    "for train, test in kfold.split(X_train, y_train):\n",
    "    # create model, train, and get accuracy\n",
    "    model_1 = ExoplanetsV0(input_features=X_test.shape[1], output_features=1, hidden_units=32).to(device)\n",
    "    acc = trainModel(model_1, X_train[train], y_train[train], X_train[test], y_train[test], True)\n",
    "    print(\"Accuracy: %.2f\" % acc)\n",
    "    cv_scores.append(acc)\n",
    "\n",
    "# evaluate the model\n",
    "model_acc = np.mean(cv_scores)\n",
    "model_std = np.std(cv_scores)\n",
    "print(\"Stats (cross validation): %.2f%% (+/- %.2f%%)\" % (model_acc, model_std))\n",
    "\n",
    "model_1 = ExoplanetsV0(input_features=X_test.shape[1], output_features=1, hidden_units=32).to(device)\n",
    "trainModel(model_1, X_train, y_train, X_test, y_test, false)"
   ],
   "id": "a31a69601ba4279d",
   "outputs": [
    {
     "ename": "KeyboardInterrupt",
     "evalue": "",
     "output_type": "error",
     "traceback": [
      "\u001B[31m---------------------------------------------------------------------------\u001B[39m",
      "\u001B[31mKeyboardInterrupt\u001B[39m                         Traceback (most recent call last)",
      "\u001B[36mCell\u001B[39m\u001B[36m \u001B[39m\u001B[32mIn[18]\u001B[39m\u001B[32m, line 8\u001B[39m\n\u001B[32m      5\u001B[39m \u001B[38;5;28;01mfor\u001B[39;00m train, test \u001B[38;5;129;01min\u001B[39;00m kfold.split(X_train, y_train):\n\u001B[32m      6\u001B[39m     \u001B[38;5;66;03m# create model, train, and get accuracy\u001B[39;00m\n\u001B[32m      7\u001B[39m     model_1 = ExoplanetsV0(input_features=X_test.shape[\u001B[32m1\u001B[39m], output_features=\u001B[32m1\u001B[39m, hidden_units=\u001B[32m32\u001B[39m).to(device)\n\u001B[32m----> \u001B[39m\u001B[32m8\u001B[39m     acc = \u001B[43mtrainModel\u001B[49m\u001B[43m(\u001B[49m\u001B[43mmodel_1\u001B[49m\u001B[43m,\u001B[49m\u001B[43m \u001B[49m\u001B[43mX_train\u001B[49m\u001B[43m[\u001B[49m\u001B[43mtrain\u001B[49m\u001B[43m]\u001B[49m\u001B[43m,\u001B[49m\u001B[43m \u001B[49m\u001B[43my_train\u001B[49m\u001B[43m[\u001B[49m\u001B[43mtrain\u001B[49m\u001B[43m]\u001B[49m\u001B[43m,\u001B[49m\u001B[43m \u001B[49m\u001B[43mX_train\u001B[49m\u001B[43m[\u001B[49m\u001B[43mtest\u001B[49m\u001B[43m]\u001B[49m\u001B[43m,\u001B[49m\u001B[43m \u001B[49m\u001B[43my_train\u001B[49m\u001B[43m[\u001B[49m\u001B[43mtest\u001B[49m\u001B[43m]\u001B[49m\u001B[43m,\u001B[49m\u001B[43m \u001B[49m\u001B[38;5;28;43;01mTrue\u001B[39;49;00m\u001B[43m)\u001B[49m\n\u001B[32m      9\u001B[39m     \u001B[38;5;28mprint\u001B[39m(\u001B[33m\"\u001B[39m\u001B[33mAccuracy: \u001B[39m\u001B[38;5;132;01m%.2f\u001B[39;00m\u001B[33m\"\u001B[39m % acc)\n\u001B[32m     10\u001B[39m     cv_scores.append(acc)\n",
      "\u001B[36mCell\u001B[39m\u001B[36m \u001B[39m\u001B[32mIn[17]\u001B[39m\u001B[32m, line 45\u001B[39m, in \u001B[36mtrainModel\u001B[39m\u001B[34m(model, X_train, y_train, X_test, y_test, isCrossValidation)\u001B[39m\n\u001B[32m     42\u001B[39m model.train()\n\u001B[32m     44\u001B[39m \u001B[38;5;66;03m# 1. Forward pass\u001B[39;00m\n\u001B[32m---> \u001B[39m\u001B[32m45\u001B[39m y_logits = \u001B[43mmodel\u001B[49m\u001B[43m(\u001B[49m\u001B[43mX_train\u001B[49m\u001B[43m)\u001B[49m.squeeze()\n\u001B[32m     46\u001B[39m y_probs = torch.sigmoid(y_logits)\n\u001B[32m     47\u001B[39m y_pred = torch.round(y_probs)  \u001B[38;5;66;03m# turn logits into pred probs and into pred labels\u001B[39;00m\n",
      "\u001B[36mFile \u001B[39m\u001B[32m~/HomeProjects/NasaSpaceApps2025/SpaceAppsExoplanets/.venv/lib/python3.12/site-packages/torch/nn/modules/module.py:1773\u001B[39m, in \u001B[36mModule._wrapped_call_impl\u001B[39m\u001B[34m(self, *args, **kwargs)\u001B[39m\n\u001B[32m   1771\u001B[39m     \u001B[38;5;28;01mreturn\u001B[39;00m \u001B[38;5;28mself\u001B[39m._compiled_call_impl(*args, **kwargs)  \u001B[38;5;66;03m# type: ignore[misc]\u001B[39;00m\n\u001B[32m   1772\u001B[39m \u001B[38;5;28;01melse\u001B[39;00m:\n\u001B[32m-> \u001B[39m\u001B[32m1773\u001B[39m     \u001B[38;5;28;01mreturn\u001B[39;00m \u001B[38;5;28;43mself\u001B[39;49m\u001B[43m.\u001B[49m\u001B[43m_call_impl\u001B[49m\u001B[43m(\u001B[49m\u001B[43m*\u001B[49m\u001B[43margs\u001B[49m\u001B[43m,\u001B[49m\u001B[43m \u001B[49m\u001B[43m*\u001B[49m\u001B[43m*\u001B[49m\u001B[43mkwargs\u001B[49m\u001B[43m)\u001B[49m\n",
      "\u001B[36mFile \u001B[39m\u001B[32m~/HomeProjects/NasaSpaceApps2025/SpaceAppsExoplanets/.venv/lib/python3.12/site-packages/torch/nn/modules/module.py:1784\u001B[39m, in \u001B[36mModule._call_impl\u001B[39m\u001B[34m(self, *args, **kwargs)\u001B[39m\n\u001B[32m   1779\u001B[39m \u001B[38;5;66;03m# If we don't have any hooks, we want to skip the rest of the logic in\u001B[39;00m\n\u001B[32m   1780\u001B[39m \u001B[38;5;66;03m# this function, and just call forward.\u001B[39;00m\n\u001B[32m   1781\u001B[39m \u001B[38;5;28;01mif\u001B[39;00m \u001B[38;5;129;01mnot\u001B[39;00m (\u001B[38;5;28mself\u001B[39m._backward_hooks \u001B[38;5;129;01mor\u001B[39;00m \u001B[38;5;28mself\u001B[39m._backward_pre_hooks \u001B[38;5;129;01mor\u001B[39;00m \u001B[38;5;28mself\u001B[39m._forward_hooks \u001B[38;5;129;01mor\u001B[39;00m \u001B[38;5;28mself\u001B[39m._forward_pre_hooks\n\u001B[32m   1782\u001B[39m         \u001B[38;5;129;01mor\u001B[39;00m _global_backward_pre_hooks \u001B[38;5;129;01mor\u001B[39;00m _global_backward_hooks\n\u001B[32m   1783\u001B[39m         \u001B[38;5;129;01mor\u001B[39;00m _global_forward_hooks \u001B[38;5;129;01mor\u001B[39;00m _global_forward_pre_hooks):\n\u001B[32m-> \u001B[39m\u001B[32m1784\u001B[39m     \u001B[38;5;28;01mreturn\u001B[39;00m \u001B[43mforward_call\u001B[49m\u001B[43m(\u001B[49m\u001B[43m*\u001B[49m\u001B[43margs\u001B[49m\u001B[43m,\u001B[49m\u001B[43m \u001B[49m\u001B[43m*\u001B[49m\u001B[43m*\u001B[49m\u001B[43mkwargs\u001B[49m\u001B[43m)\u001B[49m\n\u001B[32m   1786\u001B[39m result = \u001B[38;5;28;01mNone\u001B[39;00m\n\u001B[32m   1787\u001B[39m called_always_called_hooks = \u001B[38;5;28mset\u001B[39m()\n",
      "\u001B[36mCell\u001B[39m\u001B[36m \u001B[39m\u001B[32mIn[13]\u001B[39m\u001B[32m, line 16\u001B[39m, in \u001B[36mExoplanetsV0.forward\u001B[39m\u001B[34m(self, x)\u001B[39m\n\u001B[32m     15\u001B[39m \u001B[38;5;28;01mdef\u001B[39;00m\u001B[38;5;250m \u001B[39m\u001B[34mforward\u001B[39m(\u001B[38;5;28mself\u001B[39m, x):\n\u001B[32m---> \u001B[39m\u001B[32m16\u001B[39m     \u001B[38;5;28;01mreturn\u001B[39;00m \u001B[38;5;28;43mself\u001B[39;49m\u001B[43m.\u001B[49m\u001B[43mlayers\u001B[49m\u001B[43m(\u001B[49m\u001B[43mx\u001B[49m\u001B[43m)\u001B[49m\n",
      "\u001B[36mFile \u001B[39m\u001B[32m~/HomeProjects/NasaSpaceApps2025/SpaceAppsExoplanets/.venv/lib/python3.12/site-packages/torch/nn/modules/module.py:1773\u001B[39m, in \u001B[36mModule._wrapped_call_impl\u001B[39m\u001B[34m(self, *args, **kwargs)\u001B[39m\n\u001B[32m   1771\u001B[39m     \u001B[38;5;28;01mreturn\u001B[39;00m \u001B[38;5;28mself\u001B[39m._compiled_call_impl(*args, **kwargs)  \u001B[38;5;66;03m# type: ignore[misc]\u001B[39;00m\n\u001B[32m   1772\u001B[39m \u001B[38;5;28;01melse\u001B[39;00m:\n\u001B[32m-> \u001B[39m\u001B[32m1773\u001B[39m     \u001B[38;5;28;01mreturn\u001B[39;00m \u001B[38;5;28;43mself\u001B[39;49m\u001B[43m.\u001B[49m\u001B[43m_call_impl\u001B[49m\u001B[43m(\u001B[49m\u001B[43m*\u001B[49m\u001B[43margs\u001B[49m\u001B[43m,\u001B[49m\u001B[43m \u001B[49m\u001B[43m*\u001B[49m\u001B[43m*\u001B[49m\u001B[43mkwargs\u001B[49m\u001B[43m)\u001B[49m\n",
      "\u001B[36mFile \u001B[39m\u001B[32m~/HomeProjects/NasaSpaceApps2025/SpaceAppsExoplanets/.venv/lib/python3.12/site-packages/torch/nn/modules/module.py:1784\u001B[39m, in \u001B[36mModule._call_impl\u001B[39m\u001B[34m(self, *args, **kwargs)\u001B[39m\n\u001B[32m   1779\u001B[39m \u001B[38;5;66;03m# If we don't have any hooks, we want to skip the rest of the logic in\u001B[39;00m\n\u001B[32m   1780\u001B[39m \u001B[38;5;66;03m# this function, and just call forward.\u001B[39;00m\n\u001B[32m   1781\u001B[39m \u001B[38;5;28;01mif\u001B[39;00m \u001B[38;5;129;01mnot\u001B[39;00m (\u001B[38;5;28mself\u001B[39m._backward_hooks \u001B[38;5;129;01mor\u001B[39;00m \u001B[38;5;28mself\u001B[39m._backward_pre_hooks \u001B[38;5;129;01mor\u001B[39;00m \u001B[38;5;28mself\u001B[39m._forward_hooks \u001B[38;5;129;01mor\u001B[39;00m \u001B[38;5;28mself\u001B[39m._forward_pre_hooks\n\u001B[32m   1782\u001B[39m         \u001B[38;5;129;01mor\u001B[39;00m _global_backward_pre_hooks \u001B[38;5;129;01mor\u001B[39;00m _global_backward_hooks\n\u001B[32m   1783\u001B[39m         \u001B[38;5;129;01mor\u001B[39;00m _global_forward_hooks \u001B[38;5;129;01mor\u001B[39;00m _global_forward_pre_hooks):\n\u001B[32m-> \u001B[39m\u001B[32m1784\u001B[39m     \u001B[38;5;28;01mreturn\u001B[39;00m \u001B[43mforward_call\u001B[49m\u001B[43m(\u001B[49m\u001B[43m*\u001B[49m\u001B[43margs\u001B[49m\u001B[43m,\u001B[49m\u001B[43m \u001B[49m\u001B[43m*\u001B[49m\u001B[43m*\u001B[49m\u001B[43mkwargs\u001B[49m\u001B[43m)\u001B[49m\n\u001B[32m   1786\u001B[39m result = \u001B[38;5;28;01mNone\u001B[39;00m\n\u001B[32m   1787\u001B[39m called_always_called_hooks = \u001B[38;5;28mset\u001B[39m()\n",
      "\u001B[36mFile \u001B[39m\u001B[32m~/HomeProjects/NasaSpaceApps2025/SpaceAppsExoplanets/.venv/lib/python3.12/site-packages/torch/nn/modules/container.py:244\u001B[39m, in \u001B[36mSequential.forward\u001B[39m\u001B[34m(self, input)\u001B[39m\n\u001B[32m    242\u001B[39m \u001B[38;5;28;01mdef\u001B[39;00m\u001B[38;5;250m \u001B[39m\u001B[34mforward\u001B[39m(\u001B[38;5;28mself\u001B[39m, \u001B[38;5;28minput\u001B[39m):\n\u001B[32m    243\u001B[39m     \u001B[38;5;28;01mfor\u001B[39;00m module \u001B[38;5;129;01min\u001B[39;00m \u001B[38;5;28mself\u001B[39m:\n\u001B[32m--> \u001B[39m\u001B[32m244\u001B[39m         \u001B[38;5;28minput\u001B[39m = \u001B[43mmodule\u001B[49m\u001B[43m(\u001B[49m\u001B[38;5;28;43minput\u001B[39;49m\u001B[43m)\u001B[49m\n\u001B[32m    245\u001B[39m     \u001B[38;5;28;01mreturn\u001B[39;00m \u001B[38;5;28minput\u001B[39m\n",
      "\u001B[36mFile \u001B[39m\u001B[32m~/HomeProjects/NasaSpaceApps2025/SpaceAppsExoplanets/.venv/lib/python3.12/site-packages/torch/nn/modules/module.py:1773\u001B[39m, in \u001B[36mModule._wrapped_call_impl\u001B[39m\u001B[34m(self, *args, **kwargs)\u001B[39m\n\u001B[32m   1771\u001B[39m     \u001B[38;5;28;01mreturn\u001B[39;00m \u001B[38;5;28mself\u001B[39m._compiled_call_impl(*args, **kwargs)  \u001B[38;5;66;03m# type: ignore[misc]\u001B[39;00m\n\u001B[32m   1772\u001B[39m \u001B[38;5;28;01melse\u001B[39;00m:\n\u001B[32m-> \u001B[39m\u001B[32m1773\u001B[39m     \u001B[38;5;28;01mreturn\u001B[39;00m \u001B[38;5;28;43mself\u001B[39;49m\u001B[43m.\u001B[49m\u001B[43m_call_impl\u001B[49m\u001B[43m(\u001B[49m\u001B[43m*\u001B[49m\u001B[43margs\u001B[49m\u001B[43m,\u001B[49m\u001B[43m \u001B[49m\u001B[43m*\u001B[49m\u001B[43m*\u001B[49m\u001B[43mkwargs\u001B[49m\u001B[43m)\u001B[49m\n",
      "\u001B[36mFile \u001B[39m\u001B[32m~/HomeProjects/NasaSpaceApps2025/SpaceAppsExoplanets/.venv/lib/python3.12/site-packages/torch/nn/modules/module.py:1784\u001B[39m, in \u001B[36mModule._call_impl\u001B[39m\u001B[34m(self, *args, **kwargs)\u001B[39m\n\u001B[32m   1779\u001B[39m \u001B[38;5;66;03m# If we don't have any hooks, we want to skip the rest of the logic in\u001B[39;00m\n\u001B[32m   1780\u001B[39m \u001B[38;5;66;03m# this function, and just call forward.\u001B[39;00m\n\u001B[32m   1781\u001B[39m \u001B[38;5;28;01mif\u001B[39;00m \u001B[38;5;129;01mnot\u001B[39;00m (\u001B[38;5;28mself\u001B[39m._backward_hooks \u001B[38;5;129;01mor\u001B[39;00m \u001B[38;5;28mself\u001B[39m._backward_pre_hooks \u001B[38;5;129;01mor\u001B[39;00m \u001B[38;5;28mself\u001B[39m._forward_hooks \u001B[38;5;129;01mor\u001B[39;00m \u001B[38;5;28mself\u001B[39m._forward_pre_hooks\n\u001B[32m   1782\u001B[39m         \u001B[38;5;129;01mor\u001B[39;00m _global_backward_pre_hooks \u001B[38;5;129;01mor\u001B[39;00m _global_backward_hooks\n\u001B[32m   1783\u001B[39m         \u001B[38;5;129;01mor\u001B[39;00m _global_forward_hooks \u001B[38;5;129;01mor\u001B[39;00m _global_forward_pre_hooks):\n\u001B[32m-> \u001B[39m\u001B[32m1784\u001B[39m     \u001B[38;5;28;01mreturn\u001B[39;00m \u001B[43mforward_call\u001B[49m\u001B[43m(\u001B[49m\u001B[43m*\u001B[49m\u001B[43margs\u001B[49m\u001B[43m,\u001B[49m\u001B[43m \u001B[49m\u001B[43m*\u001B[49m\u001B[43m*\u001B[49m\u001B[43mkwargs\u001B[49m\u001B[43m)\u001B[49m\n\u001B[32m   1786\u001B[39m result = \u001B[38;5;28;01mNone\u001B[39;00m\n\u001B[32m   1787\u001B[39m called_always_called_hooks = \u001B[38;5;28mset\u001B[39m()\n",
      "\u001B[36mFile \u001B[39m\u001B[32m~/HomeProjects/NasaSpaceApps2025/SpaceAppsExoplanets/.venv/lib/python3.12/site-packages/torch/nn/modules/activation.py:135\u001B[39m, in \u001B[36mReLU.forward\u001B[39m\u001B[34m(self, input)\u001B[39m\n\u001B[32m    134\u001B[39m \u001B[38;5;28;01mdef\u001B[39;00m\u001B[38;5;250m \u001B[39m\u001B[34mforward\u001B[39m(\u001B[38;5;28mself\u001B[39m, \u001B[38;5;28minput\u001B[39m: Tensor) -> Tensor:\n\u001B[32m--> \u001B[39m\u001B[32m135\u001B[39m     \u001B[38;5;28;01mreturn\u001B[39;00m \u001B[43mF\u001B[49m\u001B[43m.\u001B[49m\u001B[43mrelu\u001B[49m\u001B[43m(\u001B[49m\u001B[38;5;28;43minput\u001B[39;49m\u001B[43m,\u001B[49m\u001B[43m \u001B[49m\u001B[43minplace\u001B[49m\u001B[43m=\u001B[49m\u001B[38;5;28;43mself\u001B[39;49m\u001B[43m.\u001B[49m\u001B[43minplace\u001B[49m\u001B[43m)\u001B[49m\n",
      "\u001B[36mFile \u001B[39m\u001B[32m~/HomeProjects/NasaSpaceApps2025/SpaceAppsExoplanets/.venv/lib/python3.12/site-packages/torch/nn/functional.py:1701\u001B[39m, in \u001B[36mrelu\u001B[39m\u001B[34m(input, inplace)\u001B[39m\n\u001B[32m   1699\u001B[39m     result = torch.relu_(\u001B[38;5;28minput\u001B[39m)\n\u001B[32m   1700\u001B[39m \u001B[38;5;28;01melse\u001B[39;00m:\n\u001B[32m-> \u001B[39m\u001B[32m1701\u001B[39m     result = \u001B[43mtorch\u001B[49m\u001B[43m.\u001B[49m\u001B[43mrelu\u001B[49m\u001B[43m(\u001B[49m\u001B[38;5;28;43minput\u001B[39;49m\u001B[43m)\u001B[49m\n\u001B[32m   1702\u001B[39m \u001B[38;5;28;01mreturn\u001B[39;00m result\n",
      "\u001B[31mKeyboardInterrupt\u001B[39m: "
     ]
    }
   ],
   "execution_count": 18
  },
  {
   "metadata": {},
   "cell_type": "markdown",
   "source": [
    "# Saving and loading already trained Model\n",
    "\n",
    "Creating template / method for effective saving already trained model, so user don't have to wait for it to finish training before usage."
   ],
   "id": "31587e963be13ec5"
  },
  {
   "metadata": {},
   "cell_type": "code",
   "outputs": [],
   "execution_count": null,
   "source": [
    "from pathlib import Path\n",
    "\n",
    "MODEL_PATH = Path(\"saved_models/nn\")\n",
    "MODEL_PATH.mkdir(parents = True, exist_ok = True)\n",
    "\n",
    "def SaveModel(model, model_name: str):\n",
    "    # 1. Create models directory if it doesn't exist yet\n",
    "\n",
    "    # 2. Create model save path\n",
    "    MODEL_NAME = model_name + \".pth\"\n",
    "    MODEL_SAVE_PATH = MODEL_PATH / MODEL_NAME\n",
    "\n",
    "    # 3. Save the model state dict\n",
    "    print(f\"Saving model to: {MODEL_SAVE_PATH}\")\n",
    "    torch.save(obj = model.state_dict(),\n",
    "               f = MODEL_SAVE_PATH)"
   ],
   "id": "479e99774a32bc42"
  },
  {
   "metadata": {},
   "cell_type": "code",
   "outputs": [],
   "execution_count": null,
   "source": "!ls -l saved_models",
   "id": "44285452b197193e"
  },
  {
   "metadata": {},
   "cell_type": "markdown",
   "source": [
    "### Loading Trained model\n",
    "\n"
   ],
   "id": "5da508e128179eca"
  },
  {
   "metadata": {},
   "cell_type": "code",
   "outputs": [],
   "execution_count": null,
   "source": [
    "# To load in a saved state_dict we have to instantiate a new instace of our model class\n",
    "def load_model(model_name, input_features, output_features, hidden_units):\n",
    "    model_name += \".pth\"\n",
    "    loaded_model = ExoplanetsV0(input_features, output_features, hidden_units)\n",
    "    loaded_model.load_state_dict(torch.load(f = MODEL_PATH / model_name))\n",
    "    return loaded_model"
   ],
   "id": "fc372736b6a58d1f"
  },
  {
   "metadata": {},
   "cell_type": "markdown",
   "source": "# Using already trained model to evaluate new input data",
   "id": "db146789a8e686d9"
  },
  {
   "metadata": {},
   "cell_type": "code",
   "outputs": [],
   "execution_count": null,
   "source": [
    "import os\n",
    "import numpy as np\n",
    "import pandas as pd\n",
    "\n",
    "def load_single_csv(folder_path=\"../../input_data/\"):\n",
    "    csv_files = [f for f in os.listdir(folder_path) if f.endswith(\".csv\")]\n",
    "\n",
    "    if len(csv_files) == 0:\n",
    "        raise FileNotFoundError(f\" Brak pliku CSV w folderze: {folder_path}\")\n",
    "    elif len(csv_files) > 1:\n",
    "        raise ValueError(f\"⚠ W folderze {folder_path} znaleziono więcej niż jeden plik CSV: {csv_files}\")\n",
    "\n",
    "    file_path = os.path.join(folder_path, csv_files[0])\n",
    "    print(f\" Wczytuję plik: {file_path}\")\n",
    "\n",
    "    data = np.loadtxt(file_path, delimiter=\",\", skiprows=1)\n",
    "    data = np.delete(input, 0, axis = 1)\n",
    "    data = torch.from_numpy(input).type(torch.float32).squeeze()\n",
    "    return data\n",
    "\n",
    "def use_model(model_name, input_features, output_features, hidden_units):\n",
    "    # Loading already trained model from \"*.pth\" file\n",
    "    loaded_model = load_model(model_name, input_features, output_features, hidden_units)\n",
    "    loaded_model.eval()\n",
    "\n",
    "    # Input is always in the same place\n",
    "    input = load_single_csv()\n",
    "    with torch.inference_mode():\n",
    "        logits = loaded_model(input)\n",
    "        probabilities = torch.sigmoid(logits).squeeze()\n",
    "        predictions = (probabilities > 0.5).int()\n",
    "\n",
    "        # Saving results to csv format\n",
    "        results = pd.DataFrame({\n",
    "        \"probability\": probabilities.cpu().numpy(),\n",
    "        \"prediction\": predictions.cpu().numpy()\n",
    "        })\n",
    "\n",
    "        output_path = \"predictions.csv\"\n",
    "        results.to_csv(output_path, index=False)\n",
    "\n",
    "        print(f\"✅ Zapisano wyniki do pliku: {output_path}\")\n",
    "        print(results.head())\n"
   ],
   "id": "d805709538b89435"
  },
  {
   "metadata": {},
   "cell_type": "code",
   "outputs": [],
   "execution_count": null,
   "source": [
    "# CHecking if method above works\n",
    "use_model(\"nn_exoplanets0\", 7,1,32)\n"
   ],
   "id": "b7b59a0ac9d962c"
  },
  {
   "metadata": {},
   "cell_type": "markdown",
   "source": "# Looking for mistakes",
   "id": "ffaa685ce727b206"
  },
  {
   "metadata": {},
   "cell_type": "markdown",
   "source": "### Balance between classes",
   "id": "80b2b6c1242e6200"
  },
  {
   "metadata": {},
   "cell_type": "markdown",
   "source": [
    "#### Fix 1. Using wage in loss_fn\n",
    "\n",
    "Using wage in BCEWithLogitsLoss()"
   ],
   "id": "9de7309167dee68d"
  },
  {
   "metadata": {},
   "cell_type": "markdown",
   "source": "#### Fix 2. Using fake data to check if model is learning anything",
   "id": "a48288f369dfcab9"
  },
  {
   "metadata": {},
   "cell_type": "code",
   "outputs": [],
   "execution_count": null,
   "source": [
    "import numpy as np\n",
    "import torch\n",
    "from sklearn.datasets import make_classification\n",
    "\n",
    "# Stwórz sztuczne dane które NA PEWNO są przewidywalne\n",
    "X_easy, y_easy = make_classification(\n",
    "    n_samples=2000,\n",
    "    n_features=10,\n",
    "    n_informative=8,  # 8 użytecznych features\n",
    "    n_redundant=2,  # 2 zbędne features\n",
    "    n_clusters_per_class=1,\n",
    "    random_state=42\n",
    ")\n",
    "\n",
    "# Konwersja do tensorów\n",
    "X_easy_tensor = torch.from_numpy(X_easy).float()\n",
    "y_easy_tensor = torch.from_numpy(y_easy).float()\n",
    "\n",
    "print(f\"Easy data - X: {X_easy_tensor.shape}, y: {y_easy_tensor.shape}\")\n",
    "print(f\"Class balance: {y_easy.mean():.3f} positive\")"
   ],
   "id": "6e144586dae024ff"
  },
  {
   "metadata": {},
   "cell_type": "code",
   "outputs": [],
   "execution_count": null,
   "source": [
    "# Test on easy data\n",
    "def test_your_model():\n",
    "    # Generate easy data (18 features like in  original data)\n",
    "    X_easy, y_easy = make_classification(\n",
    "        n_samples=2000,\n",
    "        n_features=18,  # SAME AS IN DATA\n",
    "        n_informative=16,  # Most features are useful\n",
    "        n_redundant=2,\n",
    "        n_clusters_per_class=1,\n",
    "        random_state=42,\n",
    "        flip_y=0.01  # Only 1% noise\n",
    "    )\n",
    "\n",
    "    # Convert to tensors -\n",
    "    X_easy_tensor = torch.from_numpy(X_easy).float()\n",
    "    y_easy_tensor = torch.from_numpy(y_easy).float()\n",
    "\n",
    "    # Train/test split\n",
    "    split_idx = int(0.8 * len(X_easy_tensor))\n",
    "    X_train = X_easy_tensor[:split_idx]\n",
    "    X_test = X_easy_tensor[split_idx:]\n",
    "    y_train = y_easy_tensor[:split_idx]\n",
    "    y_test = y_easy_tensor[split_idx:]\n",
    "\n",
    "    # USE EXACT MODEL\n",
    "    model = ExoplanetsV0(input_features=18, output_features=1, hidden_units=128)\n",
    "\n",
    "    # USED HYPERPARAMETERS (you can also test different ones)\n",
    "    optimizer = torch.optim.SGD(params=model.parameters(), lr=0.01)  # optimizer\n",
    "    loss_fn = nn.BCEWithLogitsLoss()  # loss function\n",
    "\n",
    "    print(\"=== TESTING YOUR MODEL ON EASY DATA ===\")\n",
    "    print(f\"Model: {model}\")\n",
    "    print(f\"Optimizer: SGD lr=0.01\")\n",
    "    print(f\"Data: {X_train.shape} -> {y_train.shape}\")\n",
    "\n",
    "    # Training\n",
    "    for epoch in range(100):\n",
    "        model.train()\n",
    "        optimizer.zero_grad()\n",
    "\n",
    "        # Forward pass\n",
    "        y_logits = model(X_train).squeeze()\n",
    "\n",
    "        # prediction logic\n",
    "        y_pred = torch.round(torch.sigmoid(y_logits))\n",
    "\n",
    "        # Loss\n",
    "        loss = loss_fn(y_logits, y_train)  # BCEWithLogitsLoss with logits\n",
    "        acc = (y_pred == y_train).float().mean()\n",
    "\n",
    "        # Backward\n",
    "        loss.backward()\n",
    "        optimizer.step()\n",
    "\n",
    "        # Test every 20 epochs\n",
    "        if epoch % 20 == 0:\n",
    "            model.eval()\n",
    "            with torch.no_grad():\n",
    "                test_logits = model(X_test).squeeze()\n",
    "                test_pred = torch.round(torch.sigmoid(test_logits))\n",
    "                test_loss = loss_fn(test_logits, y_test)\n",
    "                test_acc = (test_pred == y_test).float().mean()\n",
    "\n",
    "            print(\n",
    "                f\"Epoch {epoch:3d} | Train Loss: {loss:.4f}, Acc: {acc:.4f} | Test Loss: {test_loss:.4f}, Acc: {test_acc:.4f}\")\n",
    "\n",
    "    final_test_acc = (test_pred == y_test).float().mean()\n",
    "    print(f\"\\n FINAL TEST ACCURACY: {final_test_acc:.4f}\")\n",
    "\n",
    "    if final_test_acc > 0.85:\n",
    "        print(\"MODEL WORKS CORRECTLY - problem is in KEPLER DATA\")\n",
    "        return True\n",
    "    elif final_test_acc > 0.6:\n",
    "        print(\"MODEL WORKS POORLY - possible architecture problem\")\n",
    "        return False\n",
    "    else:\n",
    "        print(\"MODEL DOESN'T WORK - problem in IMPLEMENTATION\")\n",
    "        return False\n",
    "\n",
    "\n",
    "# Run test\n",
    "print(\"Testing YOUR exact model on easy data...\")\n",
    "model_works = test_your_model()"
   ],
   "id": "66e5f9a6f4dea556"
  },
  {
   "metadata": {},
   "cell_type": "markdown",
   "source": [
    "### Conclusion\n",
    "\n",
    "Problem in `Sigmoid()` in `nn.Sequential`. Sigmoid should be used to round when we want to convert logits > probs > labels, it was affecting final answer when used in wrong place.\n",
    "\n",
    "Model can achieve ~60% accuracy on Dataset, let's try wages now, with working implementation. -> Model achieves over 90% accuracy."
   ],
   "id": "63e735f877597ae2"
  },
  {
   "metadata": {},
   "cell_type": "markdown",
   "source": [
    "### Observations\n",
    "\n",
    "* When applied change and increased number of hidden layers\n",
    "    * `Linear>ReLU>Linear>ReLU>Linear>` -> `Linear>ReLU>Linear>ReLU>Linear>ReLU>Linear` accuracy dropped to 60,5% and model wasn't learning"
   ],
   "id": "528a671a172a96ff"
  }
 ],
 "metadata": {
  "kernelspec": {
   "display_name": "Python 3",
   "language": "python",
   "name": "python3"
  },
  "language_info": {
   "codemirror_mode": {
    "name": "ipython",
    "version": 2
   },
   "file_extension": ".py",
   "mimetype": "text/x-python",
   "name": "python",
   "nbconvert_exporter": "python",
   "pygments_lexer": "ipython2",
   "version": "2.7.6"
  }
 },
 "nbformat": 4,
 "nbformat_minor": 5
}
