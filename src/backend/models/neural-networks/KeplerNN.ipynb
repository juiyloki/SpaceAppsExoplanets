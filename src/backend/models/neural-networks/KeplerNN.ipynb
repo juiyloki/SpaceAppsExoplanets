{
 "cells": [
  {
   "metadata": {},
   "cell_type": "markdown",
   "source": "# Binary classification Model",
   "id": "738377a1cdbdc05b"
  },
  {
   "metadata": {},
   "cell_type": "markdown",
   "source": "### train / test split",
   "id": "94f97e67bbeb9b95"
  },
  {
   "metadata": {
    "ExecuteTime": {
     "end_time": "2025-10-05T01:40:45.283218Z",
     "start_time": "2025-10-05T01:40:45.256524Z"
    }
   },
   "cell_type": "code",
   "source": [
    "import numpy as np\n",
    "import torch\n",
    "from torch import nn\n",
    "from sympy import false\n",
    "\n",
    "# Load all the test and train data as numpy objects.\n",
    "X_train = np.loadtxt(\"../../datasets/merged/X_train_imputed_scaled.csv\", delimiter=\",\", skiprows=1)\n",
    "X_test = np.loadtxt(\"../../datasets/merged/X_test_imputed_scaled.csv\", delimiter=\",\", skiprows=1)\n",
    "y_train = np.loadtxt(\"../../datasets/merged/y_train.csv\", delimiter=\",\", skiprows=1)\n",
    "y_test = np.loadtxt(\"../../datasets/merged/y_test.csv\", delimiter=\",\", skiprows=1)\n",
    "\n",
    "# Delete the id column.\n",
    "X_train = np.delete(X_train, 0, axis=1)\n",
    "X_test = np.delete(X_test, 0, axis=1)\n",
    "y_train = np.delete(y_train, 0, axis=1)\n",
    "y_test = np.delete(y_test, 0, axis=1)\n",
    "\n",
    "# Change into tensor.\n",
    "X_train = torch.from_numpy(X_train).type(torch.float32).squeeze()\n",
    "X_test = torch.from_numpy(X_test).type(torch.float32).squeeze()\n",
    "y_train = torch.from_numpy(y_train).type(torch.float32).squeeze()\n",
    "y_test = torch.from_numpy(y_test).type(torch.float32).squeeze()\n"
   ],
   "id": "23fd523d6c77c485",
   "outputs": [],
   "execution_count": 180
  },
  {
   "metadata": {
    "ExecuteTime": {
     "end_time": "2025-10-05T01:40:45.318126Z",
     "start_time": "2025-10-05T01:40:45.308672Z"
    }
   },
   "cell_type": "code",
   "source": "X_train.shape, X_test.shape, y_train.shape, y_test.shape",
   "id": "f35510f3ae2aa9cf",
   "outputs": [
    {
     "data": {
      "text/plain": [
       "(torch.Size([10018, 7]),\n",
       " torch.Size([2648, 7]),\n",
       " torch.Size([10018]),\n",
       " torch.Size([2648]))"
      ]
     },
     "execution_count": 181,
     "metadata": {},
     "output_type": "execute_result"
    }
   ],
   "execution_count": 181
  },
  {
   "metadata": {
    "ExecuteTime": {
     "end_time": "2025-10-05T01:40:45.368339Z",
     "start_time": "2025-10-05T01:40:45.362924Z"
    }
   },
   "cell_type": "code",
   "source": "type(X_train), X_train.dtype",
   "id": "5ac1527c14c6d08b",
   "outputs": [
    {
     "data": {
      "text/plain": [
       "(torch.Tensor, torch.float32)"
      ]
     },
     "execution_count": 182,
     "metadata": {},
     "output_type": "execute_result"
    }
   ],
   "execution_count": 182
  },
  {
   "metadata": {
    "ExecuteTime": {
     "end_time": "2025-10-05T01:40:45.423838Z",
     "start_time": "2025-10-05T01:40:45.419519Z"
    }
   },
   "cell_type": "code",
   "source": "type(y_train), y_train.dtype",
   "id": "ae2329b53f7b47ac",
   "outputs": [
    {
     "data": {
      "text/plain": [
       "(torch.Tensor, torch.float32)"
      ]
     },
     "execution_count": 183,
     "metadata": {},
     "output_type": "execute_result"
    }
   ],
   "execution_count": 183
  },
  {
   "metadata": {
    "ExecuteTime": {
     "end_time": "2025-10-05T01:40:45.480175Z",
     "start_time": "2025-10-05T01:40:45.474726Z"
    }
   },
   "cell_type": "code",
   "source": [
    "device = \"cuda\" if torch.cuda.is_available() else \"cpu\"\n",
    "device"
   ],
   "id": "b4c603fd98860265",
   "outputs": [
    {
     "data": {
      "text/plain": [
       "'cuda'"
      ]
     },
     "execution_count": 184,
     "metadata": {},
     "output_type": "execute_result"
    }
   ],
   "execution_count": 184
  },
  {
   "metadata": {
    "ExecuteTime": {
     "end_time": "2025-10-05T01:40:45.534907Z",
     "start_time": "2025-10-05T01:40:45.530081Z"
    }
   },
   "cell_type": "code",
   "source": "torch.cuda.is_available()",
   "id": "a753071137949458",
   "outputs": [
    {
     "data": {
      "text/plain": [
       "True"
      ]
     },
     "execution_count": 185,
     "metadata": {},
     "output_type": "execute_result"
    }
   ],
   "execution_count": 185
  },
  {
   "metadata": {},
   "cell_type": "markdown",
   "source": "### Construct Model Class",
   "id": "8c65bb2850b4100a"
  },
  {
   "metadata": {
    "ExecuteTime": {
     "end_time": "2025-10-05T01:40:45.607078Z",
     "start_time": "2025-10-05T01:40:45.589791Z"
    }
   },
   "cell_type": "code",
   "source": [
    "class ExoplanetsV0(nn.Module):\n",
    "\n",
    "    def __init__(self, input_features, output_features, hidden_units=8):\n",
    "        super().__init__()\n",
    "\n",
    "        self.input_features = input_features\n",
    "        self.output_features = output_features\n",
    "        self.hidden_units = hidden_units\n",
    "\n",
    "        self.layers = nn.Sequential(\n",
    "            nn.Linear(in_features=input_features, out_features=hidden_units),\n",
    "            nn.ReLU(),\n",
    "            nn.Linear(in_features=hidden_units, out_features=int(hidden_units/2)),\n",
    "            nn.ReLU(),\n",
    "            nn.Linear(in_features=int(hidden_units/2), out_features=int(hidden_units / 4)),\n",
    "            nn.ReLU(),\n",
    "            nn.Linear(in_features=int(hidden_units/4), out_features=output_features),\n",
    "        )\n",
    "\n",
    "    def forward(self, x):\n",
    "        return self.layers(x)\n",
    "\n",
    "\n",
    "# Create a test model\n",
    "test = ExoplanetsV0(input_features=X_test.shape[1], output_features=1, hidden_units=32).to(device)\n",
    "print(test, test.input_features, test.output_features, test.hidden_units)\n",
    "del test"
   ],
   "id": "f6dbca34459e6884",
   "outputs": [
    {
     "name": "stdout",
     "output_type": "stream",
     "text": [
      "ExoplanetsV0(\n",
      "  (layers): Sequential(\n",
      "    (0): Linear(in_features=7, out_features=32, bias=True)\n",
      "    (1): ReLU()\n",
      "    (2): Linear(in_features=32, out_features=16, bias=True)\n",
      "    (3): ReLU()\n",
      "    (4): Linear(in_features=16, out_features=8, bias=True)\n",
      "    (5): ReLU()\n",
      "    (6): Linear(in_features=8, out_features=1, bias=True)\n",
      "  )\n",
      ") 7 1 32\n"
     ]
    }
   ],
   "execution_count": 186
  },
  {
   "metadata": {
    "ExecuteTime": {
     "end_time": "2025-10-05T01:40:45.660428Z",
     "start_time": "2025-10-05T01:40:45.655799Z"
    }
   },
   "cell_type": "code",
   "source": "X_train.shape, y_train.shape",
   "id": "99453012b4cc91a5",
   "outputs": [
    {
     "data": {
      "text/plain": [
       "(torch.Size([10018, 7]), torch.Size([10018]))"
      ]
     },
     "execution_count": 187,
     "metadata": {},
     "output_type": "execute_result"
    }
   ],
   "execution_count": 187
  },
  {
   "metadata": {},
   "cell_type": "markdown",
   "source": "### Accuracy function",
   "id": "8b73fe1785177a23"
  },
  {
   "metadata": {
    "ExecuteTime": {
     "end_time": "2025-10-05T01:40:45.722278Z",
     "start_time": "2025-10-05T01:40:45.717302Z"
    }
   },
   "cell_type": "code",
   "source": [
    "# Calculate accuracy\n",
    "def accuracy_fn(y_true, y_pred):\n",
    "    correct = torch.eq(y_true, y_pred).sum().item()\n",
    "    acc = (correct / len(y_pred)) * 100\n",
    "    return acc"
   ],
   "id": "d60929e21ec0f69b",
   "outputs": [],
   "execution_count": 188
  },
  {
   "metadata": {},
   "cell_type": "markdown",
   "source": [
    "# Train Model\n",
    "\n",
    "Model outputs are raw **Logits**\n",
    "\n",
    "We are converting logits into prediction probabilities by passing them to some kind of activation function (int this case `nn.Sigmoid()`) Then we can convert our model's prediction probabilities to **prediction labels** by taking the `argmaX_scaled()`"
   ],
   "id": "100f8e2b176e76d5"
  },
  {
   "metadata": {},
   "cell_type": "markdown",
   "source": "### Plot analysis",
   "id": "92009fec5b0dae58"
  },
  {
   "metadata": {
    "ExecuteTime": {
     "end_time": "2025-10-05T01:40:45.782642Z",
     "start_time": "2025-10-05T01:40:45.771536Z"
    }
   },
   "cell_type": "code",
   "source": [
    "import matplotlib.pyplot as plt\n",
    "\n",
    "def makePlots(track_accuracy, track_loss, track_f1, track_precision, track_recall, track_auc,\n",
    "              track_test_accuracy, track_test_loss, track_test_f1, track_test_precision,\n",
    "              track_test_recall, track_test_auc):\n",
    "    epoch_range = range(1, len(track_accuracy) + 1)\n",
    "\n",
    "    plt.figure(figsize=(18, 12))\n",
    "\n",
    "    # Accuracy\n",
    "    plt.subplot(3, 2, 1)\n",
    "    plt.plot(epoch_range, track_accuracy, label='Train Accuracy')\n",
    "    plt.plot(epoch_range, track_test_accuracy, label='Test Accuracy')\n",
    "    plt.title('Model Accuracy')\n",
    "    plt.xlabel('Epoch')\n",
    "    plt.ylabel('Accuracy (%)')\n",
    "    plt.legend()\n",
    "    plt.grid(True)\n",
    "\n",
    "    # Loss\n",
    "    plt.subplot(3, 2, 2)\n",
    "    plt.plot(epoch_range, track_loss, label='Train Loss')\n",
    "    plt.plot(epoch_range, track_test_loss, label='Test Loss')\n",
    "    plt.title('Model Loss')\n",
    "    plt.xlabel('Epoch')\n",
    "    plt.ylabel('Loss')\n",
    "    plt.legend()\n",
    "    plt.grid(True)\n",
    "\n",
    "    # F1 Score\n",
    "    plt.subplot(3, 2, 3)\n",
    "    plt.plot(epoch_range, track_f1, label='Train F1')\n",
    "    plt.plot(epoch_range, track_test_f1, label='Test F1')\n",
    "    plt.title('F1 Score')\n",
    "    plt.xlabel('Epoch')\n",
    "    plt.ylabel('F1 Score')\n",
    "    plt.legend()\n",
    "    plt.grid(True)\n",
    "\n",
    "    # Precision\n",
    "    plt.subplot(3, 2, 4)\n",
    "    plt.plot(epoch_range, track_precision, label='Train Precision')\n",
    "    plt.plot(epoch_range, track_test_precision, label='Test Precision')\n",
    "    plt.title('Precision')\n",
    "    plt.xlabel('Epoch')\n",
    "    plt.ylabel('Precision')\n",
    "    plt.legend()\n",
    "    plt.grid(True)\n",
    "\n",
    "    # Recall\n",
    "    plt.subplot(3, 2, 5)\n",
    "    plt.plot(epoch_range, track_recall, label='Train Recall')\n",
    "    plt.plot(epoch_range, track_test_recall, label='Test Recall')\n",
    "    plt.title('Recall')\n",
    "    plt.xlabel('Epoch')\n",
    "    plt.ylabel('Recall')\n",
    "    plt.legend()\n",
    "    plt.grid(True)\n",
    "\n",
    "    # AUC\n",
    "    plt.subplot(3, 2, 6)\n",
    "    plt.plot(epoch_range, track_auc, label='Train AUC')\n",
    "    plt.plot(epoch_range, track_test_auc, label='Test AUC')\n",
    "    plt.title('AUC')\n",
    "    plt.xlabel('Epoch')\n",
    "    plt.ylabel('AUC')\n",
    "    plt.legend()\n",
    "    plt.grid(True)\n",
    "\n",
    "    plt.tight_layout()\n",
    "    plt.savefig('training_metrics.png', dpi=300)  # Zapisuje wykres w wysokiej jakości\n",
    "    plt.show()\n"
   ],
   "id": "59f65ba81542dd25",
   "outputs": [],
   "execution_count": 189
  },
  {
   "metadata": {},
   "cell_type": "markdown",
   "source": "### Model training",
   "id": "b190d9e68b7db20b"
  },
  {
   "metadata": {
    "ExecuteTime": {
     "end_time": "2025-10-05T01:40:45.846136Z",
     "start_time": "2025-10-05T01:40:45.830408Z"
    }
   },
   "cell_type": "code",
   "source": [
    "from sklearn.metrics import precision_score, recall_score, f1_score, roc_auc_score\n",
    "\n",
    "def trainModel(model, X_train, y_train, X_test, y_test, epochs, lr, threshold, isCrossValidation=False):\n",
    "\n",
    "    # Setting seed for reproducibility.\n",
    "    torch.manual_seed(42)\n",
    "    torch.cuda.manual_seed(42)\n",
    "\n",
    "    model.to(device)\n",
    "\n",
    "    # Epsilon for float comparison.\n",
    "    EPS = 0.00001\n",
    "\n",
    "    # Tracking data for the plots.\n",
    "    track_accuracy = []\n",
    "    track_loss = []\n",
    "    track_f1 = []\n",
    "    track_precision = []\n",
    "    track_recall = []\n",
    "    track_auc = []\n",
    "\n",
    "    track_test_f1 = []\n",
    "    track_test_precision = []\n",
    "    track_test_recall = []\n",
    "    track_test_auc = []\n",
    "    track_test_accuracy = []\n",
    "    track_test_loss = []\n",
    "\n",
    "\n",
    "    # Put data to the target device.\n",
    "    X_train, y_train = X_train.to(device), y_train.to(device)\n",
    "    X_test, y_test = X_test.to(device), y_test.to(device)\n",
    "\n",
    "    # Setting weights to reduce data imbalance.\n",
    "    weight_for_0 = len(y_test) + len(y_train) / (2 * ((y_test < EPS).sum() + (y_train < EPS).sum()))\n",
    "    weight_for_1 = len(y_test) + len(y_train) / (2 * ((y_test - 1 < EPS).sum() + (y_train - 1 < EPS).sum()))\n",
    "    pos_weight = torch.tensor([weight_for_1 / weight_for_0]).to(device)\n",
    "\n",
    "    loss_fn = nn.BCEWithLogitsLoss(pos_weight=pos_weight)\n",
    "    optimizer = torch.optim.SGD(params=model.parameters(), lr=lr)\n",
    "\n",
    "\n",
    "    for epoch in range(epochs):\n",
    "        ### Training\n",
    "        model.train()\n",
    "\n",
    "        # 1. Forward pass\n",
    "        y_logits = model(X_train).squeeze() # Raw logits.\n",
    "        y_probs = torch.sigmoid(y_logits)   # Probability.\n",
    "        y_pred = (y_probs  >= threshold).int().to(device) # Prediction\n",
    "\n",
    "        # 2. Calculate the loss\n",
    "        loss = loss_fn(y_logits, y_train)\n",
    "        track_loss.append(loss.item())\n",
    "\n",
    "        acc = accuracy_fn(y_true=y_train.detach(), y_pred=y_pred.detach())\n",
    "        precision = precision_score(y_true=y_train.detach().cpu(), y_pred=y_pred.detach().cpu(), zero_division=0) * 100\n",
    "        recall = recall_score(y_true=y_train.detach().cpu(), y_pred=y_pred.detach().cpu(), zero_division=0) * 100\n",
    "        f1 = f1_score(y_true=y_train.detach().cpu(), y_pred=y_pred.detach().cpu(), zero_division=0) * 100\n",
    "        auc = roc_auc_score(y_true=y_train.detach().cpu(), y_score=y_probs.detach().cpu())\n",
    "\n",
    "        track_accuracy.append(acc)\n",
    "        track_precision.append(precision)\n",
    "        track_recall.append(recall)\n",
    "        track_f1.append(f1)\n",
    "        track_auc.append(auc)\n",
    "\n",
    "        # 3. Optimizer zero grad\n",
    "        optimizer.zero_grad()\n",
    "\n",
    "        # 4. Backpropagation algorithm\n",
    "        loss.backward()\n",
    "\n",
    "        # 5. Gradient descent algorithm\n",
    "        optimizer.step()\n",
    "\n",
    "        ### Testing\n",
    "        model.eval()\n",
    "        with torch.inference_mode():\n",
    "            # 1. Forward pass\n",
    "            test_logits = model(X_test).squeeze()                  # logits\n",
    "            test_probs = torch.sigmoid(test_logits).to(device)     # Probability\n",
    "            test_pred = (test_probs  >= threshold).int().to(device)         # 1 or 0\n",
    "\n",
    "            # 2. Calculate test loss/acc\n",
    "\n",
    "            test_loss = loss_fn(test_logits, y_test)\n",
    "            track_test_loss.append(test_loss.item())\n",
    "\n",
    "            test_acc = accuracy_fn(y_true=y_test, y_pred=test_pred)\n",
    "            test_precision = precision_score(y_true=y_test.cpu(), y_pred=test_pred.cpu(), zero_division=0) * 100\n",
    "            test_recall = recall_score(y_true=y_test.cpu(), y_pred=test_pred.cpu(), zero_division=0) * 100\n",
    "            test_f1 = f1_score(y_true=y_test.cpu(), y_pred=test_pred.cpu(), zero_division=0) * 100\n",
    "            test_auc = roc_auc_score(y_true=y_test.cpu(), y_score=test_probs.cpu())\n",
    "\n",
    "            track_test_accuracy.append(test_acc)\n",
    "            track_test_precision.append(test_precision)\n",
    "            track_test_recall.append(test_recall)\n",
    "            track_test_f1.append(test_f1)\n",
    "            track_test_auc.append(test_auc)\n",
    "\n",
    "        # Print out data.\n",
    "        if isCrossValidation and (epoch % int(epochs / 10) == 0 or epoch == epochs - 1):\n",
    "            print(\n",
    "                f\"Epoch {epoch} \\n\"\n",
    "                f\" loss: {loss:.5f} | accuracy: {acc:.2f}% | Precision: {precision:.2f}% | Recall: {recall:.2f}% | f1: {f1:.2f}% | auc: {auc:.2f} \\n\"\n",
    "                f\"Test loss: {test_loss:.5f} | Test accuracy: {test_acc:.2f}% | Test precision: {test_precision:.2f}% | Test recall: {test_recall:.2f}% | Test f1: {test_f1:.2f}% | Test auc: {test_auc:.2f} \\n\")\n",
    "\n",
    "    # If it is the test, not validation.\n",
    "    if not isCrossValidation:\n",
    "        makePlots(track_accuracy, track_loss, track_f1, track_precision, track_recall, track_auc,\n",
    "                  track_test_accuracy, track_test_loss, track_test_f1, track_test_precision,\n",
    "                  track_test_recall, track_test_auc)\n",
    "    return test_acc\n"
   ],
   "id": "8e7d023876194ca1",
   "outputs": [],
   "execution_count": 190
  },
  {
   "metadata": {},
   "cell_type": "markdown",
   "source": "# Cross-validation",
   "id": "5a885d7e9c8287e6"
  },
  {
   "metadata": {
    "ExecuteTime": {
     "end_time": "2025-10-05T01:40:56.596408Z",
     "start_time": "2025-10-05T01:40:45.893292Z"
    }
   },
   "cell_type": "code",
   "source": [
    "from sklearn.model_selection import StratifiedKFold\n",
    "\n",
    "kfold = StratifiedKFold(n_splits=5, shuffle=True)\n",
    "cv_scores = []\n",
    "for train, test in kfold.split(X_train, y_train):\n",
    "    # create model, train, and get accuracy\n",
    "    model = ExoplanetsV0(input_features=X_test.shape[1], output_features=1, hidden_units=32).to(device)\n",
    "    acc = trainModel(model, X_train[train], y_train[train], X_train[test], y_train[test], 2500, 0.01, 0.5, True)\n",
    "    print(\"Accuracy: %.2f\" % acc)\n",
    "    cv_scores.append(acc)\n",
    "\n",
    "# evaluate the model\n",
    "model_acc = np.mean(cv_scores)\n",
    "model_std = np.std(cv_scores)\n",
    "print(f\"Stats (cross validation): {model_acc:.2f}% (+/- {model_std:.2f}%)\")\n",
    "\n",
    "model_1 = ExoplanetsV0(input_features=X_test.shape[1], output_features=1, hidden_units=32).to(device)\n",
    "trainModel(model_1, X_train, y_train, X_test, y_test, 2500, 0.01, 0.5, false)"
   ],
   "id": "3f05ab08d6773c57",
   "outputs": [
    {
     "name": "stdout",
     "output_type": "stream",
     "text": [
      "Epoch 0 \n",
      " loss: 0.70558 | accuracy: 51.46% | Precision: 0.00% | Recall: 0.00% | f1: 0.00% | auc: 0.42 \n",
      "Test loss: 0.70517 | Test accuracy: 51.50% | Test precision: 0.00% | Test recall: 0.00% | Test f1: 0.00% | Test auc: 0.41 \n",
      "\n",
      "Epoch 250 \n",
      " loss: 0.68800 | accuracy: 51.63% | Precision: 0.00% | Recall: 0.00% | f1: 0.00% | auc: 0.72 \n",
      "Test loss: 0.68809 | Test accuracy: 51.65% | Test precision: 0.00% | Test recall: 0.00% | Test f1: 0.00% | Test auc: 0.72 \n",
      "\n",
      "Epoch 500 \n",
      " loss: 0.67356 | accuracy: 51.85% | Precision: 81.48% | Recall: 0.57% | f1: 1.13% | auc: 0.76 \n",
      "Test loss: 0.67416 | Test accuracy: 51.75% | Test precision: 75.00% | Test recall: 0.31% | Test f1: 0.62% | Test auc: 0.75 \n",
      "\n",
      "Epoch 750 \n",
      " loss: 0.65519 | accuracy: 65.06% | Precision: 69.11% | Recall: 50.21% | f1: 58.16% | auc: 0.75 \n",
      "Test loss: 0.65623 | Test accuracy: 64.72% | Test precision: 68.77% | Test recall: 49.54% | Test f1: 57.59% | Test auc: 0.75 \n",
      "\n"
     ]
    },
    {
     "ename": "KeyboardInterrupt",
     "evalue": "",
     "output_type": "error",
     "traceback": [
      "\u001B[31m---------------------------------------------------------------------------\u001B[39m",
      "\u001B[31mKeyboardInterrupt\u001B[39m                         Traceback (most recent call last)",
      "\u001B[36mCell\u001B[39m\u001B[36m \u001B[39m\u001B[32mIn[191]\u001B[39m\u001B[32m, line 8\u001B[39m\n\u001B[32m      5\u001B[39m \u001B[38;5;28;01mfor\u001B[39;00m train, test \u001B[38;5;129;01min\u001B[39;00m kfold.split(X_train, y_train):\n\u001B[32m      6\u001B[39m     \u001B[38;5;66;03m# create model, train, and get accuracy\u001B[39;00m\n\u001B[32m      7\u001B[39m     model = ExoplanetsV0(input_features=X_test.shape[\u001B[32m1\u001B[39m], output_features=\u001B[32m1\u001B[39m, hidden_units=\u001B[32m32\u001B[39m).to(device)\n\u001B[32m----> \u001B[39m\u001B[32m8\u001B[39m     acc = \u001B[43mtrainModel\u001B[49m\u001B[43m(\u001B[49m\u001B[43mmodel\u001B[49m\u001B[43m,\u001B[49m\u001B[43m \u001B[49m\u001B[43mX_train\u001B[49m\u001B[43m[\u001B[49m\u001B[43mtrain\u001B[49m\u001B[43m]\u001B[49m\u001B[43m,\u001B[49m\u001B[43m \u001B[49m\u001B[43my_train\u001B[49m\u001B[43m[\u001B[49m\u001B[43mtrain\u001B[49m\u001B[43m]\u001B[49m\u001B[43m,\u001B[49m\u001B[43m \u001B[49m\u001B[43mX_train\u001B[49m\u001B[43m[\u001B[49m\u001B[43mtest\u001B[49m\u001B[43m]\u001B[49m\u001B[43m,\u001B[49m\u001B[43m \u001B[49m\u001B[43my_train\u001B[49m\u001B[43m[\u001B[49m\u001B[43mtest\u001B[49m\u001B[43m]\u001B[49m\u001B[43m,\u001B[49m\u001B[43m \u001B[49m\u001B[32;43m2500\u001B[39;49m\u001B[43m,\u001B[49m\u001B[43m \u001B[49m\u001B[32;43m0.01\u001B[39;49m\u001B[43m,\u001B[49m\u001B[43m \u001B[49m\u001B[32;43m0.5\u001B[39;49m\u001B[43m,\u001B[49m\u001B[43m \u001B[49m\u001B[38;5;28;43;01mTrue\u001B[39;49;00m\u001B[43m)\u001B[49m\n\u001B[32m      9\u001B[39m     \u001B[38;5;28mprint\u001B[39m(\u001B[33m\"\u001B[39m\u001B[33mAccuracy: \u001B[39m\u001B[38;5;132;01m%.2f\u001B[39;00m\u001B[33m\"\u001B[39m % acc)\n\u001B[32m     10\u001B[39m     cv_scores.append(acc)\n",
      "\u001B[36mCell\u001B[39m\u001B[36m \u001B[39m\u001B[32mIn[190]\u001B[39m\u001B[32m, line 93\u001B[39m, in \u001B[36mtrainModel\u001B[39m\u001B[34m(model, X_train, y_train, X_test, y_test, epochs, lr, threshold, isCrossValidation)\u001B[39m\n\u001B[32m     91\u001B[39m test_precision = precision_score(y_true=y_test.cpu(), y_pred=test_pred.cpu(), zero_division=\u001B[32m0\u001B[39m) * \u001B[32m100\u001B[39m\n\u001B[32m     92\u001B[39m test_recall = recall_score(y_true=y_test.cpu(), y_pred=test_pred.cpu(), zero_division=\u001B[32m0\u001B[39m) * \u001B[32m100\u001B[39m\n\u001B[32m---> \u001B[39m\u001B[32m93\u001B[39m test_f1 = \u001B[43mf1_score\u001B[49m\u001B[43m(\u001B[49m\u001B[43my_true\u001B[49m\u001B[43m=\u001B[49m\u001B[43my_test\u001B[49m\u001B[43m.\u001B[49m\u001B[43mcpu\u001B[49m\u001B[43m(\u001B[49m\u001B[43m)\u001B[49m\u001B[43m,\u001B[49m\u001B[43m \u001B[49m\u001B[43my_pred\u001B[49m\u001B[43m=\u001B[49m\u001B[43mtest_pred\u001B[49m\u001B[43m.\u001B[49m\u001B[43mcpu\u001B[49m\u001B[43m(\u001B[49m\u001B[43m)\u001B[49m\u001B[43m,\u001B[49m\u001B[43m \u001B[49m\u001B[43mzero_division\u001B[49m\u001B[43m=\u001B[49m\u001B[32;43m0\u001B[39;49m\u001B[43m)\u001B[49m * \u001B[32m100\u001B[39m\n\u001B[32m     94\u001B[39m test_auc = roc_auc_score(y_true=y_test.cpu(), y_score=test_probs.cpu())\n\u001B[32m     96\u001B[39m track_test_accuracy.append(test_acc)\n",
      "\u001B[36mFile \u001B[39m\u001B[32m~/PycharmProjects/SpaceAppsExoplanets/.venv/lib/python3.12/site-packages/sklearn/utils/_param_validation.py:218\u001B[39m, in \u001B[36mvalidate_params.<locals>.decorator.<locals>.wrapper\u001B[39m\u001B[34m(*args, **kwargs)\u001B[39m\n\u001B[32m    212\u001B[39m \u001B[38;5;28;01mtry\u001B[39;00m:\n\u001B[32m    213\u001B[39m     \u001B[38;5;28;01mwith\u001B[39;00m config_context(\n\u001B[32m    214\u001B[39m         skip_parameter_validation=(\n\u001B[32m    215\u001B[39m             prefer_skip_nested_validation \u001B[38;5;129;01mor\u001B[39;00m global_skip_validation\n\u001B[32m    216\u001B[39m         )\n\u001B[32m    217\u001B[39m     ):\n\u001B[32m--> \u001B[39m\u001B[32m218\u001B[39m         \u001B[38;5;28;01mreturn\u001B[39;00m \u001B[43mfunc\u001B[49m\u001B[43m(\u001B[49m\u001B[43m*\u001B[49m\u001B[43margs\u001B[49m\u001B[43m,\u001B[49m\u001B[43m \u001B[49m\u001B[43m*\u001B[49m\u001B[43m*\u001B[49m\u001B[43mkwargs\u001B[49m\u001B[43m)\u001B[49m\n\u001B[32m    219\u001B[39m \u001B[38;5;28;01mexcept\u001B[39;00m InvalidParameterError \u001B[38;5;28;01mas\u001B[39;00m e:\n\u001B[32m    220\u001B[39m     \u001B[38;5;66;03m# When the function is just a wrapper around an estimator, we allow\u001B[39;00m\n\u001B[32m    221\u001B[39m     \u001B[38;5;66;03m# the function to delegate validation to the estimator, but we replace\u001B[39;00m\n\u001B[32m    222\u001B[39m     \u001B[38;5;66;03m# the name of the estimator by the name of the function in the error\u001B[39;00m\n\u001B[32m    223\u001B[39m     \u001B[38;5;66;03m# message to avoid confusion.\u001B[39;00m\n\u001B[32m    224\u001B[39m     msg = re.sub(\n\u001B[32m    225\u001B[39m         \u001B[33mr\u001B[39m\u001B[33m\"\u001B[39m\u001B[33mparameter of \u001B[39m\u001B[33m\\\u001B[39m\u001B[33mw+ must be\u001B[39m\u001B[33m\"\u001B[39m,\n\u001B[32m    226\u001B[39m         \u001B[33mf\u001B[39m\u001B[33m\"\u001B[39m\u001B[33mparameter of \u001B[39m\u001B[38;5;132;01m{\u001B[39;00mfunc.\u001B[34m__qualname__\u001B[39m\u001B[38;5;132;01m}\u001B[39;00m\u001B[33m must be\u001B[39m\u001B[33m\"\u001B[39m,\n\u001B[32m    227\u001B[39m         \u001B[38;5;28mstr\u001B[39m(e),\n\u001B[32m    228\u001B[39m     )\n",
      "\u001B[36mFile \u001B[39m\u001B[32m~/PycharmProjects/SpaceAppsExoplanets/.venv/lib/python3.12/site-packages/sklearn/metrics/_classification.py:1465\u001B[39m, in \u001B[36mf1_score\u001B[39m\u001B[34m(y_true, y_pred, labels, pos_label, average, sample_weight, zero_division)\u001B[39m\n\u001B[32m   1285\u001B[39m \u001B[38;5;129m@validate_params\u001B[39m(\n\u001B[32m   1286\u001B[39m     {\n\u001B[32m   1287\u001B[39m         \u001B[33m\"\u001B[39m\u001B[33my_true\u001B[39m\u001B[33m\"\u001B[39m: [\u001B[33m\"\u001B[39m\u001B[33marray-like\u001B[39m\u001B[33m\"\u001B[39m, \u001B[33m\"\u001B[39m\u001B[33msparse matrix\u001B[39m\u001B[33m\"\u001B[39m],\n\u001B[32m   (...)\u001B[39m\u001B[32m   1312\u001B[39m     zero_division=\u001B[33m\"\u001B[39m\u001B[33mwarn\u001B[39m\u001B[33m\"\u001B[39m,\n\u001B[32m   1313\u001B[39m ):\n\u001B[32m   1314\u001B[39m \u001B[38;5;250m    \u001B[39m\u001B[33;03m\"\"\"Compute the F1 score, also known as balanced F-score or F-measure.\u001B[39;00m\n\u001B[32m   1315\u001B[39m \n\u001B[32m   1316\u001B[39m \u001B[33;03m    The F1 score can be interpreted as a harmonic mean of the precision and\u001B[39;00m\n\u001B[32m   (...)\u001B[39m\u001B[32m   1463\u001B[39m \u001B[33;03m    array([0.66666667, 1.        , 0.66666667])\u001B[39;00m\n\u001B[32m   1464\u001B[39m \u001B[33;03m    \"\"\"\u001B[39;00m\n\u001B[32m-> \u001B[39m\u001B[32m1465\u001B[39m     \u001B[38;5;28;01mreturn\u001B[39;00m \u001B[43mfbeta_score\u001B[49m\u001B[43m(\u001B[49m\n\u001B[32m   1466\u001B[39m \u001B[43m        \u001B[49m\u001B[43my_true\u001B[49m\u001B[43m,\u001B[49m\n\u001B[32m   1467\u001B[39m \u001B[43m        \u001B[49m\u001B[43my_pred\u001B[49m\u001B[43m,\u001B[49m\n\u001B[32m   1468\u001B[39m \u001B[43m        \u001B[49m\u001B[43mbeta\u001B[49m\u001B[43m=\u001B[49m\u001B[32;43m1\u001B[39;49m\u001B[43m,\u001B[49m\n\u001B[32m   1469\u001B[39m \u001B[43m        \u001B[49m\u001B[43mlabels\u001B[49m\u001B[43m=\u001B[49m\u001B[43mlabels\u001B[49m\u001B[43m,\u001B[49m\n\u001B[32m   1470\u001B[39m \u001B[43m        \u001B[49m\u001B[43mpos_label\u001B[49m\u001B[43m=\u001B[49m\u001B[43mpos_label\u001B[49m\u001B[43m,\u001B[49m\n\u001B[32m   1471\u001B[39m \u001B[43m        \u001B[49m\u001B[43maverage\u001B[49m\u001B[43m=\u001B[49m\u001B[43maverage\u001B[49m\u001B[43m,\u001B[49m\n\u001B[32m   1472\u001B[39m \u001B[43m        \u001B[49m\u001B[43msample_weight\u001B[49m\u001B[43m=\u001B[49m\u001B[43msample_weight\u001B[49m\u001B[43m,\u001B[49m\n\u001B[32m   1473\u001B[39m \u001B[43m        \u001B[49m\u001B[43mzero_division\u001B[49m\u001B[43m=\u001B[49m\u001B[43mzero_division\u001B[49m\u001B[43m,\u001B[49m\n\u001B[32m   1474\u001B[39m \u001B[43m    \u001B[49m\u001B[43m)\u001B[49m\n",
      "\u001B[36mFile \u001B[39m\u001B[32m~/PycharmProjects/SpaceAppsExoplanets/.venv/lib/python3.12/site-packages/sklearn/utils/_param_validation.py:191\u001B[39m, in \u001B[36mvalidate_params.<locals>.decorator.<locals>.wrapper\u001B[39m\u001B[34m(*args, **kwargs)\u001B[39m\n\u001B[32m    189\u001B[39m global_skip_validation = get_config()[\u001B[33m\"\u001B[39m\u001B[33mskip_parameter_validation\u001B[39m\u001B[33m\"\u001B[39m]\n\u001B[32m    190\u001B[39m \u001B[38;5;28;01mif\u001B[39;00m global_skip_validation:\n\u001B[32m--> \u001B[39m\u001B[32m191\u001B[39m     \u001B[38;5;28;01mreturn\u001B[39;00m \u001B[43mfunc\u001B[49m\u001B[43m(\u001B[49m\u001B[43m*\u001B[49m\u001B[43margs\u001B[49m\u001B[43m,\u001B[49m\u001B[43m \u001B[49m\u001B[43m*\u001B[49m\u001B[43m*\u001B[49m\u001B[43mkwargs\u001B[49m\u001B[43m)\u001B[49m\n\u001B[32m    193\u001B[39m func_sig = signature(func)\n\u001B[32m    195\u001B[39m \u001B[38;5;66;03m# Map *args/**kwargs to the function signature\u001B[39;00m\n",
      "\u001B[36mFile \u001B[39m\u001B[32m~/PycharmProjects/SpaceAppsExoplanets/.venv/lib/python3.12/site-packages/sklearn/metrics/_classification.py:1683\u001B[39m, in \u001B[36mfbeta_score\u001B[39m\u001B[34m(y_true, y_pred, beta, labels, pos_label, average, sample_weight, zero_division)\u001B[39m\n\u001B[32m   1477\u001B[39m \u001B[38;5;129m@validate_params\u001B[39m(\n\u001B[32m   1478\u001B[39m     {\n\u001B[32m   1479\u001B[39m         \u001B[33m\"\u001B[39m\u001B[33my_true\u001B[39m\u001B[33m\"\u001B[39m: [\u001B[33m\"\u001B[39m\u001B[33marray-like\u001B[39m\u001B[33m\"\u001B[39m, \u001B[33m\"\u001B[39m\u001B[33msparse matrix\u001B[39m\u001B[33m\"\u001B[39m],\n\u001B[32m   (...)\u001B[39m\u001B[32m   1506\u001B[39m     zero_division=\u001B[33m\"\u001B[39m\u001B[33mwarn\u001B[39m\u001B[33m\"\u001B[39m,\n\u001B[32m   1507\u001B[39m ):\n\u001B[32m   1508\u001B[39m \u001B[38;5;250m    \u001B[39m\u001B[33;03m\"\"\"Compute the F-beta score.\u001B[39;00m\n\u001B[32m   1509\u001B[39m \n\u001B[32m   1510\u001B[39m \u001B[33;03m    The F-beta score is the weighted harmonic mean of precision and recall,\u001B[39;00m\n\u001B[32m   (...)\u001B[39m\u001B[32m   1680\u001B[39m \u001B[33;03m    ... )\u001B[39;00m\n\u001B[32m   1681\u001B[39m \u001B[33;03m    \"\"\"\u001B[39;00m\n\u001B[32m-> \u001B[39m\u001B[32m1683\u001B[39m     _, _, f, _ = \u001B[43mprecision_recall_fscore_support\u001B[49m\u001B[43m(\u001B[49m\n\u001B[32m   1684\u001B[39m \u001B[43m        \u001B[49m\u001B[43my_true\u001B[49m\u001B[43m,\u001B[49m\n\u001B[32m   1685\u001B[39m \u001B[43m        \u001B[49m\u001B[43my_pred\u001B[49m\u001B[43m,\u001B[49m\n\u001B[32m   1686\u001B[39m \u001B[43m        \u001B[49m\u001B[43mbeta\u001B[49m\u001B[43m=\u001B[49m\u001B[43mbeta\u001B[49m\u001B[43m,\u001B[49m\n\u001B[32m   1687\u001B[39m \u001B[43m        \u001B[49m\u001B[43mlabels\u001B[49m\u001B[43m=\u001B[49m\u001B[43mlabels\u001B[49m\u001B[43m,\u001B[49m\n\u001B[32m   1688\u001B[39m \u001B[43m        \u001B[49m\u001B[43mpos_label\u001B[49m\u001B[43m=\u001B[49m\u001B[43mpos_label\u001B[49m\u001B[43m,\u001B[49m\n\u001B[32m   1689\u001B[39m \u001B[43m        \u001B[49m\u001B[43maverage\u001B[49m\u001B[43m=\u001B[49m\u001B[43maverage\u001B[49m\u001B[43m,\u001B[49m\n\u001B[32m   1690\u001B[39m \u001B[43m        \u001B[49m\u001B[43mwarn_for\u001B[49m\u001B[43m=\u001B[49m\u001B[43m(\u001B[49m\u001B[33;43m\"\u001B[39;49m\u001B[33;43mf-score\u001B[39;49m\u001B[33;43m\"\u001B[39;49m\u001B[43m,\u001B[49m\u001B[43m)\u001B[49m\u001B[43m,\u001B[49m\n\u001B[32m   1691\u001B[39m \u001B[43m        \u001B[49m\u001B[43msample_weight\u001B[49m\u001B[43m=\u001B[49m\u001B[43msample_weight\u001B[49m\u001B[43m,\u001B[49m\n\u001B[32m   1692\u001B[39m \u001B[43m        \u001B[49m\u001B[43mzero_division\u001B[49m\u001B[43m=\u001B[49m\u001B[43mzero_division\u001B[49m\u001B[43m,\u001B[49m\n\u001B[32m   1693\u001B[39m \u001B[43m    \u001B[49m\u001B[43m)\u001B[49m\n\u001B[32m   1694\u001B[39m     \u001B[38;5;28;01mreturn\u001B[39;00m f\n",
      "\u001B[36mFile \u001B[39m\u001B[32m~/PycharmProjects/SpaceAppsExoplanets/.venv/lib/python3.12/site-packages/sklearn/utils/_param_validation.py:191\u001B[39m, in \u001B[36mvalidate_params.<locals>.decorator.<locals>.wrapper\u001B[39m\u001B[34m(*args, **kwargs)\u001B[39m\n\u001B[32m    189\u001B[39m global_skip_validation = get_config()[\u001B[33m\"\u001B[39m\u001B[33mskip_parameter_validation\u001B[39m\u001B[33m\"\u001B[39m]\n\u001B[32m    190\u001B[39m \u001B[38;5;28;01mif\u001B[39;00m global_skip_validation:\n\u001B[32m--> \u001B[39m\u001B[32m191\u001B[39m     \u001B[38;5;28;01mreturn\u001B[39;00m \u001B[43mfunc\u001B[49m\u001B[43m(\u001B[49m\u001B[43m*\u001B[49m\u001B[43margs\u001B[49m\u001B[43m,\u001B[49m\u001B[43m \u001B[49m\u001B[43m*\u001B[49m\u001B[43m*\u001B[49m\u001B[43mkwargs\u001B[49m\u001B[43m)\u001B[49m\n\u001B[32m    193\u001B[39m func_sig = signature(func)\n\u001B[32m    195\u001B[39m \u001B[38;5;66;03m# Map *args/**kwargs to the function signature\u001B[39;00m\n",
      "\u001B[36mFile \u001B[39m\u001B[32m~/PycharmProjects/SpaceAppsExoplanets/.venv/lib/python3.12/site-packages/sklearn/metrics/_classification.py:2046\u001B[39m, in \u001B[36mprecision_recall_fscore_support\u001B[39m\u001B[34m(y_true, y_pred, beta, labels, pos_label, average, warn_for, sample_weight, zero_division)\u001B[39m\n\u001B[32m   2042\u001B[39m     max_float_type = _max_precision_float_dtype(xp=xp, device=device_)\n\u001B[32m   2043\u001B[39m     denom = beta2 * xp.astype(true_sum, max_float_type) + xp.astype(\n\u001B[32m   2044\u001B[39m         pred_sum, max_float_type\n\u001B[32m   2045\u001B[39m     )\n\u001B[32m-> \u001B[39m\u001B[32m2046\u001B[39m     f_score = \u001B[43m_prf_divide\u001B[49m\u001B[43m(\u001B[49m\n\u001B[32m   2047\u001B[39m \u001B[43m        \u001B[49m\u001B[43m(\u001B[49m\u001B[32;43m1\u001B[39;49m\u001B[43m \u001B[49m\u001B[43m+\u001B[49m\u001B[43m \u001B[49m\u001B[43mbeta2\u001B[49m\u001B[43m)\u001B[49m\u001B[43m \u001B[49m\u001B[43m*\u001B[49m\u001B[43m \u001B[49m\u001B[43mxp\u001B[49m\u001B[43m.\u001B[49m\u001B[43mastype\u001B[49m\u001B[43m(\u001B[49m\u001B[43mtp_sum\u001B[49m\u001B[43m,\u001B[49m\u001B[43m \u001B[49m\u001B[43mmax_float_type\u001B[49m\u001B[43m)\u001B[49m\u001B[43m,\u001B[49m\n\u001B[32m   2048\u001B[39m \u001B[43m        \u001B[49m\u001B[43mdenom\u001B[49m\u001B[43m,\u001B[49m\n\u001B[32m   2049\u001B[39m \u001B[43m        \u001B[49m\u001B[33;43m\"\u001B[39;49m\u001B[33;43mf-score\u001B[39;49m\u001B[33;43m\"\u001B[39;49m\u001B[43m,\u001B[49m\n\u001B[32m   2050\u001B[39m \u001B[43m        \u001B[49m\u001B[33;43m\"\u001B[39;49m\u001B[33;43mtrue nor predicted\u001B[39;49m\u001B[33;43m\"\u001B[39;49m\u001B[43m,\u001B[49m\n\u001B[32m   2051\u001B[39m \u001B[43m        \u001B[49m\u001B[43maverage\u001B[49m\u001B[43m,\u001B[49m\n\u001B[32m   2052\u001B[39m \u001B[43m        \u001B[49m\u001B[43mwarn_for\u001B[49m\u001B[43m,\u001B[49m\n\u001B[32m   2053\u001B[39m \u001B[43m        \u001B[49m\u001B[43mzero_division\u001B[49m\u001B[43m,\u001B[49m\n\u001B[32m   2054\u001B[39m \u001B[43m    \u001B[49m\u001B[43m)\u001B[49m\n\u001B[32m   2056\u001B[39m \u001B[38;5;66;03m# Average the results\u001B[39;00m\n\u001B[32m   2057\u001B[39m \u001B[38;5;28;01mif\u001B[39;00m average == \u001B[33m\"\u001B[39m\u001B[33mweighted\u001B[39m\u001B[33m\"\u001B[39m:\n",
      "\u001B[36mFile \u001B[39m\u001B[32m~/PycharmProjects/SpaceAppsExoplanets/.venv/lib/python3.12/site-packages/sklearn/metrics/_classification.py:1710\u001B[39m, in \u001B[36m_prf_divide\u001B[39m\u001B[34m(numerator, denominator, metric, modifier, average, warn_for, zero_division)\u001B[39m\n\u001B[32m   1700\u001B[39m \u001B[38;5;250m\u001B[39m\u001B[33;03m\"\"\"Performs division and handles divide-by-zero.\u001B[39;00m\n\u001B[32m   1701\u001B[39m \n\u001B[32m   1702\u001B[39m \u001B[33;03mOn zero-division, sets the corresponding result elements equal to\u001B[39;00m\n\u001B[32m   (...)\u001B[39m\u001B[32m   1707\u001B[39m \u001B[33;03man appropriate warning.\u001B[39;00m\n\u001B[32m   1708\u001B[39m \u001B[33;03m\"\"\"\u001B[39;00m\n\u001B[32m   1709\u001B[39m xp, _ = get_namespace(numerator, denominator)\n\u001B[32m-> \u001B[39m\u001B[32m1710\u001B[39m dtype_float = \u001B[43m_find_matching_floating_dtype\u001B[49m\u001B[43m(\u001B[49m\u001B[43mnumerator\u001B[49m\u001B[43m,\u001B[49m\u001B[43m \u001B[49m\u001B[43mdenominator\u001B[49m\u001B[43m,\u001B[49m\u001B[43m \u001B[49m\u001B[43mxp\u001B[49m\u001B[43m=\u001B[49m\u001B[43mxp\u001B[49m\u001B[43m)\u001B[49m\n\u001B[32m   1711\u001B[39m mask = denominator == \u001B[32m0\u001B[39m\n\u001B[32m   1712\u001B[39m denominator = xp.asarray(denominator, copy=\u001B[38;5;28;01mTrue\u001B[39;00m, dtype=dtype_float)\n",
      "\u001B[36mFile \u001B[39m\u001B[32m~/PycharmProjects/SpaceAppsExoplanets/.venv/lib/python3.12/site-packages/sklearn/utils/_array_api.py:592\u001B[39m, in \u001B[36m_find_matching_floating_dtype\u001B[39m\u001B[34m(xp, *arrays)\u001B[39m\n\u001B[32m    581\u001B[39m \u001B[38;5;28;01mdef\u001B[39;00m\u001B[38;5;250m \u001B[39m\u001B[34m_find_matching_floating_dtype\u001B[39m(*arrays, xp):\n\u001B[32m    582\u001B[39m \u001B[38;5;250m    \u001B[39m\u001B[33;03m\"\"\"Find a suitable floating point dtype when computing with arrays.\u001B[39;00m\n\u001B[32m    583\u001B[39m \n\u001B[32m    584\u001B[39m \u001B[33;03m    If any of the arrays are floating point, return the dtype with the highest\u001B[39;00m\n\u001B[32m   (...)\u001B[39m\u001B[32m    590\u001B[39m \u001B[33;03m    instance), return the default floating point dtype for the namespace.\u001B[39;00m\n\u001B[32m    591\u001B[39m \u001B[33;03m    \"\"\"\u001B[39;00m\n\u001B[32m--> \u001B[39m\u001B[32m592\u001B[39m     dtyped_arrays = [\u001B[43mxp\u001B[49m\u001B[43m.\u001B[49m\u001B[43masarray\u001B[49m\u001B[43m(\u001B[49m\u001B[43ma\u001B[49m\u001B[43m)\u001B[49m \u001B[38;5;28;01mfor\u001B[39;00m a \u001B[38;5;129;01min\u001B[39;00m arrays \u001B[38;5;28;01mif\u001B[39;00m \u001B[38;5;28mhasattr\u001B[39m(a, \u001B[33m\"\u001B[39m\u001B[33mdtype\u001B[39m\u001B[33m\"\u001B[39m)]\n\u001B[32m    593\u001B[39m     floating_dtypes = [\n\u001B[32m    594\u001B[39m         a.dtype \u001B[38;5;28;01mfor\u001B[39;00m a \u001B[38;5;129;01min\u001B[39;00m dtyped_arrays \u001B[38;5;28;01mif\u001B[39;00m xp.isdtype(a.dtype, \u001B[33m\"\u001B[39m\u001B[33mreal floating\u001B[39m\u001B[33m\"\u001B[39m)\n\u001B[32m    595\u001B[39m     ]\n\u001B[32m    596\u001B[39m     \u001B[38;5;28;01mif\u001B[39;00m floating_dtypes:\n\u001B[32m    597\u001B[39m         \u001B[38;5;66;03m# Return the floating dtype with the highest precision:\u001B[39;00m\n",
      "\u001B[36mFile \u001B[39m\u001B[32m~/PycharmProjects/SpaceAppsExoplanets/.venv/lib/python3.12/site-packages/sklearn/externals/array_api_compat/numpy/_aliases.py:113\u001B[39m, in \u001B[36masarray\u001B[39m\u001B[34m(obj, dtype, device, copy, **kwargs)\u001B[39m\n\u001B[32m    110\u001B[39m \u001B[38;5;28;01melif\u001B[39;00m copy \u001B[38;5;129;01mis\u001B[39;00m \u001B[38;5;28;01mTrue\u001B[39;00m:\n\u001B[32m    111\u001B[39m     copy = np._CopyMode.ALWAYS\n\u001B[32m--> \u001B[39m\u001B[32m113\u001B[39m \u001B[38;5;28;01mreturn\u001B[39;00m \u001B[43mnp\u001B[49m\u001B[43m.\u001B[49m\u001B[43marray\u001B[49m\u001B[43m(\u001B[49m\u001B[43mobj\u001B[49m\u001B[43m,\u001B[49m\u001B[43m \u001B[49m\u001B[43mcopy\u001B[49m\u001B[43m=\u001B[49m\u001B[43mcopy\u001B[49m\u001B[43m,\u001B[49m\u001B[43m \u001B[49m\u001B[43mdtype\u001B[49m\u001B[43m=\u001B[49m\u001B[43mdtype\u001B[49m\u001B[43m,\u001B[49m\u001B[43m \u001B[49m\u001B[43m*\u001B[49m\u001B[43m*\u001B[49m\u001B[43mkwargs\u001B[49m\u001B[43m)\u001B[49m\n",
      "\u001B[36mFile \u001B[39m\u001B[32m/usr/lib/python3.12/enum.py:202\u001B[39m, in \u001B[36mproperty.__get__\u001B[39m\u001B[34m(self, instance, ownerclass)\u001B[39m\n\u001B[32m    199\u001B[39m _attr_type = \u001B[38;5;28;01mNone\u001B[39;00m\n\u001B[32m    200\u001B[39m _cls_type = \u001B[38;5;28;01mNone\u001B[39;00m\n\u001B[32m--> \u001B[39m\u001B[32m202\u001B[39m \u001B[38;5;28;01mdef\u001B[39;00m\u001B[38;5;250m \u001B[39m\u001B[34m__get__\u001B[39m(\u001B[38;5;28mself\u001B[39m, instance, ownerclass=\u001B[38;5;28;01mNone\u001B[39;00m):\n\u001B[32m    203\u001B[39m     \u001B[38;5;28;01mif\u001B[39;00m instance \u001B[38;5;129;01mis\u001B[39;00m \u001B[38;5;28;01mNone\u001B[39;00m:\n\u001B[32m    204\u001B[39m         \u001B[38;5;28;01mif\u001B[39;00m \u001B[38;5;28mself\u001B[39m.member \u001B[38;5;129;01mis\u001B[39;00m \u001B[38;5;129;01mnot\u001B[39;00m \u001B[38;5;28;01mNone\u001B[39;00m:\n",
      "\u001B[31mKeyboardInterrupt\u001B[39m: "
     ]
    }
   ],
   "execution_count": 191
  },
  {
   "metadata": {},
   "cell_type": "markdown",
   "source": [
    "# Saving and loading already trained Model\n",
    "\n",
    "Creating template / method for effective saving already trained model, so user don't have to wait for it to finish training before usage."
   ],
   "id": "bbcf8d4226367407"
  },
  {
   "metadata": {
    "ExecuteTime": {
     "end_time": "2025-10-05T01:40:56.602729656Z",
     "start_time": "2025-10-04T23:16:29.943735Z"
    }
   },
   "cell_type": "code",
   "source": [
    "from pathlib import Path\n",
    "\n",
    "MODEL_PATH = Path(\"../../saved-models/nn\")\n",
    "MODEL_PATH.mkdir(parents = True, exist_ok = True)\n",
    "\n",
    "def SaveModel(model, model_name: str):\n",
    "    # 1. Create models directory if it doesn't exist yet\n",
    "\n",
    "    # 2. Create model save path\n",
    "    MODEL_NAME = model_name + \".pth\"\n",
    "    MODEL_SAVE_PATH = MODEL_PATH / MODEL_NAME\n",
    "\n",
    "    # 3. Save the model state dict\n",
    "    save = [model.state_dict(), model.input_features, model.output_features, model.hidden_units]\n",
    "    print(f\"Saving model to: {MODEL_SAVE_PATH}\")\n",
    "    torch.save(obj = save,\n",
    "               f = MODEL_SAVE_PATH)\n",
    "\n",
    "SaveModel(model_1, \"nn_exoplanets0\")"
   ],
   "id": "14642a8e83efd602",
   "outputs": [
    {
     "name": "stdout",
     "output_type": "stream",
     "text": [
      "Saving model to: ../../saved-models/nn/nn_exoplanets0.pth\n"
     ]
    }
   ],
   "execution_count": 403
  },
  {
   "metadata": {
    "ExecuteTime": {
     "end_time": "2025-10-05T01:40:56.603124366Z",
     "start_time": "2025-10-04T23:06:13.836621Z"
    }
   },
   "cell_type": "code",
   "source": "!ls -l ../../saved-models",
   "id": "72c0d8b2b571ca9b",
   "outputs": [
    {
     "name": "stdout",
     "output_type": "stream",
     "text": [
      "total 4\r\n",
      "drwxrwxr-x 2 hubert hubert 4096 Oct  5 00:23 nn\r\n"
     ]
    }
   ],
   "execution_count": 386
  },
  {
   "metadata": {},
   "cell_type": "markdown",
   "source": [
    "### Loading Trained model\n",
    "\n"
   ],
   "id": "3ba34456490caee6"
  },
  {
   "metadata": {
    "ExecuteTime": {
     "end_time": "2025-10-05T01:40:56.604018183Z",
     "start_time": "2025-10-04T23:29:11.860674Z"
    }
   },
   "cell_type": "code",
   "source": [
    "# To load in a saved state_dict we have to instantiate a new instace of our model class\n",
    "def load_model(model_name):\n",
    "    model_name += \".pth\"\n",
    "    load = torch.load(f = MODEL_PATH / model_name)\n",
    "    loaded_model = ExoplanetsV0(input_features=load[1], output_features=load[2], hidden_units=load[3])\n",
    "    loaded_model.load_state_dict(load[0])\n",
    "    return loaded_model"
   ],
   "id": "819d1493a7df63fd",
   "outputs": [],
   "execution_count": 425
  },
  {
   "metadata": {},
   "cell_type": "markdown",
   "source": "# Using already trained model to evaluate new input data",
   "id": "5676154cc2e72e75"
  },
  {
   "metadata": {
    "ExecuteTime": {
     "end_time": "2025-10-05T01:40:56.604276706Z",
     "start_time": "2025-10-04T23:28:47.121141Z"
    }
   },
   "cell_type": "code",
   "source": [
    "import os\n",
    "import numpy as np\n",
    "import pandas as pd\n",
    "from pathlib import Path\n",
    "\n",
    "def load_single_csv(folder_path= \"../../input_data\"):\n",
    "    csv_files = [f for f in os.listdir(folder_path) if f.endswith(\".csv\")]\n",
    "\n",
    "    if len(csv_files) == 0:\n",
    "        raise FileNotFoundError(f\" Brak pliku CSV w folderze: {folder_path}\")\n",
    "    elif len(csv_files) > 1:\n",
    "        raise ValueError(f\"W folderze {folder_path} znaleziono więcej niż jeden plik CSV: {csv_files}\")\n",
    "\n",
    "    file_path = os.path.join(folder_path, csv_files[0])\n",
    "    print(f\" Wczytuję plik: {file_path}\")\n",
    "\n",
    "    data = np.loadtxt(file_path, delimiter=\",\", skiprows=1)\n",
    "    data = np.delete(data, 0, axis = 1)\n",
    "    data = torch.from_numpy(data).type(torch.float32).squeeze()\n",
    "    return data\n",
    "\n",
    "def use_model(model_name):\n",
    "    # Loading already trained model from \"*.pth\" file\n",
    "    loaded_model = load_model(model_name)\n",
    "    loaded_model.eval()\n",
    "\n",
    "    # Input is always in the same place\n",
    "    data = load_single_csv()\n",
    "    with torch.inference_mode():\n",
    "        logits = loaded_model(data)\n",
    "        probabilities = torch.sigmoid(logits).squeeze()\n",
    "        predictions = (probabilities > 0.5).int()\n",
    "\n",
    "        # Saving results to csv format\n",
    "        results = pd.DataFrame({\n",
    "        \"probability\": probabilities.cpu().numpy(),\n",
    "        \"prediction\": predictions.cpu().numpy()\n",
    "        })\n",
    "\n",
    "        output_path = \"predictions.csv\"\n",
    "        results.to_csv(output_path, index=False)\n",
    "\n",
    "        print(f\" Zapisano wyniki do pliku: {output_path}\")\n",
    "        print(results.head())\n",
    "\n",
    "    # Deleting csv so that there is only one file there at a time\n",
    "\n",
    "    folder = Path(\"../../input_data\")\n",
    "\n",
    "    files = [f for f in folder.iterdir() if f.is_file()]\n",
    "\n",
    "    if not files:\n",
    "        print(\"Folder jest pusty.\")\n",
    "    else:\n",
    "        files[0].unlink()\n",
    "        print(f\" Usunięto plik: {files[0].name}\")\n",
    "\n"
   ],
   "id": "3c87f8b56abb2dde",
   "outputs": [],
   "execution_count": 423
  },
  {
   "metadata": {
    "ExecuteTime": {
     "end_time": "2025-10-05T01:40:56.604529610Z",
     "start_time": "2025-10-04T23:29:15.307055Z"
    }
   },
   "cell_type": "code",
   "source": [
    "# CHecking if method above works\n",
    "use_model(\"nn_exoplanets0\")\n"
   ],
   "id": "8a01657c3c91c44c",
   "outputs": [
    {
     "ename": "FileNotFoundError",
     "evalue": " Brak pliku CSV w folderze: ../../input_data",
     "output_type": "error",
     "traceback": [
      "\u001B[31m---------------------------------------------------------------------------\u001B[39m",
      "\u001B[31mFileNotFoundError\u001B[39m                         Traceback (most recent call last)",
      "\u001B[36mCell\u001B[39m\u001B[36m \u001B[39m\u001B[32mIn[426]\u001B[39m\u001B[32m, line 2\u001B[39m\n\u001B[32m      1\u001B[39m \u001B[38;5;66;03m# CHecking if method above works\u001B[39;00m\n\u001B[32m----> \u001B[39m\u001B[32m2\u001B[39m \u001B[43muse_model\u001B[49m\u001B[43m(\u001B[49m\u001B[33;43m\"\u001B[39;49m\u001B[33;43mnn_exoplanets0\u001B[39;49m\u001B[33;43m\"\u001B[39;49m\u001B[43m)\u001B[49m\n",
      "\u001B[36mCell\u001B[39m\u001B[36m \u001B[39m\u001B[32mIn[423]\u001B[39m\u001B[32m, line 28\u001B[39m, in \u001B[36muse_model\u001B[39m\u001B[34m(model_name)\u001B[39m\n\u001B[32m     25\u001B[39m loaded_model.eval()\n\u001B[32m     27\u001B[39m \u001B[38;5;66;03m# Input is always in the same place\u001B[39;00m\n\u001B[32m---> \u001B[39m\u001B[32m28\u001B[39m data = \u001B[43mload_single_csv\u001B[49m\u001B[43m(\u001B[49m\u001B[43m)\u001B[49m\n\u001B[32m     29\u001B[39m \u001B[38;5;28;01mwith\u001B[39;00m torch.inference_mode():\n\u001B[32m     30\u001B[39m     logits = loaded_model(data)\n",
      "\u001B[36mCell\u001B[39m\u001B[36m \u001B[39m\u001B[32mIn[423]\u001B[39m\u001B[32m, line 10\u001B[39m, in \u001B[36mload_single_csv\u001B[39m\u001B[34m(folder_path)\u001B[39m\n\u001B[32m      7\u001B[39m csv_files = [f \u001B[38;5;28;01mfor\u001B[39;00m f \u001B[38;5;129;01min\u001B[39;00m os.listdir(folder_path) \u001B[38;5;28;01mif\u001B[39;00m f.endswith(\u001B[33m\"\u001B[39m\u001B[33m.csv\u001B[39m\u001B[33m\"\u001B[39m)]\n\u001B[32m      9\u001B[39m \u001B[38;5;28;01mif\u001B[39;00m \u001B[38;5;28mlen\u001B[39m(csv_files) == \u001B[32m0\u001B[39m:\n\u001B[32m---> \u001B[39m\u001B[32m10\u001B[39m     \u001B[38;5;28;01mraise\u001B[39;00m \u001B[38;5;167;01mFileNotFoundError\u001B[39;00m(\u001B[33mf\u001B[39m\u001B[33m\"\u001B[39m\u001B[33m Brak pliku CSV w folderze: \u001B[39m\u001B[38;5;132;01m{\u001B[39;00mfolder_path\u001B[38;5;132;01m}\u001B[39;00m\u001B[33m\"\u001B[39m)\n\u001B[32m     11\u001B[39m \u001B[38;5;28;01melif\u001B[39;00m \u001B[38;5;28mlen\u001B[39m(csv_files) > \u001B[32m1\u001B[39m:\n\u001B[32m     12\u001B[39m     \u001B[38;5;28;01mraise\u001B[39;00m \u001B[38;5;167;01mValueError\u001B[39;00m(\u001B[33mf\u001B[39m\u001B[33m\"\u001B[39m\u001B[33mW folderze \u001B[39m\u001B[38;5;132;01m{\u001B[39;00mfolder_path\u001B[38;5;132;01m}\u001B[39;00m\u001B[33m znaleziono więcej niż jeden plik CSV: \u001B[39m\u001B[38;5;132;01m{\u001B[39;00mcsv_files\u001B[38;5;132;01m}\u001B[39;00m\u001B[33m\"\u001B[39m)\n",
      "\u001B[31mFileNotFoundError\u001B[39m:  Brak pliku CSV w folderze: ../../input_data"
     ]
    }
   ],
   "execution_count": 426
  }
 ],
 "metadata": {
  "kernelspec": {
   "display_name": "Python 3",
   "language": "python",
   "name": "python3"
  },
  "language_info": {
   "codemirror_mode": {
    "name": "ipython",
    "version": 2
   },
   "file_extension": ".py",
   "mimetype": "text/x-python",
   "name": "python",
   "nbconvert_exporter": "python",
   "pygments_lexer": "ipython2",
   "version": "2.7.6"
  }
 },
 "nbformat": 4,
 "nbformat_minor": 5
}
