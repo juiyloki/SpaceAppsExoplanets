{
 "cells": [
  {
   "metadata": {},
   "cell_type": "markdown",
   "source": "# Binary classification Model",
   "id": "738377a1cdbdc05b"
  },
  {
   "metadata": {},
   "cell_type": "markdown",
   "source": "### train / test split",
   "id": "94f97e67bbeb9b95"
  },
  {
   "metadata": {
    "ExecuteTime": {
     "end_time": "2025-10-05T01:30:30.745299Z",
     "start_time": "2025-10-05T01:30:30.721872Z"
    }
   },
   "cell_type": "code",
   "source": [
    "import numpy as np\n",
    "import torch\n",
    "from torch import nn\n",
    "from sympy import false\n",
    "\n",
    "X_train = np.loadtxt(\"../../datasets/merged/X_train_imputed_scaled.csv\", delimiter=\",\", skiprows=1)\n",
    "X_test = np.loadtxt(\"../../datasets/merged/X_test_imputed_scaled.csv\", delimiter=\",\", skiprows=1)\n",
    "y_train = np.loadtxt(\"../../datasets/merged/y_train.csv\", delimiter=\",\", skiprows=1)\n",
    "y_test = np.loadtxt(\"../../datasets/merged/y_test.csv\", delimiter=\",\", skiprows=1)\n",
    "\n",
    "X_train = np.delete(X_train, 0, axis=1)\n",
    "X_test = np.delete(X_test, 0, axis=1)\n",
    "y_train = np.delete(y_train, 0, axis=1)\n",
    "y_test = np.delete(y_test, 0, axis=1)\n",
    "\n",
    "X_train = torch.from_numpy(X_train).type(torch.float32).squeeze()\n",
    "X_test = torch.from_numpy(X_test).type(torch.float32).squeeze()\n",
    "y_train = torch.from_numpy(y_train).type(torch.float32).squeeze()\n",
    "y_test = torch.from_numpy(y_test).type(torch.float32).squeeze()\n"
   ],
   "id": "23fd523d6c77c485",
   "outputs": [],
   "execution_count": 17
  },
  {
   "metadata": {
    "ExecuteTime": {
     "end_time": "2025-10-05T01:30:30.759807Z",
     "start_time": "2025-10-05T01:30:30.757170Z"
    }
   },
   "cell_type": "code",
   "source": "X_train.shape, X_test.shape, y_train.shape, y_test.shape",
   "id": "f35510f3ae2aa9cf",
   "outputs": [
    {
     "data": {
      "text/plain": [
       "(torch.Size([10018, 7]),\n",
       " torch.Size([2648, 7]),\n",
       " torch.Size([10018]),\n",
       " torch.Size([2648]))"
      ]
     },
     "execution_count": 18,
     "metadata": {},
     "output_type": "execute_result"
    }
   ],
   "execution_count": 18
  },
  {
   "metadata": {
    "ExecuteTime": {
     "end_time": "2025-10-05T01:30:30.810859Z",
     "start_time": "2025-10-05T01:30:30.807886Z"
    }
   },
   "cell_type": "code",
   "source": "type(X_train), X_train.dtype",
   "id": "5ac1527c14c6d08b",
   "outputs": [
    {
     "data": {
      "text/plain": [
       "(torch.Tensor, torch.float32)"
      ]
     },
     "execution_count": 19,
     "metadata": {},
     "output_type": "execute_result"
    }
   ],
   "execution_count": 19
  },
  {
   "metadata": {
    "ExecuteTime": {
     "end_time": "2025-10-05T01:30:30.861897Z",
     "start_time": "2025-10-05T01:30:30.858541Z"
    }
   },
   "cell_type": "code",
   "source": "type(y_train), y_train.dtype",
   "id": "ae2329b53f7b47ac",
   "outputs": [
    {
     "data": {
      "text/plain": [
       "(torch.Tensor, torch.float32)"
      ]
     },
     "execution_count": 20,
     "metadata": {},
     "output_type": "execute_result"
    }
   ],
   "execution_count": 20
  },
  {
   "metadata": {
    "ExecuteTime": {
     "end_time": "2025-10-05T01:30:30.911934Z",
     "start_time": "2025-10-05T01:30:30.908859Z"
    }
   },
   "cell_type": "code",
   "source": [
    "device = \"cuda\" if torch.cuda.is_available() else \"cpu\"\n",
    "device"
   ],
   "id": "b4c603fd98860265",
   "outputs": [
    {
     "data": {
      "text/plain": [
       "'cpu'"
      ]
     },
     "execution_count": 21,
     "metadata": {},
     "output_type": "execute_result"
    }
   ],
   "execution_count": 21
  },
  {
   "metadata": {
    "ExecuteTime": {
     "end_time": "2025-10-05T01:30:30.966011Z",
     "start_time": "2025-10-05T01:30:30.962843Z"
    }
   },
   "cell_type": "code",
   "source": "torch.cuda.is_available()",
   "id": "a753071137949458",
   "outputs": [
    {
     "data": {
      "text/plain": [
       "False"
      ]
     },
     "execution_count": 22,
     "metadata": {},
     "output_type": "execute_result"
    }
   ],
   "execution_count": 22
  },
  {
   "metadata": {},
   "cell_type": "markdown",
   "source": "### Construct Model Class",
   "id": "8c65bb2850b4100a"
  },
  {
   "metadata": {
    "ExecuteTime": {
     "end_time": "2025-10-05T01:30:31.019743Z",
     "start_time": "2025-10-05T01:30:31.013921Z"
    }
   },
   "cell_type": "code",
   "source": [
    "class ExoplanetsV0(nn.Module):\n",
    "\n",
    "    def __init__(self, input_features, output_features, hidden_units=8):\n",
    "        super().__init__()\n",
    "        self.input_features = input_features\n",
    "        self.output_features = output_features\n",
    "        self.hidden_units = hidden_units\n",
    "        self.layers = nn.Sequential(\n",
    "            nn.Linear(in_features=input_features, out_features=hidden_units),\n",
    "            nn.ReLU(),\n",
    "            nn.Linear(in_features=hidden_units, out_features=int(hidden_units/2)),\n",
    "            nn.ReLU(),\n",
    "            nn.Linear(in_features=int(hidden_units/2), out_features=int(hidden_units / 4)),\n",
    "            nn.ReLU(),\n",
    "            nn.Linear(in_features=int(hidden_units/4), out_features=output_features),\n",
    "            #nn.Sigmoid()\n",
    "        )\n",
    "\n",
    "    def forward(self, x):\n",
    "        return self.layers(x)\n",
    "\n",
    "\n",
    "# Create a test model\n",
    "test = ExoplanetsV0(input_features=X_test.shape[1], output_features=1, hidden_units=32).to(device)\n",
    "print(test, test.input_features, test.output_features, test.hidden_units)\n",
    "del test"
   ],
   "id": "f6dbca34459e6884",
   "outputs": [
    {
     "name": "stdout",
     "output_type": "stream",
     "text": [
      "ExoplanetsV0(\n",
      "  (layers): Sequential(\n",
      "    (0): Linear(in_features=7, out_features=32, bias=True)\n",
      "    (1): ReLU()\n",
      "    (2): Linear(in_features=32, out_features=16, bias=True)\n",
      "    (3): ReLU()\n",
      "    (4): Linear(in_features=16, out_features=8, bias=True)\n",
      "    (5): ReLU()\n",
      "    (6): Linear(in_features=8, out_features=1, bias=True)\n",
      "  )\n",
      ") 7 1 32\n"
     ]
    }
   ],
   "execution_count": 23
  },
  {
   "metadata": {
    "ExecuteTime": {
     "end_time": "2025-10-05T01:30:31.068441Z",
     "start_time": "2025-10-05T01:30:31.065288Z"
    }
   },
   "cell_type": "code",
   "source": "X_train.shape, y_train.shape",
   "id": "99453012b4cc91a5",
   "outputs": [
    {
     "data": {
      "text/plain": [
       "(torch.Size([10018, 7]), torch.Size([10018]))"
      ]
     },
     "execution_count": 24,
     "metadata": {},
     "output_type": "execute_result"
    }
   ],
   "execution_count": 24
  },
  {
   "metadata": {},
   "cell_type": "markdown",
   "source": "### Loss Function and Optimizer",
   "id": "8b73fe1785177a23"
  },
  {
   "metadata": {
    "ExecuteTime": {
     "end_time": "2025-10-05T01:30:31.117053Z",
     "start_time": "2025-10-05T01:30:31.114492Z"
    }
   },
   "cell_type": "code",
   "source": [
    "# Calculate accuracy\n",
    "def accuracy_fn(y_true, y_pred):\n",
    "    correct = torch.eq(y_true, y_pred).sum().item()\n",
    "    acc = (correct / len(y_pred)) * 100\n",
    "    return acc"
   ],
   "id": "d60929e21ec0f69b",
   "outputs": [],
   "execution_count": 25
  },
  {
   "metadata": {},
   "cell_type": "markdown",
   "source": [
    "# Train Model\n",
    "\n",
    "Model outputs are raw **Logits**\n",
    "\n",
    "We are converting logits into prediction probabilities by passing them to some kind of activation function (int this case `nn.Sigmoid()`) Then we can convert our model's prediction probabilities to **prediction labels** by taking the `argmaX_scaled()`"
   ],
   "id": "100f8e2b176e76d5"
  },
  {
   "metadata": {},
   "cell_type": "markdown",
   "source": "# Tracking Accuracy",
   "id": "92009fec5b0dae58"
  },
  {
   "metadata": {
    "ExecuteTime": {
     "end_time": "2025-10-05T01:30:31.415988Z",
     "start_time": "2025-10-05T01:30:31.162571Z"
    }
   },
   "cell_type": "code",
   "source": [
    "import matplotlib.pyplot as plt\n",
    "\n",
    "def makePlots(track_accuracy, track_loss, track_f1, track_precision, track_recall, track_auc,\n",
    "              track_test_accuracy, track_test_loss, track_test_f1, track_test_precision,\n",
    "              track_test_recall, track_test_auc):\n",
    "    epoch_range = range(1, epochs + 1)\n",
    "\n",
    "    plt.figure(figsize=(18, 12))\n",
    "\n",
    "    # Accuracy\n",
    "    plt.subplot(3, 2, 1)\n",
    "    plt.plot(epoch_range, track_accuracy, label='Train Accuracy')\n",
    "    plt.plot(epoch_range, track_test_accuracy, label='Test Accuracy')\n",
    "    plt.title('Model Accuracy')\n",
    "    plt.xlabel('Epoch')\n",
    "    plt.ylabel('Accuracy (%)')\n",
    "    plt.legend()\n",
    "    plt.grid(True)\n",
    "\n",
    "    # Loss\n",
    "    plt.subplot(3, 2, 2)\n",
    "    plt.plot(epoch_range, track_loss, label='Train Loss')\n",
    "    plt.plot(epoch_range, track_test_loss, label='Test Loss')\n",
    "    plt.title('Model Loss')\n",
    "    plt.xlabel('Epoch')\n",
    "    plt.ylabel('Loss')\n",
    "    plt.legend()\n",
    "    plt.grid(True)\n",
    "\n",
    "    # F1 Score\n",
    "    plt.subplot(3, 2, 3)\n",
    "    plt.plot(epoch_range, track_f1, label='Train F1')\n",
    "    plt.plot(epoch_range, track_test_f1, label='Test F1')\n",
    "    plt.title('F1 Score')\n",
    "    plt.xlabel('Epoch')\n",
    "    plt.ylabel('F1 Score')\n",
    "    plt.legend()\n",
    "    plt.grid(True)\n",
    "\n",
    "    # Precision\n",
    "    plt.subplot(3, 2, 4)\n",
    "    plt.plot(epoch_range, track_precision, label='Train Precision')\n",
    "    plt.plot(epoch_range, track_test_precision, label='Test Precision')\n",
    "    plt.title('Precision')\n",
    "    plt.xlabel('Epoch')\n",
    "    plt.ylabel('Precision')\n",
    "    plt.legend()\n",
    "    plt.grid(True)\n",
    "\n",
    "    # Recall\n",
    "    plt.subplot(3, 2, 5)\n",
    "    plt.plot(epoch_range, track_recall, label='Train Recall')\n",
    "    plt.plot(epoch_range, track_test_recall, label='Test Recall')\n",
    "    plt.title('Recall')\n",
    "    plt.xlabel('Epoch')\n",
    "    plt.ylabel('Recall')\n",
    "    plt.legend()\n",
    "    plt.grid(True)\n",
    "\n",
    "    # AUC\n",
    "    plt.subplot(3, 2, 6)\n",
    "    plt.plot(epoch_range, track_auc, label='Train AUC')\n",
    "    plt.plot(epoch_range, track_test_auc, label='Test AUC')\n",
    "    plt.title('AUC')\n",
    "    plt.xlabel('Epoch')\n",
    "    plt.ylabel('AUC')\n",
    "    plt.legend()\n",
    "    plt.grid(True)\n",
    "\n",
    "    plt.tight_layout()\n",
    "    plt.savefig('training_metrics.png', dpi=300)  # Zapisuje wykres w wysokiej jakości\n",
    "    plt.show()\n"
   ],
   "id": "59f65ba81542dd25",
   "outputs": [],
   "execution_count": 26
  },
  {
   "metadata": {},
   "cell_type": "markdown",
   "source": "### Building a training loop and testing loop",
   "id": "b190d9e68b7db20b"
  },
  {
   "metadata": {
    "ExecuteTime": {
     "end_time": "2025-10-05T01:30:31.531775Z",
     "start_time": "2025-10-05T01:30:31.422483Z"
    }
   },
   "cell_type": "code",
   "source": [
    "from sklearn.metrics import precision_score, recall_score, f1_score, roc_auc_score\n",
    "epochs = 2500\n",
    "\n",
    "def trainModel(model, X_train, y_train, X_test, y_test, isCrossValidation=False):\n",
    "\n",
    "    torch.manual_seed(42)\n",
    "    torch.cuda.manual_seed(42)\n",
    "    eps = 0.00001\n",
    "\n",
    "    # Set the number of epochs\n",
    "\n",
    "    # Tracking loss and accuracy\n",
    "    track_accuracy = []\n",
    "    track_loss = []\n",
    "    track_f1 = []\n",
    "    track_precision = []\n",
    "    track_recall = []\n",
    "    track_auc = []\n",
    "\n",
    "    track_test_f1 = []\n",
    "    track_test_precision = []\n",
    "    track_test_recall = []\n",
    "    track_test_auc = []\n",
    "    track_test_accuracy = []\n",
    "    track_test_loss = []\n",
    "\n",
    "\n",
    "    # Put data to target device\n",
    "    X_train, y_train = X_train.to(device), y_train.to(device)\n",
    "    X_test, y_test = X_test.to(device), y_test.to(device)\n",
    "\n",
    "    weight_for_0 = len(y_test) + len(y_train) / (2 * ((y_test < eps).sum() + (y_train < eps).sum()))\n",
    "    weight_for_1 = len(y_test) + len(y_train) / (2 * ((y_test - 1 < eps).sum() + (y_train - 1 < eps).sum()))\n",
    "\n",
    "    pos_weight = torch.tensor([weight_for_1 / weight_for_0]).to(device)\n",
    "    loss_fn = nn.BCEWithLogitsLoss(pos_weight=pos_weight)\n",
    "    optimizer = torch.optim.SGD(params=model.parameters(), lr=0.01)\n",
    "\n",
    "\n",
    "    for epoch in range(epochs):\n",
    "        ### Training\n",
    "        model.train()\n",
    "\n",
    "        # 1. Forward pass\n",
    "        y_logits = model(X_train).squeeze()\n",
    "        y_probs = torch.sigmoid(y_logits)\n",
    "        y_pred = torch.round(y_probs)  # turn logits into pred probs and into pred labels\n",
    "\n",
    "        # 2. Calculate the loss / cost\n",
    "        loss = loss_fn(y_logits, y_train)\n",
    "        track_loss.append(loss.item())\n",
    "\n",
    "        acc = accuracy_fn(y_true=y_train.detach(), y_pred=y_pred.detach())\n",
    "        precision = precision_score(y_true=y_train.detach().cpu(), y_pred=y_pred.detach().cpu(), zero_division=0) * 100\n",
    "        recall = recall_score(y_true=y_train.detach().cpu(), y_pred=y_pred.detach().cpu(), zero_division=0) * 100\n",
    "        f1 = f1_score(y_true=y_train.detach().cpu(), y_pred=y_pred.detach().cpu(), zero_division=0) * 100\n",
    "        auc = roc_auc_score(y_true=y_train.detach().cpu(), y_score=y_probs.detach().cpu())\n",
    "\n",
    "        track_accuracy.append(acc)\n",
    "        track_precision.append(precision)\n",
    "        track_recall.append(recall)\n",
    "        track_f1.append(f1)\n",
    "        track_auc.append(auc)\n",
    "\n",
    "        # 3. Optimizer zero grad\n",
    "        optimizer.zero_grad()\n",
    "\n",
    "        # 4. Backpropagation algorithm\n",
    "        loss.backward()\n",
    "\n",
    "        # 5. Gradient descent algorithm\n",
    "        optimizer.step()\n",
    "\n",
    "        ### Testing\n",
    "        model.eval()\n",
    "        with torch.inference_mode():\n",
    "            # 1. Forward pass\n",
    "            test_logits = model(X_test).squeeze()       # logits\n",
    "            test_probs = torch.sigmoid(test_logits)     # Probability\n",
    "            test_pred = torch.round(test_probs)         # 1 or 0\n",
    "\n",
    "            # 2. Calculate test loss/acc\n",
    "\n",
    "            test_loss = loss_fn(test_logits, y_test)\n",
    "            track_test_loss.append(test_loss.item())\n",
    "\n",
    "            test_acc = accuracy_fn(y_true=y_test.cpu(), y_pred=test_pred.cpu())\n",
    "            test_precision = precision_score(y_true=y_test.cpu(), y_pred=test_pred.cpu(), zero_division=0) * 100\n",
    "            test_recall = recall_score(y_true=y_test.cpu(), y_pred=test_pred.cpu(), zero_division=0) * 100\n",
    "            test_f1 = f1_score(y_true=y_test.cpu(), y_pred=test_pred.cpu(), zero_division=0) * 100\n",
    "            test_auc = roc_auc_score(y_true=y_test.cpu(), y_score=test_probs.cpu())\n",
    "            track_test_auc.append(test_auc)\n",
    "\n",
    "            track_test_accuracy.append(test_acc)\n",
    "            track_test_precision.append(test_precision)\n",
    "            track_test_recall.append(test_recall)\n",
    "            track_test_f1.append(test_f1)\n",
    "\n",
    "        # Print out what's happenin'\n",
    "        if not isCrossValidation and (epoch % 500 == 0 or epoch == epochs - 1):\n",
    "            print(\n",
    "                f\"Epoch {epoch} \\n\"\n",
    "                f\" loss: {loss:.5f} | accuracy: {acc:.2f}% | Precision: {precision:.2f}% | Recall: {recall:.2f}% | f1: {f1:.2f}% | auc: {auc:.2f} \\n\"\n",
    "                f\"Test loss: {test_loss:.5f} | Test accuracy: {test_acc:.2f}% | Test precision: {test_precision:.2f}% | Test recall: {test_recall:.2f}% | Test f1: {test_f1:.2f}% | Test auc: {test_auc:.2f} \\n\")\n",
    "\n",
    "    if not isCrossValidation:\n",
    "        makePlots(track_accuracy, track_loss, track_f1, track_precision, track_recall, track_auc,\n",
    "                  track_test_accuracy, track_test_loss, track_test_f1, track_test_precision,\n",
    "                  track_test_recall, track_test_auc)\n",
    "    return test_acc\n"
   ],
   "id": "8e7d023876194ca1",
   "outputs": [],
   "execution_count": 27
  },
  {
   "metadata": {},
   "cell_type": "markdown",
   "source": "# Cross-validation",
   "id": "5a885d7e9c8287e6"
  },
  {
   "metadata": {
    "ExecuteTime": {
     "end_time": "2025-10-05T01:30:50.609876Z",
     "start_time": "2025-10-05T01:30:31.578795Z"
    }
   },
   "cell_type": "code",
   "source": [
    "from sklearn.model_selection import StratifiedKFold, train_test_split\n",
    "\n",
    "kfold = StratifiedKFold(n_splits=5, shuffle=True)\n",
    "cv_scores = []\n",
    "for train, test in kfold.split(X_train, y_train):\n",
    "    # create model, train, and get accuracy\n",
    "    model_1 = ExoplanetsV0(input_features=X_test.shape[1], output_features=1, hidden_units=32).to(device)\n",
    "    acc = trainModel(model_1, X_train[train], y_train[train], X_train[test], y_train[test], True)\n",
    "    print(\"Accuracy: %.2f\" % acc)\n",
    "    cv_scores.append(acc)\n",
    "\n",
    "# evaluate the model\n",
    "model_acc = np.mean(cv_scores)\n",
    "model_std = np.std(cv_scores)\n",
    "print(\"Stats (cross validation): %.2f%% (+/- %.2f%%)\" % (model_acc, model_std))\n",
    "\n",
    "model_1 = ExoplanetsV0(input_features=X_test.shape[1], output_features=1, hidden_units=32).to(device)\n",
    "trainModel(model_1, X_train, y_train, X_test, y_test, false)"
   ],
   "id": "3f05ab08d6773c57",
   "outputs": [
    {
     "ename": "KeyboardInterrupt",
     "evalue": "",
     "output_type": "error",
     "traceback": [
      "\u001B[31m---------------------------------------------------------------------------\u001B[39m",
      "\u001B[31mKeyboardInterrupt\u001B[39m                         Traceback (most recent call last)",
      "\u001B[36mCell\u001B[39m\u001B[36m \u001B[39m\u001B[32mIn[28]\u001B[39m\u001B[32m, line 8\u001B[39m\n\u001B[32m      5\u001B[39m \u001B[38;5;28;01mfor\u001B[39;00m train, test \u001B[38;5;129;01min\u001B[39;00m kfold.split(X_train, y_train):\n\u001B[32m      6\u001B[39m     \u001B[38;5;66;03m# create model, train, and get accuracy\u001B[39;00m\n\u001B[32m      7\u001B[39m     model_1 = ExoplanetsV0(input_features=X_test.shape[\u001B[32m1\u001B[39m], output_features=\u001B[32m1\u001B[39m, hidden_units=\u001B[32m32\u001B[39m).to(device)\n\u001B[32m----> \u001B[39m\u001B[32m8\u001B[39m     acc = \u001B[43mtrainModel\u001B[49m\u001B[43m(\u001B[49m\u001B[43mmodel_1\u001B[49m\u001B[43m,\u001B[49m\u001B[43m \u001B[49m\u001B[43mX_train\u001B[49m\u001B[43m[\u001B[49m\u001B[43mtrain\u001B[49m\u001B[43m]\u001B[49m\u001B[43m,\u001B[49m\u001B[43m \u001B[49m\u001B[43my_train\u001B[49m\u001B[43m[\u001B[49m\u001B[43mtrain\u001B[49m\u001B[43m]\u001B[49m\u001B[43m,\u001B[49m\u001B[43m \u001B[49m\u001B[43mX_train\u001B[49m\u001B[43m[\u001B[49m\u001B[43mtest\u001B[49m\u001B[43m]\u001B[49m\u001B[43m,\u001B[49m\u001B[43m \u001B[49m\u001B[43my_train\u001B[49m\u001B[43m[\u001B[49m\u001B[43mtest\u001B[49m\u001B[43m]\u001B[49m\u001B[43m,\u001B[49m\u001B[43m \u001B[49m\u001B[38;5;28;43;01mTrue\u001B[39;49;00m\u001B[43m)\u001B[49m\n\u001B[32m      9\u001B[39m     \u001B[38;5;28mprint\u001B[39m(\u001B[33m\"\u001B[39m\u001B[33mAccuracy: \u001B[39m\u001B[38;5;132;01m%.2f\u001B[39;00m\u001B[33m\"\u001B[39m % acc)\n\u001B[32m     10\u001B[39m     cv_scores.append(acc)\n",
      "\u001B[36mCell\u001B[39m\u001B[36m \u001B[39m\u001B[32mIn[27]\u001B[39m\u001B[32m, line 54\u001B[39m, in \u001B[36mtrainModel\u001B[39m\u001B[34m(model, X_train, y_train, X_test, y_test, isCrossValidation)\u001B[39m\n\u001B[32m     51\u001B[39m track_loss.append(loss.item())\n\u001B[32m     53\u001B[39m acc = accuracy_fn(y_true=y_train.detach(), y_pred=y_pred.detach())\n\u001B[32m---> \u001B[39m\u001B[32m54\u001B[39m precision = \u001B[43mprecision_score\u001B[49m\u001B[43m(\u001B[49m\u001B[43my_true\u001B[49m\u001B[43m=\u001B[49m\u001B[43my_train\u001B[49m\u001B[43m.\u001B[49m\u001B[43mdetach\u001B[49m\u001B[43m(\u001B[49m\u001B[43m)\u001B[49m\u001B[43m.\u001B[49m\u001B[43mcpu\u001B[49m\u001B[43m(\u001B[49m\u001B[43m)\u001B[49m\u001B[43m,\u001B[49m\u001B[43m \u001B[49m\u001B[43my_pred\u001B[49m\u001B[43m=\u001B[49m\u001B[43my_pred\u001B[49m\u001B[43m.\u001B[49m\u001B[43mdetach\u001B[49m\u001B[43m(\u001B[49m\u001B[43m)\u001B[49m\u001B[43m.\u001B[49m\u001B[43mcpu\u001B[49m\u001B[43m(\u001B[49m\u001B[43m)\u001B[49m\u001B[43m,\u001B[49m\u001B[43m \u001B[49m\u001B[43mzero_division\u001B[49m\u001B[43m=\u001B[49m\u001B[32;43m0\u001B[39;49m\u001B[43m)\u001B[49m * \u001B[32m100\u001B[39m\n\u001B[32m     55\u001B[39m recall = recall_score(y_true=y_train.detach().cpu(), y_pred=y_pred.detach().cpu(), zero_division=\u001B[32m0\u001B[39m) * \u001B[32m100\u001B[39m\n\u001B[32m     56\u001B[39m f1 = f1_score(y_true=y_train.detach().cpu(), y_pred=y_pred.detach().cpu(), zero_division=\u001B[32m0\u001B[39m) * \u001B[32m100\u001B[39m\n",
      "\u001B[36mFile \u001B[39m\u001B[32m~/HomeProjects/NasaSpaceApps2025/SpaceAppsExoplanets/.venv/lib/python3.12/site-packages/sklearn/utils/_param_validation.py:218\u001B[39m, in \u001B[36mvalidate_params.<locals>.decorator.<locals>.wrapper\u001B[39m\u001B[34m(*args, **kwargs)\u001B[39m\n\u001B[32m    212\u001B[39m \u001B[38;5;28;01mtry\u001B[39;00m:\n\u001B[32m    213\u001B[39m     \u001B[38;5;28;01mwith\u001B[39;00m config_context(\n\u001B[32m    214\u001B[39m         skip_parameter_validation=(\n\u001B[32m    215\u001B[39m             prefer_skip_nested_validation \u001B[38;5;129;01mor\u001B[39;00m global_skip_validation\n\u001B[32m    216\u001B[39m         )\n\u001B[32m    217\u001B[39m     ):\n\u001B[32m--> \u001B[39m\u001B[32m218\u001B[39m         \u001B[38;5;28;01mreturn\u001B[39;00m \u001B[43mfunc\u001B[49m\u001B[43m(\u001B[49m\u001B[43m*\u001B[49m\u001B[43margs\u001B[49m\u001B[43m,\u001B[49m\u001B[43m \u001B[49m\u001B[43m*\u001B[49m\u001B[43m*\u001B[49m\u001B[43mkwargs\u001B[49m\u001B[43m)\u001B[49m\n\u001B[32m    219\u001B[39m \u001B[38;5;28;01mexcept\u001B[39;00m InvalidParameterError \u001B[38;5;28;01mas\u001B[39;00m e:\n\u001B[32m    220\u001B[39m     \u001B[38;5;66;03m# When the function is just a wrapper around an estimator, we allow\u001B[39;00m\n\u001B[32m    221\u001B[39m     \u001B[38;5;66;03m# the function to delegate validation to the estimator, but we replace\u001B[39;00m\n\u001B[32m    222\u001B[39m     \u001B[38;5;66;03m# the name of the estimator by the name of the function in the error\u001B[39;00m\n\u001B[32m    223\u001B[39m     \u001B[38;5;66;03m# message to avoid confusion.\u001B[39;00m\n\u001B[32m    224\u001B[39m     msg = re.sub(\n\u001B[32m    225\u001B[39m         \u001B[33mr\u001B[39m\u001B[33m\"\u001B[39m\u001B[33mparameter of \u001B[39m\u001B[33m\\\u001B[39m\u001B[33mw+ must be\u001B[39m\u001B[33m\"\u001B[39m,\n\u001B[32m    226\u001B[39m         \u001B[33mf\u001B[39m\u001B[33m\"\u001B[39m\u001B[33mparameter of \u001B[39m\u001B[38;5;132;01m{\u001B[39;00mfunc.\u001B[34m__qualname__\u001B[39m\u001B[38;5;132;01m}\u001B[39;00m\u001B[33m must be\u001B[39m\u001B[33m\"\u001B[39m,\n\u001B[32m    227\u001B[39m         \u001B[38;5;28mstr\u001B[39m(e),\n\u001B[32m    228\u001B[39m     )\n",
      "\u001B[36mFile \u001B[39m\u001B[32m~/HomeProjects/NasaSpaceApps2025/SpaceAppsExoplanets/.venv/lib/python3.12/site-packages/sklearn/metrics/_classification.py:2524\u001B[39m, in \u001B[36mprecision_score\u001B[39m\u001B[34m(y_true, y_pred, labels, pos_label, average, sample_weight, zero_division)\u001B[39m\n\u001B[32m   2356\u001B[39m \u001B[38;5;129m@validate_params\u001B[39m(\n\u001B[32m   2357\u001B[39m     {\n\u001B[32m   2358\u001B[39m         \u001B[33m\"\u001B[39m\u001B[33my_true\u001B[39m\u001B[33m\"\u001B[39m: [\u001B[33m\"\u001B[39m\u001B[33marray-like\u001B[39m\u001B[33m\"\u001B[39m, \u001B[33m\"\u001B[39m\u001B[33msparse matrix\u001B[39m\u001B[33m\"\u001B[39m],\n\u001B[32m   (...)\u001B[39m\u001B[32m   2383\u001B[39m     zero_division=\u001B[33m\"\u001B[39m\u001B[33mwarn\u001B[39m\u001B[33m\"\u001B[39m,\n\u001B[32m   2384\u001B[39m ):\n\u001B[32m   2385\u001B[39m \u001B[38;5;250m    \u001B[39m\u001B[33;03m\"\"\"Compute the precision.\u001B[39;00m\n\u001B[32m   2386\u001B[39m \n\u001B[32m   2387\u001B[39m \u001B[33;03m    The precision is the ratio ``tp / (tp + fp)`` where ``tp`` is the number of\u001B[39;00m\n\u001B[32m   (...)\u001B[39m\u001B[32m   2522\u001B[39m \u001B[33;03m    array([0.5, 1. , 1. ])\u001B[39;00m\n\u001B[32m   2523\u001B[39m \u001B[33;03m    \"\"\"\u001B[39;00m\n\u001B[32m-> \u001B[39m\u001B[32m2524\u001B[39m     p, _, _, _ = \u001B[43mprecision_recall_fscore_support\u001B[49m\u001B[43m(\u001B[49m\n\u001B[32m   2525\u001B[39m \u001B[43m        \u001B[49m\u001B[43my_true\u001B[49m\u001B[43m,\u001B[49m\n\u001B[32m   2526\u001B[39m \u001B[43m        \u001B[49m\u001B[43my_pred\u001B[49m\u001B[43m,\u001B[49m\n\u001B[32m   2527\u001B[39m \u001B[43m        \u001B[49m\u001B[43mlabels\u001B[49m\u001B[43m=\u001B[49m\u001B[43mlabels\u001B[49m\u001B[43m,\u001B[49m\n\u001B[32m   2528\u001B[39m \u001B[43m        \u001B[49m\u001B[43mpos_label\u001B[49m\u001B[43m=\u001B[49m\u001B[43mpos_label\u001B[49m\u001B[43m,\u001B[49m\n\u001B[32m   2529\u001B[39m \u001B[43m        \u001B[49m\u001B[43maverage\u001B[49m\u001B[43m=\u001B[49m\u001B[43maverage\u001B[49m\u001B[43m,\u001B[49m\n\u001B[32m   2530\u001B[39m \u001B[43m        \u001B[49m\u001B[43mwarn_for\u001B[49m\u001B[43m=\u001B[49m\u001B[43m(\u001B[49m\u001B[33;43m\"\u001B[39;49m\u001B[33;43mprecision\u001B[39;49m\u001B[33;43m\"\u001B[39;49m\u001B[43m,\u001B[49m\u001B[43m)\u001B[49m\u001B[43m,\u001B[49m\n\u001B[32m   2531\u001B[39m \u001B[43m        \u001B[49m\u001B[43msample_weight\u001B[49m\u001B[43m=\u001B[49m\u001B[43msample_weight\u001B[49m\u001B[43m,\u001B[49m\n\u001B[32m   2532\u001B[39m \u001B[43m        \u001B[49m\u001B[43mzero_division\u001B[49m\u001B[43m=\u001B[49m\u001B[43mzero_division\u001B[49m\u001B[43m,\u001B[49m\n\u001B[32m   2533\u001B[39m \u001B[43m    \u001B[49m\u001B[43m)\u001B[49m\n\u001B[32m   2534\u001B[39m     \u001B[38;5;28;01mreturn\u001B[39;00m p\n",
      "\u001B[36mFile \u001B[39m\u001B[32m~/HomeProjects/NasaSpaceApps2025/SpaceAppsExoplanets/.venv/lib/python3.12/site-packages/sklearn/utils/_param_validation.py:191\u001B[39m, in \u001B[36mvalidate_params.<locals>.decorator.<locals>.wrapper\u001B[39m\u001B[34m(*args, **kwargs)\u001B[39m\n\u001B[32m    189\u001B[39m global_skip_validation = get_config()[\u001B[33m\"\u001B[39m\u001B[33mskip_parameter_validation\u001B[39m\u001B[33m\"\u001B[39m]\n\u001B[32m    190\u001B[39m \u001B[38;5;28;01mif\u001B[39;00m global_skip_validation:\n\u001B[32m--> \u001B[39m\u001B[32m191\u001B[39m     \u001B[38;5;28;01mreturn\u001B[39;00m \u001B[43mfunc\u001B[49m\u001B[43m(\u001B[49m\u001B[43m*\u001B[49m\u001B[43margs\u001B[49m\u001B[43m,\u001B[49m\u001B[43m \u001B[49m\u001B[43m*\u001B[49m\u001B[43m*\u001B[49m\u001B[43mkwargs\u001B[49m\u001B[43m)\u001B[49m\n\u001B[32m    193\u001B[39m func_sig = signature(func)\n\u001B[32m    195\u001B[39m \u001B[38;5;66;03m# Map *args/**kwargs to the function signature\u001B[39;00m\n",
      "\u001B[36mFile \u001B[39m\u001B[32m~/HomeProjects/NasaSpaceApps2025/SpaceAppsExoplanets/.venv/lib/python3.12/site-packages/sklearn/metrics/_classification.py:2000\u001B[39m, in \u001B[36mprecision_recall_fscore_support\u001B[39m\u001B[34m(y_true, y_pred, beta, labels, pos_label, average, warn_for, sample_weight, zero_division)\u001B[39m\n\u001B[32m   1998\u001B[39m \u001B[38;5;66;03m# Calculate tp_sum, pred_sum, true_sum ###\u001B[39;00m\n\u001B[32m   1999\u001B[39m samplewise = average == \u001B[33m\"\u001B[39m\u001B[33msamples\u001B[39m\u001B[33m\"\u001B[39m\n\u001B[32m-> \u001B[39m\u001B[32m2000\u001B[39m MCM = \u001B[43mmultilabel_confusion_matrix\u001B[49m\u001B[43m(\u001B[49m\n\u001B[32m   2001\u001B[39m \u001B[43m    \u001B[49m\u001B[43my_true\u001B[49m\u001B[43m,\u001B[49m\n\u001B[32m   2002\u001B[39m \u001B[43m    \u001B[49m\u001B[43my_pred\u001B[49m\u001B[43m,\u001B[49m\n\u001B[32m   2003\u001B[39m \u001B[43m    \u001B[49m\u001B[43msample_weight\u001B[49m\u001B[43m=\u001B[49m\u001B[43msample_weight\u001B[49m\u001B[43m,\u001B[49m\n\u001B[32m   2004\u001B[39m \u001B[43m    \u001B[49m\u001B[43mlabels\u001B[49m\u001B[43m=\u001B[49m\u001B[43mlabels\u001B[49m\u001B[43m,\u001B[49m\n\u001B[32m   2005\u001B[39m \u001B[43m    \u001B[49m\u001B[43msamplewise\u001B[49m\u001B[43m=\u001B[49m\u001B[43msamplewise\u001B[49m\u001B[43m,\u001B[49m\n\u001B[32m   2006\u001B[39m \u001B[43m\u001B[49m\u001B[43m)\u001B[49m\n\u001B[32m   2007\u001B[39m tp_sum = MCM[:, \u001B[32m1\u001B[39m, \u001B[32m1\u001B[39m]\n\u001B[32m   2008\u001B[39m pred_sum = tp_sum + MCM[:, \u001B[32m0\u001B[39m, \u001B[32m1\u001B[39m]\n",
      "\u001B[36mFile \u001B[39m\u001B[32m~/HomeProjects/NasaSpaceApps2025/SpaceAppsExoplanets/.venv/lib/python3.12/site-packages/sklearn/utils/_param_validation.py:191\u001B[39m, in \u001B[36mvalidate_params.<locals>.decorator.<locals>.wrapper\u001B[39m\u001B[34m(*args, **kwargs)\u001B[39m\n\u001B[32m    189\u001B[39m global_skip_validation = get_config()[\u001B[33m\"\u001B[39m\u001B[33mskip_parameter_validation\u001B[39m\u001B[33m\"\u001B[39m]\n\u001B[32m    190\u001B[39m \u001B[38;5;28;01mif\u001B[39;00m global_skip_validation:\n\u001B[32m--> \u001B[39m\u001B[32m191\u001B[39m     \u001B[38;5;28;01mreturn\u001B[39;00m \u001B[43mfunc\u001B[49m\u001B[43m(\u001B[49m\u001B[43m*\u001B[49m\u001B[43margs\u001B[49m\u001B[43m,\u001B[49m\u001B[43m \u001B[49m\u001B[43m*\u001B[49m\u001B[43m*\u001B[49m\u001B[43mkwargs\u001B[49m\u001B[43m)\u001B[49m\n\u001B[32m    193\u001B[39m func_sig = signature(func)\n\u001B[32m    195\u001B[39m \u001B[38;5;66;03m# Map *args/**kwargs to the function signature\u001B[39;00m\n",
      "\u001B[36mFile \u001B[39m\u001B[32m~/HomeProjects/NasaSpaceApps2025/SpaceAppsExoplanets/.venv/lib/python3.12/site-packages/sklearn/metrics/_classification.py:658\u001B[39m, in \u001B[36mmultilabel_confusion_matrix\u001B[39m\u001B[34m(y_true, y_pred, sample_weight, labels, samplewise)\u001B[39m\n\u001B[32m    656\u001B[39m y_true, y_pred = attach_unique(y_true, y_pred)\n\u001B[32m    657\u001B[39m xp, _, device_ = get_namespace_and_device(y_true, y_pred)\n\u001B[32m--> \u001B[39m\u001B[32m658\u001B[39m y_type, y_true, y_pred = \u001B[43m_check_targets\u001B[49m\u001B[43m(\u001B[49m\u001B[43my_true\u001B[49m\u001B[43m,\u001B[49m\u001B[43m \u001B[49m\u001B[43my_pred\u001B[49m\u001B[43m)\u001B[49m\n\u001B[32m    659\u001B[39m \u001B[38;5;28;01mif\u001B[39;00m sample_weight \u001B[38;5;129;01mis\u001B[39;00m \u001B[38;5;129;01mnot\u001B[39;00m \u001B[38;5;28;01mNone\u001B[39;00m:\n\u001B[32m    660\u001B[39m     sample_weight = column_or_1d(sample_weight, device=device_)\n",
      "\u001B[36mFile \u001B[39m\u001B[32m~/HomeProjects/NasaSpaceApps2025/SpaceAppsExoplanets/.venv/lib/python3.12/site-packages/sklearn/metrics/_classification.py:99\u001B[39m, in \u001B[36m_check_targets\u001B[39m\u001B[34m(y_true, y_pred)\u001B[39m\n\u001B[32m     97\u001B[39m check_consistent_length(y_true, y_pred)\n\u001B[32m     98\u001B[39m type_true = type_of_target(y_true, input_name=\u001B[33m\"\u001B[39m\u001B[33my_true\u001B[39m\u001B[33m\"\u001B[39m)\n\u001B[32m---> \u001B[39m\u001B[32m99\u001B[39m type_pred = \u001B[43mtype_of_target\u001B[49m\u001B[43m(\u001B[49m\u001B[43my_pred\u001B[49m\u001B[43m,\u001B[49m\u001B[43m \u001B[49m\u001B[43minput_name\u001B[49m\u001B[43m=\u001B[49m\u001B[33;43m\"\u001B[39;49m\u001B[33;43my_pred\u001B[39;49m\u001B[33;43m\"\u001B[39;49m\u001B[43m)\u001B[49m\n\u001B[32m    101\u001B[39m y_type = {type_true, type_pred}\n\u001B[32m    102\u001B[39m \u001B[38;5;28;01mif\u001B[39;00m y_type == {\u001B[33m\"\u001B[39m\u001B[33mbinary\u001B[39m\u001B[33m\"\u001B[39m, \u001B[33m\"\u001B[39m\u001B[33mmulticlass\u001B[39m\u001B[33m\"\u001B[39m}:\n",
      "\u001B[36mFile \u001B[39m\u001B[32m~/HomeProjects/NasaSpaceApps2025/SpaceAppsExoplanets/.venv/lib/python3.12/site-packages/sklearn/utils/multiclass.py:416\u001B[39m, in \u001B[36mtype_of_target\u001B[39m\u001B[34m(y, input_name, raise_unknown)\u001B[39m\n\u001B[32m    414\u001B[39m \u001B[38;5;28;01mif\u001B[39;00m issparse(first_row_or_val):\n\u001B[32m    415\u001B[39m     first_row_or_val = first_row_or_val.data\n\u001B[32m--> \u001B[39m\u001B[32m416\u001B[39m classes = \u001B[43mcached_unique\u001B[49m\u001B[43m(\u001B[49m\u001B[43my\u001B[49m\u001B[43m)\u001B[49m\n\u001B[32m    417\u001B[39m \u001B[38;5;28;01mif\u001B[39;00m y.shape[\u001B[32m0\u001B[39m] > \u001B[32m20\u001B[39m \u001B[38;5;129;01mand\u001B[39;00m y.shape[\u001B[32m0\u001B[39m] > classes.shape[\u001B[32m0\u001B[39m] > \u001B[38;5;28mround\u001B[39m(\u001B[32m0.5\u001B[39m * y.shape[\u001B[32m0\u001B[39m]):\n\u001B[32m    418\u001B[39m     \u001B[38;5;66;03m# Only raise the warning when we have at least 20 samples.\u001B[39;00m\n\u001B[32m    419\u001B[39m     warnings.warn(\n\u001B[32m    420\u001B[39m         \u001B[33m\"\u001B[39m\u001B[33mThe number of unique classes is greater than 50\u001B[39m\u001B[38;5;132;01m% o\u001B[39;00m\u001B[33mf the number \u001B[39m\u001B[33m\"\u001B[39m\n\u001B[32m    421\u001B[39m         \u001B[33m\"\u001B[39m\u001B[33mof samples. `y` could represent a regression problem, not a \u001B[39m\u001B[33m\"\u001B[39m\n\u001B[32m   (...)\u001B[39m\u001B[32m    424\u001B[39m         stacklevel=\u001B[32m2\u001B[39m,\n\u001B[32m    425\u001B[39m     )\n",
      "\u001B[36mFile \u001B[39m\u001B[32m~/HomeProjects/NasaSpaceApps2025/SpaceAppsExoplanets/.venv/lib/python3.12/site-packages/sklearn/utils/_unique.py:105\u001B[39m, in \u001B[36mcached_unique\u001B[39m\u001B[34m(xp, *ys)\u001B[39m\n\u001B[32m     81\u001B[39m \u001B[38;5;28;01mdef\u001B[39;00m\u001B[38;5;250m \u001B[39m\u001B[34mcached_unique\u001B[39m(*ys, xp=\u001B[38;5;28;01mNone\u001B[39;00m):\n\u001B[32m     82\u001B[39m \u001B[38;5;250m    \u001B[39m\u001B[33;03m\"\"\"Return the unique values of ys.\u001B[39;00m\n\u001B[32m     83\u001B[39m \n\u001B[32m     84\u001B[39m \u001B[33;03m    Use the cached values from dtype.metadata if present.\u001B[39;00m\n\u001B[32m   (...)\u001B[39m\u001B[32m    103\u001B[39m \u001B[33;03m        Unique values of ys.\u001B[39;00m\n\u001B[32m    104\u001B[39m \u001B[33;03m    \"\"\"\u001B[39;00m\n\u001B[32m--> \u001B[39m\u001B[32m105\u001B[39m     res = \u001B[38;5;28;43mtuple\u001B[39;49m\u001B[43m(\u001B[49m\u001B[43m_cached_unique\u001B[49m\u001B[43m(\u001B[49m\u001B[43my\u001B[49m\u001B[43m,\u001B[49m\u001B[43m \u001B[49m\u001B[43mxp\u001B[49m\u001B[43m=\u001B[49m\u001B[43mxp\u001B[49m\u001B[43m)\u001B[49m\u001B[43m \u001B[49m\u001B[38;5;28;43;01mfor\u001B[39;49;00m\u001B[43m \u001B[49m\u001B[43my\u001B[49m\u001B[43m \u001B[49m\u001B[38;5;129;43;01min\u001B[39;49;00m\u001B[43m \u001B[49m\u001B[43mys\u001B[49m\u001B[43m)\u001B[49m\n\u001B[32m    106\u001B[39m     \u001B[38;5;28;01mif\u001B[39;00m \u001B[38;5;28mlen\u001B[39m(res) == \u001B[32m1\u001B[39m:\n\u001B[32m    107\u001B[39m         \u001B[38;5;28;01mreturn\u001B[39;00m res[\u001B[32m0\u001B[39m]\n",
      "\u001B[36mFile \u001B[39m\u001B[32m~/HomeProjects/NasaSpaceApps2025/SpaceAppsExoplanets/.venv/lib/python3.12/site-packages/sklearn/utils/_unique.py:105\u001B[39m, in \u001B[36m<genexpr>\u001B[39m\u001B[34m(.0)\u001B[39m\n\u001B[32m     81\u001B[39m \u001B[38;5;28;01mdef\u001B[39;00m\u001B[38;5;250m \u001B[39m\u001B[34mcached_unique\u001B[39m(*ys, xp=\u001B[38;5;28;01mNone\u001B[39;00m):\n\u001B[32m     82\u001B[39m \u001B[38;5;250m    \u001B[39m\u001B[33;03m\"\"\"Return the unique values of ys.\u001B[39;00m\n\u001B[32m     83\u001B[39m \n\u001B[32m     84\u001B[39m \u001B[33;03m    Use the cached values from dtype.metadata if present.\u001B[39;00m\n\u001B[32m   (...)\u001B[39m\u001B[32m    103\u001B[39m \u001B[33;03m        Unique values of ys.\u001B[39;00m\n\u001B[32m    104\u001B[39m \u001B[33;03m    \"\"\"\u001B[39;00m\n\u001B[32m--> \u001B[39m\u001B[32m105\u001B[39m     res = \u001B[38;5;28mtuple\u001B[39m(\u001B[43m_cached_unique\u001B[49m\u001B[43m(\u001B[49m\u001B[43my\u001B[49m\u001B[43m,\u001B[49m\u001B[43m \u001B[49m\u001B[43mxp\u001B[49m\u001B[43m=\u001B[49m\u001B[43mxp\u001B[49m\u001B[43m)\u001B[49m \u001B[38;5;28;01mfor\u001B[39;00m y \u001B[38;5;129;01min\u001B[39;00m ys)\n\u001B[32m    106\u001B[39m     \u001B[38;5;28;01mif\u001B[39;00m \u001B[38;5;28mlen\u001B[39m(res) == \u001B[32m1\u001B[39m:\n\u001B[32m    107\u001B[39m         \u001B[38;5;28;01mreturn\u001B[39;00m res[\u001B[32m0\u001B[39m]\n",
      "\u001B[36mFile \u001B[39m\u001B[32m~/HomeProjects/NasaSpaceApps2025/SpaceAppsExoplanets/.venv/lib/python3.12/site-packages/sklearn/utils/_unique.py:78\u001B[39m, in \u001B[36m_cached_unique\u001B[39m\u001B[34m(y, xp)\u001B[39m\n\u001B[32m     76\u001B[39m     \u001B[38;5;28;01mpass\u001B[39;00m\n\u001B[32m     77\u001B[39m xp, _ = get_namespace(y, xp=xp)\n\u001B[32m---> \u001B[39m\u001B[32m78\u001B[39m \u001B[38;5;28;01mreturn\u001B[39;00m \u001B[43mxp\u001B[49m\u001B[43m.\u001B[49m\u001B[43munique_values\u001B[49m\u001B[43m(\u001B[49m\u001B[43my\u001B[49m\u001B[43m)\u001B[49m\n",
      "\u001B[36mFile \u001B[39m\u001B[32m~/HomeProjects/NasaSpaceApps2025/SpaceAppsExoplanets/.venv/lib/python3.12/site-packages/sklearn/externals/array_api_compat/_internal.py:34\u001B[39m, in \u001B[36mget_xp.<locals>.inner.<locals>.wrapped_f\u001B[39m\u001B[34m(*args, **kwargs)\u001B[39m\n\u001B[32m     32\u001B[39m \u001B[38;5;129m@wraps\u001B[39m(f)\n\u001B[32m     33\u001B[39m \u001B[38;5;28;01mdef\u001B[39;00m\u001B[38;5;250m \u001B[39m\u001B[34mwrapped_f\u001B[39m(*args: \u001B[38;5;28mobject\u001B[39m, **kwargs: \u001B[38;5;28mobject\u001B[39m) -> \u001B[38;5;28mobject\u001B[39m:\n\u001B[32m---> \u001B[39m\u001B[32m34\u001B[39m     \u001B[38;5;28;01mreturn\u001B[39;00m \u001B[43mf\u001B[49m\u001B[43m(\u001B[49m\u001B[43m*\u001B[49m\u001B[43margs\u001B[49m\u001B[43m,\u001B[49m\u001B[43m \u001B[49m\u001B[43mxp\u001B[49m\u001B[43m=\u001B[49m\u001B[43mxp\u001B[49m\u001B[43m,\u001B[49m\u001B[43m \u001B[49m\u001B[43m*\u001B[49m\u001B[43m*\u001B[49m\u001B[43mkwargs\u001B[49m\u001B[43m)\u001B[49m\n",
      "\u001B[36mFile \u001B[39m\u001B[32m~/HomeProjects/NasaSpaceApps2025/SpaceAppsExoplanets/.venv/lib/python3.12/site-packages/sklearn/externals/array_api_compat/common/_aliases.py:254\u001B[39m, in \u001B[36munique_values\u001B[39m\u001B[34m(x, xp)\u001B[39m\n\u001B[32m    253\u001B[39m \u001B[38;5;28;01mdef\u001B[39;00m\u001B[38;5;250m \u001B[39m\u001B[34munique_values\u001B[39m(x: Array, /, xp: Namespace) -> Array:\n\u001B[32m--> \u001B[39m\u001B[32m254\u001B[39m     kwargs = \u001B[43m_unique_kwargs\u001B[49m\u001B[43m(\u001B[49m\u001B[43mxp\u001B[49m\u001B[43m)\u001B[49m\n\u001B[32m    255\u001B[39m     \u001B[38;5;28;01mreturn\u001B[39;00m xp.unique(\n\u001B[32m    256\u001B[39m         x,\n\u001B[32m    257\u001B[39m         return_counts=\u001B[38;5;28;01mFalse\u001B[39;00m,\n\u001B[32m   (...)\u001B[39m\u001B[32m    260\u001B[39m         **kwargs,\n\u001B[32m    261\u001B[39m     )\n",
      "\u001B[36mFile \u001B[39m\u001B[32m~/HomeProjects/NasaSpaceApps2025/SpaceAppsExoplanets/.venv/lib/python3.12/site-packages/sklearn/externals/array_api_compat/common/_aliases.py:203\u001B[39m, in \u001B[36m_unique_kwargs\u001B[39m\u001B[34m(xp)\u001B[39m\n\u001B[32m    199\u001B[39m \u001B[38;5;28;01mdef\u001B[39;00m\u001B[38;5;250m \u001B[39m\u001B[34m_unique_kwargs\u001B[39m(xp: Namespace) -> \u001B[38;5;28mdict\u001B[39m[\u001B[38;5;28mstr\u001B[39m, \u001B[38;5;28mbool\u001B[39m]:\n\u001B[32m    200\u001B[39m     \u001B[38;5;66;03m# Older versions of NumPy and CuPy do not have equal_nan. Rather than\u001B[39;00m\n\u001B[32m    201\u001B[39m     \u001B[38;5;66;03m# trying to parse version numbers, just check if equal_nan is in the\u001B[39;00m\n\u001B[32m    202\u001B[39m     \u001B[38;5;66;03m# signature.\u001B[39;00m\n\u001B[32m--> \u001B[39m\u001B[32m203\u001B[39m     s = \u001B[43minspect\u001B[49m\u001B[43m.\u001B[49m\u001B[43msignature\u001B[49m\u001B[43m(\u001B[49m\u001B[43mxp\u001B[49m\u001B[43m.\u001B[49m\u001B[43munique\u001B[49m\u001B[43m)\u001B[49m\n\u001B[32m    204\u001B[39m     \u001B[38;5;28;01mif\u001B[39;00m \u001B[33m\"\u001B[39m\u001B[33mequal_nan\u001B[39m\u001B[33m\"\u001B[39m \u001B[38;5;129;01min\u001B[39;00m s.parameters:\n\u001B[32m    205\u001B[39m         \u001B[38;5;28;01mreturn\u001B[39;00m {\u001B[33m\"\u001B[39m\u001B[33mequal_nan\u001B[39m\u001B[33m\"\u001B[39m: \u001B[38;5;28;01mFalse\u001B[39;00m}\n",
      "\u001B[36mFile \u001B[39m\u001B[32m/usr/lib/python3.12/inspect.py:3310\u001B[39m, in \u001B[36msignature\u001B[39m\u001B[34m(obj, follow_wrapped, globals, locals, eval_str)\u001B[39m\n\u001B[32m   3308\u001B[39m \u001B[38;5;28;01mdef\u001B[39;00m\u001B[38;5;250m \u001B[39m\u001B[34msignature\u001B[39m(obj, *, follow_wrapped=\u001B[38;5;28;01mTrue\u001B[39;00m, \u001B[38;5;28mglobals\u001B[39m=\u001B[38;5;28;01mNone\u001B[39;00m, \u001B[38;5;28mlocals\u001B[39m=\u001B[38;5;28;01mNone\u001B[39;00m, eval_str=\u001B[38;5;28;01mFalse\u001B[39;00m):\n\u001B[32m   3309\u001B[39m \u001B[38;5;250m    \u001B[39m\u001B[33;03m\"\"\"Get a signature object for the passed callable.\"\"\"\u001B[39;00m\n\u001B[32m-> \u001B[39m\u001B[32m3310\u001B[39m     \u001B[38;5;28;01mreturn\u001B[39;00m \u001B[43mSignature\u001B[49m\u001B[43m.\u001B[49m\u001B[43mfrom_callable\u001B[49m\u001B[43m(\u001B[49m\u001B[43mobj\u001B[49m\u001B[43m,\u001B[49m\u001B[43m \u001B[49m\u001B[43mfollow_wrapped\u001B[49m\u001B[43m=\u001B[49m\u001B[43mfollow_wrapped\u001B[49m\u001B[43m,\u001B[49m\n\u001B[32m   3311\u001B[39m \u001B[43m                                   \u001B[49m\u001B[38;5;28;43mglobals\u001B[39;49m\u001B[43m=\u001B[49m\u001B[38;5;28;43mglobals\u001B[39;49m\u001B[43m,\u001B[49m\u001B[43m \u001B[49m\u001B[38;5;28;43mlocals\u001B[39;49m\u001B[43m=\u001B[49m\u001B[38;5;28;43mlocals\u001B[39;49m\u001B[43m,\u001B[49m\u001B[43m \u001B[49m\u001B[43meval_str\u001B[49m\u001B[43m=\u001B[49m\u001B[43meval_str\u001B[49m\u001B[43m)\u001B[49m\n",
      "\u001B[36mFile \u001B[39m\u001B[32m/usr/lib/python3.12/inspect.py:3054\u001B[39m, in \u001B[36mSignature.from_callable\u001B[39m\u001B[34m(cls, obj, follow_wrapped, globals, locals, eval_str)\u001B[39m\n\u001B[32m   3050\u001B[39m \u001B[38;5;129m@classmethod\u001B[39m\n\u001B[32m   3051\u001B[39m \u001B[38;5;28;01mdef\u001B[39;00m\u001B[38;5;250m \u001B[39m\u001B[34mfrom_callable\u001B[39m(\u001B[38;5;28mcls\u001B[39m, obj, *,\n\u001B[32m   3052\u001B[39m                   follow_wrapped=\u001B[38;5;28;01mTrue\u001B[39;00m, \u001B[38;5;28mglobals\u001B[39m=\u001B[38;5;28;01mNone\u001B[39;00m, \u001B[38;5;28mlocals\u001B[39m=\u001B[38;5;28;01mNone\u001B[39;00m, eval_str=\u001B[38;5;28;01mFalse\u001B[39;00m):\n\u001B[32m   3053\u001B[39m \u001B[38;5;250m    \u001B[39m\u001B[33;03m\"\"\"Constructs Signature for the given callable object.\"\"\"\u001B[39;00m\n\u001B[32m-> \u001B[39m\u001B[32m3054\u001B[39m     \u001B[38;5;28;01mreturn\u001B[39;00m \u001B[43m_signature_from_callable\u001B[49m\u001B[43m(\u001B[49m\u001B[43mobj\u001B[49m\u001B[43m,\u001B[49m\u001B[43m \u001B[49m\u001B[43msigcls\u001B[49m\u001B[43m=\u001B[49m\u001B[38;5;28;43mcls\u001B[39;49m\u001B[43m,\u001B[49m\n\u001B[32m   3055\u001B[39m \u001B[43m                                    \u001B[49m\u001B[43mfollow_wrapper_chains\u001B[49m\u001B[43m=\u001B[49m\u001B[43mfollow_wrapped\u001B[49m\u001B[43m,\u001B[49m\n\u001B[32m   3056\u001B[39m \u001B[43m                                    \u001B[49m\u001B[38;5;28;43mglobals\u001B[39;49m\u001B[43m=\u001B[49m\u001B[38;5;28;43mglobals\u001B[39;49m\u001B[43m,\u001B[49m\u001B[43m \u001B[49m\u001B[38;5;28;43mlocals\u001B[39;49m\u001B[43m=\u001B[49m\u001B[38;5;28;43mlocals\u001B[39;49m\u001B[43m,\u001B[49m\u001B[43m \u001B[49m\u001B[43meval_str\u001B[49m\u001B[43m=\u001B[49m\u001B[43meval_str\u001B[49m\u001B[43m)\u001B[49m\n",
      "\u001B[36mFile \u001B[39m\u001B[32m/usr/lib/python3.12/inspect.py:2566\u001B[39m, in \u001B[36m_signature_from_callable\u001B[39m\u001B[34m(obj, follow_wrapper_chains, skip_bound_arg, globals, locals, eval_str, sigcls)\u001B[39m\n\u001B[32m   2561\u001B[39m             \u001B[38;5;28;01mreturn\u001B[39;00m sig.replace(parameters=new_params)\n\u001B[32m   2563\u001B[39m \u001B[38;5;28;01mif\u001B[39;00m isfunction(obj) \u001B[38;5;129;01mor\u001B[39;00m _signature_is_functionlike(obj):\n\u001B[32m   2564\u001B[39m     \u001B[38;5;66;03m# If it's a pure Python function, or an object that is duck type\u001B[39;00m\n\u001B[32m   2565\u001B[39m     \u001B[38;5;66;03m# of a Python function (Cython functions, for instance), then:\u001B[39;00m\n\u001B[32m-> \u001B[39m\u001B[32m2566\u001B[39m     \u001B[38;5;28;01mreturn\u001B[39;00m \u001B[43m_signature_from_function\u001B[49m\u001B[43m(\u001B[49m\u001B[43msigcls\u001B[49m\u001B[43m,\u001B[49m\u001B[43m \u001B[49m\u001B[43mobj\u001B[49m\u001B[43m,\u001B[49m\n\u001B[32m   2567\u001B[39m \u001B[43m                                    \u001B[49m\u001B[43mskip_bound_arg\u001B[49m\u001B[43m=\u001B[49m\u001B[43mskip_bound_arg\u001B[49m\u001B[43m,\u001B[49m\n\u001B[32m   2568\u001B[39m \u001B[43m                                    \u001B[49m\u001B[38;5;28;43mglobals\u001B[39;49m\u001B[43m=\u001B[49m\u001B[38;5;28;43mglobals\u001B[39;49m\u001B[43m,\u001B[49m\u001B[43m \u001B[49m\u001B[38;5;28;43mlocals\u001B[39;49m\u001B[43m=\u001B[49m\u001B[38;5;28;43mlocals\u001B[39;49m\u001B[43m,\u001B[49m\u001B[43m \u001B[49m\u001B[43meval_str\u001B[49m\u001B[43m=\u001B[49m\u001B[43meval_str\u001B[49m\u001B[43m)\u001B[49m\n\u001B[32m   2570\u001B[39m \u001B[38;5;28;01mif\u001B[39;00m _signature_is_builtin(obj):\n\u001B[32m   2571\u001B[39m     \u001B[38;5;28;01mreturn\u001B[39;00m _signature_from_builtin(sigcls, obj,\n\u001B[32m   2572\u001B[39m                                    skip_bound_arg=skip_bound_arg)\n",
      "\u001B[36mFile \u001B[39m\u001B[32m/usr/lib/python3.12/inspect.py:2456\u001B[39m, in \u001B[36m_signature_from_function\u001B[39m\u001B[34m(cls, func, skip_bound_arg, globals, locals, eval_str)\u001B[39m\n\u001B[32m   2451\u001B[39m     parameters.append(Parameter(name, annotation=annotation,\n\u001B[32m   2452\u001B[39m                                 kind=_VAR_KEYWORD))\n\u001B[32m   2454\u001B[39m \u001B[38;5;66;03m# Is 'func' is a pure Python function - don't validate the\u001B[39;00m\n\u001B[32m   2455\u001B[39m \u001B[38;5;66;03m# parameters list (for correct order and defaults), it should be OK.\u001B[39;00m\n\u001B[32m-> \u001B[39m\u001B[32m2456\u001B[39m \u001B[38;5;28;01mreturn\u001B[39;00m \u001B[38;5;28;43mcls\u001B[39;49m\u001B[43m(\u001B[49m\u001B[43mparameters\u001B[49m\u001B[43m,\u001B[49m\n\u001B[32m   2457\u001B[39m \u001B[43m           \u001B[49m\u001B[43mreturn_annotation\u001B[49m\u001B[43m=\u001B[49m\u001B[43mannotations\u001B[49m\u001B[43m.\u001B[49m\u001B[43mget\u001B[49m\u001B[43m(\u001B[49m\u001B[33;43m'\u001B[39;49m\u001B[33;43mreturn\u001B[39;49m\u001B[33;43m'\u001B[39;49m\u001B[43m,\u001B[49m\u001B[43m \u001B[49m\u001B[43m_empty\u001B[49m\u001B[43m)\u001B[49m\u001B[43m,\u001B[49m\n\u001B[32m   2458\u001B[39m \u001B[43m           \u001B[49m\u001B[43m__validate_parameters__\u001B[49m\u001B[43m=\u001B[49m\u001B[43mis_duck_function\u001B[49m\u001B[43m)\u001B[49m\n",
      "\u001B[36mFile \u001B[39m\u001B[32m/usr/lib/python3.12/inspect.py:3045\u001B[39m, in \u001B[36mSignature.__init__\u001B[39m\u001B[34m(self, parameters, return_annotation, __validate_parameters__)\u001B[39m\n\u001B[32m   3043\u001B[39m             params[name] = param\n\u001B[32m   3044\u001B[39m     \u001B[38;5;28;01melse\u001B[39;00m:\n\u001B[32m-> \u001B[39m\u001B[32m3045\u001B[39m         params = \u001B[43mOrderedDict\u001B[49m\u001B[43m(\u001B[49m\u001B[43m(\u001B[49m\u001B[43mparam\u001B[49m\u001B[43m.\u001B[49m\u001B[43mname\u001B[49m\u001B[43m,\u001B[49m\u001B[43m \u001B[49m\u001B[43mparam\u001B[49m\u001B[43m)\u001B[49m\u001B[43m \u001B[49m\u001B[38;5;28;43;01mfor\u001B[39;49;00m\u001B[43m \u001B[49m\u001B[43mparam\u001B[49m\u001B[43m \u001B[49m\u001B[38;5;129;43;01min\u001B[39;49;00m\u001B[43m \u001B[49m\u001B[43mparameters\u001B[49m\u001B[43m)\u001B[49m\n\u001B[32m   3047\u001B[39m \u001B[38;5;28mself\u001B[39m._parameters = types.MappingProxyType(params)\n\u001B[32m   3048\u001B[39m \u001B[38;5;28mself\u001B[39m._return_annotation = return_annotation\n",
      "\u001B[36mFile \u001B[39m\u001B[32m/usr/lib/python3.12/inspect.py:3045\u001B[39m, in \u001B[36m<genexpr>\u001B[39m\u001B[34m(.0)\u001B[39m\n\u001B[32m   3043\u001B[39m             params[name] = param\n\u001B[32m   3044\u001B[39m     \u001B[38;5;28;01melse\u001B[39;00m:\n\u001B[32m-> \u001B[39m\u001B[32m3045\u001B[39m         params = OrderedDict((param.name, param) \u001B[38;5;28;01mfor\u001B[39;00m param \u001B[38;5;129;01min\u001B[39;00m parameters)\n\u001B[32m   3047\u001B[39m \u001B[38;5;28mself\u001B[39m._parameters = types.MappingProxyType(params)\n\u001B[32m   3048\u001B[39m \u001B[38;5;28mself\u001B[39m._return_annotation = return_annotation\n",
      "\u001B[31mKeyboardInterrupt\u001B[39m: "
     ]
    }
   ],
   "execution_count": 28
  },
  {
   "metadata": {},
   "cell_type": "markdown",
   "source": [
    "# Saving and loading already trained Model\n",
    "\n",
    "Creating template / method for effective saving already trained model, so user don't have to wait for it to finish training before usage."
   ],
   "id": "bbcf8d4226367407"
  },
  {
   "metadata": {
    "ExecuteTime": {
     "end_time": "2025-10-05T01:30:52.678700Z",
     "start_time": "2025-10-05T01:30:52.663592Z"
    }
   },
   "cell_type": "code",
   "source": [
    "from pathlib import Path\n",
    "\n",
    "MODEL_PATH = Path(\"../../saved-models/nn\")\n",
    "MODEL_PATH.mkdir(parents = True, exist_ok = True)\n",
    "\n",
    "def SaveModel(model, model_name: str):\n",
    "    # 1. Create models directory if it doesn't exist yet\n",
    "\n",
    "    # 2. Create model save path\n",
    "    MODEL_NAME = model_name + \".pth\"\n",
    "    MODEL_SAVE_PATH = MODEL_PATH / MODEL_NAME\n",
    "\n",
    "    # 3. Save the model state dict\n",
    "    save = [model.state_dict(), model.input_features, model.output_features, model.hidden_units]\n",
    "    print(f\"Saving model to: {MODEL_SAVE_PATH}\")\n",
    "    torch.save(obj = save,\n",
    "               f = MODEL_SAVE_PATH)\n",
    "SaveModel(model_1, \"nn_exoplanets0\")"
   ],
   "id": "14642a8e83efd602",
   "outputs": [
    {
     "name": "stdout",
     "output_type": "stream",
     "text": [
      "Saving model to: ../../saved-models/nn/nn_exoplanets0.pth\n"
     ]
    }
   ],
   "execution_count": 29
  },
  {
   "metadata": {
    "ExecuteTime": {
     "end_time": "2025-10-05T01:30:53.925739Z",
     "start_time": "2025-10-05T01:30:53.775970Z"
    }
   },
   "cell_type": "code",
   "source": "!ls -l ../../saved-models",
   "id": "72c0d8b2b571ca9b",
   "outputs": [
    {
     "name": "stdout",
     "output_type": "stream",
     "text": [
      "total 8\r\n",
      "drwxrwxr-x 2 maciekb maciekb 4096 Oct  5 03:27 kepler\r\n",
      "drwxrwxr-x 2 maciekb maciekb 4096 Oct  5 03:27 nn\r\n"
     ]
    }
   ],
   "execution_count": 30
  },
  {
   "metadata": {},
   "cell_type": "markdown",
   "source": [
    "### Loading Trained model\n",
    "\n"
   ],
   "id": "3ba34456490caee6"
  },
  {
   "metadata": {
    "ExecuteTime": {
     "end_time": "2025-10-05T01:30:55.223875Z",
     "start_time": "2025-10-05T01:30:55.221669Z"
    }
   },
   "cell_type": "code",
   "source": [
    "import torch\n",
    "# To load in a saved state_dict we have to instantiate a new instace of our model class\n",
    "def load_model(model_name):\n",
    "    model_name += \".pth\"\n",
    "    load = torch.load(f = MODEL_PATH / model_name)\n",
    "    loaded_model = ExoplanetsV0(input_features=load[1], output_features=load[2], hidden_units=load[3])\n",
    "    loaded_model.load_state_dict(load[0])\n",
    "    return loaded_model"
   ],
   "id": "819d1493a7df63fd",
   "outputs": [],
   "execution_count": 31
  },
  {
   "metadata": {},
   "cell_type": "markdown",
   "source": "|# Using already trained model to evaluate new input data",
   "id": "5676154cc2e72e75"
  },
  {
   "metadata": {
    "ExecuteTime": {
     "end_time": "2025-10-05T01:32:33.947443Z",
     "start_time": "2025-10-05T01:32:33.940607Z"
    }
   },
   "cell_type": "code",
   "source": [
    "from sklearn.preprocessing import StandardScaler\n",
    "from sklearn.impute import SimpleImputer\n",
    "import os\n",
    "import numpy as np\n",
    "import pandas as pd\n",
    "from pathlib import Path\n",
    "\n",
    "feat_cols = [\n",
    "    \"period_d\", \"rp_re\", \"insol_eflux\", \"eq_temp\", \"teff_k\", \"logg_cgs\", \"rstar_rsun\"\n",
    "]\n",
    "\n",
    "def scaleAndInput(X_new):\n",
    "    imputer = SimpleImputer(strategy='mean')\n",
    "    X_new = pd.DataFrame(imputer.fit_transform(X_new), columns=feat_cols)\n",
    "\n",
    "    scaler = StandardScaler()\n",
    "    X_new = pd.DataFrame(scaler.fit_transform(X_new), columns=feat_cols)\n",
    "\n",
    "    return X_new\n",
    "\n",
    "def load_single_csv(folder_path= \"../../input_data\"):\n",
    "    csv_files = [f for f in os.listdir(folder_path) if f.endswith(\".csv\")]\n",
    "\n",
    "    if len(csv_files) == 0:\n",
    "        raise FileNotFoundError(f\" Brak pliku CSV w folderze: {folder_path}\")\n",
    "    elif len(csv_files) > 1:\n",
    "        raise ValueError(f\"W folderze {folder_path} znaleziono więcej niż jeden plik CSV: {csv_files}\")\n",
    "\n",
    "    file_path = os.path.join(folder_path, csv_files[0])\n",
    "    print(f\" Wczytuję plik: {file_path}\")\n",
    "\n",
    "    data = pd.read_csv(file_path)\n",
    "    data = data.drop(data.columns[0], axis=1)\n",
    "\n",
    "    data = scaleAndInput(data)\n",
    "\n",
    "    data = torch.from_numpy(data.values).type(torch.float32).squeeze()\n",
    "    return data\n",
    "\n",
    "def use_model(model_name):\n",
    "    # Loading already trained model from \"*.pth\" file\n",
    "    loaded_model = load_model(model_name)\n",
    "    loaded_model.eval()\n",
    "\n",
    "    # Input is always in the same place\n",
    "    data = load_single_csv()\n",
    "    with torch.inference_mode():\n",
    "        logits = loaded_model(data)\n",
    "        probabilities = torch.sigmoid(logits).squeeze()\n",
    "        predictions = (probabilities > 0.5).int()\n",
    "\n",
    "        # Saving results to csv format\n",
    "        results = pd.DataFrame({\n",
    "        \"probability\": probabilities.cpu().numpy(),\n",
    "        \"prediction\": predictions.cpu().numpy()\n",
    "        })\n",
    "\n",
    "        output_path = \"predictions.csv\"\n",
    "        results.to_csv(output_path, index=False)\n",
    "\n",
    "        print(f\" Zapisano wyniki do pliku: {output_path}\")\n",
    "        print(results.head())\n",
    "\n",
    "    # Deleting csv so that there is only one file there at a time\n",
    "\n",
    "    folder = Path(\"../../input_data\")\n",
    "\n",
    "    files = [f for f in folder.iterdir() if f.is_file()]\n",
    "\n",
    "    if not files:\n",
    "        print(\"Folder jest pusty.\")\n",
    "    else:\n",
    "        files[0].unlink()\n",
    "        print(f\" Usunięto plik: {files[0].name}\")\n",
    "\n"
   ],
   "id": "3c87f8b56abb2dde",
   "outputs": [],
   "execution_count": 36
  },
  {
   "metadata": {
    "ExecuteTime": {
     "end_time": "2025-10-05T01:32:34.550266Z",
     "start_time": "2025-10-05T01:32:34.505219Z"
    }
   },
   "cell_type": "code",
   "source": [
    "# CHecking if method above works\n",
    "use_model(\"nn_exoplanets0\")\n"
   ],
   "id": "8a01657c3c91c44c",
   "outputs": [
    {
     "name": "stdout",
     "output_type": "stream",
     "text": [
      " Wczytuję plik: ../../input_data/X_test_imputed_scaled.csv\n",
      " Zapisano wyniki do pliku: predictions.csv\n",
      "   probability  prediction\n",
      "0     0.491611           0\n",
      "1     0.483292           0\n",
      "2     0.471654           0\n",
      "3     0.495174           0\n",
      "4     0.460803           0\n",
      " Usunięto plik: X_test_imputed_scaled.csv\n"
     ]
    }
   ],
   "execution_count": 37
  }
 ],
 "metadata": {
  "kernelspec": {
   "display_name": "Python 3",
   "language": "python",
   "name": "python3"
  },
  "language_info": {
   "codemirror_mode": {
    "name": "ipython",
    "version": 2
   },
   "file_extension": ".py",
   "mimetype": "text/x-python",
   "name": "python",
   "nbconvert_exporter": "python",
   "pygments_lexer": "ipython2",
   "version": "2.7.6"
  }
 },
 "nbformat": 4,
 "nbformat_minor": 5
}
