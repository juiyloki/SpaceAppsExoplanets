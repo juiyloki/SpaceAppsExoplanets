{
 "cells": [
  {
   "metadata": {},
   "cell_type": "markdown",
   "source": [
    "# Preparing dataset\n",
    "\n",
    "Preparation of dataset the same way as [here](https://github.com/JanMatusiak/exoplanets/blob/5380110f75580a08a29b010a21c8d1a51bb5e2a4/kepler.ipynb). For more detailed information about Specific steps go there."
   ],
   "id": "c78d791447a848d8"
  },
  {
   "metadata": {
    "ExecuteTime": {
     "end_time": "2025-10-04T10:12:38.776694Z",
     "start_time": "2025-10-04T10:12:38.706935Z"
    }
   },
   "cell_type": "code",
   "source": [
    "import pandas as pd\n",
    "from torch.nn import BCEWithLogitsLoss\n",
    "\n",
    "url = 'datasets/KOI.csv'\n",
    "kepler_df = pd.read_csv(url, comment='#')\n",
    "kepler_df.head(5)"
   ],
   "id": "484de575dc22d1ab",
   "outputs": [
    {
     "data": {
      "text/plain": [
       "      kepid kepoi_name   kepler_name koi_disposition koi_pdisposition  \\\n",
       "0  10797460  K00752.01  Kepler-227 b       CONFIRMED        CANDIDATE   \n",
       "1  10797460  K00752.02  Kepler-227 c       CONFIRMED        CANDIDATE   \n",
       "2  10811496  K00753.01           NaN       CANDIDATE        CANDIDATE   \n",
       "3  10848459  K00754.01           NaN  FALSE POSITIVE   FALSE POSITIVE   \n",
       "4  10854555  K00755.01  Kepler-664 b       CONFIRMED        CANDIDATE   \n",
       "\n",
       "   koi_score  koi_fpflag_nt  koi_fpflag_ss  koi_fpflag_co  koi_fpflag_ec  ...  \\\n",
       "0      1.000              0              0              0              0  ...   \n",
       "1      0.969              0              0              0              0  ...   \n",
       "2      0.000              0              0              0              0  ...   \n",
       "3      0.000              0              1              0              0  ...   \n",
       "4      1.000              0              0              0              0  ...   \n",
       "\n",
       "   koi_steff_err2  koi_slogg  koi_slogg_err1  koi_slogg_err2  koi_srad  \\\n",
       "0           -81.0      4.467           0.064          -0.096     0.927   \n",
       "1           -81.0      4.467           0.064          -0.096     0.927   \n",
       "2          -176.0      4.544           0.044          -0.176     0.868   \n",
       "3          -174.0      4.564           0.053          -0.168     0.791   \n",
       "4          -211.0      4.438           0.070          -0.210     1.046   \n",
       "\n",
       "   koi_srad_err1  koi_srad_err2         ra        dec  koi_kepmag  \n",
       "0          0.105         -0.061  291.93423  48.141651      15.347  \n",
       "1          0.105         -0.061  291.93423  48.141651      15.347  \n",
       "2          0.233         -0.078  297.00482  48.134129      15.436  \n",
       "3          0.201         -0.067  285.53461  48.285210      15.597  \n",
       "4          0.334         -0.133  288.75488  48.226200      15.509  \n",
       "\n",
       "[5 rows x 49 columns]"
      ],
      "text/html": [
       "<div>\n",
       "<style scoped>\n",
       "    .dataframe tbody tr th:only-of-type {\n",
       "        vertical-align: middle;\n",
       "    }\n",
       "\n",
       "    .dataframe tbody tr th {\n",
       "        vertical-align: top;\n",
       "    }\n",
       "\n",
       "    .dataframe thead th {\n",
       "        text-align: right;\n",
       "    }\n",
       "</style>\n",
       "<table border=\"1\" class=\"dataframe\">\n",
       "  <thead>\n",
       "    <tr style=\"text-align: right;\">\n",
       "      <th></th>\n",
       "      <th>kepid</th>\n",
       "      <th>kepoi_name</th>\n",
       "      <th>kepler_name</th>\n",
       "      <th>koi_disposition</th>\n",
       "      <th>koi_pdisposition</th>\n",
       "      <th>koi_score</th>\n",
       "      <th>koi_fpflag_nt</th>\n",
       "      <th>koi_fpflag_ss</th>\n",
       "      <th>koi_fpflag_co</th>\n",
       "      <th>koi_fpflag_ec</th>\n",
       "      <th>...</th>\n",
       "      <th>koi_steff_err2</th>\n",
       "      <th>koi_slogg</th>\n",
       "      <th>koi_slogg_err1</th>\n",
       "      <th>koi_slogg_err2</th>\n",
       "      <th>koi_srad</th>\n",
       "      <th>koi_srad_err1</th>\n",
       "      <th>koi_srad_err2</th>\n",
       "      <th>ra</th>\n",
       "      <th>dec</th>\n",
       "      <th>koi_kepmag</th>\n",
       "    </tr>\n",
       "  </thead>\n",
       "  <tbody>\n",
       "    <tr>\n",
       "      <th>0</th>\n",
       "      <td>10797460</td>\n",
       "      <td>K00752.01</td>\n",
       "      <td>Kepler-227 b</td>\n",
       "      <td>CONFIRMED</td>\n",
       "      <td>CANDIDATE</td>\n",
       "      <td>1.000</td>\n",
       "      <td>0</td>\n",
       "      <td>0</td>\n",
       "      <td>0</td>\n",
       "      <td>0</td>\n",
       "      <td>...</td>\n",
       "      <td>-81.0</td>\n",
       "      <td>4.467</td>\n",
       "      <td>0.064</td>\n",
       "      <td>-0.096</td>\n",
       "      <td>0.927</td>\n",
       "      <td>0.105</td>\n",
       "      <td>-0.061</td>\n",
       "      <td>291.93423</td>\n",
       "      <td>48.141651</td>\n",
       "      <td>15.347</td>\n",
       "    </tr>\n",
       "    <tr>\n",
       "      <th>1</th>\n",
       "      <td>10797460</td>\n",
       "      <td>K00752.02</td>\n",
       "      <td>Kepler-227 c</td>\n",
       "      <td>CONFIRMED</td>\n",
       "      <td>CANDIDATE</td>\n",
       "      <td>0.969</td>\n",
       "      <td>0</td>\n",
       "      <td>0</td>\n",
       "      <td>0</td>\n",
       "      <td>0</td>\n",
       "      <td>...</td>\n",
       "      <td>-81.0</td>\n",
       "      <td>4.467</td>\n",
       "      <td>0.064</td>\n",
       "      <td>-0.096</td>\n",
       "      <td>0.927</td>\n",
       "      <td>0.105</td>\n",
       "      <td>-0.061</td>\n",
       "      <td>291.93423</td>\n",
       "      <td>48.141651</td>\n",
       "      <td>15.347</td>\n",
       "    </tr>\n",
       "    <tr>\n",
       "      <th>2</th>\n",
       "      <td>10811496</td>\n",
       "      <td>K00753.01</td>\n",
       "      <td>NaN</td>\n",
       "      <td>CANDIDATE</td>\n",
       "      <td>CANDIDATE</td>\n",
       "      <td>0.000</td>\n",
       "      <td>0</td>\n",
       "      <td>0</td>\n",
       "      <td>0</td>\n",
       "      <td>0</td>\n",
       "      <td>...</td>\n",
       "      <td>-176.0</td>\n",
       "      <td>4.544</td>\n",
       "      <td>0.044</td>\n",
       "      <td>-0.176</td>\n",
       "      <td>0.868</td>\n",
       "      <td>0.233</td>\n",
       "      <td>-0.078</td>\n",
       "      <td>297.00482</td>\n",
       "      <td>48.134129</td>\n",
       "      <td>15.436</td>\n",
       "    </tr>\n",
       "    <tr>\n",
       "      <th>3</th>\n",
       "      <td>10848459</td>\n",
       "      <td>K00754.01</td>\n",
       "      <td>NaN</td>\n",
       "      <td>FALSE POSITIVE</td>\n",
       "      <td>FALSE POSITIVE</td>\n",
       "      <td>0.000</td>\n",
       "      <td>0</td>\n",
       "      <td>1</td>\n",
       "      <td>0</td>\n",
       "      <td>0</td>\n",
       "      <td>...</td>\n",
       "      <td>-174.0</td>\n",
       "      <td>4.564</td>\n",
       "      <td>0.053</td>\n",
       "      <td>-0.168</td>\n",
       "      <td>0.791</td>\n",
       "      <td>0.201</td>\n",
       "      <td>-0.067</td>\n",
       "      <td>285.53461</td>\n",
       "      <td>48.285210</td>\n",
       "      <td>15.597</td>\n",
       "    </tr>\n",
       "    <tr>\n",
       "      <th>4</th>\n",
       "      <td>10854555</td>\n",
       "      <td>K00755.01</td>\n",
       "      <td>Kepler-664 b</td>\n",
       "      <td>CONFIRMED</td>\n",
       "      <td>CANDIDATE</td>\n",
       "      <td>1.000</td>\n",
       "      <td>0</td>\n",
       "      <td>0</td>\n",
       "      <td>0</td>\n",
       "      <td>0</td>\n",
       "      <td>...</td>\n",
       "      <td>-211.0</td>\n",
       "      <td>4.438</td>\n",
       "      <td>0.070</td>\n",
       "      <td>-0.210</td>\n",
       "      <td>1.046</td>\n",
       "      <td>0.334</td>\n",
       "      <td>-0.133</td>\n",
       "      <td>288.75488</td>\n",
       "      <td>48.226200</td>\n",
       "      <td>15.509</td>\n",
       "    </tr>\n",
       "  </tbody>\n",
       "</table>\n",
       "<p>5 rows × 49 columns</p>\n",
       "</div>"
      ]
     },
     "execution_count": 672,
     "metadata": {},
     "output_type": "execute_result"
    }
   ],
   "execution_count": 672
  },
  {
   "metadata": {
    "ExecuteTime": {
     "end_time": "2025-10-04T10:12:38.822303Z",
     "start_time": "2025-10-04T10:12:38.818398Z"
    }
   },
   "cell_type": "code",
   "source": "kepler_df.shape",
   "id": "1e2e3ce0fceed2ff",
   "outputs": [
    {
     "data": {
      "text/plain": [
       "(9564, 49)"
      ]
     },
     "execution_count": 673,
     "metadata": {},
     "output_type": "execute_result"
    }
   ],
   "execution_count": 673
  },
  {
   "metadata": {},
   "cell_type": "markdown",
   "source": "### Missing values",
   "id": "9066f305dedd814"
  },
  {
   "metadata": {
    "ExecuteTime": {
     "end_time": "2025-10-04T10:12:38.886048Z",
     "start_time": "2025-10-04T10:12:38.880214Z"
    }
   },
   "cell_type": "code",
   "source": "kepler_df.isnull().sum().sort_values(ascending=False)",
   "id": "27e57c85c7612aa1",
   "outputs": [
    {
     "data": {
      "text/plain": [
       "koi_teq_err1         9564\n",
       "koi_teq_err2         9564\n",
       "kepler_name          6817\n",
       "koi_score            1510\n",
       "koi_steff_err2        483\n",
       "koi_srad_err1         468\n",
       "koi_steff_err1        468\n",
       "koi_slogg_err2        468\n",
       "koi_slogg_err1        468\n",
       "koi_srad_err2         468\n",
       "koi_time0bk_err1      454\n",
       "koi_period_err1       454\n",
       "koi_period_err2       454\n",
       "koi_time0bk_err2      454\n",
       "koi_impact_err1       454\n",
       "koi_depth_err1        454\n",
       "koi_depth_err2        454\n",
       "koi_duration_err1     454\n",
       "koi_duration_err2     454\n",
       "koi_impact_err2       454\n",
       "koi_model_snr         363\n",
       "koi_srad              363\n",
       "koi_slogg             363\n",
       "koi_steff             363\n",
       "koi_depth             363\n",
       "koi_prad_err1         363\n",
       "koi_prad              363\n",
       "koi_impact            363\n",
       "koi_prad_err2         363\n",
       "koi_teq               363\n",
       "koi_tce_plnt_num      346\n",
       "koi_tce_delivname     346\n",
       "koi_insol_err2        321\n",
       "koi_insol             321\n",
       "koi_insol_err1        321\n",
       "koi_kepmag              1\n",
       "koi_fpflag_ec           0\n",
       "koi_time0bk             0\n",
       "koi_fpflag_nt           0\n",
       "koi_fpflag_ss           0\n",
       "koi_fpflag_co           0\n",
       "koi_disposition         0\n",
       "kepid                   0\n",
       "koi_period              0\n",
       "kepoi_name              0\n",
       "koi_pdisposition        0\n",
       "koi_duration            0\n",
       "ra                      0\n",
       "dec                     0\n",
       "dtype: int64"
      ]
     },
     "execution_count": 674,
     "metadata": {},
     "output_type": "execute_result"
    }
   ],
   "execution_count": 674
  },
  {
   "metadata": {},
   "cell_type": "markdown",
   "source": "### Colums that can be dropped",
   "id": "98cb55fc6ee2a249"
  },
  {
   "metadata": {
    "ExecuteTime": {
     "end_time": "2025-10-04T10:12:38.964915Z",
     "start_time": "2025-10-04T10:12:38.957126Z"
    }
   },
   "cell_type": "code",
   "source": [
    "kepler_clean_df = kepler_df.drop(kepler_df.filter(regex=\"(_err1|_err2)$\").columns, axis=1)\n",
    "subset = ['kepoi_name', 'kepler_name', 'koi_pdisposition', 'koi_score', 'koi_tce_delivname', 'koi_teq', 'koi_time0bk']\n",
    "kepler_clean_df = kepler_clean_df.drop(subset, axis=1)\n",
    "kepler_clean_df.isnull().sum().sort_values(ascending=False)"
   ],
   "id": "3691851f47c7b5e1",
   "outputs": [
    {
     "data": {
      "text/plain": [
       "koi_model_snr       363\n",
       "koi_prad            363\n",
       "koi_depth           363\n",
       "koi_impact          363\n",
       "koi_srad            363\n",
       "koi_slogg           363\n",
       "koi_steff           363\n",
       "koi_tce_plnt_num    346\n",
       "koi_insol           321\n",
       "koi_kepmag            1\n",
       "koi_disposition       0\n",
       "kepid                 0\n",
       "koi_fpflag_ss         0\n",
       "koi_fpflag_nt         0\n",
       "koi_fpflag_ec         0\n",
       "koi_period            0\n",
       "koi_duration          0\n",
       "koi_fpflag_co         0\n",
       "ra                    0\n",
       "dec                   0\n",
       "dtype: int64"
      ]
     },
     "execution_count": 675,
     "metadata": {},
     "output_type": "execute_result"
    }
   ],
   "execution_count": 675
  },
  {
   "metadata": {},
   "cell_type": "markdown",
   "source": "### Get rid of candidates to not confuse model",
   "id": "665edae2d1d011cd"
  },
  {
   "metadata": {
    "ExecuteTime": {
     "end_time": "2025-10-04T10:12:39.048179Z",
     "start_time": "2025-10-04T10:12:39.019070Z"
    }
   },
   "cell_type": "code",
   "source": [
    "candidates_df = kepler_clean_df[kepler_clean_df[\"koi_disposition\"].str.strip().str.upper() == \"CANDIDATE\"].copy()\n",
    "\n",
    "labeled_df = kepler_clean_df[\n",
    "    kepler_clean_df[\"koi_disposition\"].str.strip().str.upper().isin([\"CONFIRMED\", \"FALSE POSITIVE\"])].copy()\n",
    "\n",
    "labeled_df[\"label\"] = (\n",
    "    labeled_df[\"koi_disposition\"]\n",
    "    .str.strip().str.upper()\n",
    "    .map({\"CONFIRMED\": 1, \"FALSE POSITIVE\": 0})\n",
    ")\n",
    "\n",
    "labeled_df.drop([\"koi_disposition\"], axis=1, inplace=True)\n",
    "labeled_df.head(5)\n"
   ],
   "id": "b1fbad42575ca4f8",
   "outputs": [
    {
     "data": {
      "text/plain": [
       "      kepid  koi_fpflag_nt  koi_fpflag_ss  koi_fpflag_co  koi_fpflag_ec  \\\n",
       "0  10797460              0              0              0              0   \n",
       "1  10797460              0              0              0              0   \n",
       "3  10848459              0              1              0              0   \n",
       "4  10854555              0              0              0              0   \n",
       "5  10872983              0              0              0              0   \n",
       "\n",
       "   koi_period  koi_impact  koi_duration  koi_depth  koi_prad  koi_insol  \\\n",
       "0    9.488036       0.146       2.95750      615.8      2.26      93.59   \n",
       "1   54.418383       0.586       4.50700      874.8      2.83       9.11   \n",
       "3    1.736952       1.276       2.40641     8079.2     33.46     891.96   \n",
       "4    2.525592       0.701       1.65450      603.3      2.75     926.16   \n",
       "5   11.094321       0.538       4.59450     1517.5      3.90     114.81   \n",
       "\n",
       "   koi_model_snr  koi_tce_plnt_num  koi_steff  koi_slogg  koi_srad         ra  \\\n",
       "0           35.8               1.0     5455.0      4.467     0.927  291.93423   \n",
       "1           25.8               2.0     5455.0      4.467     0.927  291.93423   \n",
       "3          505.6               1.0     5805.0      4.564     0.791  285.53461   \n",
       "4           40.9               1.0     6031.0      4.438     1.046  288.75488   \n",
       "5           66.5               1.0     6046.0      4.486     0.972  296.28613   \n",
       "\n",
       "         dec  koi_kepmag  label  \n",
       "0  48.141651      15.347      1  \n",
       "1  48.141651      15.347      1  \n",
       "3  48.285210      15.597      0  \n",
       "4  48.226200      15.509      1  \n",
       "5  48.224670      15.714      1  "
      ],
      "text/html": [
       "<div>\n",
       "<style scoped>\n",
       "    .dataframe tbody tr th:only-of-type {\n",
       "        vertical-align: middle;\n",
       "    }\n",
       "\n",
       "    .dataframe tbody tr th {\n",
       "        vertical-align: top;\n",
       "    }\n",
       "\n",
       "    .dataframe thead th {\n",
       "        text-align: right;\n",
       "    }\n",
       "</style>\n",
       "<table border=\"1\" class=\"dataframe\">\n",
       "  <thead>\n",
       "    <tr style=\"text-align: right;\">\n",
       "      <th></th>\n",
       "      <th>kepid</th>\n",
       "      <th>koi_fpflag_nt</th>\n",
       "      <th>koi_fpflag_ss</th>\n",
       "      <th>koi_fpflag_co</th>\n",
       "      <th>koi_fpflag_ec</th>\n",
       "      <th>koi_period</th>\n",
       "      <th>koi_impact</th>\n",
       "      <th>koi_duration</th>\n",
       "      <th>koi_depth</th>\n",
       "      <th>koi_prad</th>\n",
       "      <th>koi_insol</th>\n",
       "      <th>koi_model_snr</th>\n",
       "      <th>koi_tce_plnt_num</th>\n",
       "      <th>koi_steff</th>\n",
       "      <th>koi_slogg</th>\n",
       "      <th>koi_srad</th>\n",
       "      <th>ra</th>\n",
       "      <th>dec</th>\n",
       "      <th>koi_kepmag</th>\n",
       "      <th>label</th>\n",
       "    </tr>\n",
       "  </thead>\n",
       "  <tbody>\n",
       "    <tr>\n",
       "      <th>0</th>\n",
       "      <td>10797460</td>\n",
       "      <td>0</td>\n",
       "      <td>0</td>\n",
       "      <td>0</td>\n",
       "      <td>0</td>\n",
       "      <td>9.488036</td>\n",
       "      <td>0.146</td>\n",
       "      <td>2.95750</td>\n",
       "      <td>615.8</td>\n",
       "      <td>2.26</td>\n",
       "      <td>93.59</td>\n",
       "      <td>35.8</td>\n",
       "      <td>1.0</td>\n",
       "      <td>5455.0</td>\n",
       "      <td>4.467</td>\n",
       "      <td>0.927</td>\n",
       "      <td>291.93423</td>\n",
       "      <td>48.141651</td>\n",
       "      <td>15.347</td>\n",
       "      <td>1</td>\n",
       "    </tr>\n",
       "    <tr>\n",
       "      <th>1</th>\n",
       "      <td>10797460</td>\n",
       "      <td>0</td>\n",
       "      <td>0</td>\n",
       "      <td>0</td>\n",
       "      <td>0</td>\n",
       "      <td>54.418383</td>\n",
       "      <td>0.586</td>\n",
       "      <td>4.50700</td>\n",
       "      <td>874.8</td>\n",
       "      <td>2.83</td>\n",
       "      <td>9.11</td>\n",
       "      <td>25.8</td>\n",
       "      <td>2.0</td>\n",
       "      <td>5455.0</td>\n",
       "      <td>4.467</td>\n",
       "      <td>0.927</td>\n",
       "      <td>291.93423</td>\n",
       "      <td>48.141651</td>\n",
       "      <td>15.347</td>\n",
       "      <td>1</td>\n",
       "    </tr>\n",
       "    <tr>\n",
       "      <th>3</th>\n",
       "      <td>10848459</td>\n",
       "      <td>0</td>\n",
       "      <td>1</td>\n",
       "      <td>0</td>\n",
       "      <td>0</td>\n",
       "      <td>1.736952</td>\n",
       "      <td>1.276</td>\n",
       "      <td>2.40641</td>\n",
       "      <td>8079.2</td>\n",
       "      <td>33.46</td>\n",
       "      <td>891.96</td>\n",
       "      <td>505.6</td>\n",
       "      <td>1.0</td>\n",
       "      <td>5805.0</td>\n",
       "      <td>4.564</td>\n",
       "      <td>0.791</td>\n",
       "      <td>285.53461</td>\n",
       "      <td>48.285210</td>\n",
       "      <td>15.597</td>\n",
       "      <td>0</td>\n",
       "    </tr>\n",
       "    <tr>\n",
       "      <th>4</th>\n",
       "      <td>10854555</td>\n",
       "      <td>0</td>\n",
       "      <td>0</td>\n",
       "      <td>0</td>\n",
       "      <td>0</td>\n",
       "      <td>2.525592</td>\n",
       "      <td>0.701</td>\n",
       "      <td>1.65450</td>\n",
       "      <td>603.3</td>\n",
       "      <td>2.75</td>\n",
       "      <td>926.16</td>\n",
       "      <td>40.9</td>\n",
       "      <td>1.0</td>\n",
       "      <td>6031.0</td>\n",
       "      <td>4.438</td>\n",
       "      <td>1.046</td>\n",
       "      <td>288.75488</td>\n",
       "      <td>48.226200</td>\n",
       "      <td>15.509</td>\n",
       "      <td>1</td>\n",
       "    </tr>\n",
       "    <tr>\n",
       "      <th>5</th>\n",
       "      <td>10872983</td>\n",
       "      <td>0</td>\n",
       "      <td>0</td>\n",
       "      <td>0</td>\n",
       "      <td>0</td>\n",
       "      <td>11.094321</td>\n",
       "      <td>0.538</td>\n",
       "      <td>4.59450</td>\n",
       "      <td>1517.5</td>\n",
       "      <td>3.90</td>\n",
       "      <td>114.81</td>\n",
       "      <td>66.5</td>\n",
       "      <td>1.0</td>\n",
       "      <td>6046.0</td>\n",
       "      <td>4.486</td>\n",
       "      <td>0.972</td>\n",
       "      <td>296.28613</td>\n",
       "      <td>48.224670</td>\n",
       "      <td>15.714</td>\n",
       "      <td>1</td>\n",
       "    </tr>\n",
       "  </tbody>\n",
       "</table>\n",
       "</div>"
      ]
     },
     "execution_count": 676,
     "metadata": {},
     "output_type": "execute_result"
    }
   ],
   "execution_count": 676
  },
  {
   "metadata": {
    "ExecuteTime": {
     "end_time": "2025-10-03T08:31:41.999505Z",
     "start_time": "2025-10-03T08:31:41.997105Z"
    }
   },
   "cell_type": "markdown",
   "source": "### Missing values",
   "id": "2fbd8d299209c164"
  },
  {
   "metadata": {
    "ExecuteTime": {
     "end_time": "2025-10-04T10:12:39.089787Z",
     "start_time": "2025-10-04T10:12:39.084761Z"
    }
   },
   "cell_type": "code",
   "source": "labeled_df.isnull().sum().sort_values(ascending=False)",
   "id": "50859370eddf9f14",
   "outputs": [
    {
     "data": {
      "text/plain": [
       "koi_tce_plnt_num    286\n",
       "koi_model_snr       259\n",
       "koi_impact          259\n",
       "koi_prad            259\n",
       "koi_srad            259\n",
       "koi_slogg           259\n",
       "koi_steff           259\n",
       "koi_depth           259\n",
       "koi_insol           219\n",
       "koi_kepmag            1\n",
       "koi_fpflag_nt         0\n",
       "kepid                 0\n",
       "koi_fpflag_co         0\n",
       "koi_fpflag_ss         0\n",
       "koi_duration          0\n",
       "koi_fpflag_ec         0\n",
       "koi_period            0\n",
       "ra                    0\n",
       "dec                   0\n",
       "label                 0\n",
       "dtype: int64"
      ]
     },
     "execution_count": 677,
     "metadata": {},
     "output_type": "execute_result"
    }
   ],
   "execution_count": 677
  },
  {
   "metadata": {
    "ExecuteTime": {
     "end_time": "2025-10-04T10:12:39.175219Z",
     "start_time": "2025-10-04T10:12:39.161948Z"
    }
   },
   "cell_type": "code",
   "source": [
    "labeled_df.dropna(inplace=True, axis=0)\n",
    "labeled_df.isnull().sum()"
   ],
   "id": "b1316b72ad624515",
   "outputs": [
    {
     "data": {
      "text/plain": [
       "kepid               0\n",
       "koi_fpflag_nt       0\n",
       "koi_fpflag_ss       0\n",
       "koi_fpflag_co       0\n",
       "koi_fpflag_ec       0\n",
       "koi_period          0\n",
       "koi_impact          0\n",
       "koi_duration        0\n",
       "koi_depth           0\n",
       "koi_prad            0\n",
       "koi_insol           0\n",
       "koi_model_snr       0\n",
       "koi_tce_plnt_num    0\n",
       "koi_steff           0\n",
       "koi_slogg           0\n",
       "koi_srad            0\n",
       "ra                  0\n",
       "dec                 0\n",
       "koi_kepmag          0\n",
       "label               0\n",
       "dtype: int64"
      ]
     },
     "execution_count": 678,
     "metadata": {},
     "output_type": "execute_result"
    }
   ],
   "execution_count": 678
  },
  {
   "metadata": {},
   "cell_type": "markdown",
   "source": "Dataset is ready for analysis.",
   "id": "4b125485ebf8ed73"
  },
  {
   "metadata": {},
   "cell_type": "markdown",
   "source": "# Binary classification Model",
   "id": "339892409b4f4f25"
  },
  {
   "metadata": {},
   "cell_type": "markdown",
   "source": "### Division into features and labels",
   "id": "28e1f01ec925a0fb"
  },
  {
   "metadata": {
    "ExecuteTime": {
     "end_time": "2025-10-04T10:12:39.226226Z",
     "start_time": "2025-10-04T10:12:39.221216Z"
    }
   },
   "cell_type": "code",
   "source": [
    "import numpy as np\n",
    "\n",
    "# X = labeled_df.drop(\"label\", axis = 1).values   # features\n",
    "# y = labeled_df[\"label\"].values                  # labels\n",
    "\n",
    "drop = [\"label\", \"kepid\"]\n",
    "feat_cols = [c for c in labeled_df.columns if c not in drop]\n",
    "X = labeled_df[feat_cols]\n",
    "y = labeled_df[\"label\"]"
   ],
   "id": "b95dd5c4f1c0d817",
   "outputs": [],
   "execution_count": 679
  },
  {
   "metadata": {},
   "cell_type": "markdown",
   "source": "### Standardization of features",
   "id": "e2eb859c3fc18e49"
  },
  {
   "metadata": {
    "ExecuteTime": {
     "end_time": "2025-10-04T10:12:39.282498Z",
     "start_time": "2025-10-04T10:12:39.273363Z"
    }
   },
   "cell_type": "code",
   "source": [
    "import sklearn\n",
    "from sklearn.preprocessing import StandardScaler\n",
    "\n",
    "scaler = StandardScaler()\n",
    "X_scaled = scaler.fit_transform(X)"
   ],
   "id": "322e8e4992ff9a8b",
   "outputs": [],
   "execution_count": 680
  },
  {
   "metadata": {
    "ExecuteTime": {
     "end_time": "2025-10-03T08:45:44.331320Z",
     "start_time": "2025-10-03T08:45:44.327831Z"
    }
   },
   "cell_type": "markdown",
   "source": "### Conversion to tensors",
   "id": "3ba8e8db913aaf67"
  },
  {
   "metadata": {
    "ExecuteTime": {
     "end_time": "2025-10-04T10:12:39.332259Z",
     "start_time": "2025-10-04T10:12:39.328906Z"
    }
   },
   "cell_type": "code",
   "source": "X_scaled.shape, y.shape\n",
   "id": "1ed11a24ff070174",
   "outputs": [
    {
     "data": {
      "text/plain": [
       "((7115, 18), (7115,))"
      ]
     },
     "execution_count": 681,
     "metadata": {},
     "output_type": "execute_result"
    }
   ],
   "execution_count": 681
  },
  {
   "metadata": {
    "ExecuteTime": {
     "end_time": "2025-10-04T10:12:39.390347Z",
     "start_time": "2025-10-04T10:12:39.386770Z"
    }
   },
   "cell_type": "code",
   "source": "type(X_scaled), X_scaled.dtype",
   "id": "255bfbe0efa4e78b",
   "outputs": [
    {
     "data": {
      "text/plain": [
       "(numpy.ndarray, dtype('float64'))"
      ]
     },
     "execution_count": 682,
     "metadata": {},
     "output_type": "execute_result"
    }
   ],
   "execution_count": 682
  },
  {
   "metadata": {
    "ExecuteTime": {
     "end_time": "2025-10-04T10:12:39.451742Z",
     "start_time": "2025-10-04T10:12:39.443716Z"
    }
   },
   "cell_type": "code",
   "source": [
    "# Turn data into tensors\n",
    "import torch\n",
    "from torch.utils.data import DataLoader, TensorDataset\n",
    "import torch.nn as nn\n",
    "import torch.optim as optim\n",
    "\n",
    "X_scaled = torch.from_numpy(X_scaled).type(torch.float32)\n",
    "y = torch.from_numpy(y.values).type(torch.float32)  # POPRAWIONE - dodaj .values\n"
   ],
   "id": "f14de92b7734e80a",
   "outputs": [],
   "execution_count": 683
  },
  {
   "metadata": {
    "ExecuteTime": {
     "end_time": "2025-10-04T10:12:39.500015Z",
     "start_time": "2025-10-04T10:12:39.497176Z"
    }
   },
   "cell_type": "code",
   "source": "type(X_scaled), X_scaled.dtype, y.dtype",
   "id": "cd373b58f6bd2e6e",
   "outputs": [
    {
     "data": {
      "text/plain": [
       "(torch.Tensor, torch.float32, torch.float32)"
      ]
     },
     "execution_count": 684,
     "metadata": {},
     "output_type": "execute_result"
    }
   ],
   "execution_count": 684
  },
  {
   "metadata": {},
   "cell_type": "markdown",
   "source": "### train / test split",
   "id": "afb550de04ee7df4"
  },
  {
   "metadata": {
    "ExecuteTime": {
     "end_time": "2025-10-04T10:12:39.579214Z",
     "start_time": "2025-10-04T10:12:39.556228Z"
    }
   },
   "cell_type": "code",
   "source": [
    "from sklearn.model_selection import train_test_split\n",
    "\n",
    "X_train, X_test, y_train, y_test = train_test_split(X_scaled, y, test_size=0.2, random_state=42)\n",
    "\n",
    "len(X_train), len(X_test), len(y_train), len(y_test)"
   ],
   "id": "fe3fb8b9164450eb",
   "outputs": [
    {
     "data": {
      "text/plain": [
       "(5692, 1423, 5692, 1423)"
      ]
     },
     "execution_count": 685,
     "metadata": {},
     "output_type": "execute_result"
    }
   ],
   "execution_count": 685
  },
  {
   "metadata": {
    "ExecuteTime": {
     "end_time": "2025-10-04T10:12:39.617303Z",
     "start_time": "2025-10-04T10:12:39.614406Z"
    }
   },
   "cell_type": "code",
   "source": "type(X_train), X_train.dtype",
   "id": "f6f5700aab48d6ac",
   "outputs": [
    {
     "data": {
      "text/plain": [
       "(torch.Tensor, torch.float32)"
      ]
     },
     "execution_count": 686,
     "metadata": {},
     "output_type": "execute_result"
    }
   ],
   "execution_count": 686
  },
  {
   "metadata": {
    "ExecuteTime": {
     "end_time": "2025-10-04T10:12:39.673140Z",
     "start_time": "2025-10-04T10:12:39.669458Z"
    }
   },
   "cell_type": "code",
   "source": [
    "import torch\n",
    "from torch import nn\n",
    "\n",
    "device = \"cuda\" if torch.cuda.is_available() else \"cpu\"\n",
    "device"
   ],
   "id": "95f316ec62615a86",
   "outputs": [
    {
     "data": {
      "text/plain": [
       "'cpu'"
      ]
     },
     "execution_count": 687,
     "metadata": {},
     "output_type": "execute_result"
    }
   ],
   "execution_count": 687
  },
  {
   "metadata": {},
   "cell_type": "markdown",
   "source": "### Construct Model Class",
   "id": "3b037c7de0077405"
  },
  {
   "metadata": {
    "ExecuteTime": {
     "end_time": "2025-10-04T10:12:39.731188Z",
     "start_time": "2025-10-04T10:12:39.726163Z"
    }
   },
   "cell_type": "code",
   "source": [
    "class ExoplanetsV0(nn.Module):\n",
    "    def __init__(self, input_features, output_features, hidden_units=8):\n",
    "        super().__init__()\n",
    "        self.layers = nn.Sequential(\n",
    "            nn.Linear(in_features=input_features, out_features=hidden_units),\n",
    "            nn.ReLU(),\n",
    "            nn.Linear(in_features=hidden_units, out_features=hidden_units),\n",
    "            nn.ReLU(),\n",
    "            nn.Linear(in_features=hidden_units, out_features=hidden_units),\n",
    "            nn.ReLU(),\n",
    "            nn.Linear(in_features=hidden_units, out_features=output_features),\n",
    "            #nn.Sigmoid()\n",
    "        )\n",
    "\n",
    "    def forward(self, x):\n",
    "        return self.layers(x)\n",
    "\n",
    "\n",
    "# Create an instance of model\n",
    "model_0 = ExoplanetsV0(input_features=18, output_features=1, hidden_units=64).to(device)\n",
    "model_0"
   ],
   "id": "4453f6340a30cf80",
   "outputs": [
    {
     "data": {
      "text/plain": [
       "ExoplanetsV0(\n",
       "  (layers): Sequential(\n",
       "    (0): Linear(in_features=18, out_features=64, bias=True)\n",
       "    (1): ReLU()\n",
       "    (2): Linear(in_features=64, out_features=64, bias=True)\n",
       "    (3): ReLU()\n",
       "    (4): Linear(in_features=64, out_features=64, bias=True)\n",
       "    (5): ReLU()\n",
       "    (6): Linear(in_features=64, out_features=1, bias=True)\n",
       "  )\n",
       ")"
      ]
     },
     "execution_count": 688,
     "metadata": {},
     "output_type": "execute_result"
    }
   ],
   "execution_count": 688
  },
  {
   "metadata": {
    "ExecuteTime": {
     "end_time": "2025-10-04T10:12:39.848102Z",
     "start_time": "2025-10-04T10:12:39.843673Z"
    }
   },
   "cell_type": "code",
   "source": "X_train.shape, y_train.shape",
   "id": "67d2e37cdd2aae07",
   "outputs": [
    {
     "data": {
      "text/plain": [
       "(torch.Size([5692, 18]), torch.Size([5692]))"
      ]
     },
     "execution_count": 689,
     "metadata": {},
     "output_type": "execute_result"
    }
   ],
   "execution_count": 689
  },
  {
   "metadata": {},
   "cell_type": "markdown",
   "source": "### Loss Function and Optimizer",
   "id": "667c2e71f11c3595"
  },
  {
   "metadata": {
    "ExecuteTime": {
     "end_time": "2025-10-04T10:14:48.071974Z",
     "start_time": "2025-10-04T10:14:48.068729Z"
    }
   },
   "cell_type": "code",
   "source": [
    "# Create a loss function for binary classification\n",
    "\n",
    "### Tried to fix with wages-----------------------------------\n",
    "weight_for_0 = len(y) / (2 * (y == 0).sum())\n",
    "weight_for_1 = len(y) / (2 * (y == 1).sum())\n",
    "\n",
    "pos_weight = torch.tensor([weight_for_1 / weight_for_0])  # dla klasy 1\n",
    "loss_fn = nn.BCEWithLogitsLoss(pos_weight=pos_weight)\n",
    "###----------------------------------------------------------\n",
    "\n",
    "#loss_fn = nn.BCEWithLogitsLoss()\n",
    "\n",
    "# Create an optimizer for binary classification\n",
    "optimizer = torch.optim.SGD(params=model_0.parameters(), lr=0.001)"
   ],
   "id": "6f6a6585e095da3e",
   "outputs": [],
   "execution_count": 710
  },
  {
   "metadata": {
    "ExecuteTime": {
     "end_time": "2025-10-04T10:14:48.204148Z",
     "start_time": "2025-10-04T10:14:48.200253Z"
    }
   },
   "cell_type": "code",
   "source": [
    "# Calculate accuracy\n",
    "def accuracy_fn(y_true, y_pred):\n",
    "    correct = torch.eq(y_true, y_pred).sum().item()\n",
    "    acc = (correct / len(y_pred)) * 100\n",
    "    return acc"
   ],
   "id": "66ac7f82575bb3a5",
   "outputs": [],
   "execution_count": 711
  },
  {
   "metadata": {
    "ExecuteTime": {
     "end_time": "2025-10-03T09:22:11.028624Z",
     "start_time": "2025-10-03T09:22:11.026740Z"
    }
   },
   "cell_type": "markdown",
   "source": [
    "# Train Model\n",
    "\n",
    "Model outputs are raw **Logits**\n",
    "\n",
    "We are converting logits into prediction probabilities by passing them to some kind of activation function (int this case `nn.Sigmoid()`) Then we can convert our model's prediction probabilities to **prediction labels** by taking the `argmaX_scaled()`"
   ],
   "id": "4600c09de3464ba8"
  },
  {
   "metadata": {
    "ExecuteTime": {
     "end_time": "2025-10-04T10:14:48.472802Z",
     "start_time": "2025-10-04T10:14:48.449474Z"
    }
   },
   "cell_type": "code",
   "source": [
    "model_0.eval()\n",
    "with torch.inference_mode():\n",
    "    y_logits = model_0(X_test.to(device))\n",
    "y_logits[:5]"
   ],
   "id": "d1d9577cea2b20f4",
   "outputs": [
    {
     "data": {
      "text/plain": [
       "tensor([[-17.3634],\n",
       "        [-16.9014],\n",
       "        [ -9.2405],\n",
       "        [ -4.5758],\n",
       "        [ -1.1571]])"
      ]
     },
     "execution_count": 712,
     "metadata": {},
     "output_type": "execute_result"
    }
   ],
   "execution_count": 712
  },
  {
   "metadata": {
    "ExecuteTime": {
     "end_time": "2025-10-04T10:14:48.588589Z",
     "start_time": "2025-10-04T10:14:48.583578Z"
    }
   },
   "cell_type": "code",
   "source": [
    "y_pred_probs = torch.sigmoid(y_logits)\n",
    "y_pred_probs"
   ],
   "id": "bf8cf271060e1a0c",
   "outputs": [
    {
     "data": {
      "text/plain": [
       "tensor([[2.8786e-08],\n",
       "        [4.5690e-08],\n",
       "        [9.7017e-05],\n",
       "        ...,\n",
       "        [1.1335e-05],\n",
       "        [4.0700e-02],\n",
       "        [1.8255e-06]])"
      ]
     },
     "execution_count": 713,
     "metadata": {},
     "output_type": "execute_result"
    }
   ],
   "execution_count": 713
  },
  {
   "metadata": {
    "ExecuteTime": {
     "end_time": "2025-10-04T10:14:48.733794Z",
     "start_time": "2025-10-04T10:14:48.729086Z"
    }
   },
   "cell_type": "code",
   "source": "torch.round(y_pred_probs)",
   "id": "43cd4212e1d13495",
   "outputs": [
    {
     "data": {
      "text/plain": [
       "tensor([[0.],\n",
       "        [0.],\n",
       "        [0.],\n",
       "        ...,\n",
       "        [0.],\n",
       "        [0.],\n",
       "        [0.]])"
      ]
     },
     "execution_count": 714,
     "metadata": {},
     "output_type": "execute_result"
    }
   ],
   "execution_count": 714
  },
  {
   "metadata": {
    "ExecuteTime": {
     "end_time": "2025-10-04T10:14:48.923719Z",
     "start_time": "2025-10-04T10:14:48.897266Z"
    }
   },
   "cell_type": "code",
   "source": [
    "# find predicted labels\n",
    "y_preds = torch.round(y_pred_probs)\n",
    "\n",
    "# in full\n",
    "y_pred_labels = torch.round(torch.sigmoid(model_0(X_test.to(device))))\n",
    "\n",
    "# check for equality\n",
    "print(torch.eq(y_preds.squeeze(), y_pred_labels.squeeze()))\n",
    "\n",
    "# get rid of extra dimension\n",
    "y_preds.squeeze()"
   ],
   "id": "bcc50890b414f149",
   "outputs": [
    {
     "name": "stdout",
     "output_type": "stream",
     "text": [
      "tensor([True, True, True,  ..., True, True, True])\n"
     ]
    },
    {
     "data": {
      "text/plain": [
       "tensor([0., 0., 0.,  ..., 0., 0., 0.])"
      ]
     },
     "execution_count": 715,
     "metadata": {},
     "output_type": "execute_result"
    }
   ],
   "execution_count": 715
  },
  {
   "metadata": {
    "ExecuteTime": {
     "end_time": "2025-10-04T10:14:49.353453Z",
     "start_time": "2025-10-04T10:14:49.349823Z"
    }
   },
   "cell_type": "code",
   "source": "y_test[:5]",
   "id": "b63b2eda8fc91bf5",
   "outputs": [
    {
     "data": {
      "text/plain": [
       "tensor([0., 0., 0., 0., 0.])"
      ]
     },
     "execution_count": 716,
     "metadata": {},
     "output_type": "execute_result"
    }
   ],
   "execution_count": 716
  },
  {
   "metadata": {},
   "cell_type": "markdown",
   "source": "### Building a training loop and testing loop",
   "id": "8a9a760e45cc8637"
  },
  {
   "metadata": {
    "ExecuteTime": {
     "end_time": "2025-10-04T10:15:01.762542Z",
     "start_time": "2025-10-04T10:14:50.200159Z"
    }
   },
   "cell_type": "code",
   "source": [
    "torch.manual_seed(42)\n",
    "torch.cuda.manual_seed(42)\n",
    "\n",
    "# Set the number of epochs\n",
    "epochs = 1000\n",
    "\n",
    "# Put data to target device\n",
    "X_train, y_train = X_train.to(device), y_train.to(device)\n",
    "X_test, y_test = X_test.to(device), y_test.to(device)\n",
    "\n",
    "for epoch in range(epochs):\n",
    "    ### Training\n",
    "    model_0.train()\n",
    "\n",
    "    # 1. Forward pass\n",
    "    y_logits = model_0(X_train).squeeze()\n",
    "    y_pred = torch.round(torch.sigmoid(y_logits))  # turn logits into pred probs and into pred labels\n",
    "\n",
    "    # 2. Calculate the loss / cost\n",
    "    loss = loss_fn(y_logits, y_train)\n",
    "    acc = accuracy_fn(y_true=y_train, y_pred=y_pred)\n",
    "\n",
    "    # 3. Optimizer zero grad\n",
    "    optimizer.zero_grad()\n",
    "\n",
    "    # 4. Backpropagation algorithm\n",
    "    loss.backward()\n",
    "\n",
    "    # 5. Gradient descent algorithm\n",
    "    optimizer.step()\n",
    "\n",
    "    ### Testing\n",
    "    model_0.eval()\n",
    "    with torch.inference_mode():\n",
    "        # 1. Forward pass\n",
    "        test_logits = model_0(X_test).squeeze()\n",
    "        test_pred = torch.round(torch.sigmoid(test_logits))\n",
    "\n",
    "        # 2. Calculate test loss/acc\n",
    "        test_loss = loss_fn(test_logits, y_test)\n",
    "        test_acc = accuracy_fn(y_true=y_test, y_pred=test_pred)\n",
    "\n",
    "    # Print out what's happenin'\n",
    "    if epoch % 100 == 0 or epoch == 999:\n",
    "        print(\n",
    "            f\"Epoch {epoch} | loss: {loss:.5f}, accuracy: {acc:.2f}%, Test loss: {test_loss:.5f}, Test accuracy: {test_acc:.2f}%\")"
   ],
   "id": "1d24317a9a7c44f6",
   "outputs": [
    {
     "name": "stdout",
     "output_type": "stream",
     "text": [
      "Epoch 0 | loss: 0.01826, accuracy: 99.65%, Test loss: 0.02973, Test accuracy: 99.44%\n",
      "Epoch 100 | loss: 0.01820, accuracy: 99.65%, Test loss: 0.02967, Test accuracy: 99.44%\n",
      "Epoch 200 | loss: 0.01815, accuracy: 99.65%, Test loss: 0.02961, Test accuracy: 99.44%\n",
      "Epoch 300 | loss: 0.01809, accuracy: 99.65%, Test loss: 0.02955, Test accuracy: 99.44%\n",
      "Epoch 400 | loss: 0.01803, accuracy: 99.65%, Test loss: 0.02949, Test accuracy: 99.44%\n",
      "Epoch 500 | loss: 0.01797, accuracy: 99.65%, Test loss: 0.02943, Test accuracy: 99.44%\n",
      "Epoch 600 | loss: 0.01792, accuracy: 99.65%, Test loss: 0.02937, Test accuracy: 99.44%\n",
      "Epoch 700 | loss: 0.01786, accuracy: 99.65%, Test loss: 0.02931, Test accuracy: 99.44%\n",
      "Epoch 800 | loss: 0.01780, accuracy: 99.65%, Test loss: 0.02925, Test accuracy: 99.44%\n",
      "Epoch 900 | loss: 0.01775, accuracy: 99.65%, Test loss: 0.02919, Test accuracy: 99.44%\n",
      "Epoch 999 | loss: 0.01769, accuracy: 99.65%, Test loss: 0.02913, Test accuracy: 99.44%\n"
     ]
    }
   ],
   "execution_count": 717
  },
  {
   "metadata": {},
   "cell_type": "markdown",
   "source": "# Model Evaluation and Plotting predictions",
   "id": "f1ece5e3ab021c8d"
  },
  {
   "metadata": {
    "ExecuteTime": {
     "end_time": "2025-10-04T10:12:49.682114Z",
     "start_time": "2025-10-04T10:12:49.678905Z"
    }
   },
   "cell_type": "code",
   "source": [
    "import matplotlib.pyplot as plt\n",
    "def plot_predictions(train_data=X_train,\n",
    "                     train_labels=y_train,\n",
    "                     test_data=X_test,\n",
    "                     test_labels=y_test,\n",
    "                     predictions=None):\n",
    "  \"\"\"\n",
    "  Plots training data, test data and compares predictions.\n",
    "  \"\"\"\n",
    "  plt.figure(figsize=(10, 7))\n",
    "\n",
    "  # Plot training data in blue\n",
    "  plt.scatter(train_data, train_labels, c=\"b\", s=4, label=\"Training data\")\n",
    "\n",
    "  # Plot test data in green\n",
    "  plt.scatter(test_data, test_labels, c=\"g\", s=4, label=\"Testing data\")\n",
    "\n",
    "  if predictions is not None:\n",
    "    # Plot the predictions in red (predictions were made on the test data)\n",
    "    plt.scatter(test_data, predictions, c=\"r\", s=4, label=\"Predictions\")\n",
    "\n",
    "  # Show the legend\n",
    "  plt.legend(prop={\"size\": 14});"
   ],
   "id": "39a491994d7c13b6",
   "outputs": [],
   "execution_count": 698
  },
  {
   "metadata": {
    "ExecuteTime": {
     "end_time": "2025-10-03T10:06:16.773330Z",
     "start_time": "2025-10-03T10:06:16.770486Z"
    }
   },
   "cell_type": "markdown",
   "source": "# Looking for mistakes",
   "id": "d59fa2f3fcf49979"
  },
  {
   "metadata": {},
   "cell_type": "markdown",
   "source": "### Balance between classes",
   "id": "fe7cad45f8ae640e"
  },
  {
   "metadata": {
    "ExecuteTime": {
     "end_time": "2025-10-04T10:12:49.734423Z",
     "start_time": "2025-10-04T10:12:49.730634Z"
    }
   },
   "cell_type": "code",
   "source": [
    "print(\"class distribution y:\")\n",
    "print(f\"Confirmed (1): {(y == 1).sum()} - {((y == 1).sum() / len(y)) * 100:.2f}%\")\n",
    "print(f\"False Positive (0): {(y == 0).sum()} - {((y == 0).sum() / len(y)) * 100:.2f}%\")"
   ],
   "id": "85d70875452563ed",
   "outputs": [
    {
     "name": "stdout",
     "output_type": "stream",
     "text": [
      "class distribution y:\n",
      "Confirmed (1): 2734 - 38.43%\n",
      "False Positive (0): 4381 - 61.57%\n"
     ]
    }
   ],
   "execution_count": 699
  },
  {
   "metadata": {},
   "cell_type": "markdown",
   "source": [
    "#### Fix 1. Using wage in loss_fn\n",
    "\n",
    "Using wage in BCEWithLogitsLoss()"
   ],
   "id": "efcf4913c1b3ba13"
  },
  {
   "metadata": {},
   "cell_type": "markdown",
   "source": "#### Fix 2. Using fake data to check if model is learning anything",
   "id": "83d9301409007bca"
  },
  {
   "metadata": {
    "ExecuteTime": {
     "end_time": "2025-10-04T10:12:49.789869Z",
     "start_time": "2025-10-04T10:12:49.781658Z"
    }
   },
   "cell_type": "code",
   "source": [
    "import numpy as np\n",
    "import torch\n",
    "from sklearn.datasets import make_classification\n",
    "\n",
    "# Stwórz sztuczne dane które NA PEWNO są przewidywalne\n",
    "X_easy, y_easy = make_classification(\n",
    "    n_samples=2000,\n",
    "    n_features=10,\n",
    "    n_informative=8,  # 8 użytecznych features\n",
    "    n_redundant=2,  # 2 zbędne features\n",
    "    n_clusters_per_class=1,\n",
    "    random_state=42\n",
    ")\n",
    "\n",
    "# Konwersja do tensorów\n",
    "X_easy_tensor = torch.from_numpy(X_easy).float()\n",
    "y_easy_tensor = torch.from_numpy(y_easy).float()\n",
    "\n",
    "print(f\"Easy data - X: {X_easy_tensor.shape}, y: {y_easy_tensor.shape}\")\n",
    "print(f\"Class balance: {y_easy.mean():.3f} positive\")"
   ],
   "id": "8f7bcf4bafb6ccb5",
   "outputs": [
    {
     "name": "stdout",
     "output_type": "stream",
     "text": [
      "Easy data - X: torch.Size([2000, 10]), y: torch.Size([2000])\n",
      "Class balance: 0.497 positive\n"
     ]
    }
   ],
   "execution_count": 700
  },
  {
   "metadata": {
    "ExecuteTime": {
     "end_time": "2025-10-04T10:12:50.417117Z",
     "start_time": "2025-10-04T10:12:49.837217Z"
    }
   },
   "cell_type": "code",
   "source": [
    "# Test on easy data\n",
    "def test_your_model():\n",
    "    # Generate easy data (18 features like in  original data)\n",
    "    X_easy, y_easy = make_classification(\n",
    "        n_samples=2000,\n",
    "        n_features=18,  # SAME AS IN DATA\n",
    "        n_informative=16,  # Most features are useful\n",
    "        n_redundant=2,\n",
    "        n_clusters_per_class=1,\n",
    "        random_state=42,\n",
    "        flip_y=0.01  # Only 1% noise\n",
    "    )\n",
    "\n",
    "    # Convert to tensors -\n",
    "    X_easy_tensor = torch.from_numpy(X_easy).float()\n",
    "    y_easy_tensor = torch.from_numpy(y_easy).float()\n",
    "\n",
    "    # Train/test split\n",
    "    split_idx = int(0.8 * len(X_easy_tensor))\n",
    "    X_train = X_easy_tensor[:split_idx]\n",
    "    X_test = X_easy_tensor[split_idx:]\n",
    "    y_train = y_easy_tensor[:split_idx]\n",
    "    y_test = y_easy_tensor[split_idx:]\n",
    "\n",
    "    # USE EXACT MODEL\n",
    "    model = ExoplanetsV0(input_features=18, output_features=1, hidden_units=128)\n",
    "\n",
    "    # USED HYPERPARAMETERS (you can also test different ones)\n",
    "    optimizer = torch.optim.SGD(params=model.parameters(), lr=0.01)  # optimizer\n",
    "    loss_fn = nn.BCEWithLogitsLoss()  # loss function\n",
    "\n",
    "    print(\"=== TESTING YOUR MODEL ON EASY DATA ===\")\n",
    "    print(f\"Model: {model}\")\n",
    "    print(f\"Optimizer: SGD lr=0.01\")\n",
    "    print(f\"Data: {X_train.shape} -> {y_train.shape}\")\n",
    "\n",
    "    # Training\n",
    "    for epoch in range(100):\n",
    "        model.train()\n",
    "        optimizer.zero_grad()\n",
    "\n",
    "        # Forward pass\n",
    "        y_logits = model(X_train).squeeze()\n",
    "\n",
    "        # prediction logic\n",
    "        y_pred = torch.round(torch.sigmoid(y_logits))\n",
    "\n",
    "        # Loss\n",
    "        loss = loss_fn(y_logits, y_train)  # BCEWithLogitsLoss with logits\n",
    "        acc = (y_pred == y_train).float().mean()\n",
    "\n",
    "        # Backward\n",
    "        loss.backward()\n",
    "        optimizer.step()\n",
    "\n",
    "        # Test every 20 epochs\n",
    "        if epoch % 20 == 0:\n",
    "            model.eval()\n",
    "            with torch.no_grad():\n",
    "                test_logits = model(X_test).squeeze()\n",
    "                test_pred = torch.round(torch.sigmoid(test_logits))\n",
    "                test_loss = loss_fn(test_logits, y_test)\n",
    "                test_acc = (test_pred == y_test).float().mean()\n",
    "\n",
    "            print(\n",
    "                f\"Epoch {epoch:3d} | Train Loss: {loss:.4f}, Acc: {acc:.4f} | Test Loss: {test_loss:.4f}, Acc: {test_acc:.4f}\")\n",
    "\n",
    "    final_test_acc = (test_pred == y_test).float().mean()\n",
    "    print(f\"\\n FINAL TEST ACCURACY: {final_test_acc:.4f}\")\n",
    "\n",
    "    if final_test_acc > 0.85:\n",
    "        print(\"MODEL WORKS CORRECTLY - problem is in KEPLER DATA\")\n",
    "        return True\n",
    "    elif final_test_acc > 0.6:\n",
    "        print(\"MODEL WORKS POORLY - possible architecture problem\")\n",
    "        return False\n",
    "    else:\n",
    "        print(\"MODEL DOESN'T WORK - problem in IMPLEMENTATION\")\n",
    "        return False\n",
    "\n",
    "\n",
    "# Run test\n",
    "print(\"Testing YOUR exact model on easy data...\")\n",
    "model_works = test_your_model()"
   ],
   "id": "aa7ddd5cc4dcb5c4",
   "outputs": [
    {
     "name": "stdout",
     "output_type": "stream",
     "text": [
      "Testing YOUR exact model on easy data...\n",
      "=== TESTING YOUR MODEL ON EASY DATA ===\n",
      "Model: ExoplanetsV0(\n",
      "  (layers): Sequential(\n",
      "    (0): Linear(in_features=18, out_features=128, bias=True)\n",
      "    (1): ReLU()\n",
      "    (2): Linear(in_features=128, out_features=128, bias=True)\n",
      "    (3): ReLU()\n",
      "    (4): Linear(in_features=128, out_features=128, bias=True)\n",
      "    (5): ReLU()\n",
      "    (6): Linear(in_features=128, out_features=1, bias=True)\n",
      "  )\n",
      ")\n",
      "Optimizer: SGD lr=0.01\n",
      "Data: torch.Size([1600, 18]) -> torch.Size([1600])\n",
      "Epoch   0 | Train Loss: 0.7045, Acc: 0.3744 | Test Loss: 0.7047, Acc: 0.3825\n",
      "Epoch  20 | Train Loss: 0.6826, Acc: 0.6469 | Test Loss: 0.6828, Acc: 0.6425\n",
      "Epoch  40 | Train Loss: 0.6614, Acc: 0.7869 | Test Loss: 0.6615, Acc: 0.7925\n",
      "Epoch  60 | Train Loss: 0.6381, Acc: 0.8281 | Test Loss: 0.6380, Acc: 0.8150\n",
      "Epoch  80 | Train Loss: 0.6105, Acc: 0.8544 | Test Loss: 0.6101, Acc: 0.8275\n",
      "\n",
      " FINAL TEST ACCURACY: 0.8275\n",
      "MODEL WORKS POORLY - possible architecture problem\n"
     ]
    }
   ],
   "execution_count": 701
  },
  {
   "metadata": {
    "ExecuteTime": {
     "end_time": "2025-10-03T10:22:48.208433Z",
     "start_time": "2025-10-03T10:22:48.206047Z"
    }
   },
   "cell_type": "markdown",
   "source": [
    "### Conclusion\n",
    "\n",
    "Problem in `Sigmoid()` in `nn.Sequential`. Sigmoid should be used to round when we want to convert logits > probs > labels, it was affecting final answer when used in wrong place.\n",
    "\n",
    "Model can achieve ~60% accuracy on Dataset, let's try wages now, with working implementation. -> Model achieves over 90% accuracy."
   ],
   "id": "29c3f36b7dc8d486"
  },
  {
   "metadata": {},
   "cell_type": "markdown",
   "source": [
    "### Observations\n",
    "\n",
    "* When applied change and increased number of hidden layers\n",
    "    * `Linear>ReLU>Linear>ReLU>Linear>` -> `Linear>ReLU>Linear>ReLU>Linear>ReLU>Linear` accuracy dropped to 60,5% and model wasn't learning"
   ],
   "id": "f9cbc92bce103488"
  },
  {
   "metadata": {
    "ExecuteTime": {
     "end_time": "2025-10-04T10:12:50.425659Z",
     "start_time": "2025-10-04T10:12:50.422771Z"
    }
   },
   "cell_type": "code",
   "source": "",
   "id": "33b12b6cf2409c86",
   "outputs": [],
   "execution_count": null
  }
 ],
 "metadata": {
  "kernelspec": {
   "display_name": "Python 3",
   "language": "python",
   "name": "python3"
  },
  "language_info": {
   "codemirror_mode": {
    "name": "ipython",
    "version": 2
   },
   "file_extension": ".py",
   "mimetype": "text/x-python",
   "name": "python",
   "nbconvert_exporter": "python",
   "pygments_lexer": "ipython2",
   "version": "2.7.6"
  }
 },
 "nbformat": 4,
 "nbformat_minor": 5
}
