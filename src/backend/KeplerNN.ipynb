{
 "cells": [
  {
   "metadata": {},
   "cell_type": "markdown",
   "source": [
    "# Preparing dataset\n",
    "\n",
    "Preparation of dataset the same way as [here](https://github.com/JanMatusiak/exoplanets/blob/5380110f75580a08a29b010a21c8d1a51bb5e2a4/kepler.ipynb). For more detailed information about Specific steps go there."
   ],
   "id": "73f9eeefd382154a"
  },
  {
   "metadata": {},
   "cell_type": "code",
   "outputs": [],
   "execution_count": null,
   "source": [
    "import pandas as pd\n",
    "from torch.nn import BCEWithLogitsLoss\n",
    "from torch.onnx.utils import model_signature\n",
    "\n",
    "url = 'datasets/KOI.csv'\n",
    "kepler_df = pd.read_csv(url, comment='#')\n",
    "kepler_df.head(5)"
   ],
   "id": "e15b5bfa26dee29e"
  },
  {
   "metadata": {},
   "cell_type": "code",
   "outputs": [],
   "execution_count": null,
   "source": "kepler_df.shape",
   "id": "12e47fef757e1ebc"
  },
  {
   "metadata": {},
   "cell_type": "markdown",
   "source": "### Missing values",
   "id": "25accf23f83dd1ed"
  },
  {
   "metadata": {},
   "cell_type": "code",
   "outputs": [],
   "execution_count": null,
   "source": "kepler_df.isnull().sum().sort_values(ascending=False)",
   "id": "a14a9bd4484ababd"
  },
  {
   "metadata": {},
   "cell_type": "markdown",
   "source": "### Colums that can be dropped",
   "id": "c3191dba6f07c9e8"
  },
  {
   "metadata": {},
   "cell_type": "code",
   "outputs": [],
   "execution_count": null,
   "source": [
    "kepler_clean_df = kepler_df.drop(kepler_df.filter(regex=\"(_err1|_err2)$\").columns, axis=1)\n",
    "subset = ['kepoi_name', 'kepler_name', 'koi_pdisposition', 'koi_score', 'koi_tce_delivname', 'koi_teq', 'koi_time0bk']\n",
    "kepler_clean_df = kepler_clean_df.drop(subset, axis=1)\n",
    "kepler_clean_df.isnull().sum().sort_values(ascending=False)"
   ],
   "id": "d3cc35d1b6fed991"
  },
  {
   "metadata": {},
   "cell_type": "markdown",
   "source": "### Get rid of candidates to not confuse model",
   "id": "dbf725beb51c49b5"
  },
  {
   "metadata": {},
   "cell_type": "code",
   "outputs": [],
   "execution_count": null,
   "source": [
    "candidates_df = kepler_clean_df[kepler_clean_df[\"koi_disposition\"].str.strip().str.upper() == \"CANDIDATE\"].copy()\n",
    "\n",
    "labeled_df = kepler_clean_df[\n",
    "    kepler_clean_df[\"koi_disposition\"].str.strip().str.upper().isin([\"CONFIRMED\", \"FALSE POSITIVE\"])].copy()\n",
    "\n",
    "labeled_df[\"label\"] = (\n",
    "    labeled_df[\"koi_disposition\"]\n",
    "    .str.strip().str.upper()\n",
    "    .map({\"CONFIRMED\": 1, \"FALSE POSITIVE\": 0})\n",
    ")\n",
    "\n",
    "labeled_df.drop([\"koi_disposition\"], axis=1, inplace=True)\n",
    "labeled_df.head(5)\n"
   ],
   "id": "125bc1258cc4d7bc"
  },
  {
   "metadata": {},
   "cell_type": "markdown",
   "source": "### Missing values",
   "id": "b250105c33f8ce10"
  },
  {
   "metadata": {},
   "cell_type": "code",
   "outputs": [],
   "execution_count": null,
   "source": "labeled_df.isnull().sum().sort_values(ascending=False)",
   "id": "aedb16cba08f29c"
  },
  {
   "metadata": {},
   "cell_type": "code",
   "outputs": [],
   "execution_count": null,
   "source": [
    "labeled_df.dropna(inplace=True, axis=0)\n",
    "labeled_df.isnull().sum()"
   ],
   "id": "880411bbcd6e7117"
  },
  {
   "metadata": {},
   "cell_type": "markdown",
   "source": "Dataset is ready for analysis.",
   "id": "5eeea723f46f36d3"
  },
  {
   "metadata": {},
   "cell_type": "markdown",
   "source": "# Binary classification Model",
   "id": "aac7cfc71db3d17b"
  },
  {
   "metadata": {},
   "cell_type": "markdown",
   "source": "### Division into features and labels",
   "id": "10c3a7a8d95550ee"
  },
  {
   "metadata": {},
   "cell_type": "code",
   "outputs": [],
   "execution_count": null,
   "source": [
    "import numpy as np\n",
    "\n",
    "# X = labeled_df.drop(\"label\", axis = 1).values   # features\n",
    "# y = labeled_df[\"label\"].values                  # labels\n",
    "\n",
    "drop = [\"label\", \"kepid\"]\n",
    "feat_cols = [c for c in labeled_df.columns if c not in drop]\n",
    "X = labeled_df[feat_cols]\n",
    "y = labeled_df[\"label\"]"
   ],
   "id": "e31387575dfe18de"
  },
  {
   "metadata": {},
   "cell_type": "markdown",
   "source": "### Standardization of features",
   "id": "576cd2e122129dee"
  },
  {
   "metadata": {},
   "cell_type": "code",
   "outputs": [],
   "execution_count": null,
   "source": [
    "import sklearn\n",
    "from sklearn.preprocessing import StandardScaler\n",
    "\n",
    "scaler = StandardScaler()\n",
    "X_scaled = scaler.fit_transform(X)"
   ],
   "id": "3b04e7bb63fb316c"
  },
  {
   "metadata": {},
   "cell_type": "markdown",
   "source": "### Conversion to tensors",
   "id": "32bad7a06ed475ed"
  },
  {
   "metadata": {},
   "cell_type": "code",
   "outputs": [],
   "execution_count": null,
   "source": "X_scaled.shape, y.shape\n",
   "id": "e3a0a499fec8cdf1"
  },
  {
   "metadata": {},
   "cell_type": "code",
   "outputs": [],
   "execution_count": null,
   "source": "type(X_scaled), X_scaled.dtype",
   "id": "25ead7d8c2d9eb86"
  },
  {
   "metadata": {},
   "cell_type": "code",
   "outputs": [],
   "execution_count": null,
   "source": [
    "# Turn data into tensors\n",
    "import torch\n",
    "from torch.utils.data import DataLoader, TensorDataset\n",
    "import torch.nn as nn\n",
    "import torch.optim as optim\n",
    "\n",
    "X_scaled = torch.from_numpy(X_scaled).type(torch.float32)\n",
    "y = torch.from_numpy(y.values).type(torch.float32)  # POPRAWIONE - dodaj .values\n"
   ],
   "id": "e9bd32cb4656d048"
  },
  {
   "metadata": {},
   "cell_type": "code",
   "outputs": [],
   "execution_count": null,
   "source": "type(X_scaled), X_scaled.dtype, y.dtype",
   "id": "d822b0c26cc22817"
  },
  {
   "metadata": {},
   "cell_type": "markdown",
   "source": "### train / test split",
   "id": "ae2b4451cc0a2c75"
  },
  {
   "metadata": {},
   "cell_type": "code",
   "outputs": [],
   "execution_count": null,
   "source": [
    "from sklearn.model_selection import train_test_split\n",
    "\n",
    "X_train, X_test, y_train, y_test = train_test_split(X_scaled, y, test_size=0.2, random_state=42)\n",
    "\n",
    "len(X_train), len(X_test), len(y_train), len(y_test)"
   ],
   "id": "efb357317e816ee"
  },
  {
   "metadata": {},
   "cell_type": "code",
   "outputs": [],
   "execution_count": null,
   "source": "type(X_train), X_train.dtype",
   "id": "18a1e7ed369981fe"
  },
  {
   "metadata": {},
   "cell_type": "code",
   "outputs": [],
   "execution_count": null,
   "source": [
    "import torch\n",
    "from torch import nn\n",
    "\n",
    "device = \"cuda\" if torch.cuda.is_available() else \"cpu\"\n",
    "device"
   ],
   "id": "e6c4fbff86cc4718"
  },
  {
   "metadata": {},
   "cell_type": "markdown",
   "source": "### Construct Model Class",
   "id": "bd586501aa46aa5e"
  },
  {
   "metadata": {},
   "cell_type": "code",
   "outputs": [],
   "execution_count": null,
   "source": [
    "class ExoplanetsV0(nn.Module):\n",
    "    def __init__(self, input_features, output_features, hidden_units=8):\n",
    "        super().__init__()\n",
    "        self.layers = nn.Sequential(\n",
    "            nn.Linear(in_features=input_features, out_features=hidden_units),\n",
    "            nn.ReLU(),\n",
    "            nn.Linear(in_features=hidden_units, out_features=int(hidden_units * 2)),\n",
    "            nn.ReLU(),\n",
    "            nn.Linear(in_features=int(hidden_units * 2), out_features=int(hidden_units)),\n",
    "            nn.ReLU(),\n",
    "            nn.Linear(in_features=int(hidden_units), out_features=output_features),\n",
    "            #nn.Sigmoid()\n",
    "        )\n",
    "\n",
    "    def forward(self, x):\n",
    "        return self.layers(x)\n",
    "\n",
    "\n",
    "# Create an instance of model\n",
    "model_0 = ExoplanetsV0(input_features=18, output_features=1, hidden_units=32).to(device)\n",
    "model_0"
   ],
   "id": "f488a62b8dee37f2"
  },
  {
   "metadata": {},
   "cell_type": "code",
   "outputs": [],
   "execution_count": null,
   "source": "X_train.shape, y_train.shape",
   "id": "8c7cc0b4c7182108"
  },
  {
   "metadata": {},
   "cell_type": "markdown",
   "source": "### Loss Function and Optimizer",
   "id": "505894ecadeaf19f"
  },
  {
   "metadata": {},
   "cell_type": "code",
   "outputs": [],
   "execution_count": null,
   "source": [
    "# Create a loss function for binary classification\n",
    "\n",
    "### Tried to fix with wages-----------------------------------\n",
    "weight_for_0 = len(y) / (2 * (y == 0).sum())\n",
    "weight_for_1 = len(y) / (2 * (y == 1).sum())\n",
    "\n",
    "pos_weight = torch.tensor([weight_for_1 / weight_for_0]).to(device)  # dla klasy 1\n",
    "loss_fn = nn.BCEWithLogitsLoss(pos_weight=pos_weight)\n",
    "#loss_fn = nn.BCEWithLogitsLoss()\n",
    "###----------------------------------------------------------\n",
    "\n",
    "#loss_fn = nn.BCEWithLogitsLoss()\n",
    "\n",
    "# Create an optimizer for binary classification\n",
    "optimizer = torch.optim.SGD(params=model_0.parameters(), lr=0.01)"
   ],
   "id": "39853ccce6791c5f"
  },
  {
   "metadata": {},
   "cell_type": "code",
   "outputs": [],
   "execution_count": null,
   "source": [
    "# Calculate accuracy\n",
    "def accuracy_fn(y_true, y_pred):\n",
    "    correct = torch.eq(y_true, y_pred).sum().item()\n",
    "    acc = (correct / len(y_pred)) * 100\n",
    "    return acc"
   ],
   "id": "fff173eec8422b21"
  },
  {
   "metadata": {},
   "cell_type": "markdown",
   "source": [
    "# Train Model\n",
    "\n",
    "Model outputs are raw **Logits**\n",
    "\n",
    "We are converting logits into prediction probabilities by passing them to some kind of activation function (int this case `nn.Sigmoid()`) Then we can convert our model's prediction probabilities to **prediction labels** by taking the `argmaX_scaled()`"
   ],
   "id": "fc7655c2fb33cae0"
  },
  {
   "metadata": {},
   "cell_type": "code",
   "outputs": [],
   "execution_count": null,
   "source": [
    "model_0.eval()\n",
    "with torch.inference_mode():\n",
    "    y_logits = model_0(X_test.to(device))\n",
    "y_logits[:5]"
   ],
   "id": "cb27c5e9f4738680"
  },
  {
   "metadata": {},
   "cell_type": "code",
   "outputs": [],
   "execution_count": null,
   "source": [
    "y_pred_probs = torch.sigmoid(y_logits)\n",
    "y_pred_probs"
   ],
   "id": "2af7104fdb2896f0"
  },
  {
   "metadata": {},
   "cell_type": "code",
   "outputs": [],
   "execution_count": null,
   "source": "torch.round(y_pred_probs)",
   "id": "afcf5c82c62ffb06"
  },
  {
   "metadata": {},
   "cell_type": "code",
   "outputs": [],
   "execution_count": null,
   "source": [
    "# find predicted labels\n",
    "y_preds = torch.round(y_pred_probs)\n",
    "\n",
    "# in full\n",
    "y_pred_labels = torch.round(torch.sigmoid(model_0(X_test.to(device))))\n",
    "\n",
    "# check for equality\n",
    "print(torch.eq(y_preds.squeeze(), y_pred_labels.squeeze()))\n",
    "\n",
    "# get rid of extra dimension\n",
    "y_preds.squeeze()"
   ],
   "id": "84d6d775c181d651"
  },
  {
   "metadata": {},
   "cell_type": "code",
   "outputs": [],
   "execution_count": null,
   "source": "y_test[:5]",
   "id": "2e38461b05ad15b4"
  },
  {
   "metadata": {},
   "cell_type": "markdown",
   "source": "### Building a training loop and testing loop",
   "id": "972fc76bfda4b6ed"
  },
  {
   "metadata": {},
   "cell_type": "code",
   "outputs": [],
   "execution_count": null,
   "source": [
    "from sklearn.metrics import precision_score, recall_score, f1_score, roc_auc_score\n",
    "torch.manual_seed(42)\n",
    "torch.cuda.manual_seed(42)\n",
    "\n",
    "# Set the number of epochs\n",
    "epochs = 10000\n",
    "\n",
    "# Tracking loss and accuracy\n",
    "track_accuracy = []\n",
    "track_loss = []\n",
    "track_test_accuracy = []\n",
    "track_test_loss = []\n",
    "\n",
    "# Put data to target device\n",
    "X_train, y_train = X_train.to(device), y_train.to(device)\n",
    "X_test, y_test = X_test.to(device), y_test.to(device)\n",
    "\n",
    "for epoch in range(epochs):\n",
    "    ### Training\n",
    "    model_0.train()\n",
    "\n",
    "    # 1. Forward pass\n",
    "    y_logits = model_0(X_train).squeeze()\n",
    "    y_probs = torch.sigmoid(y_logits)\n",
    "    y_pred = torch.round(y_probs)  # turn logits into pred probs and into pred labels\n",
    "\n",
    "    # 2. Calculate the loss / cost\n",
    "    loss = loss_fn(y_logits, y_train)\n",
    "\n",
    "    acc = accuracy_fn(y_true=y_train.detach(), y_pred=y_pred.detach())\n",
    "    precision = precision_score(y_true=y_train.detach(), y_pred=y_pred.detach()) * 100\n",
    "    recall = recall_score(y_true=y_train.detach(), y_pred=y_pred.detach()) * 100\n",
    "    f1 = f1_score(y_true=y_train.detach(), y_pred=y_pred.detach()) * 100\n",
    "    auc = roc_auc_score(y_true=y_train.detach(), y_score=y_probs.detach())\n",
    "    track_loss.append(loss.item())\n",
    "    acc = accuracy_fn(y_true=y_train, y_pred=y_pred)\n",
    "    track_accuracy.append(acc)\n",
    "\n",
    "    # 3. Optimizer zero grad\n",
    "    optimizer.zero_grad()\n",
    "\n",
    "    # 4. Backpropagation algorithm\n",
    "    loss.backward()\n",
    "\n",
    "    # 5. Gradient descent algorithm\n",
    "    optimizer.step()\n",
    "\n",
    "    ### Testing\n",
    "    model_0.eval()\n",
    "    with torch.inference_mode():\n",
    "        # 1. Forward pass\n",
    "        test_logits = model_0(X_test).squeeze()     # logits\n",
    "        test_probs = torch.sigmoid(test_logits)     # Probability\n",
    "        test_pred = torch.round(test_probs)         # 1 or 0\n",
    "\n",
    "        # 2. Calculate test loss/acc\n",
    "        test_loss = loss_fn(test_logits, y_test)\n",
    "        track_test_loss.append(test_loss.item())\n",
    "\n",
    "        test_acc = accuracy_fn(y_true=y_test, y_pred=test_pred)\n",
    "        test_precision = precision_score(y_true=y_test, y_pred=test_pred) * 100\n",
    "        test_recall = recall_score(y_true=y_test, y_pred=test_pred) * 100\n",
    "        test_f1 = f1_score(y_true=y_test, y_pred=test_pred) * 100\n",
    "        test_auc = roc_auc_score(y_true=y_test, y_score=test_probs)\n",
    "        track_test_accuracy.append(test_acc)\n",
    "\n",
    "    # Print out what's happenin'\n",
    "    if epoch % 100 == 0 or epoch == 9999:\n",
    "        print(\n",
    "            f\"Epoch {epoch} \\n\"\n",
    "            f\" loss: {loss:.5f} | accuracy: {acc:.2f}% | Precision: {precision:.2f}% | Recall: {recall:.2f}% | f1: {f1:.2f}% | auc: {auc:.2f} \\n\"\n",
    "            f\"Test loss: {test_loss:.5f} | Test accuracy: {test_acc:.2f}% | Test precision: {test_precision:.2f}% | Test recall: {test_recall:.2f}% | Test f1: {test_f1:.2f}% | Test auc: {test_auc:.2f}\"\n",
    "            f\"Epoch {epoch} | loss: {loss:.5f}, accuracy: {acc:.2f}%, Test loss: {test_loss:.5f}, Test accuracy: {test_acc:.2f}%\")"
   ],
   "id": "2613c30b4758881a"
  },
  {
   "metadata": {},
   "cell_type": "markdown",
   "source": "# Tracking Accuracy",
   "id": "c4e70490bfd875d"
  },
  {
   "metadata": {},
   "cell_type": "code",
   "outputs": [],
   "execution_count": null,
   "source": [
    "import matplotlib.pyplot as plt\n",
    "\n",
    "epoch_range = range(1, epochs + 1)\n",
    "\n",
    "plt.figure(figsize=(12, 5))\n",
    "\n",
    "# Accuracy\n",
    "plt.subplot(1, 2, 1)\n",
    "plt.plot(epoch_range, track_accuracy, label='Train Accuracy')\n",
    "plt.plot(epoch_range, track_test_accuracy, label='Test Accuracy')\n",
    "plt.title('Model Accuracy')\n",
    "plt.xlabel('Epoch')\n",
    "plt.ylabel('Accuracy (%)')\n",
    "plt.legend()\n",
    "plt.grid(True)\n",
    "\n",
    "# Loss\n",
    "plt.subplot(1, 2, 2)\n",
    "plt.plot(epoch_range, track_loss, label='Train Loss')\n",
    "plt.plot(epoch_range, track_test_loss, label='Test Loss')\n",
    "plt.title('Model Loss')\n",
    "plt.xlabel('Epoch')\n",
    "plt.ylabel('Loss')\n",
    "plt.legend()\n",
    "plt.grid(True)\n",
    "\n",
    "plt.tight_layout()\n",
    "plt.show()\n"
   ],
   "id": "f690179bd0b2f256"
  },
  {
   "metadata": {},
   "cell_type": "markdown",
   "source": [
    "# Saving and loading already trained Model\n",
    "\n",
    "Creating template / method for effective saving already trained model, so user don't have to wait for it to finish training before usage."
   ],
   "id": "4f7d6786f4d7f3f1"
  },
  {
   "metadata": {},
   "cell_type": "code",
   "outputs": [],
   "execution_count": null,
   "source": [
    "# Saving our PyTorch model\n",
    "from pathlib import Path\n",
    "\n",
    "# 1. Create models directory if it doesn't exist yet\n",
    "MODEL_PATH = Path(\"models\")\n",
    "MODEL_PATH.mkdir(parents = True, exist_ok = True)\n",
    "\n",
    "# 2. Create model save path\n",
    "MODEL_NAME = \"nn_exoplanets0.pth\"\n",
    "MODEL_SAVE_PATH = MODEL_PATH / MODEL_NAME\n",
    "\n",
    "# 3. Save the model state dict\n",
    "print(f\"Saving model to: {MODEL_SAVE_PATH}\")\n",
    "torch.save(obj = model_0.state_dict(),\n",
    "           f = MODEL_SAVE_PATH)"
   ],
   "id": "a4480b845dfabf64"
  },
  {
   "metadata": {},
   "cell_type": "code",
   "outputs": [],
   "execution_count": null,
   "source": "!ls -l models",
   "id": "ded3303cc890afb0"
  },
  {
   "metadata": {},
   "cell_type": "markdown",
   "source": [
    "### Loading Trained model\n",
    "\n"
   ],
   "id": "ed1d0e473c817e79"
  },
  {
   "metadata": {},
   "cell_type": "code",
   "outputs": [],
   "execution_count": null,
   "source": [
    "# To load in a saved state_dict we have to instantiate a new instace of our model class\n",
    "loaded_model_0 = ExoplanetsV0(input_features = 18, output_features = 1, hidden_units = 64)\n",
    "\n",
    "#Load the saved state_dict of model_0 (update the new instance with old parameters\n",
    "loaded_model_0.load_state_dict(torch.load(f = MODEL_SAVE_PATH))"
   ],
   "id": "395bc06e15fe99b"
  },
  {
   "metadata": {},
   "cell_type": "code",
   "outputs": [],
   "execution_count": null,
   "source": [
    "loaded_model_0.eval()\n",
    "with torch.inference_mode():\n",
    "    loaded_logits = loaded_model_0(X_test.to(device))\n",
    "    loaded_pred_probs = torch.sigmoid(loaded_logits)\n",
    "    loaded_preds = torch.round(loaded_pred_probs)\n",
    "\n",
    "loaded_preds"
   ],
   "id": "dd77c094fcd76dc0"
  },
  {
   "metadata": {},
   "cell_type": "code",
   "outputs": [],
   "execution_count": null,
   "source": "loaded_preds == y_preds",
   "id": "d71c63a30479de06"
  },
  {
   "metadata": {},
   "cell_type": "code",
   "outputs": [],
   "execution_count": null,
   "source": "loaded_preds, y_preds",
   "id": "7e3520af50af7c9c"
  },
  {
   "metadata": {},
   "cell_type": "markdown",
   "source": "# Looking for mistakes",
   "id": "d657a509011a429d"
  },
  {
   "metadata": {},
   "cell_type": "markdown",
   "source": "### Balance between classes",
   "id": "df63a92dc34732d8"
  },
  {
   "metadata": {},
   "cell_type": "code",
   "outputs": [],
   "execution_count": null,
   "source": [
    "print(\"class distribution y:\")\n",
    "print(f\"Confirmed (1): {(y == 1).sum()} - {((y == 1).sum() / len(y)) * 100:.2f}%\")\n",
    "print(f\"False Positive (0): {(y == 0).sum()} - {((y == 0).sum() / len(y)) * 100:.2f}%\")"
   ],
   "id": "3224f77ba0104ad8"
  },
  {
   "metadata": {},
   "cell_type": "markdown",
   "source": [
    "#### Fix 1. Using wage in loss_fn\n",
    "\n",
    "Using wage in BCEWithLogitsLoss()"
   ],
   "id": "bde122bb25eb22ad"
  },
  {
   "metadata": {},
   "cell_type": "markdown",
   "source": "#### Fix 2. Using fake data to check if model is learning anything",
   "id": "4e6fc530eacd9c86"
  },
  {
   "metadata": {},
   "cell_type": "code",
   "outputs": [],
   "execution_count": null,
   "source": [
    "import numpy as np\n",
    "import torch\n",
    "from sklearn.datasets import make_classification\n",
    "\n",
    "# Stwórz sztuczne dane które NA PEWNO są przewidywalne\n",
    "X_easy, y_easy = make_classification(\n",
    "    n_samples=2000,\n",
    "    n_features=10,\n",
    "    n_informative=8,  # 8 użytecznych features\n",
    "    n_redundant=2,  # 2 zbędne features\n",
    "    n_clusters_per_class=1,\n",
    "    random_state=42\n",
    ")\n",
    "\n",
    "# Konwersja do tensorów\n",
    "X_easy_tensor = torch.from_numpy(X_easy).float()\n",
    "y_easy_tensor = torch.from_numpy(y_easy).float()\n",
    "\n",
    "print(f\"Easy data - X: {X_easy_tensor.shape}, y: {y_easy_tensor.shape}\")\n",
    "print(f\"Class balance: {y_easy.mean():.3f} positive\")"
   ],
   "id": "f9539873a26ddf04"
  },
  {
   "metadata": {},
   "cell_type": "code",
   "outputs": [],
   "execution_count": null,
   "source": [
    "# Test on easy data\n",
    "def test_your_model():\n",
    "    # Generate easy data (18 features like in  original data)\n",
    "    X_easy, y_easy = make_classification(\n",
    "        n_samples=2000,\n",
    "        n_features=18,  # SAME AS IN DATA\n",
    "        n_informative=16,  # Most features are useful\n",
    "        n_redundant=2,\n",
    "        n_clusters_per_class=1,\n",
    "        random_state=42,\n",
    "        flip_y=0.01  # Only 1% noise\n",
    "    )\n",
    "\n",
    "    # Convert to tensors -\n",
    "    X_easy_tensor = torch.from_numpy(X_easy).float()\n",
    "    y_easy_tensor = torch.from_numpy(y_easy).float()\n",
    "\n",
    "    # Train/test split\n",
    "    split_idx = int(0.8 * len(X_easy_tensor))\n",
    "    X_train = X_easy_tensor[:split_idx]\n",
    "    X_test = X_easy_tensor[split_idx:]\n",
    "    y_train = y_easy_tensor[:split_idx]\n",
    "    y_test = y_easy_tensor[split_idx:]\n",
    "\n",
    "    # USE EXACT MODEL\n",
    "    model = ExoplanetsV0(input_features=18, output_features=1, hidden_units=128)\n",
    "\n",
    "    # USED HYPERPARAMETERS (you can also test different ones)\n",
    "    optimizer = torch.optim.SGD(params=model.parameters(), lr=0.01)  # optimizer\n",
    "    loss_fn = nn.BCEWithLogitsLoss()  # loss function\n",
    "\n",
    "    print(\"=== TESTING YOUR MODEL ON EASY DATA ===\")\n",
    "    print(f\"Model: {model}\")\n",
    "    print(f\"Optimizer: SGD lr=0.01\")\n",
    "    print(f\"Data: {X_train.shape} -> {y_train.shape}\")\n",
    "\n",
    "    # Training\n",
    "    for epoch in range(100):\n",
    "        model.train()\n",
    "        optimizer.zero_grad()\n",
    "\n",
    "        # Forward pass\n",
    "        y_logits = model(X_train).squeeze()\n",
    "\n",
    "        # prediction logic\n",
    "        y_pred = torch.round(torch.sigmoid(y_logits))\n",
    "\n",
    "        # Loss\n",
    "        loss = loss_fn(y_logits, y_train)  # BCEWithLogitsLoss with logits\n",
    "        acc = (y_pred == y_train).float().mean()\n",
    "\n",
    "        # Backward\n",
    "        loss.backward()\n",
    "        optimizer.step()\n",
    "\n",
    "        # Test every 20 epochs\n",
    "        if epoch % 20 == 0:\n",
    "            model.eval()\n",
    "            with torch.no_grad():\n",
    "                test_logits = model(X_test).squeeze()\n",
    "                test_pred = torch.round(torch.sigmoid(test_logits))\n",
    "                test_loss = loss_fn(test_logits, y_test)\n",
    "                test_acc = (test_pred == y_test).float().mean()\n",
    "\n",
    "            print(\n",
    "                f\"Epoch {epoch:3d} | Train Loss: {loss:.4f}, Acc: {acc:.4f} | Test Loss: {test_loss:.4f}, Acc: {test_acc:.4f}\")\n",
    "\n",
    "    final_test_acc = (test_pred == y_test).float().mean()\n",
    "    print(f\"\\n FINAL TEST ACCURACY: {final_test_acc:.4f}\")\n",
    "\n",
    "    if final_test_acc > 0.85:\n",
    "        print(\"MODEL WORKS CORRECTLY - problem is in KEPLER DATA\")\n",
    "        return True\n",
    "    elif final_test_acc > 0.6:\n",
    "        print(\"MODEL WORKS POORLY - possible architecture problem\")\n",
    "        return False\n",
    "    else:\n",
    "        print(\"MODEL DOESN'T WORK - problem in IMPLEMENTATION\")\n",
    "        return False\n",
    "\n",
    "\n",
    "# Run test\n",
    "print(\"Testing YOUR exact model on easy data...\")\n",
    "model_works = test_your_model()"
   ],
   "id": "101be04fe0eaccd9"
  },
  {
   "metadata": {},
   "cell_type": "markdown",
   "source": [
    "### Conclusion\n",
    "\n",
    "Problem in `Sigmoid()` in `nn.Sequential`. Sigmoid should be used to round when we want to convert logits > probs > labels, it was affecting final answer when used in wrong place.\n",
    "\n",
    "Model can achieve ~60% accuracy on Dataset, let's try wages now, with working implementation. -> Model achieves over 90% accuracy."
   ],
   "id": "a55f01255e874a85"
  },
  {
   "metadata": {},
   "cell_type": "markdown",
   "source": [
    "### Observations\n",
    "\n",
    "* When applied change and increased number of hidden layers\n",
    "    * `Linear>ReLU>Linear>ReLU>Linear>` -> `Linear>ReLU>Linear>ReLU>Linear>ReLU>Linear` accuracy dropped to 60,5% and model wasn't learning"
   ],
   "id": "9c013317b47ff2d4"
  },
  {
   "metadata": {},
   "cell_type": "code",
   "outputs": [],
   "execution_count": null,
   "source": "",
   "id": "27e0d4d594820f25"
  }
 ],
 "metadata": {
  "kernelspec": {
   "display_name": "Python 3",
   "language": "python",
   "name": "python3"
  },
  "language_info": {
   "codemirror_mode": {
    "name": "ipython",
    "version": 2
   },
   "file_extension": ".py",
   "mimetype": "text/x-python",
   "name": "python",
   "nbconvert_exporter": "python",
   "pygments_lexer": "ipython2",
   "version": "2.7.6"
  }
 },
 "nbformat": 4,
 "nbformat_minor": 5
}
