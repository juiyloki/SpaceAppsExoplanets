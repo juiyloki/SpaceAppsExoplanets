{
 "cells": [
  {
   "metadata": {},
   "cell_type": "markdown",
   "source": "# Binary classification Model",
   "id": "aac7cfc71db3d17b"
  },
  {
   "metadata": {},
   "cell_type": "markdown",
   "source": "### train / test split",
   "id": "ae2b4451cc0a2c75"
  },
  {
   "metadata": {
    "ExecuteTime": {
     "end_time": "2025-10-04T15:08:58.881502Z",
     "start_time": "2025-10-04T15:08:58.851211Z"
    }
   },
   "cell_type": "code",
   "source": [
    "import numpy as np\n",
    "import torch\n",
    "X_train = np.loadtxt(\"datasets/X_train_imputed_scaled.csv\", delimiter=\",\", skiprows=1)\n",
    "X_test = np.loadtxt(\"datasets/X_test_imputed_scaled.csv\", delimiter=\",\", skiprows=1)\n",
    "y_train = np.loadtxt(\"datasets/y_train.csv\", delimiter=\",\", skiprows=1)\n",
    "y_test = np.loadtxt(\"datasets/y_test.csv\", delimiter=\",\", skiprows=1)\n",
    "\n",
    "X_train = np.delete(X_train, 0, axis=1)\n",
    "X_test = np.delete(X_test, 0, axis=1)\n",
    "y_train = np.delete(y_train, 0, axis=1)\n",
    "y_test = np.delete(y_test, 0, axis=1)\n",
    "\n",
    "X_train = torch.from_numpy(X_train).type(torch.float32).squeeze()\n",
    "X_test = torch.from_numpy(X_test).type(torch.float32).squeeze()\n",
    "y_train = torch.from_numpy(y_train).type(torch.float32).squeeze()\n",
    "y_test = torch.from_numpy(y_test).type(torch.float32).squeeze()\n"
   ],
   "id": "61171043351e6606",
   "outputs": [],
   "execution_count": 234
  },
  {
   "metadata": {
    "ExecuteTime": {
     "end_time": "2025-10-04T15:08:58.909962Z",
     "start_time": "2025-10-04T15:08:58.901161Z"
    }
   },
   "cell_type": "code",
   "source": [
    "from sklearn.model_selection import train_test_split\n",
    "\n",
    "len(X_train), len(X_test), len(y_train), len(y_test)"
   ],
   "id": "efb357317e816ee",
   "outputs": [
    {
     "data": {
      "text/plain": [
       "(10018, 2648, 10018, 2648)"
      ]
     },
     "execution_count": 235,
     "metadata": {},
     "output_type": "execute_result"
    }
   ],
   "execution_count": 235
  },
  {
   "metadata": {
    "ExecuteTime": {
     "end_time": "2025-10-04T15:08:58.969282Z",
     "start_time": "2025-10-04T15:08:58.963830Z"
    }
   },
   "cell_type": "code",
   "source": "X_train.shape, X_test.shape, y_train.shape, y_test.shape",
   "id": "f1d534fefd5f5dc",
   "outputs": [
    {
     "data": {
      "text/plain": [
       "(torch.Size([10018, 7]),\n",
       " torch.Size([2648, 7]),\n",
       " torch.Size([10018]),\n",
       " torch.Size([2648]))"
      ]
     },
     "execution_count": 236,
     "metadata": {},
     "output_type": "execute_result"
    }
   ],
   "execution_count": 236
  },
  {
   "metadata": {
    "ExecuteTime": {
     "end_time": "2025-10-04T15:08:59.027945Z",
     "start_time": "2025-10-04T15:08:59.022791Z"
    }
   },
   "cell_type": "code",
   "source": "type(X_train), X_train.dtype",
   "id": "18a1e7ed369981fe",
   "outputs": [
    {
     "data": {
      "text/plain": [
       "(torch.Tensor, torch.float32)"
      ]
     },
     "execution_count": 237,
     "metadata": {},
     "output_type": "execute_result"
    }
   ],
   "execution_count": 237
  },
  {
   "metadata": {
    "ExecuteTime": {
     "end_time": "2025-10-04T15:08:59.086810Z",
     "start_time": "2025-10-04T15:08:59.082972Z"
    }
   },
   "cell_type": "code",
   "source": [
    "import torch\n",
    "from torch import nn\n",
    "\n",
    "device = \"cuda\" if torch.cuda.is_available() else \"cpu\"\n",
    "device"
   ],
   "id": "e6c4fbff86cc4718",
   "outputs": [
    {
     "data": {
      "text/plain": [
       "'cpu'"
      ]
     },
     "execution_count": 238,
     "metadata": {},
     "output_type": "execute_result"
    }
   ],
   "execution_count": 238
  },
  {
   "metadata": {
    "ExecuteTime": {
     "end_time": "2025-10-04T15:08:59.155829Z",
     "start_time": "2025-10-04T15:08:59.148320Z"
    }
   },
   "cell_type": "code",
   "source": "torch.cuda.is_available()",
   "id": "aa1ce42523535c16",
   "outputs": [
    {
     "data": {
      "text/plain": [
       "False"
      ]
     },
     "execution_count": 239,
     "metadata": {},
     "output_type": "execute_result"
    }
   ],
   "execution_count": 239
  },
  {
   "metadata": {},
   "cell_type": "markdown",
   "source": "### Construct Model Class",
   "id": "bd586501aa46aa5e"
  },
  {
   "metadata": {
    "ExecuteTime": {
     "end_time": "2025-10-04T15:08:59.222493Z",
     "start_time": "2025-10-04T15:08:59.211581Z"
    }
   },
   "cell_type": "code",
   "source": [
    "class ExoplanetsV0(nn.Module):\n",
    "    def __init__(self, input_features, output_features, hidden_units=8):\n",
    "        super().__init__()\n",
    "        self.layers = nn.Sequential(\n",
    "            nn.Linear(in_features=input_features, out_features=hidden_units),\n",
    "            nn.ReLU(),\n",
    "            nn.Linear(in_features=hidden_units, out_features=int(hidden_units)),\n",
    "            nn.ReLU(),\n",
    "            nn.Linear(in_features=int(hidden_units), out_features=int(hidden_units)),\n",
    "            nn.ReLU(),\n",
    "            nn.Linear(in_features=int(hidden_units), out_features=output_features),\n",
    "            #nn.Sigmoid()\n",
    "        )\n",
    "\n",
    "    def forward(self, x):\n",
    "        return self.layers(x)\n",
    "\n",
    "\n",
    "# Create an instance of model\n",
    "model_0 = ExoplanetsV0(input_features=X_test.shape[1], output_features=1, hidden_units=64).to(device)\n",
    "model_0"
   ],
   "id": "f488a62b8dee37f2",
   "outputs": [
    {
     "data": {
      "text/plain": [
       "ExoplanetsV0(\n",
       "  (layers): Sequential(\n",
       "    (0): Linear(in_features=7, out_features=64, bias=True)\n",
       "    (1): ReLU()\n",
       "    (2): Linear(in_features=64, out_features=64, bias=True)\n",
       "    (3): ReLU()\n",
       "    (4): Linear(in_features=64, out_features=64, bias=True)\n",
       "    (5): ReLU()\n",
       "    (6): Linear(in_features=64, out_features=1, bias=True)\n",
       "  )\n",
       ")"
      ]
     },
     "execution_count": 240,
     "metadata": {},
     "output_type": "execute_result"
    }
   ],
   "execution_count": 240
  },
  {
   "metadata": {
    "ExecuteTime": {
     "end_time": "2025-10-04T15:08:59.279454Z",
     "start_time": "2025-10-04T15:08:59.274666Z"
    }
   },
   "cell_type": "code",
   "source": "X_train.shape, y_train.shape",
   "id": "8c7cc0b4c7182108",
   "outputs": [
    {
     "data": {
      "text/plain": [
       "(torch.Size([10018, 7]), torch.Size([10018]))"
      ]
     },
     "execution_count": 241,
     "metadata": {},
     "output_type": "execute_result"
    }
   ],
   "execution_count": 241
  },
  {
   "metadata": {},
   "cell_type": "markdown",
   "source": "### Loss Function and Optimizer",
   "id": "505894ecadeaf19f"
  },
  {
   "metadata": {
    "ExecuteTime": {
     "end_time": "2025-10-04T15:08:59.333604Z",
     "start_time": "2025-10-04T15:08:59.328087Z"
    }
   },
   "cell_type": "code",
   "source": [
    "# Create a loss function for binary classification\n",
    "\n",
    "### Tried to fix with wages-----------------------------------\n",
    "weight_for_0 = len(y_test) + len(y_train) / (2 * ((y_test == 0).sum() + (y_train == 0).sum()))\n",
    "weight_for_1 = len(y_test) + len(y_train) / (2 * ((y_test == 1).sum() + (y_train == 1).sum()))\n",
    "\n",
    "pos_weight = torch.tensor([weight_for_1 / weight_for_0]).to(device)  # dla klasy 1\n",
    "loss_fn = nn.BCEWithLogitsLoss(pos_weight=pos_weight)\n",
    "#loss_fn = nn.BCEWithLogitsLoss()\n",
    "###----------------------------------------------------------\n",
    "\n",
    "#loss_fn = nn.BCEWithLogitsLoss()\n",
    "\n",
    "# Create an optimizer for binary classification\n",
    "optimizer = torch.optim.SGD(params=model_0.parameters(), lr=0.01)"
   ],
   "id": "39853ccce6791c5f",
   "outputs": [],
   "execution_count": 242
  },
  {
   "metadata": {
    "ExecuteTime": {
     "end_time": "2025-10-04T15:08:59.387961Z",
     "start_time": "2025-10-04T15:08:59.381790Z"
    }
   },
   "cell_type": "code",
   "source": [
    "# Calculate accuracy\n",
    "def accuracy_fn(y_true, y_pred):\n",
    "    correct = torch.eq(y_true, y_pred).sum().item()\n",
    "    acc = (correct / len(y_pred)) * 100\n",
    "    return acc"
   ],
   "id": "fff173eec8422b21",
   "outputs": [],
   "execution_count": 243
  },
  {
   "metadata": {},
   "cell_type": "markdown",
   "source": [
    "# Train Model\n",
    "\n",
    "Model outputs are raw **Logits**\n",
    "\n",
    "We are converting logits into prediction probabilities by passing them to some kind of activation function (int this case `nn.Sigmoid()`) Then we can convert our model's prediction probabilities to **prediction labels** by taking the `argmaX_scaled()`"
   ],
   "id": "fc7655c2fb33cae0"
  },
  {
   "metadata": {
    "ExecuteTime": {
     "end_time": "2025-10-04T15:08:59.446209Z",
     "start_time": "2025-10-04T15:08:59.437724Z"
    }
   },
   "cell_type": "code",
   "source": [
    "model_0.eval()\n",
    "with torch.inference_mode():\n",
    "    y_logits = model_0(X_test.to(device))\n",
    "y_logits[:5]"
   ],
   "id": "cb27c5e9f4738680",
   "outputs": [
    {
     "data": {
      "text/plain": [
       "tensor([[-0.0187],\n",
       "        [-0.0068],\n",
       "        [-0.0122],\n",
       "        [-0.0120],\n",
       "        [-0.0200]])"
      ]
     },
     "execution_count": 244,
     "metadata": {},
     "output_type": "execute_result"
    }
   ],
   "execution_count": 244
  },
  {
   "metadata": {
    "ExecuteTime": {
     "end_time": "2025-10-04T15:08:59.520836Z",
     "start_time": "2025-10-04T15:08:59.517047Z"
    }
   },
   "cell_type": "code",
   "source": [
    "y_pred_probs = torch.sigmoid(y_logits)\n",
    "y_pred_probs"
   ],
   "id": "2af7104fdb2896f0",
   "outputs": [
    {
     "data": {
      "text/plain": [
       "tensor([[0.4953],\n",
       "        [0.4983],\n",
       "        [0.4969],\n",
       "        ...,\n",
       "        [0.4962],\n",
       "        [0.4951],\n",
       "        [0.4974]])"
      ]
     },
     "execution_count": 245,
     "metadata": {},
     "output_type": "execute_result"
    }
   ],
   "execution_count": 245
  },
  {
   "metadata": {
    "ExecuteTime": {
     "end_time": "2025-10-04T15:08:59.586783Z",
     "start_time": "2025-10-04T15:08:59.577185Z"
    }
   },
   "cell_type": "code",
   "source": "torch.round(y_pred_probs)",
   "id": "afcf5c82c62ffb06",
   "outputs": [
    {
     "data": {
      "text/plain": [
       "tensor([[0.],\n",
       "        [0.],\n",
       "        [0.],\n",
       "        ...,\n",
       "        [0.],\n",
       "        [0.],\n",
       "        [0.]])"
      ]
     },
     "execution_count": 246,
     "metadata": {},
     "output_type": "execute_result"
    }
   ],
   "execution_count": 246
  },
  {
   "metadata": {
    "ExecuteTime": {
     "end_time": "2025-10-04T15:08:59.671742Z",
     "start_time": "2025-10-04T15:08:59.647247Z"
    }
   },
   "cell_type": "code",
   "source": [
    "# find predicted labels\n",
    "y_preds = torch.round(y_pred_probs)\n",
    "\n",
    "# in full\n",
    "y_pred_labels = torch.round(torch.sigmoid(model_0(X_test.to(device))))\n",
    "\n",
    "# check for equality\n",
    "print(torch.eq(y_preds.squeeze(), y_pred_labels.squeeze()))\n",
    "\n",
    "# get rid of extra dimension\n",
    "y_preds.squeeze()"
   ],
   "id": "84d6d775c181d651",
   "outputs": [
    {
     "name": "stdout",
     "output_type": "stream",
     "text": [
      "tensor([True, True, True,  ..., True, True, True])\n"
     ]
    },
    {
     "data": {
      "text/plain": [
       "tensor([0., 0., 0.,  ..., 0., 0., 0.])"
      ]
     },
     "execution_count": 247,
     "metadata": {},
     "output_type": "execute_result"
    }
   ],
   "execution_count": 247
  },
  {
   "metadata": {
    "ExecuteTime": {
     "end_time": "2025-10-04T15:08:59.765462Z",
     "start_time": "2025-10-04T15:08:59.761615Z"
    }
   },
   "cell_type": "code",
   "source": "y_test[:5]",
   "id": "2e38461b05ad15b4",
   "outputs": [
    {
     "data": {
      "text/plain": [
       "tensor([1., 1., 0., 1., 1.])"
      ]
     },
     "execution_count": 248,
     "metadata": {},
     "output_type": "execute_result"
    }
   ],
   "execution_count": 248
  },
  {
   "metadata": {},
   "cell_type": "markdown",
   "source": "### Building a training loop and testing loop",
   "id": "972fc76bfda4b6ed"
  },
  {
   "metadata": {
    "ExecuteTime": {
     "end_time": "2025-10-04T15:09:59.597526Z",
     "start_time": "2025-10-04T15:08:59.778541Z"
    }
   },
   "cell_type": "code",
   "source": [
    "from sklearn.metrics import precision_score, recall_score, f1_score, roc_auc_score\n",
    "torch.manual_seed(42)\n",
    "torch.cuda.manual_seed(42)\n",
    "\n",
    "# Set the number of epochs\n",
    "epochs = 10000\n",
    "\n",
    "# Tracking loss and accuracy\n",
    "track_accuracy = []\n",
    "track_loss = []\n",
    "track_test_accuracy = []\n",
    "track_test_loss = []\n",
    "\n",
    "# Put data to target device\n",
    "X_train, y_train = X_train.to(device), y_train.to(device)\n",
    "X_test, y_test = X_test.to(device), y_test.to(device)\n",
    "\n",
    "for epoch in range(epochs):\n",
    "    ### Training\n",
    "    model_0.train()\n",
    "\n",
    "    # 1. Forward pass\n",
    "    y_logits = model_0(X_train).squeeze()\n",
    "    y_probs = torch.sigmoid(y_logits)\n",
    "    y_pred = torch.round(y_probs)  # turn logits into pred probs and into pred labels\n",
    "\n",
    "    # 2. Calculate the loss / cost\n",
    "    loss = loss_fn(y_logits, y_train)\n",
    "\n",
    "    acc = accuracy_fn(y_true=y_train.detach(), y_pred=y_pred.detach())\n",
    "    precision = precision_score(y_true=y_train.detach(), y_pred=y_pred.detach(), zero_division=0) * 100\n",
    "    recall = recall_score(y_true=y_train.detach(), y_pred=y_pred.detach(), zero_division=0) * 100\n",
    "    f1 = f1_score(y_true=y_train.detach(), y_pred=y_pred.detach(), zero_division=0) * 100\n",
    "    auc = roc_auc_score(y_true=y_train.detach(), y_score=y_probs.detach())\n",
    "    track_loss.append(loss.item())\n",
    "    acc = accuracy_fn(y_true=y_train, y_pred=y_pred)\n",
    "    track_accuracy.append(acc)\n",
    "\n",
    "    # 3. Optimizer zero grad\n",
    "    optimizer.zero_grad()\n",
    "\n",
    "    # 4. Backpropagation algorithm\n",
    "    loss.backward()\n",
    "\n",
    "    # 5. Gradient descent algorithm\n",
    "    optimizer.step()\n",
    "\n",
    "    ### Testing\n",
    "    model_0.eval()\n",
    "    with torch.inference_mode():\n",
    "        # 1. Forward pass\n",
    "        test_logits = model_0(X_test).squeeze()     # logits\n",
    "        test_probs = torch.sigmoid(test_logits)     # Probability\n",
    "        test_pred = torch.round(test_probs)         # 1 or 0\n",
    "\n",
    "        # 2. Calculate test loss/acc\n",
    "\n",
    "        test_loss = loss_fn(test_logits, y_test)\n",
    "        track_test_loss.append(test_loss.item())\n",
    "\n",
    "        test_acc = accuracy_fn(y_true=y_test, y_pred=test_pred)\n",
    "        test_precision = precision_score(y_true=y_test, y_pred=test_pred, zero_division=0) * 100\n",
    "        test_recall = recall_score(y_true=y_test, y_pred=test_pred, zero_division=0) * 100\n",
    "        test_f1 = f1_score(y_true=y_test, y_pred=test_pred, zero_division=0) * 100\n",
    "        test_auc = roc_auc_score(y_true=y_test, y_score=test_probs)\n",
    "        track_test_accuracy.append(test_acc)\n",
    "\n",
    "    # Print out what's happenin'\n",
    "    if epoch % 100 == 0 or epoch == 9999:\n",
    "        print(\n",
    "            f\"Epoch {epoch} \\n\"\n",
    "            f\" loss: {loss:.5f} | accuracy: {acc:.2f}% | Precision: {precision:.2f}% | Recall: {recall:.2f}% | f1: {f1:.2f}% | auc: {auc:.2f} \\n\"\n",
    "            f\"Test loss: {test_loss:.5f} | Test accuracy: {test_acc:.2f}% | Test precision: {test_precision:.2f}% | Test recall: {test_recall:.2f}% | Test f1: {test_f1:.2f}% | Test auc: {test_auc:.2f}\"\n",
    "            f\"Epoch {epoch} | loss: {loss:.5f}, accuracy: {acc:.2f}%, Test loss: {test_loss:.5f}, Test accuracy: {test_acc:.2f}% \\n\")"
   ],
   "id": "2613c30b4758881a",
   "outputs": [
    {
     "name": "stdout",
     "output_type": "stream",
     "text": [
      "Epoch 0 \n",
      " loss: 0.69464 | accuracy: 43.86% | Precision: 13.43% | Recall: 2.95% | f1: 4.84% | auc: 0.32 \n",
      "Test loss: 0.69545 | Test accuracy: 38.75% | Test precision: 14.83% | Test recall: 3.36% | Test f1: 5.48% | Test auc: 0.29Epoch 0 | loss: 0.69464, accuracy: 43.86%, Test loss: 0.69545, Test accuracy: 38.75% \n",
      "\n",
      "Epoch 100 \n",
      " loss: 0.69073 | accuracy: 51.64% | Precision: 0.00% | Recall: 0.00% | f1: 0.00% | auc: 0.62 \n",
      "Test loss: 0.69272 | Test accuracy: 47.17% | Test precision: 0.00% | Test recall: 0.00% | Test f1: 0.00% | Test auc: 0.62Epoch 100 | loss: 0.69073, accuracy: 51.64%, Test loss: 0.69272, Test accuracy: 47.17% \n",
      "\n",
      "Epoch 200 \n",
      " loss: 0.68737 | accuracy: 51.64% | Precision: 0.00% | Recall: 0.00% | f1: 0.00% | auc: 0.69 \n",
      "Test loss: 0.69012 | Test accuracy: 47.17% | Test precision: 0.00% | Test recall: 0.00% | Test f1: 0.00% | Test auc: 0.70Epoch 200 | loss: 0.68737, accuracy: 51.64%, Test loss: 0.69012, Test accuracy: 47.17% \n",
      "\n",
      "Epoch 300 \n",
      " loss: 0.68409 | accuracy: 51.64% | Precision: 0.00% | Recall: 0.00% | f1: 0.00% | auc: 0.71 \n",
      "Test loss: 0.68734 | Test accuracy: 47.17% | Test precision: 0.00% | Test recall: 0.00% | Test f1: 0.00% | Test auc: 0.72Epoch 300 | loss: 0.68409, accuracy: 51.64%, Test loss: 0.68734, Test accuracy: 47.17% \n",
      "\n",
      "Epoch 400 \n",
      " loss: 0.68060 | accuracy: 51.64% | Precision: 0.00% | Recall: 0.00% | f1: 0.00% | auc: 0.72 \n",
      "Test loss: 0.68416 | Test accuracy: 47.17% | Test precision: 0.00% | Test recall: 0.00% | Test f1: 0.00% | Test auc: 0.73Epoch 400 | loss: 0.68060, accuracy: 51.64%, Test loss: 0.68416, Test accuracy: 47.17% \n",
      "\n",
      "Epoch 500 \n",
      " loss: 0.67670 | accuracy: 51.64% | Precision: 0.00% | Recall: 0.00% | f1: 0.00% | auc: 0.72 \n",
      "Test loss: 0.68041 | Test accuracy: 47.17% | Test precision: 0.00% | Test recall: 0.00% | Test f1: 0.00% | Test auc: 0.74Epoch 500 | loss: 0.67670, accuracy: 51.64%, Test loss: 0.68041, Test accuracy: 47.17% \n",
      "\n",
      "Epoch 600 \n",
      " loss: 0.67221 | accuracy: 52.62% | Precision: 83.56% | Recall: 2.52% | f1: 4.89% | auc: 0.73 \n",
      "Test loss: 0.67599 | Test accuracy: 48.45% | Test precision: 84.00% | Test recall: 3.00% | Test f1: 5.80% | Test auc: 0.74Epoch 600 | loss: 0.67221, accuracy: 52.62%, Test loss: 0.67599, Test accuracy: 48.45% \n",
      "\n",
      "Epoch 700 \n",
      " loss: 0.66699 | accuracy: 57.21% | Precision: 76.88% | Recall: 16.47% | f1: 27.13% | auc: 0.73 \n",
      "Test loss: 0.67076 | Test accuracy: 53.32% | Test precision: 80.99% | Test recall: 15.23% | Test f1: 25.63% | Test auc: 0.75Epoch 700 | loss: 0.66699, accuracy: 57.21%, Test loss: 0.67076, Test accuracy: 53.32% \n",
      "\n",
      "Epoch 800 \n",
      " loss: 0.66089 | accuracy: 60.28% | Precision: 72.11% | Recall: 29.14% | f1: 41.51% | auc: 0.73 \n",
      "Test loss: 0.66455 | Test accuracy: 58.35% | Test precision: 79.25% | Test recall: 28.66% | Test f1: 42.10% | Test auc: 0.75Epoch 800 | loss: 0.66089, accuracy: 60.28%, Test loss: 0.66455, Test accuracy: 58.35% \n",
      "\n",
      "Epoch 900 \n",
      " loss: 0.65382 | accuracy: 61.69% | Precision: 69.21% | Recall: 37.44% | f1: 48.59% | auc: 0.73 \n",
      "Test loss: 0.65727 | Test accuracy: 61.18% | Test precision: 77.56% | Test recall: 37.31% | Test f1: 50.39% | Test auc: 0.75Epoch 900 | loss: 0.65382, accuracy: 61.69%, Test loss: 0.65727, Test accuracy: 61.18% \n",
      "\n",
      "Epoch 1000 \n",
      " loss: 0.64614 | accuracy: 63.18% | Precision: 68.16% | Recall: 44.77% | f1: 54.04% | auc: 0.74 \n",
      "Test loss: 0.64919 | Test accuracy: 63.07% | Test precision: 75.45% | Test recall: 44.60% | Test f1: 56.06% | Test auc: 0.75Epoch 1000 | loss: 0.64614, accuracy: 63.18%, Test loss: 0.64919, Test accuracy: 63.07% \n",
      "\n",
      "Epoch 1100 \n",
      " loss: 0.63801 | accuracy: 64.18% | Precision: 67.14% | Recall: 50.82% | f1: 57.85% | auc: 0.74 \n",
      "Test loss: 0.64046 | Test accuracy: 63.97% | Test precision: 73.70% | Test recall: 49.46% | Test f1: 59.20% | Test auc: 0.75Epoch 1100 | loss: 0.63801, accuracy: 64.18%, Test loss: 0.64046, Test accuracy: 63.97% \n",
      "\n",
      "Epoch 1200 \n",
      " loss: 0.62977 | accuracy: 64.69% | Precision: 66.18% | Recall: 55.21% | f1: 60.20% | auc: 0.74 \n",
      "Test loss: 0.63144 | Test accuracy: 64.95% | Test precision: 72.71% | Test recall: 53.90% | Test f1: 61.90% | Test auc: 0.76Epoch 1200 | loss: 0.62977, accuracy: 64.69%, Test loss: 0.63144, Test accuracy: 64.95% \n",
      "\n",
      "Epoch 1300 \n",
      " loss: 0.62188 | accuracy: 65.21% | Precision: 65.76% | Recall: 58.56% | f1: 61.95% | auc: 0.74 \n",
      "Test loss: 0.62261 | Test accuracy: 66.24% | Test precision: 72.85% | Test recall: 57.54% | Test f1: 64.30% | Test auc: 0.76Epoch 1300 | loss: 0.62188, accuracy: 65.21%, Test loss: 0.62261, Test accuracy: 66.24% \n",
      "\n",
      "Epoch 1400 \n",
      " loss: 0.61461 | accuracy: 67.09% | Precision: 66.45% | Recall: 64.52% | f1: 65.47% | auc: 0.74 \n",
      "Test loss: 0.61425 | Test accuracy: 66.77% | Test precision: 72.35% | Test recall: 60.04% | Test f1: 65.62% | Test auc: 0.76Epoch 1400 | loss: 0.61461, accuracy: 67.09%, Test loss: 0.61425, Test accuracy: 66.77% \n",
      "\n",
      "Epoch 1500 \n",
      " loss: 0.60811 | accuracy: 67.75% | Precision: 65.66% | Recall: 69.82% | f1: 67.68% | auc: 0.75 \n",
      "Test loss: 0.60655 | Test accuracy: 69.45% | Test precision: 72.48% | Test recall: 67.98% | Test f1: 70.16% | Test auc: 0.76Epoch 1500 | loss: 0.60811, accuracy: 67.75%, Test loss: 0.60655, Test accuracy: 69.45% \n",
      "\n",
      "Epoch 1600 \n",
      " loss: 0.60242 | accuracy: 68.65% | Precision: 65.83% | Recall: 73.13% | f1: 69.29% | auc: 0.75 \n",
      "Test loss: 0.59967 | Test accuracy: 70.43% | Test precision: 72.38% | Test recall: 71.19% | Test f1: 71.78% | Test auc: 0.76Epoch 1600 | loss: 0.60242, accuracy: 68.65%, Test loss: 0.59967, Test accuracy: 70.43% \n",
      "\n",
      "Epoch 1700 \n",
      " loss: 0.59752 | accuracy: 69.16% | Precision: 65.93% | Recall: 74.94% | f1: 70.15% | auc: 0.75 \n",
      "Test loss: 0.59359 | Test accuracy: 71.00% | Test precision: 72.30% | Test recall: 73.12% | Test f1: 72.71% | Test auc: 0.76Epoch 1700 | loss: 0.59752, accuracy: 69.16%, Test loss: 0.59359, Test accuracy: 71.00% \n",
      "\n",
      "Epoch 1800 \n",
      " loss: 0.59333 | accuracy: 69.31% | Precision: 65.78% | Recall: 76.16% | f1: 70.59% | auc: 0.75 \n",
      "Test loss: 0.58830 | Test accuracy: 71.15% | Test precision: 72.06% | Test recall: 74.12% | Test f1: 73.08% | Test auc: 0.77Epoch 1800 | loss: 0.59333, accuracy: 69.31%, Test loss: 0.58830, Test accuracy: 71.15% \n",
      "\n",
      "Epoch 1900 \n",
      " loss: 0.58977 | accuracy: 69.46% | Precision: 65.67% | Recall: 77.23% | f1: 70.99% | auc: 0.75 \n",
      "Test loss: 0.58376 | Test accuracy: 71.60% | Test precision: 72.02% | Test recall: 75.63% | Test f1: 73.78% | Test auc: 0.77Epoch 1900 | loss: 0.58977, accuracy: 69.46%, Test loss: 0.58376, Test accuracy: 71.60% \n",
      "\n",
      "Epoch 2000 \n",
      " loss: 0.58672 | accuracy: 69.66% | Precision: 65.64% | Recall: 78.20% | f1: 71.38% | auc: 0.76 \n",
      "Test loss: 0.57987 | Test accuracy: 72.13% | Test precision: 72.26% | Test recall: 76.70% | Test f1: 74.41% | Test auc: 0.77Epoch 2000 | loss: 0.58672, accuracy: 69.66%, Test loss: 0.57987, Test accuracy: 72.13% \n",
      "\n",
      "Epoch 2100 \n",
      " loss: 0.58411 | accuracy: 69.82% | Precision: 65.64% | Recall: 78.91% | f1: 71.67% | auc: 0.76 \n",
      "Test loss: 0.57651 | Test accuracy: 72.39% | Test precision: 72.30% | Test recall: 77.41% | Test f1: 74.77% | Test auc: 0.77Epoch 2100 | loss: 0.58411, accuracy: 69.82%, Test loss: 0.57651, Test accuracy: 72.39% \n",
      "\n",
      "Epoch 2200 \n",
      " loss: 0.58184 | accuracy: 70.05% | Precision: 65.73% | Recall: 79.57% | f1: 71.99% | auc: 0.76 \n",
      "Test loss: 0.57360 | Test accuracy: 72.62% | Test precision: 72.38% | Test recall: 77.91% | Test f1: 75.04% | Test auc: 0.77Epoch 2200 | loss: 0.58184, accuracy: 70.05%, Test loss: 0.57360, Test accuracy: 72.62% \n",
      "\n",
      "Epoch 2300 \n",
      " loss: 0.57984 | accuracy: 70.18% | Precision: 65.76% | Recall: 80.02% | f1: 72.19% | auc: 0.76 \n",
      "Test loss: 0.57107 | Test accuracy: 72.77% | Test precision: 72.42% | Test recall: 78.27% | Test f1: 75.23% | Test auc: 0.77Epoch 2300 | loss: 0.57984, accuracy: 70.18%, Test loss: 0.57107, Test accuracy: 72.77% \n",
      "\n",
      "Epoch 2400 \n",
      " loss: 0.57806 | accuracy: 70.40% | Precision: 65.89% | Recall: 80.45% | f1: 72.45% | auc: 0.76 \n",
      "Test loss: 0.56885 | Test accuracy: 72.89% | Test precision: 72.39% | Test recall: 78.70% | Test f1: 75.41% | Test auc: 0.78Epoch 2400 | loss: 0.57806, accuracy: 70.40%, Test loss: 0.56885, Test accuracy: 72.89% \n",
      "\n",
      "Epoch 2500 \n",
      " loss: 0.57646 | accuracy: 70.57% | Precision: 66.00% | Recall: 80.76% | f1: 72.64% | auc: 0.76 \n",
      "Test loss: 0.56688 | Test accuracy: 72.96% | Test precision: 72.25% | Test recall: 79.27% | Test f1: 75.60% | Test auc: 0.78Epoch 2500 | loss: 0.57646, accuracy: 70.57%, Test loss: 0.56688, Test accuracy: 72.96% \n",
      "\n",
      "Epoch 2600 \n",
      " loss: 0.57501 | accuracy: 70.71% | Precision: 66.06% | Recall: 81.14% | f1: 72.82% | auc: 0.77 \n",
      "Test loss: 0.56511 | Test accuracy: 73.07% | Test precision: 72.24% | Test recall: 79.63% | Test f1: 75.76% | Test auc: 0.78Epoch 2600 | loss: 0.57501, accuracy: 70.71%, Test loss: 0.56511, Test accuracy: 73.07% \n",
      "\n",
      "Epoch 2700 \n",
      " loss: 0.57368 | accuracy: 70.70% | Precision: 65.99% | Recall: 81.34% | f1: 72.87% | auc: 0.77 \n",
      "Test loss: 0.56352 | Test accuracy: 73.23% | Test precision: 72.37% | Test recall: 79.77% | Test f1: 75.89% | Test auc: 0.78Epoch 2700 | loss: 0.57368, accuracy: 70.70%, Test loss: 0.56352, Test accuracy: 73.23% \n",
      "\n",
      "Epoch 2800 \n",
      " loss: 0.57245 | accuracy: 70.74% | Precision: 65.99% | Recall: 81.53% | f1: 72.94% | auc: 0.77 \n",
      "Test loss: 0.56211 | Test accuracy: 73.00% | Test precision: 72.06% | Test recall: 79.84% | Test f1: 75.75% | Test auc: 0.78Epoch 2800 | loss: 0.57245, accuracy: 70.74%, Test loss: 0.56211, Test accuracy: 73.00% \n",
      "\n",
      "Epoch 2900 \n",
      " loss: 0.57130 | accuracy: 70.74% | Precision: 65.96% | Recall: 81.63% | f1: 72.96% | auc: 0.77 \n",
      "Test loss: 0.56081 | Test accuracy: 73.23% | Test precision: 72.14% | Test recall: 80.34% | Test f1: 76.02% | Test auc: 0.78Epoch 2900 | loss: 0.57130, accuracy: 70.74%, Test loss: 0.56081, Test accuracy: 73.23% \n",
      "\n",
      "Epoch 3000 \n",
      " loss: 0.57022 | accuracy: 70.83% | Precision: 66.03% | Recall: 81.73% | f1: 73.05% | auc: 0.77 \n",
      "Test loss: 0.55960 | Test accuracy: 73.07% | Test precision: 72.02% | Test recall: 80.20% | Test f1: 75.89% | Test auc: 0.78Epoch 3000 | loss: 0.57022, accuracy: 70.83%, Test loss: 0.55960, Test accuracy: 73.07% \n",
      "\n"
     ]
    },
    {
     "ename": "KeyboardInterrupt",
     "evalue": "",
     "output_type": "error",
     "traceback": [
      "\u001B[31m---------------------------------------------------------------------------\u001B[39m",
      "\u001B[31mKeyboardInterrupt\u001B[39m                         Traceback (most recent call last)",
      "\u001B[36mCell\u001B[39m\u001B[36m \u001B[39m\u001B[32mIn[249]\u001B[39m\u001B[32m, line 63\u001B[39m\n\u001B[32m     61\u001B[39m test_acc = accuracy_fn(y_true=y_test, y_pred=test_pred)\n\u001B[32m     62\u001B[39m test_precision = precision_score(y_true=y_test, y_pred=test_pred, zero_division=\u001B[32m0\u001B[39m) * \u001B[32m100\u001B[39m\n\u001B[32m---> \u001B[39m\u001B[32m63\u001B[39m test_recall = \u001B[43mrecall_score\u001B[49m\u001B[43m(\u001B[49m\u001B[43my_true\u001B[49m\u001B[43m=\u001B[49m\u001B[43my_test\u001B[49m\u001B[43m,\u001B[49m\u001B[43m \u001B[49m\u001B[43my_pred\u001B[49m\u001B[43m=\u001B[49m\u001B[43mtest_pred\u001B[49m\u001B[43m,\u001B[49m\u001B[43m \u001B[49m\u001B[43mzero_division\u001B[49m\u001B[43m=\u001B[49m\u001B[32;43m0\u001B[39;49m\u001B[43m)\u001B[49m * \u001B[32m100\u001B[39m\n\u001B[32m     64\u001B[39m test_f1 = f1_score(y_true=y_test, y_pred=test_pred, zero_division=\u001B[32m0\u001B[39m) * \u001B[32m100\u001B[39m\n\u001B[32m     65\u001B[39m test_auc = roc_auc_score(y_true=y_test, y_score=test_probs)\n",
      "\u001B[36mFile \u001B[39m\u001B[32m~/PycharmProjects/SpaceAppsExoplanets1/.venv/lib/python3.12/site-packages/sklearn/utils/_param_validation.py:218\u001B[39m, in \u001B[36mvalidate_params.<locals>.decorator.<locals>.wrapper\u001B[39m\u001B[34m(*args, **kwargs)\u001B[39m\n\u001B[32m    212\u001B[39m \u001B[38;5;28;01mtry\u001B[39;00m:\n\u001B[32m    213\u001B[39m     \u001B[38;5;28;01mwith\u001B[39;00m config_context(\n\u001B[32m    214\u001B[39m         skip_parameter_validation=(\n\u001B[32m    215\u001B[39m             prefer_skip_nested_validation \u001B[38;5;129;01mor\u001B[39;00m global_skip_validation\n\u001B[32m    216\u001B[39m         )\n\u001B[32m    217\u001B[39m     ):\n\u001B[32m--> \u001B[39m\u001B[32m218\u001B[39m         \u001B[38;5;28;01mreturn\u001B[39;00m \u001B[43mfunc\u001B[49m\u001B[43m(\u001B[49m\u001B[43m*\u001B[49m\u001B[43margs\u001B[49m\u001B[43m,\u001B[49m\u001B[43m \u001B[49m\u001B[43m*\u001B[49m\u001B[43m*\u001B[49m\u001B[43mkwargs\u001B[49m\u001B[43m)\u001B[49m\n\u001B[32m    219\u001B[39m \u001B[38;5;28;01mexcept\u001B[39;00m InvalidParameterError \u001B[38;5;28;01mas\u001B[39;00m e:\n\u001B[32m    220\u001B[39m     \u001B[38;5;66;03m# When the function is just a wrapper around an estimator, we allow\u001B[39;00m\n\u001B[32m    221\u001B[39m     \u001B[38;5;66;03m# the function to delegate validation to the estimator, but we replace\u001B[39;00m\n\u001B[32m    222\u001B[39m     \u001B[38;5;66;03m# the name of the estimator by the name of the function in the error\u001B[39;00m\n\u001B[32m    223\u001B[39m     \u001B[38;5;66;03m# message to avoid confusion.\u001B[39;00m\n\u001B[32m    224\u001B[39m     msg = re.sub(\n\u001B[32m    225\u001B[39m         \u001B[33mr\u001B[39m\u001B[33m\"\u001B[39m\u001B[33mparameter of \u001B[39m\u001B[33m\\\u001B[39m\u001B[33mw+ must be\u001B[39m\u001B[33m\"\u001B[39m,\n\u001B[32m    226\u001B[39m         \u001B[33mf\u001B[39m\u001B[33m\"\u001B[39m\u001B[33mparameter of \u001B[39m\u001B[38;5;132;01m{\u001B[39;00mfunc.\u001B[34m__qualname__\u001B[39m\u001B[38;5;132;01m}\u001B[39;00m\u001B[33m must be\u001B[39m\u001B[33m\"\u001B[39m,\n\u001B[32m    227\u001B[39m         \u001B[38;5;28mstr\u001B[39m(e),\n\u001B[32m    228\u001B[39m     )\n",
      "\u001B[36mFile \u001B[39m\u001B[32m~/PycharmProjects/SpaceAppsExoplanets1/.venv/lib/python3.12/site-packages/sklearn/metrics/_classification.py:2706\u001B[39m, in \u001B[36mrecall_score\u001B[39m\u001B[34m(y_true, y_pred, labels, pos_label, average, sample_weight, zero_division)\u001B[39m\n\u001B[32m   2537\u001B[39m \u001B[38;5;129m@validate_params\u001B[39m(\n\u001B[32m   2538\u001B[39m     {\n\u001B[32m   2539\u001B[39m         \u001B[33m\"\u001B[39m\u001B[33my_true\u001B[39m\u001B[33m\"\u001B[39m: [\u001B[33m\"\u001B[39m\u001B[33marray-like\u001B[39m\u001B[33m\"\u001B[39m, \u001B[33m\"\u001B[39m\u001B[33msparse matrix\u001B[39m\u001B[33m\"\u001B[39m],\n\u001B[32m   (...)\u001B[39m\u001B[32m   2564\u001B[39m     zero_division=\u001B[33m\"\u001B[39m\u001B[33mwarn\u001B[39m\u001B[33m\"\u001B[39m,\n\u001B[32m   2565\u001B[39m ):\n\u001B[32m   2566\u001B[39m \u001B[38;5;250m    \u001B[39m\u001B[33;03m\"\"\"Compute the recall.\u001B[39;00m\n\u001B[32m   2567\u001B[39m \n\u001B[32m   2568\u001B[39m \u001B[33;03m    The recall is the ratio ``tp / (tp + fn)`` where ``tp`` is the number of\u001B[39;00m\n\u001B[32m   (...)\u001B[39m\u001B[32m   2704\u001B[39m \u001B[33;03m    array([1. , 1. , 0.5])\u001B[39;00m\n\u001B[32m   2705\u001B[39m \u001B[33;03m    \"\"\"\u001B[39;00m\n\u001B[32m-> \u001B[39m\u001B[32m2706\u001B[39m     _, r, _, _ = \u001B[43mprecision_recall_fscore_support\u001B[49m\u001B[43m(\u001B[49m\n\u001B[32m   2707\u001B[39m \u001B[43m        \u001B[49m\u001B[43my_true\u001B[49m\u001B[43m,\u001B[49m\n\u001B[32m   2708\u001B[39m \u001B[43m        \u001B[49m\u001B[43my_pred\u001B[49m\u001B[43m,\u001B[49m\n\u001B[32m   2709\u001B[39m \u001B[43m        \u001B[49m\u001B[43mlabels\u001B[49m\u001B[43m=\u001B[49m\u001B[43mlabels\u001B[49m\u001B[43m,\u001B[49m\n\u001B[32m   2710\u001B[39m \u001B[43m        \u001B[49m\u001B[43mpos_label\u001B[49m\u001B[43m=\u001B[49m\u001B[43mpos_label\u001B[49m\u001B[43m,\u001B[49m\n\u001B[32m   2711\u001B[39m \u001B[43m        \u001B[49m\u001B[43maverage\u001B[49m\u001B[43m=\u001B[49m\u001B[43maverage\u001B[49m\u001B[43m,\u001B[49m\n\u001B[32m   2712\u001B[39m \u001B[43m        \u001B[49m\u001B[43mwarn_for\u001B[49m\u001B[43m=\u001B[49m\u001B[43m(\u001B[49m\u001B[33;43m\"\u001B[39;49m\u001B[33;43mrecall\u001B[39;49m\u001B[33;43m\"\u001B[39;49m\u001B[43m,\u001B[49m\u001B[43m)\u001B[49m\u001B[43m,\u001B[49m\n\u001B[32m   2713\u001B[39m \u001B[43m        \u001B[49m\u001B[43msample_weight\u001B[49m\u001B[43m=\u001B[49m\u001B[43msample_weight\u001B[49m\u001B[43m,\u001B[49m\n\u001B[32m   2714\u001B[39m \u001B[43m        \u001B[49m\u001B[43mzero_division\u001B[49m\u001B[43m=\u001B[49m\u001B[43mzero_division\u001B[49m\u001B[43m,\u001B[49m\n\u001B[32m   2715\u001B[39m \u001B[43m    \u001B[49m\u001B[43m)\u001B[49m\n\u001B[32m   2716\u001B[39m     \u001B[38;5;28;01mreturn\u001B[39;00m r\n",
      "\u001B[36mFile \u001B[39m\u001B[32m~/PycharmProjects/SpaceAppsExoplanets1/.venv/lib/python3.12/site-packages/sklearn/utils/_param_validation.py:191\u001B[39m, in \u001B[36mvalidate_params.<locals>.decorator.<locals>.wrapper\u001B[39m\u001B[34m(*args, **kwargs)\u001B[39m\n\u001B[32m    189\u001B[39m global_skip_validation = get_config()[\u001B[33m\"\u001B[39m\u001B[33mskip_parameter_validation\u001B[39m\u001B[33m\"\u001B[39m]\n\u001B[32m    190\u001B[39m \u001B[38;5;28;01mif\u001B[39;00m global_skip_validation:\n\u001B[32m--> \u001B[39m\u001B[32m191\u001B[39m     \u001B[38;5;28;01mreturn\u001B[39;00m \u001B[43mfunc\u001B[49m\u001B[43m(\u001B[49m\u001B[43m*\u001B[49m\u001B[43margs\u001B[49m\u001B[43m,\u001B[49m\u001B[43m \u001B[49m\u001B[43m*\u001B[49m\u001B[43m*\u001B[49m\u001B[43mkwargs\u001B[49m\u001B[43m)\u001B[49m\n\u001B[32m    193\u001B[39m func_sig = signature(func)\n\u001B[32m    195\u001B[39m \u001B[38;5;66;03m# Map *args/**kwargs to the function signature\u001B[39;00m\n",
      "\u001B[36mFile \u001B[39m\u001B[32m~/PycharmProjects/SpaceAppsExoplanets1/.venv/lib/python3.12/site-packages/sklearn/metrics/_classification.py:2000\u001B[39m, in \u001B[36mprecision_recall_fscore_support\u001B[39m\u001B[34m(y_true, y_pred, beta, labels, pos_label, average, warn_for, sample_weight, zero_division)\u001B[39m\n\u001B[32m   1998\u001B[39m \u001B[38;5;66;03m# Calculate tp_sum, pred_sum, true_sum ###\u001B[39;00m\n\u001B[32m   1999\u001B[39m samplewise = average == \u001B[33m\"\u001B[39m\u001B[33msamples\u001B[39m\u001B[33m\"\u001B[39m\n\u001B[32m-> \u001B[39m\u001B[32m2000\u001B[39m MCM = \u001B[43mmultilabel_confusion_matrix\u001B[49m\u001B[43m(\u001B[49m\n\u001B[32m   2001\u001B[39m \u001B[43m    \u001B[49m\u001B[43my_true\u001B[49m\u001B[43m,\u001B[49m\n\u001B[32m   2002\u001B[39m \u001B[43m    \u001B[49m\u001B[43my_pred\u001B[49m\u001B[43m,\u001B[49m\n\u001B[32m   2003\u001B[39m \u001B[43m    \u001B[49m\u001B[43msample_weight\u001B[49m\u001B[43m=\u001B[49m\u001B[43msample_weight\u001B[49m\u001B[43m,\u001B[49m\n\u001B[32m   2004\u001B[39m \u001B[43m    \u001B[49m\u001B[43mlabels\u001B[49m\u001B[43m=\u001B[49m\u001B[43mlabels\u001B[49m\u001B[43m,\u001B[49m\n\u001B[32m   2005\u001B[39m \u001B[43m    \u001B[49m\u001B[43msamplewise\u001B[49m\u001B[43m=\u001B[49m\u001B[43msamplewise\u001B[49m\u001B[43m,\u001B[49m\n\u001B[32m   2006\u001B[39m \u001B[43m\u001B[49m\u001B[43m)\u001B[49m\n\u001B[32m   2007\u001B[39m tp_sum = MCM[:, \u001B[32m1\u001B[39m, \u001B[32m1\u001B[39m]\n\u001B[32m   2008\u001B[39m pred_sum = tp_sum + MCM[:, \u001B[32m0\u001B[39m, \u001B[32m1\u001B[39m]\n",
      "\u001B[36mFile \u001B[39m\u001B[32m~/PycharmProjects/SpaceAppsExoplanets1/.venv/lib/python3.12/site-packages/sklearn/utils/_param_validation.py:191\u001B[39m, in \u001B[36mvalidate_params.<locals>.decorator.<locals>.wrapper\u001B[39m\u001B[34m(*args, **kwargs)\u001B[39m\n\u001B[32m    189\u001B[39m global_skip_validation = get_config()[\u001B[33m\"\u001B[39m\u001B[33mskip_parameter_validation\u001B[39m\u001B[33m\"\u001B[39m]\n\u001B[32m    190\u001B[39m \u001B[38;5;28;01mif\u001B[39;00m global_skip_validation:\n\u001B[32m--> \u001B[39m\u001B[32m191\u001B[39m     \u001B[38;5;28;01mreturn\u001B[39;00m \u001B[43mfunc\u001B[49m\u001B[43m(\u001B[49m\u001B[43m*\u001B[49m\u001B[43margs\u001B[49m\u001B[43m,\u001B[49m\u001B[43m \u001B[49m\u001B[43m*\u001B[49m\u001B[43m*\u001B[49m\u001B[43mkwargs\u001B[49m\u001B[43m)\u001B[49m\n\u001B[32m    193\u001B[39m func_sig = signature(func)\n\u001B[32m    195\u001B[39m \u001B[38;5;66;03m# Map *args/**kwargs to the function signature\u001B[39;00m\n",
      "\u001B[36mFile \u001B[39m\u001B[32m~/PycharmProjects/SpaceAppsExoplanets1/.venv/lib/python3.12/site-packages/sklearn/metrics/_classification.py:666\u001B[39m, in \u001B[36mmultilabel_confusion_matrix\u001B[39m\u001B[34m(y_true, y_pred, sample_weight, labels, samplewise)\u001B[39m\n\u001B[32m    663\u001B[39m \u001B[38;5;28;01mif\u001B[39;00m y_type \u001B[38;5;129;01mnot\u001B[39;00m \u001B[38;5;129;01min\u001B[39;00m (\u001B[33m\"\u001B[39m\u001B[33mbinary\u001B[39m\u001B[33m\"\u001B[39m, \u001B[33m\"\u001B[39m\u001B[33mmulticlass\u001B[39m\u001B[33m\"\u001B[39m, \u001B[33m\"\u001B[39m\u001B[33mmultilabel-indicator\u001B[39m\u001B[33m\"\u001B[39m):\n\u001B[32m    664\u001B[39m     \u001B[38;5;28;01mraise\u001B[39;00m \u001B[38;5;167;01mValueError\u001B[39;00m(\u001B[33m\"\u001B[39m\u001B[38;5;132;01m%s\u001B[39;00m\u001B[33m is not supported\u001B[39m\u001B[33m\"\u001B[39m % y_type)\n\u001B[32m--> \u001B[39m\u001B[32m666\u001B[39m present_labels = \u001B[43munique_labels\u001B[49m\u001B[43m(\u001B[49m\u001B[43my_true\u001B[49m\u001B[43m,\u001B[49m\u001B[43m \u001B[49m\u001B[43my_pred\u001B[49m\u001B[43m)\u001B[49m\n\u001B[32m    667\u001B[39m \u001B[38;5;28;01mif\u001B[39;00m labels \u001B[38;5;129;01mis\u001B[39;00m \u001B[38;5;28;01mNone\u001B[39;00m:\n\u001B[32m    668\u001B[39m     labels = present_labels\n",
      "\u001B[36mFile \u001B[39m\u001B[32m~/PycharmProjects/SpaceAppsExoplanets1/.venv/lib/python3.12/site-packages/sklearn/utils/multiclass.py:79\u001B[39m, in \u001B[36munique_labels\u001B[39m\u001B[34m(*ys)\u001B[39m\n\u001B[32m     76\u001B[39m     \u001B[38;5;28;01mraise\u001B[39;00m \u001B[38;5;167;01mValueError\u001B[39;00m(\u001B[33m\"\u001B[39m\u001B[33mNo argument has been passed.\u001B[39m\u001B[33m\"\u001B[39m)\n\u001B[32m     77\u001B[39m \u001B[38;5;66;03m# Check that we don't mix label format\u001B[39;00m\n\u001B[32m---> \u001B[39m\u001B[32m79\u001B[39m ys_types = \u001B[38;5;28;43mset\u001B[39;49m\u001B[43m(\u001B[49m\u001B[43mtype_of_target\u001B[49m\u001B[43m(\u001B[49m\u001B[43mx\u001B[49m\u001B[43m)\u001B[49m\u001B[43m \u001B[49m\u001B[38;5;28;43;01mfor\u001B[39;49;00m\u001B[43m \u001B[49m\u001B[43mx\u001B[49m\u001B[43m \u001B[49m\u001B[38;5;129;43;01min\u001B[39;49;00m\u001B[43m \u001B[49m\u001B[43mys\u001B[49m\u001B[43m)\u001B[49m\n\u001B[32m     80\u001B[39m \u001B[38;5;28;01mif\u001B[39;00m ys_types == {\u001B[33m\"\u001B[39m\u001B[33mbinary\u001B[39m\u001B[33m\"\u001B[39m, \u001B[33m\"\u001B[39m\u001B[33mmulticlass\u001B[39m\u001B[33m\"\u001B[39m}:\n\u001B[32m     81\u001B[39m     ys_types = {\u001B[33m\"\u001B[39m\u001B[33mmulticlass\u001B[39m\u001B[33m\"\u001B[39m}\n",
      "\u001B[36mFile \u001B[39m\u001B[32m~/PycharmProjects/SpaceAppsExoplanets1/.venv/lib/python3.12/site-packages/sklearn/utils/multiclass.py:79\u001B[39m, in \u001B[36m<genexpr>\u001B[39m\u001B[34m(.0)\u001B[39m\n\u001B[32m     76\u001B[39m     \u001B[38;5;28;01mraise\u001B[39;00m \u001B[38;5;167;01mValueError\u001B[39;00m(\u001B[33m\"\u001B[39m\u001B[33mNo argument has been passed.\u001B[39m\u001B[33m\"\u001B[39m)\n\u001B[32m     77\u001B[39m \u001B[38;5;66;03m# Check that we don't mix label format\u001B[39;00m\n\u001B[32m---> \u001B[39m\u001B[32m79\u001B[39m ys_types = \u001B[38;5;28mset\u001B[39m(\u001B[43mtype_of_target\u001B[49m\u001B[43m(\u001B[49m\u001B[43mx\u001B[49m\u001B[43m)\u001B[49m \u001B[38;5;28;01mfor\u001B[39;00m x \u001B[38;5;129;01min\u001B[39;00m ys)\n\u001B[32m     80\u001B[39m \u001B[38;5;28;01mif\u001B[39;00m ys_types == {\u001B[33m\"\u001B[39m\u001B[33mbinary\u001B[39m\u001B[33m\"\u001B[39m, \u001B[33m\"\u001B[39m\u001B[33mmulticlass\u001B[39m\u001B[33m\"\u001B[39m}:\n\u001B[32m     81\u001B[39m     ys_types = {\u001B[33m\"\u001B[39m\u001B[33mmulticlass\u001B[39m\u001B[33m\"\u001B[39m}\n",
      "\u001B[36mFile \u001B[39m\u001B[32m~/PycharmProjects/SpaceAppsExoplanets1/.venv/lib/python3.12/site-packages/sklearn/utils/multiclass.py:409\u001B[39m, in \u001B[36mtype_of_target\u001B[39m\u001B[34m(y, input_name, raise_unknown)\u001B[39m\n\u001B[32m    406\u001B[39m \u001B[38;5;28;01mif\u001B[39;00m xp.isdtype(y.dtype, \u001B[33m\"\u001B[39m\u001B[33mreal floating\u001B[39m\u001B[33m\"\u001B[39m):\n\u001B[32m    407\u001B[39m     \u001B[38;5;66;03m# [.1, .2, 3] or [[.1, .2, 3]] or [[1., .2]] and not [1., 2., 3.]\u001B[39;00m\n\u001B[32m    408\u001B[39m     data = y.data \u001B[38;5;28;01mif\u001B[39;00m issparse(y) \u001B[38;5;28;01melse\u001B[39;00m y\n\u001B[32m--> \u001B[39m\u001B[32m409\u001B[39m     \u001B[38;5;28;01mif\u001B[39;00m \u001B[43mxp\u001B[49m\u001B[43m.\u001B[49m\u001B[43many\u001B[49m\u001B[43m(\u001B[49m\u001B[43mdata\u001B[49m\u001B[43m \u001B[49m\u001B[43m!=\u001B[49m\u001B[43m \u001B[49m\u001B[43mxp\u001B[49m\u001B[43m.\u001B[49m\u001B[43mastype\u001B[49m\u001B[43m(\u001B[49m\u001B[43mdata\u001B[49m\u001B[43m,\u001B[49m\u001B[43m \u001B[49m\u001B[38;5;28;43mint\u001B[39;49m\u001B[43m)\u001B[49m\u001B[43m)\u001B[49m:\n\u001B[32m    410\u001B[39m         _assert_all_finite(data, input_name=input_name)\n\u001B[32m    411\u001B[39m         \u001B[38;5;28;01mreturn\u001B[39;00m \u001B[33m\"\u001B[39m\u001B[33mcontinuous\u001B[39m\u001B[33m\"\u001B[39m + suffix\n",
      "\u001B[36mFile \u001B[39m\u001B[32m~/PycharmProjects/SpaceAppsExoplanets1/.venv/lib/python3.12/site-packages/numpy/_core/fromnumeric.py:2580\u001B[39m, in \u001B[36many\u001B[39m\u001B[34m(a, axis, out, keepdims, where)\u001B[39m\n\u001B[32m   2477\u001B[39m \u001B[38;5;129m@array_function_dispatch\u001B[39m(_any_dispatcher)\n\u001B[32m   2478\u001B[39m \u001B[38;5;28;01mdef\u001B[39;00m\u001B[38;5;250m \u001B[39m\u001B[34many\u001B[39m(a, axis=\u001B[38;5;28;01mNone\u001B[39;00m, out=\u001B[38;5;28;01mNone\u001B[39;00m, keepdims=np._NoValue, *, where=np._NoValue):\n\u001B[32m   2479\u001B[39m \u001B[38;5;250m    \u001B[39m\u001B[33;03m\"\"\"\u001B[39;00m\n\u001B[32m   2480\u001B[39m \u001B[33;03m    Test whether any array element along a given axis evaluates to True.\u001B[39;00m\n\u001B[32m   2481\u001B[39m \n\u001B[32m   (...)\u001B[39m\u001B[32m   2578\u001B[39m \n\u001B[32m   2579\u001B[39m \u001B[33;03m    \"\"\"\u001B[39;00m\n\u001B[32m-> \u001B[39m\u001B[32m2580\u001B[39m     \u001B[38;5;28;01mreturn\u001B[39;00m \u001B[43m_wrapreduction_any_all\u001B[49m\u001B[43m(\u001B[49m\u001B[43ma\u001B[49m\u001B[43m,\u001B[49m\u001B[43m \u001B[49m\u001B[43mnp\u001B[49m\u001B[43m.\u001B[49m\u001B[43mlogical_or\u001B[49m\u001B[43m,\u001B[49m\u001B[43m \u001B[49m\u001B[33;43m'\u001B[39;49m\u001B[33;43many\u001B[39;49m\u001B[33;43m'\u001B[39;49m\u001B[43m,\u001B[49m\u001B[43m \u001B[49m\u001B[43maxis\u001B[49m\u001B[43m,\u001B[49m\u001B[43m \u001B[49m\u001B[43mout\u001B[49m\u001B[43m,\u001B[49m\n\u001B[32m   2581\u001B[39m \u001B[43m                                  \u001B[49m\u001B[43mkeepdims\u001B[49m\u001B[43m=\u001B[49m\u001B[43mkeepdims\u001B[49m\u001B[43m,\u001B[49m\u001B[43m \u001B[49m\u001B[43mwhere\u001B[49m\u001B[43m=\u001B[49m\u001B[43mwhere\u001B[49m\u001B[43m)\u001B[49m\n",
      "\u001B[36mFile \u001B[39m\u001B[32m~/PycharmProjects/SpaceAppsExoplanets1/.venv/lib/python3.12/site-packages/numpy/_core/fromnumeric.py:89\u001B[39m, in \u001B[36m_wrapreduction_any_all\u001B[39m\u001B[34m(obj, ufunc, method, axis, out, **kwargs)\u001B[39m\n\u001B[32m     84\u001B[39m                 \u001B[38;5;28;01mreturn\u001B[39;00m reduction(axis=axis, out=out, **passkwargs)\n\u001B[32m     86\u001B[39m     \u001B[38;5;28;01mreturn\u001B[39;00m ufunc.reduce(obj, axis, dtype, out, **passkwargs)\n\u001B[32m---> \u001B[39m\u001B[32m89\u001B[39m \u001B[38;5;28;01mdef\u001B[39;00m\u001B[38;5;250m \u001B[39m\u001B[34m_wrapreduction_any_all\u001B[39m(obj, ufunc, method, axis, out, **kwargs):\n\u001B[32m     90\u001B[39m     \u001B[38;5;66;03m# Same as above function, but dtype is always bool (but never passed on)\u001B[39;00m\n\u001B[32m     91\u001B[39m     passkwargs = {k: v \u001B[38;5;28;01mfor\u001B[39;00m k, v \u001B[38;5;129;01min\u001B[39;00m kwargs.items()\n\u001B[32m     92\u001B[39m                   \u001B[38;5;28;01mif\u001B[39;00m v \u001B[38;5;129;01mis\u001B[39;00m \u001B[38;5;129;01mnot\u001B[39;00m np._NoValue}\n\u001B[32m     94\u001B[39m     \u001B[38;5;28;01mif\u001B[39;00m \u001B[38;5;28mtype\u001B[39m(obj) \u001B[38;5;129;01mis\u001B[39;00m \u001B[38;5;129;01mnot\u001B[39;00m mu.ndarray:\n",
      "\u001B[31mKeyboardInterrupt\u001B[39m: "
     ]
    }
   ],
   "execution_count": 249
  },
  {
   "metadata": {},
   "cell_type": "markdown",
   "source": "# Tracking Accuracy",
   "id": "c4e70490bfd875d"
  },
  {
   "metadata": {},
   "cell_type": "code",
   "outputs": [],
   "execution_count": null,
   "source": [
    "import matplotlib.pyplot as plt\n",
    "\n",
    "epoch_range = range(1, epochs + 1)\n",
    "\n",
    "plt.figure(figsize=(12, 5))\n",
    "\n",
    "# Accuracy\n",
    "plt.subplot(1, 2, 1)\n",
    "plt.plot(epoch_range, track_accuracy, label='Train Accuracy')\n",
    "plt.plot(epoch_range, track_test_accuracy, label='Test Accuracy')\n",
    "plt.title('Model Accuracy')\n",
    "plt.xlabel('Epoch')\n",
    "plt.ylabel('Accuracy (%)')\n",
    "plt.legend()\n",
    "plt.grid(True)\n",
    "\n",
    "# Loss\n",
    "plt.subplot(1, 2, 2)\n",
    "plt.plot(epoch_range, track_loss, label='Train Loss')\n",
    "plt.plot(epoch_range, track_test_loss, label='Test Loss')\n",
    "plt.title('Model Loss')\n",
    "plt.xlabel('Epoch')\n",
    "plt.ylabel('Loss')\n",
    "plt.legend()\n",
    "plt.grid(True)\n",
    "\n",
    "plt.tight_layout()\n",
    "plt.show()\n"
   ],
   "id": "f690179bd0b2f256"
  },
  {
   "metadata": {},
   "cell_type": "markdown",
   "source": [
    "# Saving and loading already trained Model\n",
    "\n",
    "Creating template / method for effective saving already trained model, so user don't have to wait for it to finish training before usage."
   ],
   "id": "4f7d6786f4d7f3f1"
  },
  {
   "metadata": {},
   "cell_type": "code",
   "outputs": [],
   "execution_count": null,
   "source": [
    "# Saving our PyTorch model\n",
    "from pathlib import Path\n",
    "\n",
    "# 1. Create models directory if it doesn't exist yet\n",
    "MODEL_PATH = Path(\"models\")\n",
    "MODEL_PATH.mkdir(parents = True, exist_ok = True)\n",
    "\n",
    "# 2. Create model save path\n",
    "MODEL_NAME = \"nn_exoplanets0.pth\"\n",
    "MODEL_SAVE_PATH = MODEL_PATH / MODEL_NAME\n",
    "\n",
    "# 3. Save the model state dict\n",
    "print(f\"Saving model to: {MODEL_SAVE_PATH}\")\n",
    "torch.save(obj = model_0.state_dict(),\n",
    "           f = MODEL_SAVE_PATH)"
   ],
   "id": "a4480b845dfabf64"
  },
  {
   "metadata": {},
   "cell_type": "code",
   "outputs": [],
   "execution_count": null,
   "source": "!ls -l models",
   "id": "ded3303cc890afb0"
  },
  {
   "metadata": {},
   "cell_type": "markdown",
   "source": [
    "### Loading Trained model\n",
    "\n"
   ],
   "id": "ed1d0e473c817e79"
  },
  {
   "metadata": {},
   "cell_type": "code",
   "outputs": [],
   "execution_count": null,
   "source": [
    "# To load in a saved state_dict we have to instantiate a new instace of our model class\n",
    "loaded_model_0 = ExoplanetsV0(input_features = 18, output_features = 1, hidden_units = 64)\n",
    "\n",
    "#Load the saved state_dict of model_0 (update the new instance with old parameters\n",
    "loaded_model_0.load_state_dict(torch.load(f = MODEL_SAVE_PATH))"
   ],
   "id": "395bc06e15fe99b"
  },
  {
   "metadata": {},
   "cell_type": "code",
   "outputs": [],
   "execution_count": null,
   "source": [
    "loaded_model_0.eval()\n",
    "with torch.inference_mode():\n",
    "    loaded_logits = loaded_model_0(X_test.to(device))\n",
    "    loaded_pred_probs = torch.sigmoid(loaded_logits)\n",
    "    loaded_preds = torch.round(loaded_pred_probs)\n",
    "\n",
    "loaded_preds"
   ],
   "id": "dd77c094fcd76dc0"
  },
  {
   "metadata": {},
   "cell_type": "code",
   "outputs": [],
   "execution_count": null,
   "source": "loaded_preds == y_preds",
   "id": "d71c63a30479de06"
  },
  {
   "metadata": {},
   "cell_type": "code",
   "outputs": [],
   "execution_count": null,
   "source": "loaded_preds, y_preds",
   "id": "7e3520af50af7c9c"
  },
  {
   "metadata": {},
   "cell_type": "markdown",
   "source": "# Looking for mistakes",
   "id": "d657a509011a429d"
  },
  {
   "metadata": {},
   "cell_type": "markdown",
   "source": "### Balance between classes",
   "id": "df63a92dc34732d8"
  },
  {
   "metadata": {},
   "cell_type": "code",
   "outputs": [],
   "execution_count": null,
   "source": [
    "print(\"class distribution y:\")\n",
    "print(f\"Confirmed (1): {(y == 1).sum()} - {((y == 1).sum() / len(y)) * 100:.2f}%\")\n",
    "print(f\"False Positive (0): {(y == 0).sum()} - {((y == 0).sum() / len(y)) * 100:.2f}%\")"
   ],
   "id": "3224f77ba0104ad8"
  },
  {
   "metadata": {},
   "cell_type": "markdown",
   "source": [
    "#### Fix 1. Using wage in loss_fn\n",
    "\n",
    "Using wage in BCEWithLogitsLoss()"
   ],
   "id": "bde122bb25eb22ad"
  },
  {
   "metadata": {},
   "cell_type": "markdown",
   "source": "#### Fix 2. Using fake data to check if model is learning anything",
   "id": "4e6fc530eacd9c86"
  },
  {
   "metadata": {},
   "cell_type": "code",
   "outputs": [],
   "execution_count": null,
   "source": [
    "import numpy as np\n",
    "import torch\n",
    "from sklearn.datasets import make_classification\n",
    "\n",
    "# Stwórz sztuczne dane które NA PEWNO są przewidywalne\n",
    "X_easy, y_easy = make_classification(\n",
    "    n_samples=2000,\n",
    "    n_features=10,\n",
    "    n_informative=8,  # 8 użytecznych features\n",
    "    n_redundant=2,  # 2 zbędne features\n",
    "    n_clusters_per_class=1,\n",
    "    random_state=42\n",
    ")\n",
    "\n",
    "# Konwersja do tensorów\n",
    "X_easy_tensor = torch.from_numpy(X_easy).float()\n",
    "y_easy_tensor = torch.from_numpy(y_easy).float()\n",
    "\n",
    "print(f\"Easy data - X: {X_easy_tensor.shape}, y: {y_easy_tensor.shape}\")\n",
    "print(f\"Class balance: {y_easy.mean():.3f} positive\")"
   ],
   "id": "f9539873a26ddf04"
  },
  {
   "metadata": {},
   "cell_type": "code",
   "outputs": [],
   "execution_count": null,
   "source": [
    "# Test on easy data\n",
    "def test_your_model():\n",
    "    # Generate easy data (18 features like in  original data)\n",
    "    X_easy, y_easy = make_classification(\n",
    "        n_samples=2000,\n",
    "        n_features=18,  # SAME AS IN DATA\n",
    "        n_informative=16,  # Most features are useful\n",
    "        n_redundant=2,\n",
    "        n_clusters_per_class=1,\n",
    "        random_state=42,\n",
    "        flip_y=0.01  # Only 1% noise\n",
    "    )\n",
    "\n",
    "    # Convert to tensors -\n",
    "    X_easy_tensor = torch.from_numpy(X_easy).float()\n",
    "    y_easy_tensor = torch.from_numpy(y_easy).float()\n",
    "\n",
    "    # Train/test split\n",
    "    split_idx = int(0.8 * len(X_easy_tensor))\n",
    "    X_train = X_easy_tensor[:split_idx]\n",
    "    X_test = X_easy_tensor[split_idx:]\n",
    "    y_train = y_easy_tensor[:split_idx]\n",
    "    y_test = y_easy_tensor[split_idx:]\n",
    "\n",
    "    # USE EXACT MODEL\n",
    "    model = ExoplanetsV0(input_features=18, output_features=1, hidden_units=128)\n",
    "\n",
    "    # USED HYPERPARAMETERS (you can also test different ones)\n",
    "    optimizer = torch.optim.SGD(params=model.parameters(), lr=0.01)  # optimizer\n",
    "    loss_fn = nn.BCEWithLogitsLoss()  # loss function\n",
    "\n",
    "    print(\"=== TESTING YOUR MODEL ON EASY DATA ===\")\n",
    "    print(f\"Model: {model}\")\n",
    "    print(f\"Optimizer: SGD lr=0.01\")\n",
    "    print(f\"Data: {X_train.shape} -> {y_train.shape}\")\n",
    "\n",
    "    # Training\n",
    "    for epoch in range(100):\n",
    "        model.train()\n",
    "        optimizer.zero_grad()\n",
    "\n",
    "        # Forward pass\n",
    "        y_logits = model(X_train).squeeze()\n",
    "\n",
    "        # prediction logic\n",
    "        y_pred = torch.round(torch.sigmoid(y_logits))\n",
    "\n",
    "        # Loss\n",
    "        loss = loss_fn(y_logits, y_train)  # BCEWithLogitsLoss with logits\n",
    "        acc = (y_pred == y_train).float().mean()\n",
    "\n",
    "        # Backward\n",
    "        loss.backward()\n",
    "        optimizer.step()\n",
    "\n",
    "        # Test every 20 epochs\n",
    "        if epoch % 20 == 0:\n",
    "            model.eval()\n",
    "            with torch.no_grad():\n",
    "                test_logits = model(X_test).squeeze()\n",
    "                test_pred = torch.round(torch.sigmoid(test_logits))\n",
    "                test_loss = loss_fn(test_logits, y_test)\n",
    "                test_acc = (test_pred == y_test).float().mean()\n",
    "\n",
    "            print(\n",
    "                f\"Epoch {epoch:3d} | Train Loss: {loss:.4f}, Acc: {acc:.4f} | Test Loss: {test_loss:.4f}, Acc: {test_acc:.4f}\")\n",
    "\n",
    "    final_test_acc = (test_pred == y_test).float().mean()\n",
    "    print(f\"\\n FINAL TEST ACCURACY: {final_test_acc:.4f}\")\n",
    "\n",
    "    if final_test_acc > 0.85:\n",
    "        print(\"MODEL WORKS CORRECTLY - problem is in KEPLER DATA\")\n",
    "        return True\n",
    "    elif final_test_acc > 0.6:\n",
    "        print(\"MODEL WORKS POORLY - possible architecture problem\")\n",
    "        return False\n",
    "    else:\n",
    "        print(\"MODEL DOESN'T WORK - problem in IMPLEMENTATION\")\n",
    "        return False\n",
    "\n",
    "\n",
    "# Run test\n",
    "print(\"Testing YOUR exact model on easy data...\")\n",
    "model_works = test_your_model()"
   ],
   "id": "101be04fe0eaccd9"
  },
  {
   "metadata": {},
   "cell_type": "markdown",
   "source": [
    "### Conclusion\n",
    "\n",
    "Problem in `Sigmoid()` in `nn.Sequential`. Sigmoid should be used to round when we want to convert logits > probs > labels, it was affecting final answer when used in wrong place.\n",
    "\n",
    "Model can achieve ~60% accuracy on Dataset, let's try wages now, with working implementation. -> Model achieves over 90% accuracy."
   ],
   "id": "a55f01255e874a85"
  },
  {
   "metadata": {},
   "cell_type": "markdown",
   "source": [
    "### Observations\n",
    "\n",
    "* When applied change and increased number of hidden layers\n",
    "    * `Linear>ReLU>Linear>ReLU>Linear>` -> `Linear>ReLU>Linear>ReLU>Linear>ReLU>Linear` accuracy dropped to 60,5% and model wasn't learning"
   ],
   "id": "9c013317b47ff2d4"
  },
  {
   "metadata": {},
   "cell_type": "code",
   "outputs": [],
   "execution_count": null,
   "source": "",
   "id": "27e0d4d594820f25"
  }
 ],
 "metadata": {
  "kernelspec": {
   "display_name": "Python 3",
   "language": "python",
   "name": "python3"
  },
  "language_info": {
   "codemirror_mode": {
    "name": "ipython",
    "version": 2
   },
   "file_extension": ".py",
   "mimetype": "text/x-python",
   "name": "python",
   "nbconvert_exporter": "python",
   "pygments_lexer": "ipython2",
   "version": "2.7.6"
  }
 },
 "nbformat": 4,
 "nbformat_minor": 5
}
