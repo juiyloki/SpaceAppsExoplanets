{
 "cells": [
  {
   "cell_type": "code",
   "execution_count": 5,
   "id": "a36a0f07",
   "metadata": {},
   "outputs": [
    {
     "name": "stdout",
     "output_type": "stream",
     "text": [
      "Test ROC AUC: 0.8510459547051509\n"
     ]
    }
   ],
   "source": [
    "import numpy as np, pandas as pd\n",
    "from sklearn.model_selection import GroupKFold, cross_validate\n",
    "from sklearn.pipeline import Pipeline\n",
    "from sklearn.linear_model import LogisticRegression\n",
    "\n",
    "# Load the data\n",
    "X_train = pd.read_csv(\"X_train_imputed_scaled.csv\", index_col=0)\n",
    "X_test = pd.read_csv(\"X_test_imputed_scaled.csv\",  index_col=0)\n",
    "y_train = pd.read_csv(\"y_train.csv\", index_col=0)[\"label\"]\n",
    "y_test = pd.read_csv(\"y_test.csv\",  index_col=0)[\"label\"]\n",
    "groups = pd.read_csv(\"groups.csv\", index_col=0)[\"star_key\"]\n",
    "\n",
    "# Exemplary pipeline with a model\n",
    "pipe = Pipeline([\n",
    "    (\"clf\", LogisticRegression(max_iter=2000, solver=\"lbfgs\"))\n",
    "])\n",
    "\n",
    "kf = GroupKFold(n_splits=5)\n",
    "scores = cross_validate(pipe, X_train, y_train, cv=kf, scoring=[\"f1\",\"roc_auc\",\"average_precision\"], n_jobs=-1, groups=groups)\n",
    "\n",
    "pipe.fit(X_train, y_train)\n",
    "print(\"Test ROC AUC:\", __import__(\"sklearn.metrics\").metrics.roc_auc_score(y_test, pipe.predict_proba(X_test)[:,1]))\n"
   ]
  }
 ],
 "metadata": {
  "kernelspec": {
   "display_name": "base",
   "language": "python",
   "name": "python3"
  },
  "language_info": {
   "codemirror_mode": {
    "name": "ipython",
    "version": 3
   },
   "file_extension": ".py",
   "mimetype": "text/x-python",
   "name": "python",
   "nbconvert_exporter": "python",
   "pygments_lexer": "ipython3",
   "version": "3.12.7"
  }
 },
 "nbformat": 4,
 "nbformat_minor": 5
}
