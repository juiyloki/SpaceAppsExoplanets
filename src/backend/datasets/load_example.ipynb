{
 "cells": [
  {
   "cell_type": "code",
   "execution_count": 1,
   "id": "a36a0f07",
   "metadata": {},
   "outputs": [],
   "source": [
    "import pandas as pd\n",
    "from sklearn.model_selection import StratifiedGroupKFold, cross_validate\n",
    "from sklearn.linear_model import LogisticRegression\n",
    "\n",
    "# Load the data\n",
    "X_train = pd.read_csv(\"merged/X_train_imputed_scaled.csv\", index_col=0)\n",
    "X_test = pd.read_csv(\"merged/X_test_imputed_scaled.csv\",  index_col=0)\n",
    "y_train = pd.read_csv(\"merged/y_train.csv\", index_col=0)[\"label\"]\n",
    "y_test = pd.read_csv(\"merged/y_test.csv\",  index_col=0)[\"label\"]\n",
    "groups = pd.read_csv(\"merged/groups.csv\", index_col=0)[\"star_key\"] # \"kepid\" for Kepler\n",
    "\n",
    "# Exemplary pipeline with a model\n",
    "kf = StratifiedGroupKFold(n_splits=5, shuffle=True, random_state=42)\n",
    "log = LogisticRegression()\n",
    "score = cross_validate(log, X_train, y_train, cv=kf, scoring=[\"f1\",\"roc_auc\",\"average_precision\"], n_jobs=-1, groups=groups)"
   ]
  }
 ],
 "metadata": {
  "kernelspec": {
   "display_name": "base",
   "language": "python",
   "name": "python3"
  },
  "language_info": {
   "codemirror_mode": {
    "name": "ipython",
    "version": 3
   },
   "file_extension": ".py",
   "mimetype": "text/x-python",
   "name": "python",
   "nbconvert_exporter": "python",
   "pygments_lexer": "ipython3",
   "version": "3.12.7"
  }
 },
 "nbformat": 4,
 "nbformat_minor": 5
}
