{
 "cells": [
  {
   "cell_type": "code",
   "execution_count": 1,
   "id": "5a330175",
   "metadata": {},
   "outputs": [],
   "source": [
    "import numpy as np, pandas as pd\n",
    "from sklearn.model_selection import GroupShuffleSplit, GroupKFold, GridSearchCV\n",
    "from sklearn.pipeline import Pipeline\n",
    "from sklearn.linear_model import LogisticRegression\n",
    "from sklearn.compose import ColumnTransformer\n",
    "from sklearn.preprocessing import StandardScaler\n",
    "\n",
    "X_train = pd.read_csv(\"X_train_imputed_scaled.csv\", index_col=0)\n",
    "X_test = pd.read_csv(\"X_test_imputed_scaled.csv\",  index_col=0)\n",
    "y_train = pd.read_csv(\"y_train.csv\", index_col=0)[\"label\"]\n",
    "y_test = pd.read_csv(\"y_test.csv\",  index_col=0)[\"label\"]\n",
    "groups = pd.read_csv(\"groups.csv\", index_col=0)[\"star_key\"]"
   ]
  },
  {
   "cell_type": "code",
   "execution_count": 2,
   "id": "80962131",
   "metadata": {},
   "outputs": [
    {
     "name": "stdout",
     "output_type": "stream",
     "text": [
      "Best PR-AUC: 0.7895439814763148\n",
      "Best params: {'clf__C': 1000.0, 'clf__class_weight': None, 'clf__max_iter': 3000, 'clf__penalty': 'l2', 'clf__solver': 'lbfgs', 'clf__tol': 0.0001}\n"
     ]
    }
   ],
   "source": [
    "pipeline = Pipeline([\n",
    "    (\"scale\", StandardScaler()),\n",
    "    (\"clf\", LogisticRegression(max_iter=1000, class_weight=\"balanced\", solver=\"lbfgs\"))\n",
    "])\n",
    "\n",
    "C_l2 = np.logspace(-3, 3, 7)              \n",
    "C_l1 = [1e-3, 1e-2, 1e-1, 1, 10, 100]      \n",
    "\n",
    "param_grid = [\n",
    "    {\n",
    "        \"clf__penalty\": [\"l2\"],\n",
    "        \"clf__solver\": [\"lbfgs\"],\n",
    "        \"clf__C\": C_l2,\n",
    "        \"clf__class_weight\": [None, \"balanced\"],\n",
    "        \"clf__max_iter\": [3000],\n",
    "        \"clf__tol\": [1e-4, 1e-3],\n",
    "    },\n",
    "    {\n",
    "        \"clf__penalty\": [\"l1\"],\n",
    "        \"clf__solver\": [\"liblinear\"],\n",
    "        \"clf__C\": C_l1,\n",
    "        \"clf__class_weight\": [None, \"balanced\"],\n",
    "        \"clf__max_iter\": [5000],\n",
    "        \"clf__tol\": [1e-3],   \n",
    "    },\n",
    "    {\n",
    "        \"clf__penalty\": [\"elasticnet\"],\n",
    "        \"clf__solver\": [\"saga\"],\n",
    "        \"clf__l1_ratio\": [0.1, 0.5, 0.9],\n",
    "        \"clf__C\": [0.1, 1, 10],\n",
    "        \"clf__class_weight\": [None, \"balanced\"],\n",
    "        \"clf__max_iter\": [5000],\n",
    "        \"clf__tol\": [1e-3],\n",
    "    },\n",
    "]\n",
    "\n",
    "kf = GroupKFold(n_splits=5)\n",
    "log_reg_cv = GridSearchCV(pipeline, param_grid=param_grid, scoring=\"average_precision\", cv=kf)\n",
    "log_reg_cv.fit(X_train, y_train, groups=groups)\n",
    "\n",
    "log_reg_best_model = log_reg_cv.best_estimator_ \n",
    "print(\"Best PR-AUC:\", log_reg_cv.best_score_)\n",
    "print(\"Best params:\", log_reg_cv.best_params_)"
   ]
  },
  {
   "cell_type": "code",
   "execution_count": 3,
   "id": "a5ab20bd",
   "metadata": {},
   "outputs": [
    {
     "name": "stdout",
     "output_type": "stream",
     "text": [
      "[[ 588  661]\n",
      " [ 103 1296]]\n",
      "              precision    recall  f1-score   support\n",
      "\n",
      "           0       0.85      0.47      0.61      1249\n",
      "           1       0.66      0.93      0.77      1399\n",
      "\n",
      "    accuracy                           0.71      2648\n",
      "   macro avg       0.76      0.70      0.69      2648\n",
      "weighted avg       0.75      0.71      0.69      2648\n",
      "\n",
      "Precision score at threshold 0.5 : 0.6622381195707716\n"
     ]
    }
   ],
   "source": [
    "from sklearn.metrics import classification_report, confusion_matrix, precision_score \n",
    "threshold = 0.5\n",
    "y_proba = log_reg_best_model.predict_proba(X_test)[:, 1]\n",
    "y_pred_thresh = (y_proba >= threshold).astype(int)\n",
    "\n",
    "print(confusion_matrix(y_test, y_pred_thresh))\n",
    "print(classification_report(y_test, y_pred_thresh))\n",
    "\n",
    "precision = precision_score(y_test, y_pred_thresh)\n",
    "print(\"Precision score at threshold\", threshold, \":\", precision)\n"
   ]
  },
  {
   "cell_type": "code",
   "execution_count": 4,
   "id": "235f76c6",
   "metadata": {},
   "outputs": [
    {
     "name": "stdout",
     "output_type": "stream",
     "text": [
      "Fitting 5 folds for each of 24 candidates, totalling 120 fits\n",
      "RF best PR-AUC (CV): 0.9218529961495451\n",
      "RF best params: {'rf__class_weight': None, 'rf__max_depth': None, 'rf__max_features': 0.5, 'rf__min_samples_leaf': 4}\n"
     ]
    }
   ],
   "source": [
    "from sklearn.ensemble import RandomForestClassifier\n",
    "pipeline_rf = Pipeline([\n",
    "    (\"rf\", RandomForestClassifier(random_state=42, n_jobs=-1))\n",
    "])\n",
    "\n",
    "param_grid_rf = {\n",
    "    \"rf__max_depth\": [None, 10],              \n",
    "    \"rf__min_samples_leaf\": [1, 2, 4],         \n",
    "    \"rf__max_features\": [\"sqrt\", 0.5],       \n",
    "    \"rf__class_weight\": [None, \"balanced_subsample\"]\n",
    "}\n",
    "\n",
    "kf_rf = GroupKFold(n_splits=5)\n",
    "rf_cv = GridSearchCV(pipeline_rf, param_grid_rf, scoring=\"average_precision\", cv=kf_rf, n_jobs=-1, refit=True, verbose=1)\n",
    "rf_cv.fit(X_train, y_train, groups=groups)\n",
    "\n",
    "rf_best_model = rf_cv.best_estimator_\n",
    "print(\"RF best PR-AUC (CV):\", rf_cv.best_score_)\n",
    "print(\"RF best params:\", rf_cv.best_params_)"
   ]
  },
  {
   "cell_type": "code",
   "execution_count": 5,
   "id": "aa43137b",
   "metadata": {},
   "outputs": [
    {
     "name": "stdout",
     "output_type": "stream",
     "text": [
      "[[1168   81]\n",
      " [ 648  751]]\n",
      "              precision    recall  f1-score   support\n",
      "\n",
      "           0       0.64      0.94      0.76      1249\n",
      "           1       0.90      0.54      0.67      1399\n",
      "\n",
      "    accuracy                           0.72      2648\n",
      "   macro avg       0.77      0.74      0.72      2648\n",
      "weighted avg       0.78      0.72      0.72      2648\n",
      "\n",
      "Precision score at threshold 0.5 : 0.9026442307692307\n"
     ]
    }
   ],
   "source": [
    "threshold = 0.5\n",
    "\n",
    "y_proba_rf = rf_best_model.predict_proba(X_test)[:, 1]\n",
    "y_pred_thresh_rf = (y_proba_rf >= threshold).astype(int)\n",
    "\n",
    "print(confusion_matrix(y_test, y_pred_thresh_rf))\n",
    "print(classification_report(y_test, y_pred_thresh_rf))\n",
    "\n",
    "precision_rf = precision_score(y_test, y_pred_thresh_rf)\n",
    "print(\"Precision score at threshold\", threshold, \":\", precision_rf)\n",
    "\n"
   ]
  },
  {
   "cell_type": "code",
   "execution_count": 6,
   "id": "8d50e2ff",
   "metadata": {},
   "outputs": [
    {
     "name": "stdout",
     "output_type": "stream",
     "text": [
      "Best PR-AUC: 0.819068299685932\n",
      "Best params: {'knn__algorithm': 'auto', 'knn__leaf_size': 20, 'knn__metric': 'minkowski', 'knn__n_neighbors': 15, 'knn__p': 1, 'knn__weights': 'distance'}\n"
     ]
    }
   ],
   "source": [
    "from sklearn.neighbors import KNeighborsClassifier\n",
    "from sklearn.model_selection import GroupKFold, GridSearchCV\n",
    "from sklearn.pipeline import Pipeline\n",
    "from sklearn.preprocessing import StandardScaler\n",
    "import numpy as np\n",
    "\n",
    "pipeline_knn = Pipeline([\n",
    "    (\"scale\", StandardScaler()),\n",
    "    (\"knn\", KNeighborsClassifier())\n",
    "])\n",
    "\n",
    "param_grid_knn = {\n",
    "    \"knn__n_neighbors\": [3, 5, 7, 10, 15],\n",
    "    \"knn__weights\": [\"uniform\", \"distance\"],\n",
    "    \"knn__metric\": [\"minkowski\", \"euclidean\", \"manhattan\"],\n",
    "    \"knn__algorithm\": [\"auto\", \"ball_tree\", \"kd_tree\", \"brute\"],\n",
    "    \"knn__leaf_size\": [20, 30, 40],\n",
    "    \"knn__p\": [1, 2],\n",
    "}\n",
    "\n",
    "kf_knn = GroupKFold(n_splits=5)\n",
    "\n",
    "knn_cv = GridSearchCV(pipeline_knn, param_grid=param_grid_knn, scoring=\"average_precision\", cv=kf_knn)\n",
    "\n",
    "knn_cv.fit(X_train, y_train, groups=groups)\n",
    "\n",
    "knn_best_model = knn_cv.best_estimator_\n",
    "print(\"Best PR-AUC:\", knn_cv.best_score_)\n",
    "print(\"Best params:\", knn_cv.best_params_)\n"
   ]
  },
  {
   "cell_type": "code",
   "execution_count": 7,
   "id": "55cf3740",
   "metadata": {},
   "outputs": [
    {
     "name": "stdout",
     "output_type": "stream",
     "text": [
      "Confusion Matrix:\n",
      "[[ 976  273]\n",
      " [ 303 1096]]\n",
      "\n",
      "Classification Report:\n",
      "              precision    recall  f1-score   support\n",
      "\n",
      "           0       0.76      0.78      0.77      1249\n",
      "           1       0.80      0.78      0.79      1399\n",
      "\n",
      "    accuracy                           0.78      2648\n",
      "   macro avg       0.78      0.78      0.78      2648\n",
      "weighted avg       0.78      0.78      0.78      2648\n",
      "\n",
      "\n",
      "Precision score: 0.8005843681519357\n",
      "Recall score: 0.7834167262330236\n",
      "F1 score: 0.791907514450867\n"
     ]
    }
   ],
   "source": [
    "from sklearn.metrics import classification_report, confusion_matrix, precision_score, recall_score, f1_score\n",
    "\n",
    "knn_cv.fit(X_train, y_train, groups=groups)\n",
    "knn_best_model = knn_cv.best_estimator_\n",
    "\n",
    "y_proba = knn_best_model.predict_proba(X_test)[:, 1]\n",
    "threshold = 0.5\n",
    "y_pred = (y_proba >= threshold).astype(int)\n",
    "\n",
    "cm = confusion_matrix(y_test, y_pred)\n",
    "print(\"Confusion Matrix:\")\n",
    "print(cm)\n",
    "\n",
    "report = classification_report(y_test, y_pred)\n",
    "print(\"\\nClassification Report:\")\n",
    "print(report)\n",
    "\n",
    "precision = precision_score(y_test, y_pred)\n",
    "recall = recall_score(y_test, y_pred)\n",
    "f1 = f1_score(y_test, y_pred)\n",
    "\n",
    "print(\"\\nPrecision score:\", precision)\n",
    "print(\"Recall score:\", recall)\n",
    "print(\"F1 score:\", f1)\n"
   ]
  },
  {
   "cell_type": "code",
   "execution_count": 8,
   "id": "12fe9c58",
   "metadata": {},
   "outputs": [
    {
     "name": "stdout",
     "output_type": "stream",
     "text": [
      "[(array([    0,     1,     2, ..., 10011, 10012, 10013]), array([    5,     7,    26, ..., 10015, 10016, 10017])), (array([    0,     5,     6, ..., 10015, 10016, 10017]), array([    1,     2,     3, ..., 10011, 10012, 10013])), (array([    1,     2,     3, ..., 10015, 10016, 10017]), array([    0,     8,    19, ..., 10001, 10002, 10003])), (array([    0,     1,     2, ..., 10015, 10016, 10017]), array([   6,   15,   16, ..., 9927, 9928, 9929])), (array([    0,     1,     2, ..., 10015, 10016, 10017]), array([  10,   13,   14, ..., 9845, 9846, 9847]))]\n"
     ]
    }
   ],
   "source": [
    "gkf = GroupKFold(n_splits=5)\n",
    "splits = list(gkf.split(X_train, y_train, groups=groups))\n",
    "\n",
    "bases = [(\"lr\", log_reg_best_model), (\"rf\", rf_best_model)]\n",
    "Z_train = np.zeros((X_train.shape[0], len(bases)))\n",
    "print(splits)"
   ]
  },
  {
   "cell_type": "code",
   "execution_count": 9,
   "id": "ad9aa493",
   "metadata": {},
   "outputs": [
    {
     "name": "stdout",
     "output_type": "stream",
     "text": [
      "Fitting 5 folds for each of 32 candidates, totalling 160 fits\n",
      "Meta CV PR-AUC: 0.921784765410048\n",
      "Meta best params: {'C': 0.1, 'class_weight': None, 'l1_ratio': 0.9, 'max_iter': 5000, 'penalty': 'elasticnet', 'solver': 'saga', 'tol': 0.001}\n"
     ]
    }
   ],
   "source": [
    "from sklearn.base import clone\n",
    "\n",
    "gkf = GroupKFold(n_splits=5)\n",
    "splits = list(gkf.split(X_train, y_train, groups=groups))\n",
    "\n",
    "bases = [(\"lr\", log_reg_best_model), (\"rf\", rf_best_model)]\n",
    "Z_train = np.zeros((X_train.shape[0], len(bases)))\n",
    "\n",
    "for m, (name, model) in enumerate(bases): \n",
    "    oof = np.zeros(X_train.shape[0])\n",
    "    for training, test in splits:\n",
    "        mdl = clone(model)          \n",
    "        mdl.fit(X_train.iloc[training], y_train.iloc[training])\n",
    "        oof[test] = mdl.predict_proba(X_train.iloc[test])[:, 1]\n",
    "        Z_train[:, m] = oof\n",
    "\n",
    "meta_base = LogisticRegression() \n",
    "\n",
    "param_grid_meta = [ \n",
    "    {  \n",
    "        \"C\": np.logspace(-3, 3, 7),\n",
    "        \"penalty\": [\"l2\"],\n",
    "        \"solver\": [\"lbfgs\"],\n",
    "        \"class_weight\": [None, \"balanced\"],\n",
    "        \"max_iter\": [5000],\n",
    "        \"tol\": [1e-3],\n",
    "    },\n",
    "    {  \n",
    "        \"C\": [0.1, 1, 10],\n",
    "        \"penalty\": [\"elasticnet\"],\n",
    "        \"l1_ratio\": [0.1, 0.5, 0.9],\n",
    "        \"solver\": [\"saga\"],\n",
    "        \"class_weight\": [None, \"balanced\"],\n",
    "        \"max_iter\": [5000],\n",
    "        \"tol\": [1e-3],\n",
    "    },\n",
    "]\n",
    "\n",
    "grid_meta = GridSearchCV(\n",
    "    estimator=meta_base,\n",
    "    param_grid=param_grid_meta,\n",
    "    scoring=\"average_precision\",\n",
    "    cv=splits,      \n",
    "    n_jobs=-1,\n",
    "    refit=True,\n",
    "    verbose=1\n",
    ")\n",
    "\n",
    "Z_test = np.column_stack([\n",
    "    clone(model).fit(X_train, y_train).predict_proba(X_test)[:, 1]\n",
    "    for _, model in bases\n",
    "])\n",
    "\n",
    "grid_meta.fit(Z_train, y_train)   \n",
    "meta = grid_meta.best_estimator_ \n",
    "print(\"Meta CV PR-AUC:\", grid_meta.best_score_)\n",
    "print(\"Meta best params:\", grid_meta.best_params_)"
   ]
  },
  {
   "cell_type": "code",
   "execution_count": 10,
   "id": "4edf1235",
   "metadata": {},
   "outputs": [],
   "source": [
    "meta_prob = grid_meta.predict_proba(Z_test)[:, 1]"
   ]
  },
  {
   "cell_type": "code",
   "execution_count": 11,
   "id": "28bc05dd",
   "metadata": {},
   "outputs": [
    {
     "name": "stdout",
     "output_type": "stream",
     "text": [
      "Chosen threshold: 0.480  (Precision≥0.90)\n",
      "Precision/Recall/F1 @ thr: 0.9013605442176871 0.5682630450321658 0.6970626918018413\n",
      "[[1162   87]\n",
      " [ 604  795]]\n"
     ]
    }
   ],
   "source": [
    "from sklearn.metrics import classification_report, confusion_matrix, precision_score, recall_score, f1_score\n",
    "\n",
    "thresholds = np.linspace(0.0, 1.0, 101)  \n",
    "rows = []\n",
    "for thr in thresholds:\n",
    "    y_hat = (meta_prob >= thr).astype(int)\n",
    "    p = precision_score(y_test, y_hat, zero_division=0)\n",
    "    r = recall_score(y_test, y_hat, zero_division=0)\n",
    "    f1 = f1_score(y_test, y_hat, zero_division=0)\n",
    "    rows.append((thr, p, r, f1))\n",
    "\n",
    "cand = [(thr, p, r, f1) for (thr, p, r, f1) in rows if p >= 0.90]\n",
    "if cand:\n",
    "    thr_star, p_star, r_star, f1 = max(cand, key=lambda x: x[2]) \n",
    "else:\n",
    "    thr_star, p_star, r_star, f1 = 0.5, None, None \n",
    "\n",
    "print(f\"Chosen threshold: {thr_star:.3f}  (Precision≥0.90)\")\n",
    "y_pred_thr = (meta_prob >= thr_star).astype(int)\n",
    "print(\"Precision/Recall/F1 @ thr:\", \n",
    "      precision_score(y_test, y_pred_thr), \n",
    "      recall_score(y_test, y_pred_thr),\n",
    "      f1_score(y_test, y_pred_thr))\n",
    "print(confusion_matrix(y_test, y_pred_thr))\n"
   ]
  },
  {
   "cell_type": "code",
   "execution_count": 12,
   "id": "60cdcc89",
   "metadata": {
    "scrolled": true
   },
   "outputs": [
    {
     "name": "stdout",
     "output_type": "stream",
     "text": [
      "              precision    recall  f1-score   support\n",
      "\n",
      "           0       0.66      0.93      0.77      1249\n",
      "           1       0.90      0.57      0.70      1399\n",
      "\n",
      "    accuracy                           0.74      2648\n",
      "   macro avg       0.78      0.75      0.73      2648\n",
      "weighted avg       0.79      0.74      0.73      2648\n",
      "\n"
     ]
    }
   ],
   "source": [
    "y_pred_thr = (meta_prob >= thr_star).astype(int)\n",
    "\n",
    "report = classification_report(y_test, y_pred_thr)\n",
    "print(report)"
   ]
  }
 ],
 "metadata": {
  "kernelspec": {
   "display_name": "Python 3 (ipykernel)",
   "language": "python",
   "name": "python3"
  },
  "language_info": {
   "codemirror_mode": {
    "name": "ipython",
    "version": 3
   },
   "file_extension": ".py",
   "mimetype": "text/x-python",
   "name": "python",
   "nbconvert_exporter": "python",
   "pygments_lexer": "ipython3",
   "version": "3.12.3"
  }
 },
 "nbformat": 4,
 "nbformat_minor": 5
}
